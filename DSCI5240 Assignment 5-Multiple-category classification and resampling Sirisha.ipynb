{
 "cells": [
  {
   "cell_type": "markdown",
   "id": "7108d478",
   "metadata": {},
   "source": [
    "### Assignment 5 - Multiple-category classification and resampling"
   ]
  },
  {
   "cell_type": "code",
   "execution_count": 1,
   "id": "bdf76d52",
   "metadata": {},
   "outputs": [],
   "source": [
    "# This code appears in every demonstration Notebook.\n",
    "# By default, when you run each cell, only the last output of the codes will show.\n",
    "# This code makes all outputs of a cell show.\n",
    "from IPython.core.interactiveshell import InteractiveShell\n",
    "InteractiveShell.ast_node_interactivity = \"all\""
   ]
  },
  {
   "cell_type": "markdown",
   "id": "e5e823a5",
   "metadata": {},
   "source": [
    "In this assignment, we examine a dataset of car crashes.<br> \n",
    "It shows information about each traffic crash on city streets within the City of Chicago limits and under the jurisdiction of Chicago Police Department (CPD). \n",
    "About half of all crash reports, mostly minor crashes, are self-reported at the police district by the driver(s) involved and the other half are recorded at the scene by the police officer responding to the crash. Many of the crash parameters, including street condition data, weather condition, and posted speed limits, are recorded by the reporting officer based on best available information at the time.<br> \n",
    "\n",
    "We will use the dataset to classify the severity of accidents. The target variable is 'MOST_SEVERE_INJURY'. Most variable names are self explanatory.\n",
    "\n",
    "I will do most data preparation because we did not learn the coding in class. The point is not the coding, but the way I approach the data and the problems.\n",
    "\n"
   ]
  },
  {
   "cell_type": "markdown",
   "id": "ac71c155",
   "metadata": {},
   "source": [
    "1. Import the libraries"
   ]
  },
  {
   "cell_type": "code",
   "execution_count": null,
   "id": "1a6afeaa",
   "metadata": {},
   "outputs": [],
   "source": [
    "import pandas as pd\n",
    "from sklearn.model_selection import train_test_split\n",
    "from sklearn.metrics import multilabel_confusion_matrix\n",
    "import dmba\n",
    "from dmba import classificationSummary\n",
    "import warnings; warnings.simplefilter('ignore')"
   ]
  },
  {
   "cell_type": "markdown",
   "id": "9c370c37",
   "metadata": {},
   "source": [
    "2. Read in the dataset and display basic information about the dataset."
   ]
  },
  {
   "cell_type": "code",
   "execution_count": 60,
   "id": "2b453ba3",
   "metadata": {
    "scrolled": true
   },
   "outputs": [],
   "source": [
    "df = pd.read_csv(\"Crashes-clean.csv\")"
   ]
  },
  {
   "cell_type": "code",
   "execution_count": 61,
   "id": "902c7786",
   "metadata": {},
   "outputs": [
    {
     "data": {
      "text/html": [
       "<div>\n",
       "<style scoped>\n",
       "    .dataframe tbody tr th:only-of-type {\n",
       "        vertical-align: middle;\n",
       "    }\n",
       "\n",
       "    .dataframe tbody tr th {\n",
       "        vertical-align: top;\n",
       "    }\n",
       "\n",
       "    .dataframe thead th {\n",
       "        text-align: right;\n",
       "    }\n",
       "</style>\n",
       "<table border=\"1\" class=\"dataframe\">\n",
       "  <thead>\n",
       "    <tr style=\"text-align: right;\">\n",
       "      <th></th>\n",
       "      <th>CRASH_RECORD_ID</th>\n",
       "      <th>CRASH_DATE</th>\n",
       "      <th>POSTED_SPEED_LIMIT</th>\n",
       "      <th>TRAFFIC_CONTROL_DEVICE</th>\n",
       "      <th>DEVICE_CONDITION</th>\n",
       "      <th>WEATHER_CONDITION</th>\n",
       "      <th>LIGHTING_CONDITION</th>\n",
       "      <th>FIRST_CRASH_TYPE</th>\n",
       "      <th>TRAFFICWAY_TYPE</th>\n",
       "      <th>LANE_CNT</th>\n",
       "      <th>...</th>\n",
       "      <th>INJURIES_NON_INCAPACITATING</th>\n",
       "      <th>INJURIES_REPORTED_NOT_EVIDENT</th>\n",
       "      <th>INJURIES_NO_INDICATION</th>\n",
       "      <th>INJURIES_UNKNOWN</th>\n",
       "      <th>CRASH_HOUR</th>\n",
       "      <th>CRASH_DAY_OF_WEEK</th>\n",
       "      <th>CRASH_MONTH</th>\n",
       "      <th>LATITUDE</th>\n",
       "      <th>LONGITUDE</th>\n",
       "      <th>LOCATION</th>\n",
       "    </tr>\n",
       "  </thead>\n",
       "  <tbody>\n",
       "    <tr>\n",
       "      <th>0</th>\n",
       "      <td>23a79931ef555d54118f64dc9be2cf2dbf59636ce253f7...</td>\n",
       "      <td>9/5/2023 19:05</td>\n",
       "      <td>30</td>\n",
       "      <td>TRAFFIC SIGNAL</td>\n",
       "      <td>FUNCTIONING PROPERLY</td>\n",
       "      <td>CLEAR</td>\n",
       "      <td>DUSK</td>\n",
       "      <td>ANGLE</td>\n",
       "      <td>FIVE POINT, OR MORE</td>\n",
       "      <td>NaN</td>\n",
       "      <td>...</td>\n",
       "      <td>2.0</td>\n",
       "      <td>0.0</td>\n",
       "      <td>2.0</td>\n",
       "      <td>0.0</td>\n",
       "      <td>19</td>\n",
       "      <td>3</td>\n",
       "      <td>9</td>\n",
       "      <td>NaN</td>\n",
       "      <td>NaN</td>\n",
       "      <td>NaN</td>\n",
       "    </tr>\n",
       "    <tr>\n",
       "      <th>1</th>\n",
       "      <td>2675c13fd0f474d730a5b780968b3cafc7c12d7adb661f...</td>\n",
       "      <td>9/22/2023 18:45</td>\n",
       "      <td>50</td>\n",
       "      <td>NO CONTROLS</td>\n",
       "      <td>NO CONTROLS</td>\n",
       "      <td>CLEAR</td>\n",
       "      <td>DARKNESS, LIGHTED ROAD</td>\n",
       "      <td>REAR END</td>\n",
       "      <td>DIVIDED - W/MEDIAN BARRIER</td>\n",
       "      <td>NaN</td>\n",
       "      <td>...</td>\n",
       "      <td>0.0</td>\n",
       "      <td>0.0</td>\n",
       "      <td>2.0</td>\n",
       "      <td>0.0</td>\n",
       "      <td>18</td>\n",
       "      <td>6</td>\n",
       "      <td>9</td>\n",
       "      <td>NaN</td>\n",
       "      <td>NaN</td>\n",
       "      <td>NaN</td>\n",
       "    </tr>\n",
       "    <tr>\n",
       "      <th>2</th>\n",
       "      <td>5f54a59fcb087b12ae5b1acff96a3caf4f2d37e79f8db4...</td>\n",
       "      <td>7/29/2023 14:45</td>\n",
       "      <td>30</td>\n",
       "      <td>TRAFFIC SIGNAL</td>\n",
       "      <td>FUNCTIONING PROPERLY</td>\n",
       "      <td>CLEAR</td>\n",
       "      <td>DAYLIGHT</td>\n",
       "      <td>PARKED MOTOR VEHICLE</td>\n",
       "      <td>DIVIDED - W/MEDIAN (NOT RAISED)</td>\n",
       "      <td>NaN</td>\n",
       "      <td>...</td>\n",
       "      <td>0.0</td>\n",
       "      <td>0.0</td>\n",
       "      <td>1.0</td>\n",
       "      <td>0.0</td>\n",
       "      <td>14</td>\n",
       "      <td>7</td>\n",
       "      <td>7</td>\n",
       "      <td>41.85412</td>\n",
       "      <td>-87.665902</td>\n",
       "      <td>POINT (-87.665902342962 41.854120262952)</td>\n",
       "    </tr>\n",
       "    <tr>\n",
       "      <th>3</th>\n",
       "      <td>7ebf015016f83d09b321afd671a836d6b148330535d5df...</td>\n",
       "      <td>8/9/2023 23:00</td>\n",
       "      <td>30</td>\n",
       "      <td>NO CONTROLS</td>\n",
       "      <td>NO CONTROLS</td>\n",
       "      <td>CLEAR</td>\n",
       "      <td>DARKNESS, LIGHTED ROAD</td>\n",
       "      <td>SIDESWIPE SAME DIRECTION</td>\n",
       "      <td>NOT DIVIDED</td>\n",
       "      <td>NaN</td>\n",
       "      <td>...</td>\n",
       "      <td>0.0</td>\n",
       "      <td>0.0</td>\n",
       "      <td>2.0</td>\n",
       "      <td>0.0</td>\n",
       "      <td>23</td>\n",
       "      <td>4</td>\n",
       "      <td>8</td>\n",
       "      <td>NaN</td>\n",
       "      <td>NaN</td>\n",
       "      <td>NaN</td>\n",
       "    </tr>\n",
       "    <tr>\n",
       "      <th>4</th>\n",
       "      <td>6c1659069e9c6285a650e70d6f9b574ed5f64c12888479...</td>\n",
       "      <td>8/18/2023 12:50</td>\n",
       "      <td>15</td>\n",
       "      <td>OTHER</td>\n",
       "      <td>FUNCTIONING PROPERLY</td>\n",
       "      <td>CLEAR</td>\n",
       "      <td>DAYLIGHT</td>\n",
       "      <td>REAR END</td>\n",
       "      <td>OTHER</td>\n",
       "      <td>NaN</td>\n",
       "      <td>...</td>\n",
       "      <td>1.0</td>\n",
       "      <td>0.0</td>\n",
       "      <td>1.0</td>\n",
       "      <td>0.0</td>\n",
       "      <td>12</td>\n",
       "      <td>6</td>\n",
       "      <td>8</td>\n",
       "      <td>NaN</td>\n",
       "      <td>NaN</td>\n",
       "      <td>NaN</td>\n",
       "    </tr>\n",
       "  </tbody>\n",
       "</table>\n",
       "<p>5 rows × 41 columns</p>\n",
       "</div>"
      ],
      "text/plain": [
       "                                     CRASH_RECORD_ID       CRASH_DATE  \\\n",
       "0  23a79931ef555d54118f64dc9be2cf2dbf59636ce253f7...   9/5/2023 19:05   \n",
       "1  2675c13fd0f474d730a5b780968b3cafc7c12d7adb661f...  9/22/2023 18:45   \n",
       "2  5f54a59fcb087b12ae5b1acff96a3caf4f2d37e79f8db4...  7/29/2023 14:45   \n",
       "3  7ebf015016f83d09b321afd671a836d6b148330535d5df...   8/9/2023 23:00   \n",
       "4  6c1659069e9c6285a650e70d6f9b574ed5f64c12888479...  8/18/2023 12:50   \n",
       "\n",
       "   POSTED_SPEED_LIMIT TRAFFIC_CONTROL_DEVICE      DEVICE_CONDITION  \\\n",
       "0                  30         TRAFFIC SIGNAL  FUNCTIONING PROPERLY   \n",
       "1                  50            NO CONTROLS           NO CONTROLS   \n",
       "2                  30         TRAFFIC SIGNAL  FUNCTIONING PROPERLY   \n",
       "3                  30            NO CONTROLS           NO CONTROLS   \n",
       "4                  15                  OTHER  FUNCTIONING PROPERLY   \n",
       "\n",
       "  WEATHER_CONDITION      LIGHTING_CONDITION          FIRST_CRASH_TYPE  \\\n",
       "0             CLEAR                    DUSK                     ANGLE   \n",
       "1             CLEAR  DARKNESS, LIGHTED ROAD                  REAR END   \n",
       "2             CLEAR                DAYLIGHT      PARKED MOTOR VEHICLE   \n",
       "3             CLEAR  DARKNESS, LIGHTED ROAD  SIDESWIPE SAME DIRECTION   \n",
       "4             CLEAR                DAYLIGHT                  REAR END   \n",
       "\n",
       "                   TRAFFICWAY_TYPE  LANE_CNT  ... INJURIES_NON_INCAPACITATING  \\\n",
       "0              FIVE POINT, OR MORE       NaN  ...                         2.0   \n",
       "1       DIVIDED - W/MEDIAN BARRIER       NaN  ...                         0.0   \n",
       "2  DIVIDED - W/MEDIAN (NOT RAISED)       NaN  ...                         0.0   \n",
       "3                      NOT DIVIDED       NaN  ...                         0.0   \n",
       "4                            OTHER       NaN  ...                         1.0   \n",
       "\n",
       "  INJURIES_REPORTED_NOT_EVIDENT INJURIES_NO_INDICATION INJURIES_UNKNOWN  \\\n",
       "0                           0.0                    2.0              0.0   \n",
       "1                           0.0                    2.0              0.0   \n",
       "2                           0.0                    1.0              0.0   \n",
       "3                           0.0                    2.0              0.0   \n",
       "4                           0.0                    1.0              0.0   \n",
       "\n",
       "  CRASH_HOUR CRASH_DAY_OF_WEEK CRASH_MONTH  LATITUDE  LONGITUDE  \\\n",
       "0         19                 3           9       NaN        NaN   \n",
       "1         18                 6           9       NaN        NaN   \n",
       "2         14                 7           7  41.85412 -87.665902   \n",
       "3         23                 4           8       NaN        NaN   \n",
       "4         12                 6           8       NaN        NaN   \n",
       "\n",
       "                                   LOCATION  \n",
       "0                                       NaN  \n",
       "1                                       NaN  \n",
       "2  POINT (-87.665902342962 41.854120262952)  \n",
       "3                                       NaN  \n",
       "4                                       NaN  \n",
       "\n",
       "[5 rows x 41 columns]"
      ]
     },
     "execution_count": 61,
     "metadata": {},
     "output_type": "execute_result"
    }
   ],
   "source": [
    "df.head()"
   ]
  },
  {
   "cell_type": "code",
   "execution_count": 62,
   "id": "356d244e",
   "metadata": {},
   "outputs": [
    {
     "data": {
      "text/plain": [
       "(820587, 41)"
      ]
     },
     "execution_count": 62,
     "metadata": {},
     "output_type": "execute_result"
    }
   ],
   "source": [
    "df.shape"
   ]
  },
  {
   "cell_type": "code",
   "execution_count": 63,
   "id": "a1cb282f",
   "metadata": {},
   "outputs": [
    {
     "data": {
      "text/html": [
       "<div>\n",
       "<style scoped>\n",
       "    .dataframe tbody tr th:only-of-type {\n",
       "        vertical-align: middle;\n",
       "    }\n",
       "\n",
       "    .dataframe tbody tr th {\n",
       "        vertical-align: top;\n",
       "    }\n",
       "\n",
       "    .dataframe thead th {\n",
       "        text-align: right;\n",
       "    }\n",
       "</style>\n",
       "<table border=\"1\" class=\"dataframe\">\n",
       "  <thead>\n",
       "    <tr style=\"text-align: right;\">\n",
       "      <th></th>\n",
       "      <th>POSTED_SPEED_LIMIT</th>\n",
       "      <th>LANE_CNT</th>\n",
       "      <th>STREET_NO</th>\n",
       "      <th>BEAT_OF_OCCURRENCE</th>\n",
       "      <th>NUM_UNITS</th>\n",
       "      <th>INJURIES_TOTAL</th>\n",
       "      <th>INJURIES_FATAL</th>\n",
       "      <th>INJURIES_INCAPACITATING</th>\n",
       "      <th>INJURIES_NON_INCAPACITATING</th>\n",
       "      <th>INJURIES_REPORTED_NOT_EVIDENT</th>\n",
       "      <th>INJURIES_NO_INDICATION</th>\n",
       "      <th>INJURIES_UNKNOWN</th>\n",
       "      <th>CRASH_HOUR</th>\n",
       "      <th>CRASH_DAY_OF_WEEK</th>\n",
       "      <th>CRASH_MONTH</th>\n",
       "      <th>LATITUDE</th>\n",
       "      <th>LONGITUDE</th>\n",
       "    </tr>\n",
       "  </thead>\n",
       "  <tbody>\n",
       "    <tr>\n",
       "      <th>count</th>\n",
       "      <td>820587.000000</td>\n",
       "      <td>1.990100e+05</td>\n",
       "      <td>820587.000000</td>\n",
       "      <td>820582.000000</td>\n",
       "      <td>820587.000000</td>\n",
       "      <td>818798.000000</td>\n",
       "      <td>818798.000000</td>\n",
       "      <td>818798.000000</td>\n",
       "      <td>818798.000000</td>\n",
       "      <td>818798.000000</td>\n",
       "      <td>818798.000000</td>\n",
       "      <td>818798.0</td>\n",
       "      <td>820587.000000</td>\n",
       "      <td>820587.000000</td>\n",
       "      <td>820587.000000</td>\n",
       "      <td>814943.000000</td>\n",
       "      <td>814943.000000</td>\n",
       "    </tr>\n",
       "    <tr>\n",
       "      <th>mean</th>\n",
       "      <td>28.406407</td>\n",
       "      <td>1.333011e+01</td>\n",
       "      <td>3689.797244</td>\n",
       "      <td>1243.864315</td>\n",
       "      <td>2.034926</td>\n",
       "      <td>0.189996</td>\n",
       "      <td>0.001191</td>\n",
       "      <td>0.019880</td>\n",
       "      <td>0.107123</td>\n",
       "      <td>0.061802</td>\n",
       "      <td>2.003064</td>\n",
       "      <td>0.0</td>\n",
       "      <td>13.198079</td>\n",
       "      <td>4.122314</td>\n",
       "      <td>6.644470</td>\n",
       "      <td>41.854883</td>\n",
       "      <td>-87.673564</td>\n",
       "    </tr>\n",
       "    <tr>\n",
       "      <th>std</th>\n",
       "      <td>6.163947</td>\n",
       "      <td>2.961594e+03</td>\n",
       "      <td>2886.635063</td>\n",
       "      <td>705.250678</td>\n",
       "      <td>0.452873</td>\n",
       "      <td>0.566149</td>\n",
       "      <td>0.037343</td>\n",
       "      <td>0.164965</td>\n",
       "      <td>0.422338</td>\n",
       "      <td>0.319448</td>\n",
       "      <td>1.156732</td>\n",
       "      <td>0.0</td>\n",
       "      <td>5.570181</td>\n",
       "      <td>1.980257</td>\n",
       "      <td>3.452024</td>\n",
       "      <td>0.335802</td>\n",
       "      <td>0.682412</td>\n",
       "    </tr>\n",
       "    <tr>\n",
       "      <th>min</th>\n",
       "      <td>0.000000</td>\n",
       "      <td>0.000000e+00</td>\n",
       "      <td>0.000000</td>\n",
       "      <td>111.000000</td>\n",
       "      <td>1.000000</td>\n",
       "      <td>0.000000</td>\n",
       "      <td>0.000000</td>\n",
       "      <td>0.000000</td>\n",
       "      <td>0.000000</td>\n",
       "      <td>0.000000</td>\n",
       "      <td>0.000000</td>\n",
       "      <td>0.0</td>\n",
       "      <td>0.000000</td>\n",
       "      <td>1.000000</td>\n",
       "      <td>1.000000</td>\n",
       "      <td>0.000000</td>\n",
       "      <td>-87.936193</td>\n",
       "    </tr>\n",
       "    <tr>\n",
       "      <th>25%</th>\n",
       "      <td>30.000000</td>\n",
       "      <td>2.000000e+00</td>\n",
       "      <td>1250.000000</td>\n",
       "      <td>714.000000</td>\n",
       "      <td>2.000000</td>\n",
       "      <td>0.000000</td>\n",
       "      <td>0.000000</td>\n",
       "      <td>0.000000</td>\n",
       "      <td>0.000000</td>\n",
       "      <td>0.000000</td>\n",
       "      <td>1.000000</td>\n",
       "      <td>0.0</td>\n",
       "      <td>9.000000</td>\n",
       "      <td>2.000000</td>\n",
       "      <td>4.000000</td>\n",
       "      <td>41.782532</td>\n",
       "      <td>-87.721755</td>\n",
       "    </tr>\n",
       "    <tr>\n",
       "      <th>50%</th>\n",
       "      <td>30.000000</td>\n",
       "      <td>2.000000e+00</td>\n",
       "      <td>3201.000000</td>\n",
       "      <td>1212.000000</td>\n",
       "      <td>2.000000</td>\n",
       "      <td>0.000000</td>\n",
       "      <td>0.000000</td>\n",
       "      <td>0.000000</td>\n",
       "      <td>0.000000</td>\n",
       "      <td>0.000000</td>\n",
       "      <td>2.000000</td>\n",
       "      <td>0.0</td>\n",
       "      <td>14.000000</td>\n",
       "      <td>4.000000</td>\n",
       "      <td>7.000000</td>\n",
       "      <td>41.874817</td>\n",
       "      <td>-87.674177</td>\n",
       "    </tr>\n",
       "    <tr>\n",
       "      <th>75%</th>\n",
       "      <td>30.000000</td>\n",
       "      <td>4.000000e+00</td>\n",
       "      <td>5600.000000</td>\n",
       "      <td>1822.000000</td>\n",
       "      <td>2.000000</td>\n",
       "      <td>0.000000</td>\n",
       "      <td>0.000000</td>\n",
       "      <td>0.000000</td>\n",
       "      <td>0.000000</td>\n",
       "      <td>0.000000</td>\n",
       "      <td>2.000000</td>\n",
       "      <td>0.0</td>\n",
       "      <td>17.000000</td>\n",
       "      <td>6.000000</td>\n",
       "      <td>10.000000</td>\n",
       "      <td>41.924404</td>\n",
       "      <td>-87.633419</td>\n",
       "    </tr>\n",
       "    <tr>\n",
       "      <th>max</th>\n",
       "      <td>99.000000</td>\n",
       "      <td>1.191625e+06</td>\n",
       "      <td>451100.000000</td>\n",
       "      <td>6100.000000</td>\n",
       "      <td>18.000000</td>\n",
       "      <td>21.000000</td>\n",
       "      <td>4.000000</td>\n",
       "      <td>10.000000</td>\n",
       "      <td>21.000000</td>\n",
       "      <td>15.000000</td>\n",
       "      <td>61.000000</td>\n",
       "      <td>0.0</td>\n",
       "      <td>23.000000</td>\n",
       "      <td>7.000000</td>\n",
       "      <td>12.000000</td>\n",
       "      <td>42.022780</td>\n",
       "      <td>0.000000</td>\n",
       "    </tr>\n",
       "  </tbody>\n",
       "</table>\n",
       "</div>"
      ],
      "text/plain": [
       "       POSTED_SPEED_LIMIT      LANE_CNT      STREET_NO  BEAT_OF_OCCURRENCE  \\\n",
       "count       820587.000000  1.990100e+05  820587.000000       820582.000000   \n",
       "mean            28.406407  1.333011e+01    3689.797244         1243.864315   \n",
       "std              6.163947  2.961594e+03    2886.635063          705.250678   \n",
       "min              0.000000  0.000000e+00       0.000000          111.000000   \n",
       "25%             30.000000  2.000000e+00    1250.000000          714.000000   \n",
       "50%             30.000000  2.000000e+00    3201.000000         1212.000000   \n",
       "75%             30.000000  4.000000e+00    5600.000000         1822.000000   \n",
       "max             99.000000  1.191625e+06  451100.000000         6100.000000   \n",
       "\n",
       "           NUM_UNITS  INJURIES_TOTAL  INJURIES_FATAL  INJURIES_INCAPACITATING  \\\n",
       "count  820587.000000   818798.000000   818798.000000            818798.000000   \n",
       "mean        2.034926        0.189996        0.001191                 0.019880   \n",
       "std         0.452873        0.566149        0.037343                 0.164965   \n",
       "min         1.000000        0.000000        0.000000                 0.000000   \n",
       "25%         2.000000        0.000000        0.000000                 0.000000   \n",
       "50%         2.000000        0.000000        0.000000                 0.000000   \n",
       "75%         2.000000        0.000000        0.000000                 0.000000   \n",
       "max        18.000000       21.000000        4.000000                10.000000   \n",
       "\n",
       "       INJURIES_NON_INCAPACITATING  INJURIES_REPORTED_NOT_EVIDENT  \\\n",
       "count                818798.000000                  818798.000000   \n",
       "mean                      0.107123                       0.061802   \n",
       "std                       0.422338                       0.319448   \n",
       "min                       0.000000                       0.000000   \n",
       "25%                       0.000000                       0.000000   \n",
       "50%                       0.000000                       0.000000   \n",
       "75%                       0.000000                       0.000000   \n",
       "max                      21.000000                      15.000000   \n",
       "\n",
       "       INJURIES_NO_INDICATION  INJURIES_UNKNOWN     CRASH_HOUR  \\\n",
       "count           818798.000000          818798.0  820587.000000   \n",
       "mean                 2.003064               0.0      13.198079   \n",
       "std                  1.156732               0.0       5.570181   \n",
       "min                  0.000000               0.0       0.000000   \n",
       "25%                  1.000000               0.0       9.000000   \n",
       "50%                  2.000000               0.0      14.000000   \n",
       "75%                  2.000000               0.0      17.000000   \n",
       "max                 61.000000               0.0      23.000000   \n",
       "\n",
       "       CRASH_DAY_OF_WEEK    CRASH_MONTH       LATITUDE      LONGITUDE  \n",
       "count      820587.000000  820587.000000  814943.000000  814943.000000  \n",
       "mean            4.122314       6.644470      41.854883     -87.673564  \n",
       "std             1.980257       3.452024       0.335802       0.682412  \n",
       "min             1.000000       1.000000       0.000000     -87.936193  \n",
       "25%             2.000000       4.000000      41.782532     -87.721755  \n",
       "50%             4.000000       7.000000      41.874817     -87.674177  \n",
       "75%             6.000000      10.000000      41.924404     -87.633419  \n",
       "max             7.000000      12.000000      42.022780       0.000000  "
      ]
     },
     "execution_count": 63,
     "metadata": {},
     "output_type": "execute_result"
    }
   ],
   "source": [
    "df.describe()"
   ]
  },
  {
   "cell_type": "markdown",
   "id": "fc7194fe",
   "metadata": {},
   "source": [
    "3. Count the frequency distribution of the target variable 'MOST_SEVERE_INJURY'. Make a graph. What do you observe? What's the percentage of the majority category?"
   ]
  },
  {
   "cell_type": "code",
   "execution_count": 64,
   "id": "157227f8",
   "metadata": {
    "scrolled": true
   },
   "outputs": [
    {
     "data": {
      "text/plain": [
       "NO INDICATION OF INJURY     705823\n",
       "NONINCAPACITATING INJURY     63696\n",
       "REPORTED, NOT EVIDENT        34513\n",
       "INCAPACITATING INJURY        13852\n",
       "FATAL                          902\n",
       "Name: MOST_SEVERE_INJURY, dtype: int64"
      ]
     },
     "execution_count": 64,
     "metadata": {},
     "output_type": "execute_result"
    }
   ],
   "source": [
    "df['MOST_SEVERE_INJURY'].value_counts()"
   ]
  },
  {
   "cell_type": "code",
   "execution_count": 65,
   "id": "b243dd1e",
   "metadata": {},
   "outputs": [
    {
     "data": {
      "text/plain": [
       "<Axes: >"
      ]
     },
     "execution_count": 65,
     "metadata": {},
     "output_type": "execute_result"
    },
    {
     "data": {
      "image/png": "[encoded data removed]",
      "text/plain": [
       "<Figure size 640x480 with 1 Axes>"
      ]
     },
     "metadata": {},
     "output_type": "display_data"
    }
   ],
   "source": [
    "df['MOST_SEVERE_INJURY'].value_counts().plot(kind='bar')"
   ]
  },
  {
   "cell_type": "code",
   "execution_count": 66,
   "id": "4b6af8a6",
   "metadata": {},
   "outputs": [
    {
     "data": {
      "text/plain": [
       "86.01440188547954"
      ]
     },
     "execution_count": 66,
     "metadata": {},
     "output_type": "execute_result"
    }
   ],
   "source": [
    "(df[df['MOST_SEVERE_INJURY']=='NO INDICATION OF INJURY'].shape[0]/df.shape[0])*100"
   ]
  },
  {
   "cell_type": "markdown",
   "id": "ad5ebb8a",
   "metadata": {},
   "source": [
    "Findings: \n",
    "- The majority of cases fall into the category of 'No Indication of Injury'.\n",
    "- The 'Fatal' category represents a very small percentage compared to the other categories.\n",
    "- The percentage of the majority category ('No Indication of Injury') is 86.014% "
   ]
  },
  {
   "cell_type": "markdown",
   "id": "e6fd829f",
   "metadata": {},
   "source": [
    "4. The variable 'DAMAGE' indicates the damage of a crash in terms of dollar amount, another measurement of crash outcome. We can check its relationship with ''MOST_SEVERE_INJURY' using cross-tabulation. How do you interpret the table?"
   ]
  },
  {
   "cell_type": "code",
   "execution_count": 67,
   "id": "78a72d97",
   "metadata": {},
   "outputs": [
    {
     "data": {
      "text/html": [
       "<div>\n",
       "<style scoped>\n",
       "    .dataframe tbody tr th:only-of-type {\n",
       "        vertical-align: middle;\n",
       "    }\n",
       "\n",
       "    .dataframe tbody tr th {\n",
       "        vertical-align: top;\n",
       "    }\n",
       "\n",
       "    .dataframe thead th {\n",
       "        text-align: right;\n",
       "    }\n",
       "</style>\n",
       "<table border=\"1\" class=\"dataframe\">\n",
       "  <thead>\n",
       "    <tr style=\"text-align: right;\">\n",
       "      <th>DAMAGE</th>\n",
       "      <th>$500 OR LESS</th>\n",
       "      <th>$501 - $1,500</th>\n",
       "      <th>OVER $1,500</th>\n",
       "    </tr>\n",
       "    <tr>\n",
       "      <th>MOST_SEVERE_INJURY</th>\n",
       "      <th></th>\n",
       "      <th></th>\n",
       "      <th></th>\n",
       "    </tr>\n",
       "  </thead>\n",
       "  <tbody>\n",
       "    <tr>\n",
       "      <th>FATAL</th>\n",
       "      <td>75</td>\n",
       "      <td>53</td>\n",
       "      <td>774</td>\n",
       "    </tr>\n",
       "    <tr>\n",
       "      <th>INCAPACITATING INJURY</th>\n",
       "      <td>2028</td>\n",
       "      <td>1400</td>\n",
       "      <td>10424</td>\n",
       "    </tr>\n",
       "    <tr>\n",
       "      <th>NO INDICATION OF INJURY</th>\n",
       "      <td>76623</td>\n",
       "      <td>202825</td>\n",
       "      <td>426375</td>\n",
       "    </tr>\n",
       "    <tr>\n",
       "      <th>NONINCAPACITATING INJURY</th>\n",
       "      <td>10070</td>\n",
       "      <td>7254</td>\n",
       "      <td>46372</td>\n",
       "    </tr>\n",
       "    <tr>\n",
       "      <th>REPORTED, NOT EVIDENT</th>\n",
       "      <td>4584</td>\n",
       "      <td>5319</td>\n",
       "      <td>24610</td>\n",
       "    </tr>\n",
       "  </tbody>\n",
       "</table>\n",
       "</div>"
      ],
      "text/plain": [
       "DAMAGE                    $500 OR LESS  $501 - $1,500  OVER $1,500\n",
       "MOST_SEVERE_INJURY                                                \n",
       "FATAL                               75             53          774\n",
       "INCAPACITATING INJURY             2028           1400        10424\n",
       "NO INDICATION OF INJURY          76623         202825       426375\n",
       "NONINCAPACITATING INJURY         10070           7254        46372\n",
       "REPORTED, NOT EVIDENT             4584           5319        24610"
      ]
     },
     "execution_count": 67,
     "metadata": {},
     "output_type": "execute_result"
    }
   ],
   "source": [
    "pd.crosstab(df['MOST_SEVERE_INJURY'],df['DAMAGE'])"
   ]
  },
  {
   "cell_type": "markdown",
   "id": "249135b5",
   "metadata": {},
   "source": [
    "- The table presents a breakdown of the frequency distribution of the variable 'MOST_SEVERE_INJURY' based on different levels of damage.\n",
    "- Rows: Each row represents a category of 'MOST_SEVERE_INJURY'. The categories include 'FATAL', 'INCAPACITATING INJURY', 'NO INDICATION OF INJURY', 'NONINCAPACITATING INJURY', and 'REPORTED, NOT EVIDENT'.\n",
    "- Columns: The columns represent different levels of damage. The damage levels are categorized as '500 or less', '501−1500', and 'Over 1500'.\n",
    "- Values: The values in the table indicate the count of occurrences for each combination of 'MOST_SEVERE_INJURY' category and damage level.\n",
    "- For example, in the cell corresponding to 'FATAL' and '500 or less', the value is '75', indicating that there were 75 cases where the most severe injury was fatal and the damage incurred was 500 or less."
   ]
  },
  {
   "cell_type": "markdown",
   "id": "7bc60119",
   "metadata": {},
   "source": [
    "5. Next we explore variables that we may use to predict severity of crashes.<br>"
   ]
  },
  {
   "cell_type": "code",
   "execution_count": 68,
   "id": "c1ce5523",
   "metadata": {
    "scrolled": true
   },
   "outputs": [
    {
     "data": {
      "text/plain": [
       "Index(['CRASH_RECORD_ID', 'CRASH_DATE', 'POSTED_SPEED_LIMIT',\n",
       "       'TRAFFIC_CONTROL_DEVICE', 'DEVICE_CONDITION', 'WEATHER_CONDITION',\n",
       "       'LIGHTING_CONDITION', 'FIRST_CRASH_TYPE', 'TRAFFICWAY_TYPE', 'LANE_CNT',\n",
       "       'ALIGNMENT', 'ROADWAY_SURFACE_COND', 'ROAD_DEFECT', 'REPORT_TYPE',\n",
       "       'CRASH_TYPE', 'INTERSECTION_RELATED_I', 'NOT_RIGHT_OF_WAY_I',\n",
       "       'HIT_AND_RUN_I', 'DAMAGE', 'DATE_POLICE_NOTIFIED',\n",
       "       'PRIM_CONTRIBUTORY_CAUSE', 'SEC_CONTRIBUTORY_CAUSE', 'STREET_NO',\n",
       "       'STREET_DIRECTION', 'STREET_NAME', 'BEAT_OF_OCCURRENCE', 'NUM_UNITS',\n",
       "       'MOST_SEVERE_INJURY', 'INJURIES_TOTAL', 'INJURIES_FATAL',\n",
       "       'INJURIES_INCAPACITATING', 'INJURIES_NON_INCAPACITATING',\n",
       "       'INJURIES_REPORTED_NOT_EVIDENT', 'INJURIES_NO_INDICATION',\n",
       "       'INJURIES_UNKNOWN', 'CRASH_HOUR', 'CRASH_DAY_OF_WEEK', 'CRASH_MONTH',\n",
       "       'LATITUDE', 'LONGITUDE', 'LOCATION'],\n",
       "      dtype='object')"
      ]
     },
     "execution_count": 68,
     "metadata": {},
     "output_type": "execute_result"
    }
   ],
   "source": [
    "df.columns"
   ]
  },
  {
   "cell_type": "code",
   "execution_count": 69,
   "id": "029179a5",
   "metadata": {},
   "outputs": [
    {
     "name": "stdout",
     "output_type": "stream",
     "text": [
      "POSTED_SPEED_LIMIT\n"
     ]
    },
    {
     "data": {
      "text/plain": [
       "30    603967\n",
       "35     54799\n",
       "25     51956\n",
       "20     34211\n",
       "15     29192\n",
       "10     19199\n",
       "40      7846\n",
       "0       7438\n",
       "45      5468\n",
       "5       4718\n",
       "55       810\n",
       "50       243\n",
       "3        199\n",
       "9         96\n",
       "39        83\n",
       "99        66\n",
       "60        50\n",
       "1         41\n",
       "24        37\n",
       "2         28\n",
       "32        19\n",
       "65        18\n",
       "34        14\n",
       "33        13\n",
       "11        11\n",
       "26         9\n",
       "6          7\n",
       "36         7\n",
       "70         6\n",
       "7          5\n",
       "14         4\n",
       "12         3\n",
       "22         3\n",
       "29         3\n",
       "23         2\n",
       "8          2\n",
       "38         2\n",
       "4          2\n",
       "18         2\n",
       "31         2\n",
       "49         1\n",
       "63         1\n",
       "16         1\n",
       "44         1\n",
       "62         1\n",
       "46         1\n",
       "Name: POSTED_SPEED_LIMIT, dtype: int64"
      ]
     },
     "execution_count": 69,
     "metadata": {},
     "output_type": "execute_result"
    },
    {
     "name": "stdout",
     "output_type": "stream",
     "text": [
      "TRAFFIC_CONTROL_DEVICE\n"
     ]
    },
    {
     "data": {
      "text/plain": [
       "NO CONTROLS                 466414\n",
       "TRAFFIC SIGNAL              227453\n",
       "STOP SIGN/FLASHER            81422\n",
       "UNKNOWN                      32988\n",
       "OTHER                         5574\n",
       "LANE USE MARKING              1226\n",
       "YIELD                         1210\n",
       "OTHER REG. SIGN                910\n",
       "OTHER WARNING SIGN             674\n",
       "RAILROAD CROSSING GATE         532\n",
       "PEDESTRIAN CROSSING SIGN       519\n",
       "FLASHING CONTROL SIGNAL        331\n",
       "DELINEATORS                    327\n",
       "SCHOOL ZONE                    312\n",
       "POLICE/FLAGMAN                 278\n",
       "OTHER RAILROAD CROSSING        181\n",
       "RR CROSSING SIGN               160\n",
       "NO PASSING                      51\n",
       "BICYCLE CROSSING SIGN           25\n",
       "Name: TRAFFIC_CONTROL_DEVICE, dtype: int64"
      ]
     },
     "execution_count": 69,
     "metadata": {},
     "output_type": "execute_result"
    },
    {
     "name": "stdout",
     "output_type": "stream",
     "text": [
      "DEVICE_CONDITION\n"
     ]
    },
    {
     "data": {
      "text/plain": [
       "NO CONTROLS                 471834\n",
       "FUNCTIONING PROPERLY        280924\n",
       "UNKNOWN                      54921\n",
       "OTHER                         6282\n",
       "FUNCTIONING IMPROPERLY        3856\n",
       "NOT FUNCTIONING               2389\n",
       "WORN REFLECTIVE MATERIAL       286\n",
       "MISSING                         95\n",
       "Name: DEVICE_CONDITION, dtype: int64"
      ]
     },
     "execution_count": 69,
     "metadata": {},
     "output_type": "execute_result"
    },
    {
     "name": "stdout",
     "output_type": "stream",
     "text": [
      "WEATHER_CONDITION\n"
     ]
    },
    {
     "data": {
      "text/plain": [
       "CLEAR                       642981\n",
       "RAIN                         72205\n",
       "UNKNOWN                      45359\n",
       "SNOW                         28387\n",
       "CLOUDY/OVERCAST              24380\n",
       "OTHER                         2610\n",
       "FREEZING RAIN/DRIZZLE         1716\n",
       "FOG/SMOKE/HAZE                1338\n",
       "SLEET/HAIL                    1007\n",
       "BLOWING SNOW                   444\n",
       "SEVERE CROSS WIND GATE         153\n",
       "BLOWING SAND, SOIL, DIRT         7\n",
       "Name: WEATHER_CONDITION, dtype: int64"
      ]
     },
     "execution_count": 69,
     "metadata": {},
     "output_type": "execute_result"
    },
    {
     "name": "stdout",
     "output_type": "stream",
     "text": [
      "LIGHTING_CONDITION\n"
     ]
    },
    {
     "data": {
      "text/plain": [
       "DAYLIGHT                  524775\n",
       "DARKNESS, LIGHTED ROAD    181618\n",
       "DARKNESS                   39237\n",
       "UNKNOWN                    37561\n",
       "DUSK                       23654\n",
       "DAWN                       13742\n",
       "Name: LIGHTING_CONDITION, dtype: int64"
      ]
     },
     "execution_count": 69,
     "metadata": {},
     "output_type": "execute_result"
    },
    {
     "name": "stdout",
     "output_type": "stream",
     "text": [
      "FIRST_CRASH_TYPE\n"
     ]
    },
    {
     "data": {
      "text/plain": [
       "PARKED MOTOR VEHICLE            190703\n",
       "REAR END                        183232\n",
       "SIDESWIPE SAME DIRECTION        125235\n",
       "TURNING                         117299\n",
       "ANGLE                            89278\n",
       "FIXED OBJECT                     38571\n",
       "PEDESTRIAN                       19145\n",
       "PEDALCYCLIST                     12334\n",
       "SIDESWIPE OPPOSITE DIRECTION     11569\n",
       "OTHER OBJECT                      8129\n",
       "REAR TO FRONT                     7976\n",
       "HEAD ON                           7009\n",
       "REAR TO SIDE                      4737\n",
       "OTHER NONCOLLISION                2587\n",
       "REAR TO REAR                      1646\n",
       "ANIMAL                             589\n",
       "OVERTURNED                         502\n",
       "TRAIN                               46\n",
       "Name: FIRST_CRASH_TYPE, dtype: int64"
      ]
     },
     "execution_count": 69,
     "metadata": {},
     "output_type": "execute_result"
    },
    {
     "name": "stdout",
     "output_type": "stream",
     "text": [
      "TRAFFICWAY_TYPE\n"
     ]
    },
    {
     "data": {
      "text/plain": [
       "NOT DIVIDED                        356191\n",
       "DIVIDED - W/MEDIAN (NOT RAISED)    131060\n",
       "ONE-WAY                            104608\n",
       "PARKING LOT                         55894\n",
       "FOUR WAY                            52064\n",
       "DIVIDED - W/MEDIAN BARRIER          46903\n",
       "OTHER                               22452\n",
       "ALLEY                               13570\n",
       "T-INTERSECTION                      10482\n",
       "UNKNOWN                              9548\n",
       "CENTER TURN LANE                     5942\n",
       "DRIVEWAY                             2665\n",
       "RAMP                                 2566\n",
       "UNKNOWN INTERSECTION TYPE            2415\n",
       "Y-INTERSECTION                       1144\n",
       "FIVE POINT, OR MORE                  1134\n",
       "TRAFFIC ROUTE                         936\n",
       "NOT REPORTED                          583\n",
       "ROUNDABOUT                            262\n",
       "L-INTERSECTION                        168\n",
       "Name: TRAFFICWAY_TYPE, dtype: int64"
      ]
     },
     "execution_count": 69,
     "metadata": {},
     "output_type": "execute_result"
    },
    {
     "name": "stdout",
     "output_type": "stream",
     "text": [
      "LANE_CNT\n"
     ]
    },
    {
     "data": {
      "text/plain": [
       "2.0          91154\n",
       "4.0          49588\n",
       "1.0          32547\n",
       "3.0           8678\n",
       "0.0           8032\n",
       "6.0           4502\n",
       "5.0           1940\n",
       "8.0           1908\n",
       "7.0            184\n",
       "10.0           162\n",
       "99.0           108\n",
       "9.0             66\n",
       "11.0            30\n",
       "12.0            29\n",
       "20.0            15\n",
       "22.0            13\n",
       "15.0             7\n",
       "16.0             7\n",
       "14.0             5\n",
       "30.0             5\n",
       "40.0             4\n",
       "60.0             3\n",
       "21.0             3\n",
       "25.0             2\n",
       "100.0            2\n",
       "902.0            1\n",
       "24.0             1\n",
       "80.0             1\n",
       "218474.0         1\n",
       "45.0             1\n",
       "17.0             1\n",
       "299679.0         1\n",
       "19.0             1\n",
       "400.0            1\n",
       "13.0             1\n",
       "1191625.0        1\n",
       "35.0             1\n",
       "433634.0         1\n",
       "41.0             1\n",
       "28.0             1\n",
       "44.0             1\n",
       "Name: LANE_CNT, dtype: int64"
      ]
     },
     "execution_count": 69,
     "metadata": {},
     "output_type": "execute_result"
    },
    {
     "name": "stdout",
     "output_type": "stream",
     "text": [
      "ALIGNMENT\n"
     ]
    },
    {
     "data": {
      "text/plain": [
       "STRAIGHT AND LEVEL       800693\n",
       "STRAIGHT ON GRADE         10221\n",
       "CURVE, LEVEL               5923\n",
       "STRAIGHT ON HILLCREST      2149\n",
       "CURVE ON GRADE             1236\n",
       "CURVE ON HILLCREST          365\n",
       "Name: ALIGNMENT, dtype: int64"
      ]
     },
     "execution_count": 69,
     "metadata": {},
     "output_type": "execute_result"
    },
    {
     "name": "stdout",
     "output_type": "stream",
     "text": [
      "ROADWAY_SURFACE_COND\n"
     ]
    },
    {
     "data": {
      "text/plain": [
       "DRY                604762\n",
       "WET                109889\n",
       "UNKNOWN             69788\n",
       "SNOW OR SLUSH       28119\n",
       "ICE                  5658\n",
       "OTHER                2067\n",
       "SAND, MUD, DIRT       304\n",
       "Name: ROADWAY_SURFACE_COND, dtype: int64"
      ]
     },
     "execution_count": 69,
     "metadata": {},
     "output_type": "execute_result"
    },
    {
     "name": "stdout",
     "output_type": "stream",
     "text": [
      "ROAD_DEFECT\n"
     ]
    },
    {
     "data": {
      "text/plain": [
       "NO DEFECTS           659408\n",
       "UNKNOWN              145173\n",
       "RUT, HOLES             6067\n",
       "OTHER                  4470\n",
       "WORN SURFACE           3375\n",
       "SHOULDER DEFECT        1477\n",
       "DEBRIS ON ROADWAY       617\n",
       "Name: ROAD_DEFECT, dtype: int64"
      ]
     },
     "execution_count": 69,
     "metadata": {},
     "output_type": "execute_result"
    },
    {
     "name": "stdout",
     "output_type": "stream",
     "text": [
      "REPORT_TYPE\n"
     ]
    },
    {
     "data": {
      "text/plain": [
       "NOT ON SCENE (DESK REPORT)    449137\n",
       "ON SCENE                      346776\n",
       "AMENDED                          240\n",
       "Name: REPORT_TYPE, dtype: int64"
      ]
     },
     "execution_count": 69,
     "metadata": {},
     "output_type": "execute_result"
    },
    {
     "name": "stdout",
     "output_type": "stream",
     "text": [
      "CRASH_TYPE\n"
     ]
    },
    {
     "data": {
      "text/plain": [
       "NO INJURY / DRIVE AWAY              601381\n",
       "INJURY AND / OR TOW DUE TO CRASH    219206\n",
       "Name: CRASH_TYPE, dtype: int64"
      ]
     },
     "execution_count": 69,
     "metadata": {},
     "output_type": "execute_result"
    },
    {
     "name": "stdout",
     "output_type": "stream",
     "text": [
      "INTERSECTION_RELATED_I\n"
     ]
    },
    {
     "data": {
      "text/plain": [
       "Y    179232\n",
       "N      8936\n",
       "Name: INTERSECTION_RELATED_I, dtype: int64"
      ]
     },
     "execution_count": 69,
     "metadata": {},
     "output_type": "execute_result"
    },
    {
     "name": "stdout",
     "output_type": "stream",
     "text": [
      "NOT_RIGHT_OF_WAY_I\n"
     ]
    },
    {
     "data": {
      "text/plain": [
       "Y    34378\n",
       "N     3462\n",
       "Name: NOT_RIGHT_OF_WAY_I, dtype: int64"
      ]
     },
     "execution_count": 69,
     "metadata": {},
     "output_type": "execute_result"
    },
    {
     "name": "stdout",
     "output_type": "stream",
     "text": [
      "HIT_AND_RUN_I\n"
     ]
    },
    {
     "data": {
      "text/plain": [
       "Y    245893\n",
       "N     11027\n",
       "Name: HIT_AND_RUN_I, dtype: int64"
      ]
     },
     "execution_count": 69,
     "metadata": {},
     "output_type": "execute_result"
    }
   ],
   "source": [
    "# First, let's examine variables starting from 'POSTED_SPEED_LIMIT' to 'HIT_AND_RUN_I'\n",
    "# We can use a loop to go through all of them.\n",
    "for i in range(2,18):\n",
    "    print(df.columns[i])\n",
    "    df[df.columns[i]].value_counts()"
   ]
  },
  {
   "cell_type": "markdown",
   "id": "e07bb26d",
   "metadata": {},
   "source": [
    "5.1 About 'POSTED_SPEED_LIMIT'"
   ]
  },
  {
   "cell_type": "code",
   "execution_count": 71,
   "id": "d1e6e217",
   "metadata": {},
   "outputs": [],
   "source": [
    "# Based on the results, we need to further clean and prepare the data.\n",
    "# First is 'POSTED_SPEED_LIMIT'. Based on our life knowledge, we probably never saw speed limit\n",
    "# of 1, 2, 3 or 26. We do not have further information, but it might be reasonable to transform\n",
    "# the irregular numbers to closest 5 or 10.\n",
    "# To do that, we can use apply() method with a lambda function.\n",
    "# The lambda function takes each value, divde it by 5, round the result and mulitply it by 5.\n",
    "# This is not the most efficient way, but easier to show the idea.\n",
    "\n",
    "df['POSTED_SPEED_LIMIT'] = df['POSTED_SPEED_LIMIT'].apply(lambda x: round(x/5)*5)"
   ]
  },
  {
   "cell_type": "markdown",
   "id": "ff46367f",
   "metadata": {},
   "source": [
    "5.2 About 'LANE_CNT'"
   ]
  },
  {
   "cell_type": "code",
   "execution_count": 72,
   "id": "e25ce447",
   "metadata": {},
   "outputs": [],
   "source": [
    "# The literal meaning seems to be the number of lanes involved in crashes.\n",
    "# However, many numbers we cannot explain, i.e., all those greater than 12. \n",
    "# It seems not possible to have so many lanes.\n",
    "# So, before we have more information about this variable, we will not use it."
   ]
  },
  {
   "cell_type": "markdown",
   "id": "01f6a2a1",
   "metadata": {},
   "source": [
    "5.3. About 'INTERSECTION_RELATED_I', 'NOT_RIGHT_OF_WAY_I', and 'HIT_AND_RUN_I'."
   ]
  },
  {
   "cell_type": "code",
   "execution_count": 73,
   "id": "4fb7a325",
   "metadata": {},
   "outputs": [],
   "source": [
    "# These three variables have many missing values, more than half.\n",
    "# To maintain the data's power, we decide not to use these three variables."
   ]
  },
  {
   "cell_type": "markdown",
   "id": "f66c281c",
   "metadata": {},
   "source": [
    "5.4 About all other variables in this set."
   ]
  },
  {
   "cell_type": "code",
   "execution_count": 74,
   "id": "e8b354af",
   "metadata": {},
   "outputs": [],
   "source": [
    "# They are all categorical variables.\n",
    "# We will include them in our analysis."
   ]
  },
  {
   "cell_type": "markdown",
   "id": "68f2fa11",
   "metadata": {},
   "source": [
    "6. Another set of variables are about time. There are three coded variables 'CRASH_HOUR', 'CRASH_DAY_OF_WEEK', and 'CRASH_MONTH', indicating the time features of crashes. For instance, if the crashes happens on 1pm 4/8/2024, the variables will be 'CRASH_HOUR'-13, 'CRASH_DAY_OF_WEEK'-1, and 'CRASH_MONTH'-4. These variables can help to capture time-related features that have impacts on car crashes. For instance, crashes may be more likely to happen during night time or rush hours.<br>\n",
    "\n",
    "I would like to add a variable 'Crash_Year' to control the yearly changes of car crashes and to show you how we can work with datetime variables."
   ]
  },
  {
   "cell_type": "code",
   "execution_count": 75,
   "id": "5d59da80",
   "metadata": {},
   "outputs": [],
   "source": [
    "df['CRASH_DATE'] = pd.to_datetime(df['CRASH_DATE'])"
   ]
  },
  {
   "cell_type": "code",
   "execution_count": 76,
   "id": "b666fb3e",
   "metadata": {},
   "outputs": [],
   "source": [
    "df['Crash_Year'] = df['CRASH_DATE'].dt.year"
   ]
  },
  {
   "cell_type": "code",
   "execution_count": 77,
   "id": "b81eae93",
   "metadata": {},
   "outputs": [],
   "source": [
    "# First, we will transform the 'CRASH_DATE' variable into Pandas Datetime datatype.\n",
    "#df['CRASH_DATE'] = pd.to_datetime(df['CRASH_DATE'])\n",
    "\n",
    "# Then we can create a new variable using accessor dt.year\n"
   ]
  },
  {
   "cell_type": "code",
   "execution_count": 78,
   "id": "e05da948",
   "metadata": {},
   "outputs": [
    {
     "data": {
      "text/plain": [
       "array([2023, 2019, 2022, 2020, 2021, 2018, 2016, 2017, 2015, 2024, 2013,\n",
       "       2014], dtype=int64)"
      ]
     },
     "execution_count": 78,
     "metadata": {},
     "output_type": "execute_result"
    }
   ],
   "source": [
    "df['Crash_Year'].unique()"
   ]
  },
  {
   "cell_type": "markdown",
   "id": "d5a99249",
   "metadata": {},
   "source": [
    "7. The other variables include more details about the crash outcome and location information. We will not use them. The variable 'BEAT_OF_OCCURRENCE' shows to be numeric. Each number is referring to a patrol area of police. I think it might be a simplified indicator of locations. To use it, we need to transform it to a categorical variable."
   ]
  },
  {
   "cell_type": "code",
   "execution_count": 79,
   "id": "6d96fb3b",
   "metadata": {},
   "outputs": [],
   "source": [
    "df['BEAT_OF_OCCURRENCE'] = df['BEAT_OF_OCCURRENCE'].astype('category')"
   ]
  },
  {
   "cell_type": "markdown",
   "id": "d17781fa",
   "metadata": {},
   "source": [
    "8. One last step is to correctly specify categorical variables. Some variables were assigned as numeric values, but their inherent meaning is categorical. For instance, the day of the month, we cannot say that day 30 is greater than day 1. So, we need to change their datatype to category. These variables include 'POSTED_SPEED_LIMIT', 'CRASH_HOUR', 'CRASH_DAY_OF_WEEK', 'CRASH_MONTH', and 'Crash_Year'."
   ]
  },
  {
   "cell_type": "code",
   "execution_count": 80,
   "id": "519c383b",
   "metadata": {},
   "outputs": [],
   "source": [
    "df['POSTED_SPEED_LIMIT'] = df['POSTED_SPEED_LIMIT'].astype('category')\n",
    "df['CRASH_HOUR'] = df['CRASH_HOUR'].astype('category')\n",
    "df['CRASH_DAY_OF_WEEK'] = df['CRASH_DAY_OF_WEEK'].astype('category')\n",
    "df['CRASH_MONTH'] = df['CRASH_MONTH'].astype('category')\n",
    "df['Crash_Year'] = df['Crash_Year'].astype('category')"
   ]
  },
  {
   "cell_type": "markdown",
   "id": "ba312477",
   "metadata": {},
   "source": [
    "9. Next we select the variables we need for analysis. The variables we keep for analysis include:<br>\n",
    "'MOST_SEVERE_INJURY', 'POSTED_SPEED_LIMIT', 'TRAFFIC_CONTROL_DEVICE', 'DEVICE_CONDITION', 'WEATHER_CONDITION',        'LIGHTING_CONDITION', 'FIRST_CRASH_TYPE', 'TRAFFICWAY_TYPE', 'ALIGNMENT', 'ROADWAY_SURFACE_COND', 'ROAD_DEFECT', 'BEAT_OF_OCCURRENCE', 'CRASH_HOUR', 'CRASH_DAY_OF_WEEK', 'CRASH_MONTH', 'Crash_Year'<br>"
   ]
  },
  {
   "cell_type": "code",
   "execution_count": 81,
   "id": "05ae46eb",
   "metadata": {},
   "outputs": [],
   "source": [
    "df1=df[['MOST_SEVERE_INJURY','POSTED_SPEED_LIMIT','TRAFFIC_CONTROL_DEVICE', 'DEVICE_CONDITION', 'WEATHER_CONDITION', 'LIGHTING_CONDITION', 'FIRST_CRASH_TYPE', 'TRAFFICWAY_TYPE', 'ALIGNMENT', 'ROADWAY_SURFACE_COND', 'ROAD_DEFECT', 'BEAT_OF_OCCURRENCE', 'CRASH_HOUR', 'CRASH_DAY_OF_WEEK', 'CRASH_MONTH', 'Crash_Year']]"
   ]
  },
  {
   "cell_type": "code",
   "execution_count": 82,
   "id": "596bbd0f",
   "metadata": {},
   "outputs": [
    {
     "data": {
      "text/html": [
       "<div>\n",
       "<style scoped>\n",
       "    .dataframe tbody tr th:only-of-type {\n",
       "        vertical-align: middle;\n",
       "    }\n",
       "\n",
       "    .dataframe tbody tr th {\n",
       "        vertical-align: top;\n",
       "    }\n",
       "\n",
       "    .dataframe thead th {\n",
       "        text-align: right;\n",
       "    }\n",
       "</style>\n",
       "<table border=\"1\" class=\"dataframe\">\n",
       "  <thead>\n",
       "    <tr style=\"text-align: right;\">\n",
       "      <th></th>\n",
       "      <th>MOST_SEVERE_INJURY</th>\n",
       "      <th>POSTED_SPEED_LIMIT</th>\n",
       "      <th>TRAFFIC_CONTROL_DEVICE</th>\n",
       "      <th>DEVICE_CONDITION</th>\n",
       "      <th>WEATHER_CONDITION</th>\n",
       "      <th>LIGHTING_CONDITION</th>\n",
       "      <th>FIRST_CRASH_TYPE</th>\n",
       "      <th>TRAFFICWAY_TYPE</th>\n",
       "      <th>ALIGNMENT</th>\n",
       "      <th>ROADWAY_SURFACE_COND</th>\n",
       "      <th>ROAD_DEFECT</th>\n",
       "      <th>BEAT_OF_OCCURRENCE</th>\n",
       "      <th>CRASH_HOUR</th>\n",
       "      <th>CRASH_DAY_OF_WEEK</th>\n",
       "      <th>CRASH_MONTH</th>\n",
       "      <th>Crash_Year</th>\n",
       "    </tr>\n",
       "  </thead>\n",
       "  <tbody>\n",
       "    <tr>\n",
       "      <th>0</th>\n",
       "      <td>INCAPACITATING INJURY</td>\n",
       "      <td>30</td>\n",
       "      <td>TRAFFIC SIGNAL</td>\n",
       "      <td>FUNCTIONING PROPERLY</td>\n",
       "      <td>CLEAR</td>\n",
       "      <td>DUSK</td>\n",
       "      <td>ANGLE</td>\n",
       "      <td>FIVE POINT, OR MORE</td>\n",
       "      <td>STRAIGHT AND LEVEL</td>\n",
       "      <td>DRY</td>\n",
       "      <td>NO DEFECTS</td>\n",
       "      <td>225.0</td>\n",
       "      <td>19</td>\n",
       "      <td>3</td>\n",
       "      <td>9</td>\n",
       "      <td>2023</td>\n",
       "    </tr>\n",
       "    <tr>\n",
       "      <th>1</th>\n",
       "      <td>NO INDICATION OF INJURY</td>\n",
       "      <td>50</td>\n",
       "      <td>NO CONTROLS</td>\n",
       "      <td>NO CONTROLS</td>\n",
       "      <td>CLEAR</td>\n",
       "      <td>DARKNESS, LIGHTED ROAD</td>\n",
       "      <td>REAR END</td>\n",
       "      <td>DIVIDED - W/MEDIAN BARRIER</td>\n",
       "      <td>STRAIGHT AND LEVEL</td>\n",
       "      <td>DRY</td>\n",
       "      <td>NO DEFECTS</td>\n",
       "      <td>411.0</td>\n",
       "      <td>18</td>\n",
       "      <td>6</td>\n",
       "      <td>9</td>\n",
       "      <td>2023</td>\n",
       "    </tr>\n",
       "    <tr>\n",
       "      <th>2</th>\n",
       "      <td>NO INDICATION OF INJURY</td>\n",
       "      <td>30</td>\n",
       "      <td>TRAFFIC SIGNAL</td>\n",
       "      <td>FUNCTIONING PROPERLY</td>\n",
       "      <td>CLEAR</td>\n",
       "      <td>DAYLIGHT</td>\n",
       "      <td>PARKED MOTOR VEHICLE</td>\n",
       "      <td>DIVIDED - W/MEDIAN (NOT RAISED)</td>\n",
       "      <td>STRAIGHT AND LEVEL</td>\n",
       "      <td>DRY</td>\n",
       "      <td>NO DEFECTS</td>\n",
       "      <td>1235.0</td>\n",
       "      <td>14</td>\n",
       "      <td>7</td>\n",
       "      <td>7</td>\n",
       "      <td>2023</td>\n",
       "    </tr>\n",
       "    <tr>\n",
       "      <th>3</th>\n",
       "      <td>NO INDICATION OF INJURY</td>\n",
       "      <td>30</td>\n",
       "      <td>NO CONTROLS</td>\n",
       "      <td>NO CONTROLS</td>\n",
       "      <td>CLEAR</td>\n",
       "      <td>DARKNESS, LIGHTED ROAD</td>\n",
       "      <td>SIDESWIPE SAME DIRECTION</td>\n",
       "      <td>NOT DIVIDED</td>\n",
       "      <td>STRAIGHT AND LEVEL</td>\n",
       "      <td>DRY</td>\n",
       "      <td>NO DEFECTS</td>\n",
       "      <td>1650.0</td>\n",
       "      <td>23</td>\n",
       "      <td>4</td>\n",
       "      <td>8</td>\n",
       "      <td>2023</td>\n",
       "    </tr>\n",
       "    <tr>\n",
       "      <th>4</th>\n",
       "      <td>NONINCAPACITATING INJURY</td>\n",
       "      <td>15</td>\n",
       "      <td>OTHER</td>\n",
       "      <td>FUNCTIONING PROPERLY</td>\n",
       "      <td>CLEAR</td>\n",
       "      <td>DAYLIGHT</td>\n",
       "      <td>REAR END</td>\n",
       "      <td>OTHER</td>\n",
       "      <td>STRAIGHT AND LEVEL</td>\n",
       "      <td>DRY</td>\n",
       "      <td>NO DEFECTS</td>\n",
       "      <td>1654.0</td>\n",
       "      <td>12</td>\n",
       "      <td>6</td>\n",
       "      <td>8</td>\n",
       "      <td>2023</td>\n",
       "    </tr>\n",
       "  </tbody>\n",
       "</table>\n",
       "</div>"
      ],
      "text/plain": [
       "         MOST_SEVERE_INJURY POSTED_SPEED_LIMIT TRAFFIC_CONTROL_DEVICE  \\\n",
       "0     INCAPACITATING INJURY                 30         TRAFFIC SIGNAL   \n",
       "1   NO INDICATION OF INJURY                 50            NO CONTROLS   \n",
       "2   NO INDICATION OF INJURY                 30         TRAFFIC SIGNAL   \n",
       "3   NO INDICATION OF INJURY                 30            NO CONTROLS   \n",
       "4  NONINCAPACITATING INJURY                 15                  OTHER   \n",
       "\n",
       "       DEVICE_CONDITION WEATHER_CONDITION      LIGHTING_CONDITION  \\\n",
       "0  FUNCTIONING PROPERLY             CLEAR                    DUSK   \n",
       "1           NO CONTROLS             CLEAR  DARKNESS, LIGHTED ROAD   \n",
       "2  FUNCTIONING PROPERLY             CLEAR                DAYLIGHT   \n",
       "3           NO CONTROLS             CLEAR  DARKNESS, LIGHTED ROAD   \n",
       "4  FUNCTIONING PROPERLY             CLEAR                DAYLIGHT   \n",
       "\n",
       "           FIRST_CRASH_TYPE                  TRAFFICWAY_TYPE  \\\n",
       "0                     ANGLE              FIVE POINT, OR MORE   \n",
       "1                  REAR END       DIVIDED - W/MEDIAN BARRIER   \n",
       "2      PARKED MOTOR VEHICLE  DIVIDED - W/MEDIAN (NOT RAISED)   \n",
       "3  SIDESWIPE SAME DIRECTION                      NOT DIVIDED   \n",
       "4                  REAR END                            OTHER   \n",
       "\n",
       "            ALIGNMENT ROADWAY_SURFACE_COND ROAD_DEFECT BEAT_OF_OCCURRENCE  \\\n",
       "0  STRAIGHT AND LEVEL                  DRY  NO DEFECTS              225.0   \n",
       "1  STRAIGHT AND LEVEL                  DRY  NO DEFECTS              411.0   \n",
       "2  STRAIGHT AND LEVEL                  DRY  NO DEFECTS             1235.0   \n",
       "3  STRAIGHT AND LEVEL                  DRY  NO DEFECTS             1650.0   \n",
       "4  STRAIGHT AND LEVEL                  DRY  NO DEFECTS             1654.0   \n",
       "\n",
       "  CRASH_HOUR CRASH_DAY_OF_WEEK CRASH_MONTH Crash_Year  \n",
       "0         19                 3           9       2023  \n",
       "1         18                 6           9       2023  \n",
       "2         14                 7           7       2023  \n",
       "3         23                 4           8       2023  \n",
       "4         12                 6           8       2023  "
      ]
     },
     "execution_count": 82,
     "metadata": {},
     "output_type": "execute_result"
    }
   ],
   "source": [
    "df1.head()"
   ]
  },
  {
   "cell_type": "markdown",
   "id": "9a01a027",
   "metadata": {},
   "source": [
    "For these variables, missing values only constitute a small percentage. So, we decide to drop them. Drop observations with missing values"
   ]
  },
  {
   "cell_type": "code",
   "execution_count": 83,
   "id": "6c3746be",
   "metadata": {},
   "outputs": [
    {
     "data": {
      "text/plain": [
       "MOST_SEVERE_INJURY        1801\n",
       "POSTED_SPEED_LIMIT           0\n",
       "TRAFFIC_CONTROL_DEVICE       0\n",
       "DEVICE_CONDITION             0\n",
       "WEATHER_CONDITION            0\n",
       "LIGHTING_CONDITION           0\n",
       "FIRST_CRASH_TYPE             0\n",
       "TRAFFICWAY_TYPE              0\n",
       "ALIGNMENT                    0\n",
       "ROADWAY_SURFACE_COND         0\n",
       "ROAD_DEFECT                  0\n",
       "BEAT_OF_OCCURRENCE           5\n",
       "CRASH_HOUR                   0\n",
       "CRASH_DAY_OF_WEEK            0\n",
       "CRASH_MONTH                  0\n",
       "Crash_Year                   0\n",
       "dtype: int64"
      ]
     },
     "execution_count": 83,
     "metadata": {},
     "output_type": "execute_result"
    }
   ],
   "source": [
    "#Before dropping\n",
    "df1.isnull().sum()"
   ]
  },
  {
   "cell_type": "code",
   "execution_count": 84,
   "id": "fbd185e6",
   "metadata": {},
   "outputs": [
    {
     "name": "stderr",
     "output_type": "stream",
     "text": [
      "C:\\Users\\siris\\AppData\\Local\\Temp\\ipykernel_9612\\1569235794.py:1: SettingWithCopyWarning: \n",
      "A value is trying to be set on a copy of a slice from a DataFrame\n",
      "\n",
      "See the caveats in the documentation: https://pandas.pydata.org/pandas-docs/stable/user_guide/indexing.html#returning-a-view-versus-a-copy\n",
      "  df1.dropna(axis=0, inplace = True)\n"
     ]
    }
   ],
   "source": [
    "df1.dropna(axis=0, inplace = True)"
   ]
  },
  {
   "cell_type": "code",
   "execution_count": 85,
   "id": "b2a3beb0",
   "metadata": {},
   "outputs": [
    {
     "data": {
      "text/plain": [
       "MOST_SEVERE_INJURY        0\n",
       "POSTED_SPEED_LIMIT        0\n",
       "TRAFFIC_CONTROL_DEVICE    0\n",
       "DEVICE_CONDITION          0\n",
       "WEATHER_CONDITION         0\n",
       "LIGHTING_CONDITION        0\n",
       "FIRST_CRASH_TYPE          0\n",
       "TRAFFICWAY_TYPE           0\n",
       "ALIGNMENT                 0\n",
       "ROADWAY_SURFACE_COND      0\n",
       "ROAD_DEFECT               0\n",
       "BEAT_OF_OCCURRENCE        0\n",
       "CRASH_HOUR                0\n",
       "CRASH_DAY_OF_WEEK         0\n",
       "CRASH_MONTH               0\n",
       "Crash_Year                0\n",
       "dtype: int64"
      ]
     },
     "execution_count": 85,
     "metadata": {},
     "output_type": "execute_result"
    }
   ],
   "source": [
    "#After dropping\n",
    "df1.isnull().sum()"
   ]
  },
  {
   "cell_type": "code",
   "execution_count": 86,
   "id": "6ee9c4c2",
   "metadata": {},
   "outputs": [
    {
     "data": {
      "text/plain": [
       "(818781, 16)"
      ]
     },
     "execution_count": 86,
     "metadata": {},
     "output_type": "execute_result"
    }
   ],
   "source": [
    "df1.shape"
   ]
  },
  {
   "cell_type": "markdown",
   "id": "f466ab6a",
   "metadata": {},
   "source": [
    "9. Next we split train and test datasets (Validation dataset approach)."
   ]
  },
  {
   "cell_type": "markdown",
   "id": "2dffa6f4",
   "metadata": {},
   "source": [
    "Prepare X and y."
   ]
  },
  {
   "cell_type": "code",
   "execution_count": 87,
   "id": "c1634abf",
   "metadata": {},
   "outputs": [],
   "source": [
    "X = df1.drop('MOST_SEVERE_INJURY', axis = 1)"
   ]
  },
  {
   "cell_type": "code",
   "execution_count": 88,
   "id": "6a1a0983",
   "metadata": {},
   "outputs": [],
   "source": [
    "y = df1[['MOST_SEVERE_INJURY']]"
   ]
  },
  {
   "cell_type": "markdown",
   "id": "f570f18e",
   "metadata": {},
   "source": [
    "Turn all variables in X to dummy variables."
   ]
  },
  {
   "cell_type": "code",
   "execution_count": 89,
   "id": "3a4d3d53",
   "metadata": {},
   "outputs": [],
   "source": [
    "X = pd.get_dummies(X, drop_first = True)"
   ]
  },
  {
   "cell_type": "code",
   "execution_count": 90,
   "id": "3c02c963",
   "metadata": {},
   "outputs": [
    {
     "data": {
      "text/plain": [
       "(818781, 435)"
      ]
     },
     "execution_count": 90,
     "metadata": {},
     "output_type": "execute_result"
    }
   ],
   "source": [
    "X.shape"
   ]
  },
  {
   "cell_type": "code",
   "execution_count": 91,
   "id": "25e82eda",
   "metadata": {},
   "outputs": [
    {
     "data": {
      "text/html": [
       "<div>\n",
       "<style scoped>\n",
       "    .dataframe tbody tr th:only-of-type {\n",
       "        vertical-align: middle;\n",
       "    }\n",
       "\n",
       "    .dataframe tbody tr th {\n",
       "        vertical-align: top;\n",
       "    }\n",
       "\n",
       "    .dataframe thead th {\n",
       "        text-align: right;\n",
       "    }\n",
       "</style>\n",
       "<table border=\"1\" class=\"dataframe\">\n",
       "  <thead>\n",
       "    <tr style=\"text-align: right;\">\n",
       "      <th></th>\n",
       "      <th>POSTED_SPEED_LIMIT_5</th>\n",
       "      <th>POSTED_SPEED_LIMIT_10</th>\n",
       "      <th>POSTED_SPEED_LIMIT_15</th>\n",
       "      <th>POSTED_SPEED_LIMIT_20</th>\n",
       "      <th>POSTED_SPEED_LIMIT_25</th>\n",
       "      <th>POSTED_SPEED_LIMIT_30</th>\n",
       "      <th>POSTED_SPEED_LIMIT_35</th>\n",
       "      <th>POSTED_SPEED_LIMIT_40</th>\n",
       "      <th>POSTED_SPEED_LIMIT_45</th>\n",
       "      <th>POSTED_SPEED_LIMIT_50</th>\n",
       "      <th>...</th>\n",
       "      <th>Crash_Year_2015</th>\n",
       "      <th>Crash_Year_2016</th>\n",
       "      <th>Crash_Year_2017</th>\n",
       "      <th>Crash_Year_2018</th>\n",
       "      <th>Crash_Year_2019</th>\n",
       "      <th>Crash_Year_2020</th>\n",
       "      <th>Crash_Year_2021</th>\n",
       "      <th>Crash_Year_2022</th>\n",
       "      <th>Crash_Year_2023</th>\n",
       "      <th>Crash_Year_2024</th>\n",
       "    </tr>\n",
       "  </thead>\n",
       "  <tbody>\n",
       "    <tr>\n",
       "      <th>0</th>\n",
       "      <td>0</td>\n",
       "      <td>0</td>\n",
       "      <td>0</td>\n",
       "      <td>0</td>\n",
       "      <td>0</td>\n",
       "      <td>1</td>\n",
       "      <td>0</td>\n",
       "      <td>0</td>\n",
       "      <td>0</td>\n",
       "      <td>0</td>\n",
       "      <td>...</td>\n",
       "      <td>0</td>\n",
       "      <td>0</td>\n",
       "      <td>0</td>\n",
       "      <td>0</td>\n",
       "      <td>0</td>\n",
       "      <td>0</td>\n",
       "      <td>0</td>\n",
       "      <td>0</td>\n",
       "      <td>1</td>\n",
       "      <td>0</td>\n",
       "    </tr>\n",
       "    <tr>\n",
       "      <th>1</th>\n",
       "      <td>0</td>\n",
       "      <td>0</td>\n",
       "      <td>0</td>\n",
       "      <td>0</td>\n",
       "      <td>0</td>\n",
       "      <td>0</td>\n",
       "      <td>0</td>\n",
       "      <td>0</td>\n",
       "      <td>0</td>\n",
       "      <td>1</td>\n",
       "      <td>...</td>\n",
       "      <td>0</td>\n",
       "      <td>0</td>\n",
       "      <td>0</td>\n",
       "      <td>0</td>\n",
       "      <td>0</td>\n",
       "      <td>0</td>\n",
       "      <td>0</td>\n",
       "      <td>0</td>\n",
       "      <td>1</td>\n",
       "      <td>0</td>\n",
       "    </tr>\n",
       "    <tr>\n",
       "      <th>2</th>\n",
       "      <td>0</td>\n",
       "      <td>0</td>\n",
       "      <td>0</td>\n",
       "      <td>0</td>\n",
       "      <td>0</td>\n",
       "      <td>1</td>\n",
       "      <td>0</td>\n",
       "      <td>0</td>\n",
       "      <td>0</td>\n",
       "      <td>0</td>\n",
       "      <td>...</td>\n",
       "      <td>0</td>\n",
       "      <td>0</td>\n",
       "      <td>0</td>\n",
       "      <td>0</td>\n",
       "      <td>0</td>\n",
       "      <td>0</td>\n",
       "      <td>0</td>\n",
       "      <td>0</td>\n",
       "      <td>1</td>\n",
       "      <td>0</td>\n",
       "    </tr>\n",
       "    <tr>\n",
       "      <th>3</th>\n",
       "      <td>0</td>\n",
       "      <td>0</td>\n",
       "      <td>0</td>\n",
       "      <td>0</td>\n",
       "      <td>0</td>\n",
       "      <td>1</td>\n",
       "      <td>0</td>\n",
       "      <td>0</td>\n",
       "      <td>0</td>\n",
       "      <td>0</td>\n",
       "      <td>...</td>\n",
       "      <td>0</td>\n",
       "      <td>0</td>\n",
       "      <td>0</td>\n",
       "      <td>0</td>\n",
       "      <td>0</td>\n",
       "      <td>0</td>\n",
       "      <td>0</td>\n",
       "      <td>0</td>\n",
       "      <td>1</td>\n",
       "      <td>0</td>\n",
       "    </tr>\n",
       "    <tr>\n",
       "      <th>4</th>\n",
       "      <td>0</td>\n",
       "      <td>0</td>\n",
       "      <td>1</td>\n",
       "      <td>0</td>\n",
       "      <td>0</td>\n",
       "      <td>0</td>\n",
       "      <td>0</td>\n",
       "      <td>0</td>\n",
       "      <td>0</td>\n",
       "      <td>0</td>\n",
       "      <td>...</td>\n",
       "      <td>0</td>\n",
       "      <td>0</td>\n",
       "      <td>0</td>\n",
       "      <td>0</td>\n",
       "      <td>0</td>\n",
       "      <td>0</td>\n",
       "      <td>0</td>\n",
       "      <td>0</td>\n",
       "      <td>1</td>\n",
       "      <td>0</td>\n",
       "    </tr>\n",
       "  </tbody>\n",
       "</table>\n",
       "<p>5 rows × 435 columns</p>\n",
       "</div>"
      ],
      "text/plain": [
       "   POSTED_SPEED_LIMIT_5  POSTED_SPEED_LIMIT_10  POSTED_SPEED_LIMIT_15  \\\n",
       "0                     0                      0                      0   \n",
       "1                     0                      0                      0   \n",
       "2                     0                      0                      0   \n",
       "3                     0                      0                      0   \n",
       "4                     0                      0                      1   \n",
       "\n",
       "   POSTED_SPEED_LIMIT_20  POSTED_SPEED_LIMIT_25  POSTED_SPEED_LIMIT_30  \\\n",
       "0                      0                      0                      1   \n",
       "1                      0                      0                      0   \n",
       "2                      0                      0                      1   \n",
       "3                      0                      0                      1   \n",
       "4                      0                      0                      0   \n",
       "\n",
       "   POSTED_SPEED_LIMIT_35  POSTED_SPEED_LIMIT_40  POSTED_SPEED_LIMIT_45  \\\n",
       "0                      0                      0                      0   \n",
       "1                      0                      0                      0   \n",
       "2                      0                      0                      0   \n",
       "3                      0                      0                      0   \n",
       "4                      0                      0                      0   \n",
       "\n",
       "   POSTED_SPEED_LIMIT_50  ...  Crash_Year_2015  Crash_Year_2016  \\\n",
       "0                      0  ...                0                0   \n",
       "1                      1  ...                0                0   \n",
       "2                      0  ...                0                0   \n",
       "3                      0  ...                0                0   \n",
       "4                      0  ...                0                0   \n",
       "\n",
       "   Crash_Year_2017  Crash_Year_2018  Crash_Year_2019  Crash_Year_2020  \\\n",
       "0                0                0                0                0   \n",
       "1                0                0                0                0   \n",
       "2                0                0                0                0   \n",
       "3                0                0                0                0   \n",
       "4                0                0                0                0   \n",
       "\n",
       "   Crash_Year_2021  Crash_Year_2022  Crash_Year_2023  Crash_Year_2024  \n",
       "0                0                0                1                0  \n",
       "1                0                0                1                0  \n",
       "2                0                0                1                0  \n",
       "3                0                0                1                0  \n",
       "4                0                0                1                0  \n",
       "\n",
       "[5 rows x 435 columns]"
      ]
     },
     "execution_count": 91,
     "metadata": {},
     "output_type": "execute_result"
    }
   ],
   "source": [
    "X.head()"
   ]
  },
  {
   "cell_type": "markdown",
   "id": "87a4ecd4",
   "metadata": {},
   "source": [
    "Split the dataset to train and test."
   ]
  },
  {
   "cell_type": "markdown",
   "id": "575bc357",
   "metadata": {},
   "source": [
    "# For KNN"
   ]
  },
  {
   "cell_type": "markdown",
   "id": "eeee85af",
   "metadata": {},
   "source": [
    "Note: I am taking 10% of the actual dataset to predict the KNN model, as the whole dataset was taking longer time for predicting the results (More than 2-3 hours). For the remaining models, I am using the whole dataset."
   ]
  },
  {
   "cell_type": "code",
   "execution_count": 92,
   "id": "4c35d339",
   "metadata": {},
   "outputs": [
    {
     "data": {
      "text/plain": [
       "(818781, 16)"
      ]
     },
     "execution_count": 92,
     "metadata": {},
     "output_type": "execute_result"
    }
   ],
   "source": [
    "df1.shape"
   ]
  },
  {
   "cell_type": "code",
   "execution_count": 93,
   "id": "3b7af865",
   "metadata": {},
   "outputs": [],
   "source": [
    "df_sample = df1.sample(frac=0.1)"
   ]
  },
  {
   "cell_type": "code",
   "execution_count": 94,
   "id": "f7cf0930",
   "metadata": {},
   "outputs": [
    {
     "data": {
      "text/plain": [
       "(81878, 16)"
      ]
     },
     "execution_count": 94,
     "metadata": {},
     "output_type": "execute_result"
    }
   ],
   "source": [
    "df_sample.shape"
   ]
  },
  {
   "cell_type": "code",
   "execution_count": 95,
   "id": "de9527f3",
   "metadata": {},
   "outputs": [],
   "source": [
    "X_sample = df_sample.drop('MOST_SEVERE_INJURY', axis = 1)\n",
    "y_sample = df_sample[['MOST_SEVERE_INJURY']]"
   ]
  },
  {
   "cell_type": "code",
   "execution_count": 96,
   "id": "8954881a",
   "metadata": {},
   "outputs": [
    {
     "data": {
      "text/plain": [
       "(81878, 15)"
      ]
     },
     "execution_count": 96,
     "metadata": {},
     "output_type": "execute_result"
    },
    {
     "data": {
      "text/plain": [
       "(81878, 1)"
      ]
     },
     "execution_count": 96,
     "metadata": {},
     "output_type": "execute_result"
    }
   ],
   "source": [
    "X_sample.shape\n",
    "y_sample.shape"
   ]
  },
  {
   "cell_type": "code",
   "execution_count": 97,
   "id": "23dd235f",
   "metadata": {},
   "outputs": [],
   "source": [
    "X_sample = pd.get_dummies(X_sample, drop_first = True)"
   ]
  },
  {
   "cell_type": "code",
   "execution_count": 98,
   "id": "300fd187",
   "metadata": {},
   "outputs": [
    {
     "data": {
      "text/plain": [
       "(81878, 435)"
      ]
     },
     "execution_count": 98,
     "metadata": {},
     "output_type": "execute_result"
    },
    {
     "data": {
      "text/plain": [
       "(81878, 1)"
      ]
     },
     "execution_count": 98,
     "metadata": {},
     "output_type": "execute_result"
    }
   ],
   "source": [
    "X_sample.shape\n",
    "y_sample.shape"
   ]
  },
  {
   "cell_type": "code",
   "execution_count": 99,
   "id": "142e14a8",
   "metadata": {},
   "outputs": [],
   "source": [
    "# Split the dataset into training vs. testing\n",
    "X_train_sample, X_test_sample, y_train_sample, y_test_sample = train_test_split(X_sample, y_sample, test_size=0.3, random_state=42)"
   ]
  },
  {
   "cell_type": "code",
   "execution_count": 100,
   "id": "eecaaf2b",
   "metadata": {},
   "outputs": [
    {
     "data": {
      "text/plain": [
       "(57314, 435)"
      ]
     },
     "execution_count": 100,
     "metadata": {},
     "output_type": "execute_result"
    },
    {
     "data": {
      "text/plain": [
       "(24564, 435)"
      ]
     },
     "execution_count": 100,
     "metadata": {},
     "output_type": "execute_result"
    }
   ],
   "source": [
    "X_train_sample.shape\n",
    "X_test_sample.shape"
   ]
  },
  {
   "cell_type": "code",
   "execution_count": 101,
   "id": "ad15ecf5",
   "metadata": {},
   "outputs": [
    {
     "data": {
      "text/plain": [
       "(57314, 1)"
      ]
     },
     "execution_count": 101,
     "metadata": {},
     "output_type": "execute_result"
    },
    {
     "data": {
      "text/plain": [
       "(24564, 1)"
      ]
     },
     "execution_count": 101,
     "metadata": {},
     "output_type": "execute_result"
    }
   ],
   "source": [
    "y_train_sample.shape\n",
    "y_test_sample.shape"
   ]
  },
  {
   "cell_type": "code",
   "execution_count": 102,
   "id": "277000f6",
   "metadata": {},
   "outputs": [],
   "source": [
    "from sklearn.neighbors import KNeighborsClassifier\n",
    "from sklearn.metrics import accuracy_score, classification_report, confusion_matrix"
   ]
  },
  {
   "cell_type": "code",
   "execution_count": 103,
   "id": "520e818f",
   "metadata": {},
   "outputs": [],
   "source": [
    "knn = KNeighborsClassifier(n_neighbors=5)"
   ]
  },
  {
   "cell_type": "code",
   "execution_count": 104,
   "id": "1eac7152",
   "metadata": {},
   "outputs": [
    {
     "name": "stderr",
     "output_type": "stream",
     "text": [
      "C:\\Users\\siris\\anaconda3\\lib\\site-packages\\sklearn\\neighbors\\_classification.py:238: DataConversionWarning: A column-vector y was passed when a 1d array was expected. Please change the shape of y to (n_samples,), for example using ravel().\n",
      "  return self._fit(X, y)\n"
     ]
    },
    {
     "data": {
      "text/html": [
       "<style>#sk-container-id-2 {\n",
       "  /* Definition of color scheme common for light and dark mode */\n",
       "  --sklearn-color-text: black;\n",
       "  --sklearn-color-line: gray;\n",
       "  /* Definition of color scheme for unfitted estimators */\n",
       "  --sklearn-color-unfitted-level-0: #fff5e6;\n",
       "  --sklearn-color-unfitted-level-1: #f6e4d2;\n",
       "  --sklearn-color-unfitted-level-2: #ffe0b3;\n",
       "  --sklearn-color-unfitted-level-3: chocolate;\n",
       "  /* Definition of color scheme for fitted estimators */\n",
       "  --sklearn-color-fitted-level-0: #f0f8ff;\n",
       "  --sklearn-color-fitted-level-1: #d4ebff;\n",
       "  --sklearn-color-fitted-level-2: #b3dbfd;\n",
       "  --sklearn-color-fitted-level-3: cornflowerblue;\n",
       "\n",
       "  /* Specific color for light theme */\n",
       "  --sklearn-color-text-on-default-background: var(--sg-text-color, var(--theme-code-foreground, var(--jp-content-font-color1, black)));\n",
       "  --sklearn-color-background: var(--sg-background-color, var(--theme-background, var(--jp-layout-color0, white)));\n",
       "  --sklearn-color-border-box: var(--sg-text-color, var(--theme-code-foreground, var(--jp-content-font-color1, black)));\n",
       "  --sklearn-color-icon: #696969;\n",
       "\n",
       "  @media (prefers-color-scheme: dark) {\n",
       "    /* Redefinition of color scheme for dark theme */\n",
       "    --sklearn-color-text-on-default-background: var(--sg-text-color, var(--theme-code-foreground, var(--jp-content-font-color1, white)));\n",
       "    --sklearn-color-background: var(--sg-background-color, var(--theme-background, var(--jp-layout-color0, #111)));\n",
       "    --sklearn-color-border-box: var(--sg-text-color, var(--theme-code-foreground, var(--jp-content-font-color1, white)));\n",
       "    --sklearn-color-icon: #878787;\n",
       "  }\n",
       "}\n",
       "\n",
       "#sk-container-id-2 {\n",
       "  color: var(--sklearn-color-text);\n",
       "}\n",
       "\n",
       "#sk-container-id-2 pre {\n",
       "  padding: 0;\n",
       "}\n",
       "\n",
       "#sk-container-id-2 input.sk-hidden--visually {\n",
       "  border: 0;\n",
       "  clip: rect(1px 1px 1px 1px);\n",
       "  clip: rect(1px, 1px, 1px, 1px);\n",
       "  height: 1px;\n",
       "  margin: -1px;\n",
       "  overflow: hidden;\n",
       "  padding: 0;\n",
       "  position: absolute;\n",
       "  width: 1px;\n",
       "}\n",
       "\n",
       "#sk-container-id-2 div.sk-dashed-wrapped {\n",
       "  border: 1px dashed var(--sklearn-color-line);\n",
       "  margin: 0 0.4em 0.5em 0.4em;\n",
       "  box-sizing: border-box;\n",
       "  padding-bottom: 0.4em;\n",
       "  background-color: var(--sklearn-color-background);\n",
       "}\n",
       "\n",
       "#sk-container-id-2 div.sk-container {\n",
       "  /* jupyter's `normalize.less` sets `[hidden] { display: none; }`\n",
       "     but bootstrap.min.css set `[hidden] { display: none !important; }`\n",
       "     so we also need the `!important` here to be able to override the\n",
       "     default hidden behavior on the sphinx rendered scikit-learn.org.\n",
       "     See: https://github.com/scikit-learn/scikit-learn/issues/21755 */\n",
       "  display: inline-block !important;\n",
       "  position: relative;\n",
       "}\n",
       "\n",
       "#sk-container-id-2 div.sk-text-repr-fallback {\n",
       "  display: none;\n",
       "}\n",
       "\n",
       "div.sk-parallel-item,\n",
       "div.sk-serial,\n",
       "div.sk-item {\n",
       "  /* draw centered vertical line to link estimators */\n",
       "  background-image: linear-gradient(var(--sklearn-color-text-on-default-background), var(--sklearn-color-text-on-default-background));\n",
       "  background-size: 2px 100%;\n",
       "  background-repeat: no-repeat;\n",
       "  background-position: center center;\n",
       "}\n",
       "\n",
       "/* Parallel-specific style estimator block */\n",
       "\n",
       "#sk-container-id-2 div.sk-parallel-item::after {\n",
       "  content: \"\";\n",
       "  width: 100%;\n",
       "  border-bottom: 2px solid var(--sklearn-color-text-on-default-background);\n",
       "  flex-grow: 1;\n",
       "}\n",
       "\n",
       "#sk-container-id-2 div.sk-parallel {\n",
       "  display: flex;\n",
       "  align-items: stretch;\n",
       "  justify-content: center;\n",
       "  background-color: var(--sklearn-color-background);\n",
       "  position: relative;\n",
       "}\n",
       "\n",
       "#sk-container-id-2 div.sk-parallel-item {\n",
       "  display: flex;\n",
       "  flex-direction: column;\n",
       "}\n",
       "\n",
       "#sk-container-id-2 div.sk-parallel-item:first-child::after {\n",
       "  align-self: flex-end;\n",
       "  width: 50%;\n",
       "}\n",
       "\n",
       "#sk-container-id-2 div.sk-parallel-item:last-child::after {\n",
       "  align-self: flex-start;\n",
       "  width: 50%;\n",
       "}\n",
       "\n",
       "#sk-container-id-2 div.sk-parallel-item:only-child::after {\n",
       "  width: 0;\n",
       "}\n",
       "\n",
       "/* Serial-specific style estimator block */\n",
       "\n",
       "#sk-container-id-2 div.sk-serial {\n",
       "  display: flex;\n",
       "  flex-direction: column;\n",
       "  align-items: center;\n",
       "  background-color: var(--sklearn-color-background);\n",
       "  padding-right: 1em;\n",
       "  padding-left: 1em;\n",
       "}\n",
       "\n",
       "\n",
       "/* Toggleable style: style used for estimator/Pipeline/ColumnTransformer box that is\n",
       "clickable and can be expanded/collapsed.\n",
       "- Pipeline and ColumnTransformer use this feature and define the default style\n",
       "- Estimators will overwrite some part of the style using the `sk-estimator` class\n",
       "*/\n",
       "\n",
       "/* Pipeline and ColumnTransformer style (default) */\n",
       "\n",
       "#sk-container-id-2 div.sk-toggleable {\n",
       "  /* Default theme specific background. It is overwritten whether we have a\n",
       "  specific estimator or a Pipeline/ColumnTransformer */\n",
       "  background-color: var(--sklearn-color-background);\n",
       "}\n",
       "\n",
       "/* Toggleable label */\n",
       "#sk-container-id-2 label.sk-toggleable__label {\n",
       "  cursor: pointer;\n",
       "  display: block;\n",
       "  width: 100%;\n",
       "  margin-bottom: 0;\n",
       "  padding: 0.5em;\n",
       "  box-sizing: border-box;\n",
       "  text-align: center;\n",
       "}\n",
       "\n",
       "#sk-container-id-2 label.sk-toggleable__label-arrow:before {\n",
       "  /* Arrow on the left of the label */\n",
       "  content: \"▸\";\n",
       "  float: left;\n",
       "  margin-right: 0.25em;\n",
       "  color: var(--sklearn-color-icon);\n",
       "}\n",
       "\n",
       "#sk-container-id-2 label.sk-toggleable__label-arrow:hover:before {\n",
       "  color: var(--sklearn-color-text);\n",
       "}\n",
       "\n",
       "/* Toggleable content - dropdown */\n",
       "\n",
       "#sk-container-id-2 div.sk-toggleable__content {\n",
       "  max-height: 0;\n",
       "  max-width: 0;\n",
       "  overflow: hidden;\n",
       "  text-align: left;\n",
       "  /* unfitted */\n",
       "  background-color: var(--sklearn-color-unfitted-level-0);\n",
       "}\n",
       "\n",
       "#sk-container-id-2 div.sk-toggleable__content.fitted {\n",
       "  /* fitted */\n",
       "  background-color: var(--sklearn-color-fitted-level-0);\n",
       "}\n",
       "\n",
       "#sk-container-id-2 div.sk-toggleable__content pre {\n",
       "  margin: 0.2em;\n",
       "  border-radius: 0.25em;\n",
       "  color: var(--sklearn-color-text);\n",
       "  /* unfitted */\n",
       "  background-color: var(--sklearn-color-unfitted-level-0);\n",
       "}\n",
       "\n",
       "#sk-container-id-2 div.sk-toggleable__content.fitted pre {\n",
       "  /* unfitted */\n",
       "  background-color: var(--sklearn-color-fitted-level-0);\n",
       "}\n",
       "\n",
       "#sk-container-id-2 input.sk-toggleable__control:checked~div.sk-toggleable__content {\n",
       "  /* Expand drop-down */\n",
       "  max-height: 200px;\n",
       "  max-width: 100%;\n",
       "  overflow: auto;\n",
       "}\n",
       "\n",
       "#sk-container-id-2 input.sk-toggleable__control:checked~label.sk-toggleable__label-arrow:before {\n",
       "  content: \"▾\";\n",
       "}\n",
       "\n",
       "/* Pipeline/ColumnTransformer-specific style */\n",
       "\n",
       "#sk-container-id-2 div.sk-label input.sk-toggleable__control:checked~label.sk-toggleable__label {\n",
       "  color: var(--sklearn-color-text);\n",
       "  background-color: var(--sklearn-color-unfitted-level-2);\n",
       "}\n",
       "\n",
       "#sk-container-id-2 div.sk-label.fitted input.sk-toggleable__control:checked~label.sk-toggleable__label {\n",
       "  background-color: var(--sklearn-color-fitted-level-2);\n",
       "}\n",
       "\n",
       "/* Estimator-specific style */\n",
       "\n",
       "/* Colorize estimator box */\n",
       "#sk-container-id-2 div.sk-estimator input.sk-toggleable__control:checked~label.sk-toggleable__label {\n",
       "  /* unfitted */\n",
       "  background-color: var(--sklearn-color-unfitted-level-2);\n",
       "}\n",
       "\n",
       "#sk-container-id-2 div.sk-estimator.fitted input.sk-toggleable__control:checked~label.sk-toggleable__label {\n",
       "  /* fitted */\n",
       "  background-color: var(--sklearn-color-fitted-level-2);\n",
       "}\n",
       "\n",
       "#sk-container-id-2 div.sk-label label.sk-toggleable__label,\n",
       "#sk-container-id-2 div.sk-label label {\n",
       "  /* The background is the default theme color */\n",
       "  color: var(--sklearn-color-text-on-default-background);\n",
       "}\n",
       "\n",
       "/* On hover, darken the color of the background */\n",
       "#sk-container-id-2 div.sk-label:hover label.sk-toggleable__label {\n",
       "  color: var(--sklearn-color-text);\n",
       "  background-color: var(--sklearn-color-unfitted-level-2);\n",
       "}\n",
       "\n",
       "/* Label box, darken color on hover, fitted */\n",
       "#sk-container-id-2 div.sk-label.fitted:hover label.sk-toggleable__label.fitted {\n",
       "  color: var(--sklearn-color-text);\n",
       "  background-color: var(--sklearn-color-fitted-level-2);\n",
       "}\n",
       "\n",
       "/* Estimator label */\n",
       "\n",
       "#sk-container-id-2 div.sk-label label {\n",
       "  font-family: monospace;\n",
       "  font-weight: bold;\n",
       "  display: inline-block;\n",
       "  line-height: 1.2em;\n",
       "}\n",
       "\n",
       "#sk-container-id-2 div.sk-label-container {\n",
       "  text-align: center;\n",
       "}\n",
       "\n",
       "/* Estimator-specific */\n",
       "#sk-container-id-2 div.sk-estimator {\n",
       "  font-family: monospace;\n",
       "  border: 1px dotted var(--sklearn-color-border-box);\n",
       "  border-radius: 0.25em;\n",
       "  box-sizing: border-box;\n",
       "  margin-bottom: 0.5em;\n",
       "  /* unfitted */\n",
       "  background-color: var(--sklearn-color-unfitted-level-0);\n",
       "}\n",
       "\n",
       "#sk-container-id-2 div.sk-estimator.fitted {\n",
       "  /* fitted */\n",
       "  background-color: var(--sklearn-color-fitted-level-0);\n",
       "}\n",
       "\n",
       "/* on hover */\n",
       "#sk-container-id-2 div.sk-estimator:hover {\n",
       "  /* unfitted */\n",
       "  background-color: var(--sklearn-color-unfitted-level-2);\n",
       "}\n",
       "\n",
       "#sk-container-id-2 div.sk-estimator.fitted:hover {\n",
       "  /* fitted */\n",
       "  background-color: var(--sklearn-color-fitted-level-2);\n",
       "}\n",
       "\n",
       "/* Specification for estimator info (e.g. \"i\" and \"?\") */\n",
       "\n",
       "/* Common style for \"i\" and \"?\" */\n",
       "\n",
       ".sk-estimator-doc-link,\n",
       "a:link.sk-estimator-doc-link,\n",
       "a:visited.sk-estimator-doc-link {\n",
       "  float: right;\n",
       "  font-size: smaller;\n",
       "  line-height: 1em;\n",
       "  font-family: monospace;\n",
       "  background-color: var(--sklearn-color-background);\n",
       "  border-radius: 1em;\n",
       "  height: 1em;\n",
       "  width: 1em;\n",
       "  text-decoration: none !important;\n",
       "  margin-left: 1ex;\n",
       "  /* unfitted */\n",
       "  border: var(--sklearn-color-unfitted-level-1) 1pt solid;\n",
       "  color: var(--sklearn-color-unfitted-level-1);\n",
       "}\n",
       "\n",
       ".sk-estimator-doc-link.fitted,\n",
       "a:link.sk-estimator-doc-link.fitted,\n",
       "a:visited.sk-estimator-doc-link.fitted {\n",
       "  /* fitted */\n",
       "  border: var(--sklearn-color-fitted-level-1) 1pt solid;\n",
       "  color: var(--sklearn-color-fitted-level-1);\n",
       "}\n",
       "\n",
       "/* On hover */\n",
       "div.sk-estimator:hover .sk-estimator-doc-link:hover,\n",
       ".sk-estimator-doc-link:hover,\n",
       "div.sk-label-container:hover .sk-estimator-doc-link:hover,\n",
       ".sk-estimator-doc-link:hover {\n",
       "  /* unfitted */\n",
       "  background-color: var(--sklearn-color-unfitted-level-3);\n",
       "  color: var(--sklearn-color-background);\n",
       "  text-decoration: none;\n",
       "}\n",
       "\n",
       "div.sk-estimator.fitted:hover .sk-estimator-doc-link.fitted:hover,\n",
       ".sk-estimator-doc-link.fitted:hover,\n",
       "div.sk-label-container:hover .sk-estimator-doc-link.fitted:hover,\n",
       ".sk-estimator-doc-link.fitted:hover {\n",
       "  /* fitted */\n",
       "  background-color: var(--sklearn-color-fitted-level-3);\n",
       "  color: var(--sklearn-color-background);\n",
       "  text-decoration: none;\n",
       "}\n",
       "\n",
       "/* Span, style for the box shown on hovering the info icon */\n",
       ".sk-estimator-doc-link span {\n",
       "  display: none;\n",
       "  z-index: 9999;\n",
       "  position: relative;\n",
       "  font-weight: normal;\n",
       "  right: .2ex;\n",
       "  padding: .5ex;\n",
       "  margin: .5ex;\n",
       "  width: min-content;\n",
       "  min-width: 20ex;\n",
       "  max-width: 50ex;\n",
       "  color: var(--sklearn-color-text);\n",
       "  box-shadow: 2pt 2pt 4pt #999;\n",
       "  /* unfitted */\n",
       "  background: var(--sklearn-color-unfitted-level-0);\n",
       "  border: .5pt solid var(--sklearn-color-unfitted-level-3);\n",
       "}\n",
       "\n",
       ".sk-estimator-doc-link.fitted span {\n",
       "  /* fitted */\n",
       "  background: var(--sklearn-color-fitted-level-0);\n",
       "  border: var(--sklearn-color-fitted-level-3);\n",
       "}\n",
       "\n",
       ".sk-estimator-doc-link:hover span {\n",
       "  display: block;\n",
       "}\n",
       "\n",
       "/* \"?\"-specific style due to the `<a>` HTML tag */\n",
       "\n",
       "#sk-container-id-2 a.estimator_doc_link {\n",
       "  float: right;\n",
       "  font-size: 1rem;\n",
       "  line-height: 1em;\n",
       "  font-family: monospace;\n",
       "  background-color: var(--sklearn-color-background);\n",
       "  border-radius: 1rem;\n",
       "  height: 1rem;\n",
       "  width: 1rem;\n",
       "  text-decoration: none;\n",
       "  /* unfitted */\n",
       "  color: var(--sklearn-color-unfitted-level-1);\n",
       "  border: var(--sklearn-color-unfitted-level-1) 1pt solid;\n",
       "}\n",
       "\n",
       "#sk-container-id-2 a.estimator_doc_link.fitted {\n",
       "  /* fitted */\n",
       "  border: var(--sklearn-color-fitted-level-1) 1pt solid;\n",
       "  color: var(--sklearn-color-fitted-level-1);\n",
       "}\n",
       "\n",
       "/* On hover */\n",
       "#sk-container-id-2 a.estimator_doc_link:hover {\n",
       "  /* unfitted */\n",
       "  background-color: var(--sklearn-color-unfitted-level-3);\n",
       "  color: var(--sklearn-color-background);\n",
       "  text-decoration: none;\n",
       "}\n",
       "\n",
       "#sk-container-id-2 a.estimator_doc_link.fitted:hover {\n",
       "  /* fitted */\n",
       "  background-color: var(--sklearn-color-fitted-level-3);\n",
       "}\n",
       "</style><div id=\"sk-container-id-2\" class=\"sk-top-container\"><div class=\"sk-text-repr-fallback\"><pre>KNeighborsClassifier()</pre><b>In a Jupyter environment, please rerun this cell to show the HTML representation or trust the notebook. <br />On GitHub, the HTML representation is unable to render, please try loading this page with nbviewer.org.</b></div><div class=\"sk-container\" hidden><div class=\"sk-item\"><div class=\"sk-estimator fitted sk-toggleable\"><input class=\"sk-toggleable__control sk-hidden--visually\" id=\"sk-estimator-id-2\" type=\"checkbox\" checked><label for=\"sk-estimator-id-2\" class=\"sk-toggleable__label fitted sk-toggleable__label-arrow fitted\">&nbsp;&nbsp;KNeighborsClassifier<a class=\"sk-estimator-doc-link fitted\" rel=\"noreferrer\" target=\"_blank\" href=\"https://scikit-learn.org/1.4/modules/generated/sklearn.neighbors.KNeighborsClassifier.html\">?<span>Documentation for KNeighborsClassifier</span></a><span class=\"sk-estimator-doc-link fitted\">i<span>Fitted</span></span></label><div class=\"sk-toggleable__content fitted\"><pre>KNeighborsClassifier()</pre></div> </div></div></div></div>"
      ],
      "text/plain": [
       "KNeighborsClassifier()"
      ]
     },
     "execution_count": 104,
     "metadata": {},
     "output_type": "execute_result"
    }
   ],
   "source": [
    "knn.fit(X_train_sample, y_train_sample)"
   ]
  },
  {
   "cell_type": "code",
   "execution_count": 105,
   "id": "34a6b7e4",
   "metadata": {},
   "outputs": [],
   "source": [
    "knn_pred = knn.predict(X_test_sample)"
   ]
  },
  {
   "cell_type": "code",
   "execution_count": 143,
   "id": "60f794d4",
   "metadata": {},
   "outputs": [
    {
     "name": "stdout",
     "output_type": "stream",
     "text": [
      "Confusion Matrix (Accuracy 0.8587)\n",
      "\n",
      "       Prediction\n",
      "Actual     0     1     2     3     4\n",
      "     0     0     0    21     0     0\n",
      "     1     0     4   370    20     1\n",
      "     2     0    19 21012   135    31\n",
      "     3     0     7  1770    72    12\n",
      "     4     0     3  1058    25     4\n"
     ]
    }
   ],
   "source": [
    "classificationSummary(y_test_sample, knn_pred)"
   ]
  },
  {
   "cell_type": "code",
   "execution_count": 153,
   "id": "bb5195a5",
   "metadata": {},
   "outputs": [],
   "source": [
    "knn_conf_matrix_multiclass = multilabel_confusion_matrix(y_test_sample, knn_pred,\n",
    "          labels=[\"NO INDICATION OF INJURY\", \"NONINCAPACITATING INJURY\", \"REPORTED, NOT EVIDENT\", \"INCAPACITATING INJURY\",\n",
    "                 \"FATAL\"])"
   ]
  },
  {
   "cell_type": "markdown",
   "id": "f779014c",
   "metadata": {},
   "source": [
    "- Class 0 : FATAL\n",
    "- Class 1 : INCAPACITATING INJURY\n",
    "- Class 2 : NO INDICATION OF INJURY\n",
    "- Class 3 : NONINCAPACITATING INJURY\n",
    "- Class 4 : REPORTED, NOT EVIDENT\n",
    "*** \n",
    "- Rows: Each row represents the actual class of MOST_SEVERE_INJURY categories\n",
    "- Columns: Each column represents the predicted class of MOST_SEVERE_INJURY categories\n",
    "- Values: The values in the table indicate the count of data points that fall into each combination of actual and predicted classes."
   ]
  },
  {
   "cell_type": "code",
   "execution_count": 146,
   "id": "d9c5b908",
   "metadata": {},
   "outputs": [],
   "source": [
    "labels=[\"NO INDICATION OF INJURY\", \"NONINCAPACITATING INJURY\", \"REPORTED, NOT EVIDENT\", \"INCAPACITATING INJURY\",\n",
    "                 \"FATAL\"]"
   ]
  },
  {
   "cell_type": "code",
   "execution_count": 170,
   "id": "7050c409",
   "metadata": {},
   "outputs": [],
   "source": [
    "def confusion_mat(multiclass_confusion_matrix):\n",
    "    for i, j in enumerate(multiclass_confusion_matrix):\n",
    "        print(labels[i])\n",
    "        print(j)\n",
    "        print('True Negative', multiclass_confusion_matrix[i][0,0])\n",
    "        print('True Positive', multiclass_confusion_matrix[i][1,1])\n",
    "        print('False Negative', multiclass_confusion_matrix[i][1,0])\n",
    "        print('False Positive', multiclass_confusion_matrix[i][0,1])\n",
    "        print('*******************************')"
   ]
  },
  {
   "cell_type": "code",
   "execution_count": 171,
   "id": "51e6071b",
   "metadata": {},
   "outputs": [
    {
     "name": "stdout",
     "output_type": "stream",
     "text": [
      "NO INDICATION OF INJURY\n",
      "[[  148  3219]\n",
      " [  185 21012]]\n",
      "True Negative 148\n",
      "True Positive 21012\n",
      "False Negative 185\n",
      "False Positive 3219\n",
      "*******************************\n",
      "NONINCAPACITATING INJURY\n",
      "[[22523   180]\n",
      " [ 1789    72]]\n",
      "True Negative 22523\n",
      "True Positive 72\n",
      "False Negative 1789\n",
      "False Positive 180\n",
      "*******************************\n",
      "REPORTED, NOT EVIDENT\n",
      "[[23430    44]\n",
      " [ 1086     4]]\n",
      "True Negative 23430\n",
      "True Positive 4\n",
      "False Negative 1086\n",
      "False Positive 44\n",
      "*******************************\n",
      "INCAPACITATING INJURY\n",
      "[[24140    29]\n",
      " [  391     4]]\n",
      "True Negative 24140\n",
      "True Positive 4\n",
      "False Negative 391\n",
      "False Positive 29\n",
      "*******************************\n",
      "FATAL\n",
      "[[24543     0]\n",
      " [   21     0]]\n",
      "True Negative 24543\n",
      "True Positive 0\n",
      "False Negative 21\n",
      "False Positive 0\n",
      "*******************************\n"
     ]
    }
   ],
   "source": [
    "confusion_mat(knn_conf_matrix_multiclass)"
   ]
  },
  {
   "cell_type": "markdown",
   "id": "2e56cb5c",
   "metadata": {},
   "source": [
    "The Accuracy of the KNN Model is 85.87%"
   ]
  },
  {
   "cell_type": "markdown",
   "id": "c489c8e4",
   "metadata": {},
   "source": [
    "# LDA, QDA and NB"
   ]
  },
  {
   "cell_type": "code",
   "execution_count": 145,
   "id": "f453862d",
   "metadata": {},
   "outputs": [],
   "source": [
    "# Split the dataset into training vs. testing\n",
    "X_train, X_test, y_train, y_test = train_test_split(X, y, test_size=0.3, random_state=42)"
   ]
  },
  {
   "cell_type": "code",
   "execution_count": 109,
   "id": "b5fa4524",
   "metadata": {},
   "outputs": [
    {
     "data": {
      "text/plain": [
       "(573146, 435)"
      ]
     },
     "execution_count": 109,
     "metadata": {},
     "output_type": "execute_result"
    },
    {
     "data": {
      "text/plain": [
       "(245635, 435)"
      ]
     },
     "execution_count": 109,
     "metadata": {},
     "output_type": "execute_result"
    }
   ],
   "source": [
    "X_train.shape\n",
    "X_test.shape"
   ]
  },
  {
   "cell_type": "code",
   "execution_count": 110,
   "id": "ce4639ad",
   "metadata": {},
   "outputs": [
    {
     "data": {
      "text/plain": [
       "(573146, 1)"
      ]
     },
     "execution_count": 110,
     "metadata": {},
     "output_type": "execute_result"
    },
    {
     "data": {
      "text/plain": [
       "(245635, 1)"
      ]
     },
     "execution_count": 110,
     "metadata": {},
     "output_type": "execute_result"
    }
   ],
   "source": [
    "y_train.shape\n",
    "y_test.shape"
   ]
  },
  {
   "cell_type": "markdown",
   "id": "a598b06b",
   "metadata": {},
   "source": [
    "10. Next we will fit different classifiers: KNN, LDA, QDA and NB."
   ]
  },
  {
   "cell_type": "markdown",
   "id": "b6aa0088",
   "metadata": {},
   "source": [
    "10.1 Import classifier modules"
   ]
  },
  {
   "cell_type": "code",
   "execution_count": 112,
   "id": "ed8dd572",
   "metadata": {},
   "outputs": [],
   "source": [
    "from sklearn.metrics import accuracy_score, classification_report, confusion_matrix\n",
    "from sklearn.discriminant_analysis import LinearDiscriminantAnalysis, QuadraticDiscriminantAnalysis\n",
    "from sklearn.naive_bayes import GaussianNB"
   ]
  },
  {
   "cell_type": "markdown",
   "id": "d797d284",
   "metadata": {},
   "source": [
    "10.2 Initiate the classifiers"
   ]
  },
  {
   "cell_type": "code",
   "execution_count": 113,
   "id": "1ecbdc26",
   "metadata": {},
   "outputs": [],
   "source": [
    "# Initialize the model\n",
    "lda = LinearDiscriminantAnalysis()\n",
    "qda = QuadraticDiscriminantAnalysis()\n",
    "gnb = GaussianNB()"
   ]
  },
  {
   "cell_type": "markdown",
   "id": "05bef565",
   "metadata": {},
   "source": [
    "10.3 Fit the KNN using the training dataset and get the accuracy score and confusion matrix for the test dataset.<br>\n",
    "NOTE: It will take <b>a long time</b> (more than 30 minutes on my computer) to run the prediction. You may want to leave the program run and come back later for the results.\n",
    "\n",
    "How to read the confusion matrix?"
   ]
  },
  {
   "cell_type": "code",
   "execution_count": 114,
   "id": "b67a7a7a",
   "metadata": {},
   "outputs": [],
   "source": [
    "# knn_res = knn.fit(X_train,y_train)\n",
    "# knn_pred = knn_res.predict(X_test)\n",
    "# knn_accuracy = accuracy_score(y_test, knn_pred)\n",
    "# knn_conf_matrix = confusion_matrix(y_test, knn_pred)\n",
    "# print('Accuracy:',knn_accuracy,'\\n')\n",
    "# print(\"-------------Confusion Matrix-------------\")\n",
    "# print(knn_conf_matrix)"
   ]
  },
  {
   "cell_type": "code",
   "execution_count": 115,
   "id": "e5a0f17f",
   "metadata": {},
   "outputs": [],
   "source": [
    "# knn_conf_matrix_multiclass = multilabel_confusion_matrix(y_test, knn_pred, labels=[\"NO INDICATION OF INJURY\", \"NONINCAPACITATING INJURY\", \"REPORTED, NOT EVIDENT\", \"INCAPACITATING INJURY\", \"FATAL\"])\n",
    "# knn_conf_matrix_multiclass"
   ]
  },
  {
   "cell_type": "markdown",
   "id": "cb773283",
   "metadata": {},
   "source": [
    "10.4. Repeat for LDA."
   ]
  },
  {
   "cell_type": "code",
   "execution_count": 138,
   "id": "2f0d8310",
   "metadata": {},
   "outputs": [
    {
     "name": "stderr",
     "output_type": "stream",
     "text": [
      "C:\\Users\\siris\\anaconda3\\lib\\site-packages\\sklearn\\utils\\validation.py:1300: DataConversionWarning: A column-vector y was passed when a 1d array was expected. Please change the shape of y to (n_samples, ), for example using ravel().\n",
      "  y = column_or_1d(y, warn=True)\n"
     ]
    },
    {
     "name": "stdout",
     "output_type": "stream",
     "text": [
      "Confusion Matrix (Accuracy 0.8650)\n",
      "\n",
      "       Prediction\n",
      "Actual      0      1      2      3      4\n",
      "     0     11     48    187     10      0\n",
      "     1     51    974   2784    371      0\n",
      "     2    187    677 209666   1207      0\n",
      "     3    152   2942  14190   1826      0\n",
      "     4     31    924   8980    417      0\n"
     ]
    }
   ],
   "source": [
    "lda_res = lda.fit(X_train,y_train)\n",
    "lda_pred = lda_res.predict(X_test)\n",
    "classificationSummary(y_test, lda_pred)"
   ]
  },
  {
   "cell_type": "code",
   "execution_count": 173,
   "id": "af334bfb",
   "metadata": {},
   "outputs": [],
   "source": [
    "lda_conf_matrix_multiclass = multilabel_confusion_matrix(y_test, lda_pred,\n",
    "          labels=[\"NO INDICATION OF INJURY\", \"NONINCAPACITATING INJURY\", \"REPORTED, NOT EVIDENT\", \"INCAPACITATING INJURY\",\n",
    "                 \"FATAL\"])"
   ]
  },
  {
   "cell_type": "code",
   "execution_count": 172,
   "id": "44560a30",
   "metadata": {},
   "outputs": [
    {
     "name": "stdout",
     "output_type": "stream",
     "text": [
      "NO INDICATION OF INJURY\n",
      "[[  7757  26141]\n",
      " [  2071 209666]]\n",
      "True Negative 7757\n",
      "True Positive 209666\n",
      "False Negative 2071\n",
      "False Positive 26141\n",
      "*******************************\n",
      "NONINCAPACITATING INJURY\n",
      "[[224520   2005]\n",
      " [ 17284   1826]]\n",
      "True Negative 224520\n",
      "True Positive 1826\n",
      "False Negative 17284\n",
      "False Positive 2005\n",
      "*******************************\n",
      "REPORTED, NOT EVIDENT\n",
      "[[235283      0]\n",
      " [ 10352      0]]\n",
      "True Negative 235283\n",
      "True Positive 0\n",
      "False Negative 10352\n",
      "False Positive 0\n",
      "*******************************\n",
      "INCAPACITATING INJURY\n",
      "[[236864   4591]\n",
      " [  3206    974]]\n",
      "True Negative 236864\n",
      "True Positive 974\n",
      "False Negative 3206\n",
      "False Positive 4591\n",
      "*******************************\n",
      "FATAL\n",
      "[[244958    421]\n",
      " [   245     11]]\n",
      "True Negative 244958\n",
      "True Positive 11\n",
      "False Negative 245\n",
      "False Positive 421\n",
      "*******************************\n"
     ]
    }
   ],
   "source": [
    "confusion_mat(lda_conf_matrix_multiclass)"
   ]
  },
  {
   "cell_type": "markdown",
   "id": "8ad9e98e",
   "metadata": {},
   "source": [
    "The Accuracy of the LDA Model is 86.50%"
   ]
  },
  {
   "cell_type": "markdown",
   "id": "e05aee06",
   "metadata": {},
   "source": [
    "10.5 Repeat for QDA. What is your observation?"
   ]
  },
  {
   "cell_type": "code",
   "execution_count": 137,
   "id": "f6dc55fb",
   "metadata": {},
   "outputs": [
    {
     "name": "stderr",
     "output_type": "stream",
     "text": [
      "C:\\Users\\siris\\anaconda3\\lib\\site-packages\\sklearn\\utils\\validation.py:1300: DataConversionWarning: A column-vector y was passed when a 1d array was expected. Please change the shape of y to (n_samples, ), for example using ravel().\n",
      "  y = column_or_1d(y, warn=True)\n",
      "C:\\Users\\siris\\anaconda3\\lib\\site-packages\\sklearn\\discriminant_analysis.py:935: UserWarning: Variables are collinear\n",
      "  warnings.warn(\"Variables are collinear\")\n"
     ]
    },
    {
     "name": "stdout",
     "output_type": "stream",
     "text": [
      "Confusion Matrix (Accuracy 0.0316)\n",
      "\n",
      "       Prediction\n",
      "Actual      0      1      2      3      4\n",
      "     0    219      7      2      6     22\n",
      "     1   3463    132     51     89    445\n",
      "     2 172210   5345   5764   3699  24719\n",
      "     3  15795    570    210    437   2098\n",
      "     4   8534    275    123    204   1216\n"
     ]
    }
   ],
   "source": [
    "qda_res = qda.fit(X_train,y_train)\n",
    "qda_pred = qda_res.predict(X_test)\n",
    "classificationSummary(y_test, qda_pred)"
   ]
  },
  {
   "cell_type": "code",
   "execution_count": 174,
   "id": "23f97e47",
   "metadata": {},
   "outputs": [],
   "source": [
    "qda_conf_matrix_multiclass = multilabel_confusion_matrix(y_test, qda_pred,\n",
    "          labels=[\"NO INDICATION OF INJURY\", \"NONINCAPACITATING INJURY\", \"REPORTED, NOT EVIDENT\", \"INCAPACITATING INJURY\",\n",
    "                 \"FATAL\"])"
   ]
  },
  {
   "cell_type": "code",
   "execution_count": 175,
   "id": "c9a50781",
   "metadata": {},
   "outputs": [
    {
     "name": "stdout",
     "output_type": "stream",
     "text": [
      "NO INDICATION OF INJURY\n",
      "[[ 33512    386]\n",
      " [205973   5764]]\n",
      "True Negative 33512\n",
      "True Positive 5764\n",
      "False Negative 205973\n",
      "False Positive 386\n",
      "*******************************\n",
      "NONINCAPACITATING INJURY\n",
      "[[222527   3998]\n",
      " [ 18673    437]]\n",
      "True Negative 222527\n",
      "True Positive 437\n",
      "False Negative 18673\n",
      "False Positive 3998\n",
      "*******************************\n",
      "REPORTED, NOT EVIDENT\n",
      "[[207999  27284]\n",
      " [  9136   1216]]\n",
      "True Negative 207999\n",
      "True Positive 1216\n",
      "False Negative 9136\n",
      "False Positive 27284\n",
      "*******************************\n",
      "INCAPACITATING INJURY\n",
      "[[235258   6197]\n",
      " [  4048    132]]\n",
      "True Negative 235258\n",
      "True Positive 132\n",
      "False Negative 4048\n",
      "False Positive 6197\n",
      "*******************************\n",
      "FATAL\n",
      "[[ 45377 200002]\n",
      " [    37    219]]\n",
      "True Negative 45377\n",
      "True Positive 219\n",
      "False Negative 37\n",
      "False Positive 200002\n",
      "*******************************\n"
     ]
    }
   ],
   "source": [
    "confusion_mat(qda_conf_matrix_multiclass)"
   ]
  },
  {
   "cell_type": "markdown",
   "id": "c655c7bb",
   "metadata": {},
   "source": [
    "The Accuracy of the LDA Model is 3.16%"
   ]
  },
  {
   "cell_type": "markdown",
   "id": "0c3ab59c",
   "metadata": {},
   "source": [
    "10.6 Repeat for Naive Bayes. What is your observation?"
   ]
  },
  {
   "cell_type": "code",
   "execution_count": 140,
   "id": "38c0e154",
   "metadata": {},
   "outputs": [
    {
     "name": "stderr",
     "output_type": "stream",
     "text": [
      "C:\\Users\\siris\\anaconda3\\lib\\site-packages\\sklearn\\utils\\validation.py:1300: DataConversionWarning: A column-vector y was passed when a 1d array was expected. Please change the shape of y to (n_samples, ), for example using ravel().\n",
      "  y = column_or_1d(y, warn=True)\n"
     ]
    },
    {
     "name": "stdout",
     "output_type": "stream",
     "text": [
      "Confusion Matrix (Accuracy 0.0561)\n",
      "\n",
      "       Prediction\n",
      "Actual      0      1      2      3      4\n",
      "     0    220     21      2      7      6\n",
      "     1   3471    371     63    121    154\n",
      "     2 173733  13522  12167   3813   8502\n",
      "     3  15841   1681    288    525    775\n",
      "     4   8566    788    239    252    507\n"
     ]
    }
   ],
   "source": [
    "gnb_res = gnb.fit(X_train,y_train)\n",
    "gnb_pred = gnb_res.predict(X_test)\n",
    "classificationSummary(y_test, gnb_pred)"
   ]
  },
  {
   "cell_type": "code",
   "execution_count": 176,
   "id": "d97c3902",
   "metadata": {},
   "outputs": [],
   "source": [
    "gnb_conf_matrix_multiclass = multilabel_confusion_matrix(y_test, gnb_pred,\n",
    "          labels=[\"NO INDICATION OF INJURY\", \"NONINCAPACITATING INJURY\", \"REPORTED, NOT EVIDENT\", \"INCAPACITATING INJURY\",\n",
    "                 \"FATAL\"])"
   ]
  },
  {
   "cell_type": "code",
   "execution_count": 177,
   "id": "7cd82b99",
   "metadata": {},
   "outputs": [
    {
     "name": "stdout",
     "output_type": "stream",
     "text": [
      "NO INDICATION OF INJURY\n",
      "[[ 33306    592]\n",
      " [199570  12167]]\n",
      "True Negative 33306\n",
      "True Positive 12167\n",
      "False Negative 199570\n",
      "False Positive 592\n",
      "*******************************\n",
      "NONINCAPACITATING INJURY\n",
      "[[222332   4193]\n",
      " [ 18585    525]]\n",
      "True Negative 222332\n",
      "True Positive 525\n",
      "False Negative 18585\n",
      "False Positive 4193\n",
      "*******************************\n",
      "REPORTED, NOT EVIDENT\n",
      "[[225846   9437]\n",
      " [  9845    507]]\n",
      "True Negative 225846\n",
      "True Positive 507\n",
      "False Negative 9845\n",
      "False Positive 9437\n",
      "*******************************\n",
      "INCAPACITATING INJURY\n",
      "[[225443  16012]\n",
      " [  3809    371]]\n",
      "True Negative 225443\n",
      "True Positive 371\n",
      "False Negative 3809\n",
      "False Positive 16012\n",
      "*******************************\n",
      "FATAL\n",
      "[[ 43768 201611]\n",
      " [    36    220]]\n",
      "True Negative 43768\n",
      "True Positive 220\n",
      "False Negative 36\n",
      "False Positive 201611\n",
      "*******************************\n"
     ]
    }
   ],
   "source": [
    "confusion_mat(gnb_conf_matrix_multiclass)"
   ]
  },
  {
   "cell_type": "markdown",
   "id": "071977c1",
   "metadata": {},
   "source": [
    "The Accuracy of the Naive Bayes Model is 5.61%"
   ]
  },
  {
   "cell_type": "code",
   "execution_count": null,
   "id": "63101801",
   "metadata": {},
   "outputs": [],
   "source": []
  }
 ],
 "metadata": {
  "kernelspec": {
   "display_name": "Python 3 (ipykernel)",
   "language": "python",
   "name": "python3"
  },
  "language_info": {
   "codemirror_mode": {
    "name": "ipython",
    "version": 3
   },
   "file_extension": ".py",
   "mimetype": "text/x-python",
   "name": "python",
   "nbconvert_exporter": "python",
   "pygments_lexer": "ipython3",
   "version": "3.10.9"
  }
 },
 "nbformat": 4,
 "nbformat_minor": 5
}
