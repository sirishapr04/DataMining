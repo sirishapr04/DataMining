{
 "cells": [
  {
   "cell_type": "markdown",
   "id": "7108d478",
   "metadata": {},
   "source": [
    "<p style=\"font-family: Arial; font-size:2.5em;color:green; font-style:bold\"><br>\n",
    "DSCI5240 Exam 1 Spring 2024\n",
    "</p><br>"
   ]
  },
  {
   "cell_type": "code",
   "execution_count": 2,
   "id": "bdf76d52",
   "metadata": {},
   "outputs": [],
   "source": [
    "# This code appears in every demonstration Notebook.\n",
    "# By default, when you run each cell, only the last output of the codes will show.\n",
    "# This code makes all outputs of a cell show.\n",
    "from IPython.core.interactiveshell import InteractiveShell\n",
    "InteractiveShell.ast_node_interactivity = \"all\""
   ]
  },
  {
   "cell_type": "markdown",
   "id": "ac71c155",
   "metadata": {},
   "source": [
    "Import the libraries and the dataset"
   ]
  },
  {
   "cell_type": "code",
   "execution_count": 3,
   "id": "1a6afeaa",
   "metadata": {},
   "outputs": [],
   "source": [
    "import pandas as pd\n",
    "churn = pd.read_csv('TelcoChurn.csv')"
   ]
  },
  {
   "cell_type": "markdown",
   "id": "9c370c37",
   "metadata": {},
   "source": [
    "1) Display basic information about the dataset."
   ]
  },
  {
   "cell_type": "code",
   "execution_count": 4,
   "id": "2b453ba3",
   "metadata": {},
   "outputs": [
    {
     "name": "stdout",
     "output_type": "stream",
     "text": [
      "<class 'pandas.core.frame.DataFrame'>\n",
      "RangeIndex: 7043 entries, 0 to 7042\n",
      "Data columns (total 21 columns):\n",
      " #   Column            Non-Null Count  Dtype  \n",
      "---  ------            --------------  -----  \n",
      " 0   customerID        7043 non-null   object \n",
      " 1   gender            7043 non-null   object \n",
      " 2   SeniorCitizen     7043 non-null   int64  \n",
      " 3   Partner           7043 non-null   object \n",
      " 4   Dependents        7043 non-null   object \n",
      " 5   tenure            7043 non-null   int64  \n",
      " 6   PhoneService      7043 non-null   object \n",
      " 7   MultipleLines     7043 non-null   object \n",
      " 8   InternetService   7043 non-null   object \n",
      " 9   OnlineSecurity    7043 non-null   object \n",
      " 10  OnlineBackup      7043 non-null   object \n",
      " 11  DeviceProtection  7043 non-null   object \n",
      " 12  TechSupport       7043 non-null   object \n",
      " 13  StreamingTV       7043 non-null   object \n",
      " 14  StreamingMovies   7043 non-null   object \n",
      " 15  Contract          7043 non-null   object \n",
      " 16  PaperlessBilling  7043 non-null   object \n",
      " 17  PaymentMethod     7043 non-null   object \n",
      " 18  MonthlyCharges    7043 non-null   float64\n",
      " 19  TotalCharges      7043 non-null   object \n",
      " 20  Churn             7043 non-null   object \n",
      "dtypes: float64(1), int64(2), object(18)\n",
      "memory usage: 1.1+ MB\n"
     ]
    }
   ],
   "source": [
    "churn.info()"
   ]
  },
  {
   "cell_type": "markdown",
   "id": "fc7194fe",
   "metadata": {},
   "source": [
    "2). Explore the variable 'churn' with a graph."
   ]
  },
  {
   "cell_type": "code",
   "execution_count": 5,
   "id": "157227f8",
   "metadata": {
    "scrolled": false
   },
   "outputs": [
    {
     "data": {
      "text/plain": [
       "<AxesSubplot:>"
      ]
     },
     "execution_count": 5,
     "metadata": {},
     "output_type": "execute_result"
    },
    {
     "data": {
      "image/png": "[encoded data removed]",
      "text/plain": [
       "<Figure size 432x288 with 1 Axes>"
      ]
     },
     "metadata": {
      "needs_background": "light"
     },
     "output_type": "display_data"
    }
   ],
   "source": [
    "churn['Churn'].value_counts().plot(kind = 'bar')"
   ]
  },
  {
   "cell_type": "markdown",
   "id": "d5a99249",
   "metadata": {},
   "source": [
    "3). We will run a logistic regression model that predicts 'Churn'. Prepare the data. Hint: consider using patsy as we have done in class practice."
   ]
  },
  {
   "cell_type": "markdown",
   "id": "5067791e",
   "metadata": {},
   "source": [
    "Use the following variables:\n",
    "'gender', 'SeniorCitizen', 'Partner', 'Dependents',\n",
    "       'tenure', 'MultipleLines', 'InternetService',\n",
    "      'MonthlyCharges'"
   ]
  },
  {
   "cell_type": "code",
   "execution_count": 6,
   "id": "6f0795f3",
   "metadata": {},
   "outputs": [],
   "source": [
    "import patsy\n",
    "\n",
    "y, X = patsy.dmatrices('Churn ~ gender + SeniorCitizen + Partner + Dependents\\\n",
    "                       + tenure + MultipleLines + InternetService + MonthlyCharges',\n",
    "                      data = churn,\n",
    "                      return_type = 'dataframe')"
   ]
  },
  {
   "cell_type": "code",
   "execution_count": 7,
   "id": "f3910fa2",
   "metadata": {},
   "outputs": [
    {
     "name": "stdout",
     "output_type": "stream",
     "text": [
      "<class 'pandas.core.frame.DataFrame'>\n",
      "Int64Index: 7043 entries, 0 to 7042\n",
      "Data columns (total 2 columns):\n",
      " #   Column      Non-Null Count  Dtype  \n",
      "---  ------      --------------  -----  \n",
      " 0   Churn[No]   7043 non-null   float64\n",
      " 1   Churn[Yes]  7043 non-null   float64\n",
      "dtypes: float64(2)\n",
      "memory usage: 165.1 KB\n"
     ]
    }
   ],
   "source": [
    "y.info()"
   ]
  },
  {
   "cell_type": "markdown",
   "id": "a598b06b",
   "metadata": {},
   "source": [
    "4). Fit the model. Hint: make sure you check y to include the correct dependent variable."
   ]
  },
  {
   "cell_type": "code",
   "execution_count": 8,
   "id": "ed8dd572",
   "metadata": {},
   "outputs": [
    {
     "name": "stdout",
     "output_type": "stream",
     "text": [
      "Optimization terminated successfully.\n",
      "         Current function value: 0.434579\n",
      "         Iterations 7\n"
     ]
    },
    {
     "data": {
      "text/html": [
       "<table class=\"simpletable\">\n",
       "<caption>Logit Regression Results</caption>\n",
       "<tr>\n",
       "  <th>Dep. Variable:</th>      <td>Churn[Yes]</td>    <th>  No. Observations:  </th>  <td>  7043</td> \n",
       "</tr>\n",
       "<tr>\n",
       "  <th>Model:</th>                 <td>Logit</td>      <th>  Df Residuals:      </th>  <td>  7032</td> \n",
       "</tr>\n",
       "<tr>\n",
       "  <th>Method:</th>                 <td>MLE</td>       <th>  Df Model:          </th>  <td>    10</td> \n",
       "</tr>\n",
       "<tr>\n",
       "  <th>Date:</th>            <td>Mon, 25 Mar 2024</td> <th>  Pseudo R-squ.:     </th>  <td>0.2489</td> \n",
       "</tr>\n",
       "<tr>\n",
       "  <th>Time:</th>                <td>13:51:15</td>     <th>  Log-Likelihood:    </th> <td> -3060.7</td>\n",
       "</tr>\n",
       "<tr>\n",
       "  <th>converged:</th>             <td>True</td>       <th>  LL-Null:           </th> <td> -4075.1</td>\n",
       "</tr>\n",
       "<tr>\n",
       "  <th>Covariance Type:</th>     <td>nonrobust</td>    <th>  LLR p-value:       </th>  <td> 0.000</td> \n",
       "</tr>\n",
       "</table>\n",
       "<table class=\"simpletable\">\n",
       "<tr>\n",
       "                  <td></td>                     <th>coef</th>     <th>std err</th>      <th>z</th>      <th>P>|z|</th>  <th>[0.025</th>    <th>0.975]</th>  \n",
       "</tr>\n",
       "<tr>\n",
       "  <th>Intercept</th>                         <td>   -0.6763</td> <td>    0.204</td> <td>   -3.318</td> <td> 0.001</td> <td>   -1.076</td> <td>   -0.277</td>\n",
       "</tr>\n",
       "<tr>\n",
       "  <th>gender[T.Male]</th>                    <td>   -0.0041</td> <td>    0.064</td> <td>   -0.064</td> <td> 0.949</td> <td>   -0.129</td> <td>    0.120</td>\n",
       "</tr>\n",
       "<tr>\n",
       "  <th>Partner[T.Yes]</th>                    <td>    0.0135</td> <td>    0.076</td> <td>    0.178</td> <td> 0.859</td> <td>   -0.135</td> <td>    0.162</td>\n",
       "</tr>\n",
       "<tr>\n",
       "  <th>Dependents[T.Yes]</th>                 <td>   -0.3004</td> <td>    0.087</td> <td>   -3.447</td> <td> 0.001</td> <td>   -0.471</td> <td>   -0.130</td>\n",
       "</tr>\n",
       "<tr>\n",
       "  <th>MultipleLines[T.No phone service]</th> <td>    0.6968</td> <td>    0.139</td> <td>    4.998</td> <td> 0.000</td> <td>    0.424</td> <td>    0.970</td>\n",
       "</tr>\n",
       "<tr>\n",
       "  <th>MultipleLines[T.Yes]</th>              <td>    0.3978</td> <td>    0.079</td> <td>    5.023</td> <td> 0.000</td> <td>    0.243</td> <td>    0.553</td>\n",
       "</tr>\n",
       "<tr>\n",
       "  <th>InternetService[T.Fiber optic]</th>    <td>    1.2820</td> <td>    0.125</td> <td>   10.228</td> <td> 0.000</td> <td>    1.036</td> <td>    1.528</td>\n",
       "</tr>\n",
       "<tr>\n",
       "  <th>InternetService[T.No]</th>             <td>   -0.8749</td> <td>    0.177</td> <td>   -4.932</td> <td> 0.000</td> <td>   -1.223</td> <td>   -0.527</td>\n",
       "</tr>\n",
       "<tr>\n",
       "  <th>SeniorCitizen</th>                     <td>    0.4008</td> <td>    0.083</td> <td>    4.832</td> <td> 0.000</td> <td>    0.238</td> <td>    0.563</td>\n",
       "</tr>\n",
       "<tr>\n",
       "  <th>tenure</th>                            <td>   -0.0495</td> <td>    0.002</td> <td>  -24.765</td> <td> 0.000</td> <td>   -0.053</td> <td>   -0.046</td>\n",
       "</tr>\n",
       "<tr>\n",
       "  <th>MonthlyCharges</th>                    <td>    0.0030</td> <td>    0.004</td> <td>    0.844</td> <td> 0.398</td> <td>   -0.004</td> <td>    0.010</td>\n",
       "</tr>\n",
       "</table>"
      ],
      "text/plain": [
       "<class 'statsmodels.iolib.summary.Summary'>\n",
       "\"\"\"\n",
       "                           Logit Regression Results                           \n",
       "==============================================================================\n",
       "Dep. Variable:             Churn[Yes]   No. Observations:                 7043\n",
       "Model:                          Logit   Df Residuals:                     7032\n",
       "Method:                           MLE   Df Model:                           10\n",
       "Date:                Mon, 25 Mar 2024   Pseudo R-squ.:                  0.2489\n",
       "Time:                        13:51:15   Log-Likelihood:                -3060.7\n",
       "converged:                       True   LL-Null:                       -4075.1\n",
       "Covariance Type:            nonrobust   LLR p-value:                     0.000\n",
       "=====================================================================================================\n",
       "                                        coef    std err          z      P>|z|      [0.025      0.975]\n",
       "-----------------------------------------------------------------------------------------------------\n",
       "Intercept                            -0.6763      0.204     -3.318      0.001      -1.076      -0.277\n",
       "gender[T.Male]                       -0.0041      0.064     -0.064      0.949      -0.129       0.120\n",
       "Partner[T.Yes]                        0.0135      0.076      0.178      0.859      -0.135       0.162\n",
       "Dependents[T.Yes]                    -0.3004      0.087     -3.447      0.001      -0.471      -0.130\n",
       "MultipleLines[T.No phone service]     0.6968      0.139      4.998      0.000       0.424       0.970\n",
       "MultipleLines[T.Yes]                  0.3978      0.079      5.023      0.000       0.243       0.553\n",
       "InternetService[T.Fiber optic]        1.2820      0.125     10.228      0.000       1.036       1.528\n",
       "InternetService[T.No]                -0.8749      0.177     -4.932      0.000      -1.223      -0.527\n",
       "SeniorCitizen                         0.4008      0.083      4.832      0.000       0.238       0.563\n",
       "tenure                               -0.0495      0.002    -24.765      0.000      -0.053      -0.046\n",
       "MonthlyCharges                        0.0030      0.004      0.844      0.398      -0.004       0.010\n",
       "=====================================================================================================\n",
       "\"\"\""
      ]
     },
     "execution_count": 8,
     "metadata": {},
     "output_type": "execute_result"
    }
   ],
   "source": [
    "import statsmodels.api as sm\n",
    "logit_model_1 = sm.Logit(y['Churn[Yes]'], X)\n",
    "logit_res_1 =  logit_model_1.fit()\n",
    "logit_res_1.summary()"
   ]
  },
  {
   "cell_type": "markdown",
   "id": "05bef565",
   "metadata": {},
   "source": [
    "5). Make the predictions for probabilities and classify (using 0.5 cut-off)."
   ]
  },
  {
   "cell_type": "code",
   "execution_count": 7,
   "id": "b67a7a7a",
   "metadata": {},
   "outputs": [],
   "source": [
    "# Make predictions for the dataset\n",
    "predicted_p = logit_res_1.predict(X)"
   ]
  },
  {
   "cell_type": "code",
   "execution_count": 8,
   "id": "3020e407",
   "metadata": {},
   "outputs": [
    {
     "data": {
      "text/plain": [
       "0    1\n",
       "1    0\n",
       "2    0\n",
       "3    0\n",
       "4    1\n",
       "dtype: int32"
      ]
     },
     "execution_count": 8,
     "metadata": {},
     "output_type": "execute_result"
    }
   ],
   "source": [
    "# Classification\n",
    "predicted_classes = (predicted_p >= 0.5).astype(int)\n",
    "predicted_classes[:5]"
   ]
  },
  {
   "cell_type": "markdown",
   "id": "114d6c76",
   "metadata": {},
   "source": [
    "6). Calculate the accuracy rate."
   ]
  },
  {
   "cell_type": "code",
   "execution_count": 9,
   "id": "2f0d8310",
   "metadata": {},
   "outputs": [
    {
     "name": "stdout",
     "output_type": "stream",
     "text": [
      "0.7959676274314923\n"
     ]
    }
   ],
   "source": [
    "from sklearn.metrics import accuracy_score\n",
    "\n",
    "accuracy = accuracy_score(y['Churn[Yes]'], predicted_classes)\n",
    "print(accuracy)"
   ]
  },
  {
   "cell_type": "code",
   "execution_count": null,
   "id": "ffc884bd",
   "metadata": {},
   "outputs": [],
   "source": []
  },
  {
   "cell_type": "code",
   "execution_count": null,
   "id": "a5248595",
   "metadata": {},
   "outputs": [],
   "source": []
  },
  {
   "cell_type": "code",
   "execution_count": null,
   "id": "9a454e4c",
   "metadata": {},
   "outputs": [],
   "source": []
  },
  {
   "cell_type": "code",
   "execution_count": null,
   "id": "1745885b",
   "metadata": {},
   "outputs": [],
   "source": []
  },
  {
   "cell_type": "code",
   "execution_count": null,
   "id": "897f6e8e",
   "metadata": {},
   "outputs": [],
   "source": []
  },
  {
   "cell_type": "markdown",
   "id": "4abaabd9",
   "metadata": {},
   "source": [
    "7) Create the confusion matrix"
   ]
  },
  {
   "cell_type": "code",
   "execution_count": 10,
   "id": "1766d0b8",
   "metadata": {},
   "outputs": [
    {
     "data": {
      "text/plain": [
       "array([[4678,  496],\n",
       "       [ 941,  928]], dtype=int64)"
      ]
     },
     "execution_count": 10,
     "metadata": {},
     "output_type": "execute_result"
    }
   ],
   "source": [
    "from sklearn.metrics import confusion_matrix\n",
    "confusion_matrix(y['Churn[Yes]'], predicted_classes)\n",
    "#         # Predicted\n",
    "        # TN FP\n",
    "# Actual\n",
    "        # FN TP"
   ]
  },
  {
   "cell_type": "code",
   "execution_count": 22,
   "id": "58c2630a",
   "metadata": {},
   "outputs": [
    {
     "name": "stdout",
     "output_type": "stream",
     "text": [
      "0.49652220438737293 0.904136064940085\n"
     ]
    }
   ],
   "source": [
    "# The proportion of all positives that are correctly classified\n",
    "sensitivity = 928/(941 + 928)\n",
    "specificity = 4678/(4678 + 496)\n",
    "print(sensitivity, specificity)\n"
   ]
  },
  {
   "cell_type": "markdown",
   "id": "926b15c7",
   "metadata": {},
   "source": [
    "8) Create the ROC curve"
   ]
  },
  {
   "cell_type": "code",
   "execution_count": 19,
   "id": "07c39f8f",
   "metadata": {
    "scrolled": true
   },
   "outputs": [
    {
     "data": {
      "text/plain": [
       "<Figure size 432x288 with 0 Axes>"
      ]
     },
     "execution_count": 19,
     "metadata": {},
     "output_type": "execute_result"
    },
    {
     "data": {
      "text/plain": [
       "[<matplotlib.lines.Line2D at 0x1b1ca4787f0>]"
      ]
     },
     "execution_count": 19,
     "metadata": {},
     "output_type": "execute_result"
    },
    {
     "data": {
      "text/plain": [
       "[<matplotlib.lines.Line2D at 0x1b1ca478c40>]"
      ]
     },
     "execution_count": 19,
     "metadata": {},
     "output_type": "execute_result"
    },
    {
     "data": {
      "text/plain": [
       "(0.0, 1.0)"
      ]
     },
     "execution_count": 19,
     "metadata": {},
     "output_type": "execute_result"
    },
    {
     "data": {
      "text/plain": [
       "(0.0, 1.05)"
      ]
     },
     "execution_count": 19,
     "metadata": {},
     "output_type": "execute_result"
    },
    {
     "data": {
      "text/plain": [
       "Text(0.5, 0, 'False Positive Rate - 1-Specificity')"
      ]
     },
     "execution_count": 19,
     "metadata": {},
     "output_type": "execute_result"
    },
    {
     "data": {
      "text/plain": [
       "Text(0, 0.5, 'True Positive Rate - Sensitivity')"
      ]
     },
     "execution_count": 19,
     "metadata": {},
     "output_type": "execute_result"
    },
    {
     "data": {
      "text/plain": [
       "Text(0.5, 1.0, 'Receiver Operating Characteristic (ROC) Curve')"
      ]
     },
     "execution_count": 19,
     "metadata": {},
     "output_type": "execute_result"
    },
    {
     "data": {
      "text/plain": [
       "<matplotlib.legend.Legend at 0x1b1ca478e50>"
      ]
     },
     "execution_count": 19,
     "metadata": {},
     "output_type": "execute_result"
    },
    {
     "data": {
      "image/png": "[encoded data removed]",
      "text/plain": [
       "<Figure size 432x288 with 1 Axes>"
      ]
     },
     "metadata": {
      "needs_background": "light"
     },
     "output_type": "display_data"
    }
   ],
   "source": [
    "from sklearn.metrics import roc_curve, auc\n",
    "import matplotlib.pyplot as plt\n",
    "fpr, tpr, thresholds = roc_curve(y['Churn[Yes]'], predicted_p)\n",
    "roc_auc = auc(fpr, tpr)\n",
    "\n",
    "# Plot ROC curve\n",
    "plt.figure()\n",
    "plt.plot(fpr, tpr, color='darkorange', label='ROC curve (area = %0.2f)' % roc_auc)\n",
    "plt.plot([0, 1], [0, 1], color='navy', linestyle='--')\n",
    "plt.xlim([0.0, 1.0])\n",
    "plt.ylim([0.0, 1.05])\n",
    "plt.xlabel('False Positive Rate - 1-Specificity')\n",
    "plt.ylabel('True Positive Rate - Sensitivity')\n",
    "plt.title('Receiver Operating Characteristic (ROC) Curve')\n",
    "plt.legend(loc=\"lower right\")\n",
    "plt.show()\n"
   ]
  }
 ],
 "metadata": {
  "kernelspec": {
   "display_name": "Python 3",
   "language": "python",
   "name": "python3"
  },
  "language_info": {
   "codemirror_mode": {
    "name": "ipython",
    "version": 3
   },
   "file_extension": ".py",
   "mimetype": "text/x-python",
   "name": "python",
   "nbconvert_exporter": "python",
   "pygments_lexer": "ipython3",
   "version": "3.8.8"
  }
 },
 "nbformat": 4,
 "nbformat_minor": 5
}
