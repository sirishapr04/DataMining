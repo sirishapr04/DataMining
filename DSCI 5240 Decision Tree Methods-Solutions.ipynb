{
 "cells": [
  {
   "cell_type": "markdown",
   "id": "d9d5943f",
   "metadata": {},
   "source": [
    "### Decision Tree Methods"
   ]
  },
  {
   "cell_type": "code",
   "execution_count": null,
   "id": "8c377812",
   "metadata": {},
   "outputs": [],
   "source": [
    "# This code appears in every demonstration Notebook.\n",
    "# By default, when you run each cell, only the last output of the codes will show.\n",
    "# This code makes all outputs of a cell show.\n",
    "from IPython.core.interactiveshell import InteractiveShell\n",
    "InteractiveShell.ast_node_interactivity = \"all\""
   ]
  },
  {
   "cell_type": "markdown",
   "id": "c2cdb2bb",
   "metadata": {},
   "source": [
    "1. Import libraries"
   ]
  },
  {
   "cell_type": "code",
   "execution_count": null,
   "id": "1ddcd9db",
   "metadata": {},
   "outputs": [],
   "source": [
    "import pandas as pd\n",
    "import numpy as np\n",
    "import matplotlib.pyplot as plt\n",
    "from sklearn.model_selection import train_test_split\n",
    "from sklearn.tree import DecisionTreeClassifier, plot_tree, export_text\n",
    "from sklearn.metrics import accuracy_score, confusion_matrix"
   ]
  },
  {
   "cell_type": "markdown",
   "id": "b39b8485",
   "metadata": {},
   "source": [
    "2. Import Carseats dataset"
   ]
  },
  {
   "cell_type": "code",
   "execution_count": null,
   "id": "67356283",
   "metadata": {},
   "outputs": [],
   "source": [
    "Carseats = pd.read_csv('Carseats.csv')"
   ]
  },
  {
   "cell_type": "code",
   "execution_count": null,
   "id": "e8c18161",
   "metadata": {
    "scrolled": true
   },
   "outputs": [],
   "source": [
    "Carseats.info()\n",
    "Carseats.head()"
   ]
  },
  {
   "cell_type": "markdown",
   "id": "f82b60a2",
   "metadata": {},
   "source": [
    "3. We intend to classify the sales of carseats into high or low categories.<br>\n",
    "First, we need to transform the numeric 'Sales' into high/low categories."
   ]
  },
  {
   "cell_type": "code",
   "execution_count": null,
   "id": "6081bb01",
   "metadata": {},
   "outputs": [],
   "source": [
    "# The variable we create will be our y.\n",
    "Carseats['Sales_c'] = pd.cut(Carseats['Sales'], bins = [-1, Carseats['Sales'].mean(), float('inf')], labels = ['low', 'high'])"
   ]
  },
  {
   "cell_type": "code",
   "execution_count": null,
   "id": "1a27f4c8",
   "metadata": {},
   "outputs": [],
   "source": [
    "Carseats['Sales_c'].value_counts()"
   ]
  },
  {
   "cell_type": "markdown",
   "id": "a633c649",
   "metadata": {},
   "source": [
    "4. Prepare X and y"
   ]
  },
  {
   "cell_type": "code",
   "execution_count": null,
   "id": "9015f1ed",
   "metadata": {},
   "outputs": [],
   "source": [
    "# Drop the dependent variable from Carseats to get X\n",
    "X = Carseats.drop(['Sales', 'Sales_c', 'CompPrice'], axis = 1)\n",
    "y = Carseats['Sales_c']"
   ]
  },
  {
   "cell_type": "code",
   "execution_count": null,
   "id": "3b0d3b2a",
   "metadata": {},
   "outputs": [],
   "source": [
    "X.head()"
   ]
  },
  {
   "cell_type": "code",
   "execution_count": null,
   "id": "830c34d2",
   "metadata": {},
   "outputs": [],
   "source": [
    "X = pd.get_dummies(X, columns = ['ShelveLoc', 'Urban', 'US'], drop_first=True)"
   ]
  },
  {
   "cell_type": "markdown",
   "id": "9cc97c5f",
   "metadata": {},
   "source": [
    "5. Split training and test datasets"
   ]
  },
  {
   "cell_type": "code",
   "execution_count": null,
   "id": "67f29388",
   "metadata": {},
   "outputs": [],
   "source": [
    "X_train, X_test, y_train, y_test = train_test_split(X, y, test_size=0.3, random_state=30)"
   ]
  },
  {
   "cell_type": "code",
   "execution_count": null,
   "id": "4303538b",
   "metadata": {
    "scrolled": true
   },
   "outputs": [],
   "source": [
    "y_train.value_counts()"
   ]
  },
  {
   "cell_type": "markdown",
   "id": "e72c00cb",
   "metadata": {},
   "source": [
    "6. Fit a decision tree.<br>\n",
    "We set the max depth to be 3 to stop the tree growing."
   ]
  },
  {
   "cell_type": "code",
   "execution_count": null,
   "id": "33b779d4",
   "metadata": {},
   "outputs": [],
   "source": [
    "# Initiating the classifier\n",
    "# We can set parameters to control the tree\n",
    "# criterion - entropy or gini index\n",
    "# max_depth - the levels of the tree\n",
    "# min_samples_split - the least observations in a node\n",
    "dt_1 = DecisionTreeClassifier(criterion='entropy', max_depth=3, random_state=0)"
   ]
  },
  {
   "cell_type": "code",
   "execution_count": null,
   "id": "a9bac59c",
   "metadata": {},
   "outputs": [],
   "source": [
    "dt_1.fit(X_train, y_train)"
   ]
  },
  {
   "cell_type": "markdown",
   "id": "b8f2ba40",
   "metadata": {},
   "source": [
    "7. Plot the tree"
   ]
  },
  {
   "cell_type": "code",
   "execution_count": null,
   "id": "3eaf47f4",
   "metadata": {},
   "outputs": [],
   "source": [
    "car_names = X.columns"
   ]
  },
  {
   "cell_type": "code",
   "execution_count": null,
   "id": "bfd67686",
   "metadata": {},
   "outputs": [],
   "source": [
    "plt.figure(figsize=(12, 8))\n",
    "plot_tree(dt_1, filled=True, feature_names = car_names) \n",
    "          #class_names = ['low', 'high'])"
   ]
  },
  {
   "cell_type": "code",
   "execution_count": null,
   "id": "0bd6b7c1",
   "metadata": {},
   "outputs": [],
   "source": [
    "print(export_text(dt_1, feature_names=car_names, show_weights=True))"
   ]
  },
  {
   "cell_type": "code",
   "execution_count": null,
   "id": "ea405a86",
   "metadata": {},
   "outputs": [],
   "source": [
    "# Make prediction\n",
    "dt_1_pred = dt_1.predict(X_test)"
   ]
  },
  {
   "cell_type": "code",
   "execution_count": null,
   "id": "8cd21921",
   "metadata": {},
   "outputs": [],
   "source": [
    "accuracy_score(y_test, dt_1_pred)\n",
    "confusion_matrix(y_test, dt_1_pred)"
   ]
  },
  {
   "cell_type": "code",
   "execution_count": null,
   "id": "9f5c0460",
   "metadata": {
    "scrolled": true
   },
   "outputs": [],
   "source": [
    "pd.crosstab(y_test, dt_1_pred, rownames=['True'], colnames=['Predicted'])#, margins=True)"
   ]
  },
  {
   "cell_type": "markdown",
   "id": "f849e00a",
   "metadata": {},
   "source": [
    "8. Next we fit a tree without specifying stopping criteria.<br>\n",
    "By default, the tree will grown until there is no more information gain."
   ]
  },
  {
   "cell_type": "code",
   "execution_count": null,
   "id": "bb6e2b0a",
   "metadata": {},
   "outputs": [],
   "source": [
    "dt_full = DecisionTreeClassifier(criterion='entropy', random_state=0)"
   ]
  },
  {
   "cell_type": "code",
   "execution_count": null,
   "id": "da323cce",
   "metadata": {},
   "outputs": [],
   "source": [
    "dt_full.fit(X_train, y_train)"
   ]
  },
  {
   "cell_type": "code",
   "execution_count": null,
   "id": "54160623",
   "metadata": {},
   "outputs": [],
   "source": [
    "plt.figure(figsize=(12, 8))\n",
    "plot_tree(dt_full, filled=True, feature_names = car_names) \n",
    "\n",
    "# It is a large tree"
   ]
  },
  {
   "cell_type": "code",
   "execution_count": null,
   "id": "23e913a1",
   "metadata": {},
   "outputs": [],
   "source": [
    "dt_full_pred = dt_full.predict(X_test)\n",
    "accuracy_score(y_test, dt_full_pred)\n",
    "confusion_matrix(y_test, dt_full_pred)\n",
    "# You can see the overfitting problem. The error rate does not decrease with bigger tree."
   ]
  },
  {
   "cell_type": "markdown",
   "id": "31d9974d",
   "metadata": {},
   "source": [
    "9. Bagging, random forest and boosting"
   ]
  },
  {
   "cell_type": "code",
   "execution_count": null,
   "id": "fc8f415c",
   "metadata": {},
   "outputs": [],
   "source": [
    "from sklearn.ensemble import RandomForestClassifier, GradientBoostingClassifier"
   ]
  },
  {
   "cell_type": "markdown",
   "id": "f7b6ad18",
   "metadata": {},
   "source": [
    "9.1 Bagging"
   ]
  },
  {
   "cell_type": "code",
   "execution_count": null,
   "id": "6b018c7a",
   "metadata": {},
   "outputs": [],
   "source": [
    "# Bagging is the special case of random forest: it uses all variables to grow trees\n",
    "dt_bag = RandomForestClassifier(n_estimators=500, max_features=None, random_state=0)\n",
    "\n",
    "# n_estimators default is 100. We can increase it.\n",
    "# max_features default is to use all variables"
   ]
  },
  {
   "cell_type": "code",
   "execution_count": null,
   "id": "c5eae4a3",
   "metadata": {},
   "outputs": [],
   "source": [
    "dt_bag.fit(X_train, y_train)\n",
    "\n",
    "dt_bag_pred = dt_bag.predict(X_test)\n",
    "\n",
    "accuracy_score(y_test, dt_bag_pred)\n",
    "confusion_matrix(y_test, dt_bag_pred)\n",
    "# You can try increase n_estimator to 500."
   ]
  },
  {
   "cell_type": "markdown",
   "id": "6c4f5ebe",
   "metadata": {},
   "source": [
    "9.2 Random forest"
   ]
  },
  {
   "cell_type": "code",
   "execution_count": null,
   "id": "bc845e30",
   "metadata": {},
   "outputs": [],
   "source": [
    "dt_rf = RandomForestClassifier(n_estimators=500, max_features = 4, random_state=0)\n",
    "# max_features is set to sqrt(p), about 4."
   ]
  },
  {
   "cell_type": "code",
   "execution_count": null,
   "id": "0c8e1063",
   "metadata": {},
   "outputs": [],
   "source": [
    "dt_rf.fit(X_train, y_train)\n",
    "\n",
    "dt_rf_pred = dt_rf.predict(X_test)\n",
    "\n",
    "accuracy_score(y_test, dt_rf_pred)\n",
    "confusion_matrix(y_test, dt_rf_pred)"
   ]
  },
  {
   "cell_type": "markdown",
   "id": "0683771c",
   "metadata": {},
   "source": [
    "9.4 We cannot get an interpretable tree from ensemble methods, but we can figure out the importance of each variable in classification."
   ]
  },
  {
   "cell_type": "code",
   "execution_count": null,
   "id": "82083209",
   "metadata": {},
   "outputs": [],
   "source": [
    "feature_importances = dt_rf.feature_importances_\n",
    "# This is a numpy array\n",
    "\n",
    "# Sort feature importances in descending order\n",
    "sort_index = np.argsort(feature_importances)\n",
    "# sort_index = sort_index[::-1]\n",
    "# argsort() returns the index position that the element would have \n",
    "# if the array were sorted in ascending order.\n",
    "# We can use it to select feature importance and \n",
    "\n",
    "# Plot horizontal feature importances\n",
    "plt.figure(figsize=(10, 6))\n",
    "plt.title(\"Feature Importances\")\n",
    "plt.barh(range(X.shape[1]), feature_importances[sort_index], align=\"center\")\n",
    "plt.yticks(range(X.shape[1]), np.array(X.columns)[sort_index])\n",
    "plt.xlabel(\"Importance Score\")\n",
    "plt.ylabel(\"Feature\")\n",
    "plt.tight_layout()"
   ]
  },
  {
   "cell_type": "markdown",
   "id": "b3ac33f1",
   "metadata": {},
   "source": [
    "9.3 Boosting"
   ]
  },
  {
   "cell_type": "code",
   "execution_count": null,
   "id": "cd836cd9",
   "metadata": {},
   "outputs": [],
   "source": [
    "dt_gb = GradientBoostingClassifier(n_estimators=100, learning_rate =0.001,\n",
    "max_depth=3, random_state=0)\n",
    "# B = 100, lambda = 0.001, d = 3"
   ]
  },
  {
   "cell_type": "code",
   "execution_count": null,
   "id": "e4eba4d6",
   "metadata": {},
   "outputs": [],
   "source": [
    "dt_gb = GradientBoostingClassifier(n_estimators=1000, learning_rate =0.001,\n",
    "max_depth=3, random_state=0)\n",
    "# B = 1000, lambda = 0.001, d = 1"
   ]
  },
  {
   "cell_type": "code",
   "execution_count": null,
   "id": "2eb1b072",
   "metadata": {},
   "outputs": [],
   "source": [
    "dt_gb = GradientBoostingClassifier(n_estimators=5000, learning_rate =0.001,\n",
    "max_depth=3, random_state=0)\n",
    "# B = 5000, lambda = 0.001, d = 1\n",
    "# Too large B may lead to overfitting"
   ]
  },
  {
   "cell_type": "code",
   "execution_count": null,
   "id": "7e394d41",
   "metadata": {},
   "outputs": [],
   "source": [
    "dt_gb.fit(X_train, y_train)\n",
    "dt_gb_pred = dt_gb.predict(X_test)\n",
    "accuracy_score(y_test, dt_gb_pred)\n",
    "confusion_matrix(y_test, dt_gb_pred)"
   ]
  }
 ],
 "metadata": {
  "kernelspec": {
   "display_name": "Python 3 (ipykernel)",
   "language": "python",
   "name": "python3"
  },
  "language_info": {
   "codemirror_mode": {
    "name": "ipython",
    "version": 3
   },
   "file_extension": ".py",
   "mimetype": "text/x-python",
   "name": "python",
   "nbconvert_exporter": "python",
   "pygments_lexer": "ipython3",
   "version": "3.10.9"
  }
 },
 "nbformat": 4,
 "nbformat_minor": 5
}
