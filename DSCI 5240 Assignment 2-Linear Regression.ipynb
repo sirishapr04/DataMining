{
 "cells": [
  {
   "cell_type": "markdown",
   "id": "edb5e6f2",
   "metadata": {},
   "source": [
    "### Assignment 2 - Linear Regression"
   ]
  },
  {
   "cell_type": "code",
   "execution_count": 2,
   "id": "6fc2bb24",
   "metadata": {},
   "outputs": [],
   "source": [
    "# This code appears in every demonstration Notebook.\n",
    "# By default, when you run each cell, only the last output of the codes will show.\n",
    "# This code makes all outputs of a cell show.\n",
    "from IPython.core.interactiveshell import InteractiveShell\n",
    "InteractiveShell.ast_node_interactivity = \"all\""
   ]
  },
  {
   "cell_type": "markdown",
   "id": "1f8c655a",
   "metadata": {},
   "source": [
    "The dataset is based on Gyódi and Nawaro (2021)’s research on Airbnb prices in European cities. We take a sub dataset of Airbnb listings in Barcelona, Spain during weekdays and intend to build a model to predict listing price using the features.<br>\n",
    "\n",
    "The variables are as follows.<br>\n",
    "<b>price</b> ---\tListing price<br>\n",
    "<b>bedrooms</b> ---\tnumber of bedrooms<br>\n",
    "<b>person_capacity</b> ---\tmaximum number of guests<br>\n",
    "<b>room_private</b> ---\tdummy for private rooms<br>\n",
    "<b>room_shared</b> ---\tdummy for shared rooms<br>\n",
    "<b>cleanliness</b> ---\tguest reviews: scale to 10<br>\n",
    "<b>guest_satisfaction</b> --- guest reviews:scale to 100<br>\n",
    "<b>superhost</b> ---\tdummy for hosts with the superhost status<br>\n",
    "<b>multi</b> ---\tdummy for listings offered by hosts with 2–4 listings<br>\n",
    "<b>biz</b> ---\tdummy for listings offered by hosts with more than 4 listings<br>\n",
    "<b>dist</b> ---\tdistance to the city centre in kilometres<br>\n",
    "<b>metro_dist</b> ---\tdistance to the closest metro station in kilometres<br>\n",
    "<b>attr_index</b> ---\tattraction index: scale to 100, measuring the accessibility to attractions<br>\n",
    "<b>rest_index</b> ---\trestaurant index: scale to 100, measuring the accessibility to restaurants<br>\n",
    "<b>lng</b> ---\tLongitude of the listing location<br>\n",
    "<b>lat</b> ---\tLatitude of the listing location<br>\n",
    "\n",
    "Ref:<br> \n",
    "Gyódi, K. and L. Nawaro (2021). Determinants of Airbnb prices in European cities: A spatial econometrics approach. Tourism Management, Vol. 86."
   ]
  },
  {
   "cell_type": "markdown",
   "id": "8b1d070f",
   "metadata": {},
   "source": [
    "1. Import the necessary packages."
   ]
  },
  {
   "cell_type": "code",
   "execution_count": 3,
   "id": "ec5fab6a",
   "metadata": {},
   "outputs": [],
   "source": [
    "import pandas as pd\n",
    "import numpy as np\n",
    "import statsmodels.api as sm\n",
    "import seaborn as sns\n",
    "import matplotlib.pyplot as plt\n",
    "%matplotlib inline \n",
    "from matplotlib import rcParams"
   ]
  },
  {
   "cell_type": "markdown",
   "id": "4c043205",
   "metadata": {},
   "source": [
    "2. Read in the dataset, 'Barcelona.csv'. Display the data."
   ]
  },
  {
   "cell_type": "code",
   "execution_count": 4,
   "id": "ce825a29",
   "metadata": {},
   "outputs": [],
   "source": [
    "df = pd.read_csv(\"Barcelona.csv\") #reading the barcelona dataset"
   ]
  },
  {
   "cell_type": "code",
   "execution_count": 5,
   "id": "a519a0b1",
   "metadata": {},
   "outputs": [
    {
     "data": {
      "text/html": [
       "<div>\n",
       "<style scoped>\n",
       "    .dataframe tbody tr th:only-of-type {\n",
       "        vertical-align: middle;\n",
       "    }\n",
       "\n",
       "    .dataframe tbody tr th {\n",
       "        vertical-align: top;\n",
       "    }\n",
       "\n",
       "    .dataframe thead th {\n",
       "        text-align: right;\n",
       "    }\n",
       "</style>\n",
       "<table border=\"1\" class=\"dataframe\">\n",
       "  <thead>\n",
       "    <tr style=\"text-align: right;\">\n",
       "      <th></th>\n",
       "      <th>price</th>\n",
       "      <th>bedrooms</th>\n",
       "      <th>room_shared</th>\n",
       "      <th>room_private</th>\n",
       "      <th>person_capacity</th>\n",
       "      <th>superhost</th>\n",
       "      <th>multi</th>\n",
       "      <th>biz</th>\n",
       "      <th>cleanliness</th>\n",
       "      <th>guest_satisfaction</th>\n",
       "      <th>dist</th>\n",
       "      <th>metro_dist</th>\n",
       "      <th>attr_index</th>\n",
       "      <th>rest_index</th>\n",
       "      <th>lng</th>\n",
       "      <th>lat</th>\n",
       "    </tr>\n",
       "  </thead>\n",
       "  <tbody>\n",
       "    <tr>\n",
       "      <th>0</th>\n",
       "      <td>474.317499</td>\n",
       "      <td>1</td>\n",
       "      <td>False</td>\n",
       "      <td>False</td>\n",
       "      <td>4</td>\n",
       "      <td>False</td>\n",
       "      <td>0</td>\n",
       "      <td>1</td>\n",
       "      <td>10</td>\n",
       "      <td>91</td>\n",
       "      <td>1.111996</td>\n",
       "      <td>0.630491</td>\n",
       "      <td>17.942927</td>\n",
       "      <td>20.154890</td>\n",
       "      <td>2.17556</td>\n",
       "      <td>41.39624</td>\n",
       "    </tr>\n",
       "    <tr>\n",
       "      <th>1</th>\n",
       "      <td>169.897829</td>\n",
       "      <td>1</td>\n",
       "      <td>False</td>\n",
       "      <td>True</td>\n",
       "      <td>2</td>\n",
       "      <td>True</td>\n",
       "      <td>1</td>\n",
       "      <td>0</td>\n",
       "      <td>10</td>\n",
       "      <td>88</td>\n",
       "      <td>1.751839</td>\n",
       "      <td>0.124017</td>\n",
       "      <td>10.910462</td>\n",
       "      <td>17.484489</td>\n",
       "      <td>2.14906</td>\n",
       "      <td>41.38714</td>\n",
       "    </tr>\n",
       "    <tr>\n",
       "      <th>2</th>\n",
       "      <td>161.984779</td>\n",
       "      <td>1</td>\n",
       "      <td>False</td>\n",
       "      <td>True</td>\n",
       "      <td>4</td>\n",
       "      <td>False</td>\n",
       "      <td>0</td>\n",
       "      <td>1</td>\n",
       "      <td>9</td>\n",
       "      <td>88</td>\n",
       "      <td>1.670493</td>\n",
       "      <td>0.080322</td>\n",
       "      <td>11.726595</td>\n",
       "      <td>18.505814</td>\n",
       "      <td>2.15357</td>\n",
       "      <td>41.37859</td>\n",
       "    </tr>\n",
       "    <tr>\n",
       "      <th>3</th>\n",
       "      <td>367.956804</td>\n",
       "      <td>1</td>\n",
       "      <td>False</td>\n",
       "      <td>False</td>\n",
       "      <td>3</td>\n",
       "      <td>False</td>\n",
       "      <td>0</td>\n",
       "      <td>1</td>\n",
       "      <td>10</td>\n",
       "      <td>91</td>\n",
       "      <td>1.475847</td>\n",
       "      <td>0.093107</td>\n",
       "      <td>13.634603</td>\n",
       "      <td>20.837357</td>\n",
       "      <td>2.16839</td>\n",
       "      <td>41.37390</td>\n",
       "    </tr>\n",
       "    <tr>\n",
       "      <th>4</th>\n",
       "      <td>196.895292</td>\n",
       "      <td>1</td>\n",
       "      <td>False</td>\n",
       "      <td>True</td>\n",
       "      <td>3</td>\n",
       "      <td>False</td>\n",
       "      <td>1</td>\n",
       "      <td>0</td>\n",
       "      <td>9</td>\n",
       "      <td>91</td>\n",
       "      <td>1.855452</td>\n",
       "      <td>0.272486</td>\n",
       "      <td>11.793678</td>\n",
       "      <td>17.440874</td>\n",
       "      <td>2.15238</td>\n",
       "      <td>41.37699</td>\n",
       "    </tr>\n",
       "    <tr>\n",
       "      <th>5</th>\n",
       "      <td>330.951661</td>\n",
       "      <td>2</td>\n",
       "      <td>False</td>\n",
       "      <td>False</td>\n",
       "      <td>3</td>\n",
       "      <td>False</td>\n",
       "      <td>0</td>\n",
       "      <td>1</td>\n",
       "      <td>9</td>\n",
       "      <td>100</td>\n",
       "      <td>2.565611</td>\n",
       "      <td>0.701290</td>\n",
       "      <td>13.328889</td>\n",
       "      <td>11.568178</td>\n",
       "      <td>2.18197</td>\n",
       "      <td>41.40842</td>\n",
       "    </tr>\n",
       "    <tr>\n",
       "      <th>6</th>\n",
       "      <td>141.271208</td>\n",
       "      <td>1</td>\n",
       "      <td>False</td>\n",
       "      <td>True</td>\n",
       "      <td>3</td>\n",
       "      <td>False</td>\n",
       "      <td>0</td>\n",
       "      <td>1</td>\n",
       "      <td>9</td>\n",
       "      <td>86</td>\n",
       "      <td>1.648304</td>\n",
       "      <td>0.089427</td>\n",
       "      <td>11.676253</td>\n",
       "      <td>18.071120</td>\n",
       "      <td>2.15342</td>\n",
       "      <td>41.37912</td>\n",
       "    </tr>\n",
       "    <tr>\n",
       "      <th>7</th>\n",
       "      <td>173.388880</td>\n",
       "      <td>1</td>\n",
       "      <td>False</td>\n",
       "      <td>True</td>\n",
       "      <td>2</td>\n",
       "      <td>False</td>\n",
       "      <td>0</td>\n",
       "      <td>0</td>\n",
       "      <td>9</td>\n",
       "      <td>96</td>\n",
       "      <td>1.474228</td>\n",
       "      <td>0.590519</td>\n",
       "      <td>15.282387</td>\n",
       "      <td>16.570540</td>\n",
       "      <td>2.18195</td>\n",
       "      <td>41.39691</td>\n",
       "    </tr>\n",
       "    <tr>\n",
       "      <th>8</th>\n",
       "      <td>225.754649</td>\n",
       "      <td>1</td>\n",
       "      <td>False</td>\n",
       "      <td>True</td>\n",
       "      <td>4</td>\n",
       "      <td>False</td>\n",
       "      <td>1</td>\n",
       "      <td>0</td>\n",
       "      <td>9</td>\n",
       "      <td>84</td>\n",
       "      <td>0.962655</td>\n",
       "      <td>0.356134</td>\n",
       "      <td>26.988334</td>\n",
       "      <td>41.506420</td>\n",
       "      <td>2.17742</td>\n",
       "      <td>41.38050</td>\n",
       "    </tr>\n",
       "    <tr>\n",
       "      <th>9</th>\n",
       "      <td>150.580678</td>\n",
       "      <td>1</td>\n",
       "      <td>False</td>\n",
       "      <td>True</td>\n",
       "      <td>2</td>\n",
       "      <td>False</td>\n",
       "      <td>1</td>\n",
       "      <td>0</td>\n",
       "      <td>9</td>\n",
       "      <td>91</td>\n",
       "      <td>1.819600</td>\n",
       "      <td>0.285601</td>\n",
       "      <td>12.310252</td>\n",
       "      <td>17.747751</td>\n",
       "      <td>2.15700</td>\n",
       "      <td>41.37400</td>\n",
       "    </tr>\n",
       "  </tbody>\n",
       "</table>\n",
       "</div>"
      ],
      "text/plain": [
       "        price  bedrooms  room_shared  room_private  person_capacity  \\\n",
       "0  474.317499         1        False         False                4   \n",
       "1  169.897829         1        False          True                2   \n",
       "2  161.984779         1        False          True                4   \n",
       "3  367.956804         1        False         False                3   \n",
       "4  196.895292         1        False          True                3   \n",
       "5  330.951661         2        False         False                3   \n",
       "6  141.271208         1        False          True                3   \n",
       "7  173.388880         1        False          True                2   \n",
       "8  225.754649         1        False          True                4   \n",
       "9  150.580678         1        False          True                2   \n",
       "\n",
       "   superhost  multi  biz  cleanliness  guest_satisfaction      dist  \\\n",
       "0      False      0    1           10                  91  1.111996   \n",
       "1       True      1    0           10                  88  1.751839   \n",
       "2      False      0    1            9                  88  1.670493   \n",
       "3      False      0    1           10                  91  1.475847   \n",
       "4      False      1    0            9                  91  1.855452   \n",
       "5      False      0    1            9                 100  2.565611   \n",
       "6      False      0    1            9                  86  1.648304   \n",
       "7      False      0    0            9                  96  1.474228   \n",
       "8      False      1    0            9                  84  0.962655   \n",
       "9      False      1    0            9                  91  1.819600   \n",
       "\n",
       "   metro_dist  attr_index  rest_index      lng       lat  \n",
       "0    0.630491   17.942927   20.154890  2.17556  41.39624  \n",
       "1    0.124017   10.910462   17.484489  2.14906  41.38714  \n",
       "2    0.080322   11.726595   18.505814  2.15357  41.37859  \n",
       "3    0.093107   13.634603   20.837357  2.16839  41.37390  \n",
       "4    0.272486   11.793678   17.440874  2.15238  41.37699  \n",
       "5    0.701290   13.328889   11.568178  2.18197  41.40842  \n",
       "6    0.089427   11.676253   18.071120  2.15342  41.37912  \n",
       "7    0.590519   15.282387   16.570540  2.18195  41.39691  \n",
       "8    0.356134   26.988334   41.506420  2.17742  41.38050  \n",
       "9    0.285601   12.310252   17.747751  2.15700  41.37400  "
      ]
     },
     "execution_count": 5,
     "metadata": {},
     "output_type": "execute_result"
    }
   ],
   "source": [
    "df.head(10) #displaying the first 10 rows of the data"
   ]
  },
  {
   "cell_type": "markdown",
   "id": "0b258061",
   "metadata": {},
   "source": [
    "3. How many observations? Display the variable names."
   ]
  },
  {
   "cell_type": "code",
   "execution_count": 6,
   "id": "dd629f5a",
   "metadata": {},
   "outputs": [
    {
     "name": "stdout",
     "output_type": "stream",
     "text": [
      "The number of observations in the data set are 1555\n"
     ]
    }
   ],
   "source": [
    "print('The number of observations in the data set are {}'.format(df.shape[0]))"
   ]
  },
  {
   "cell_type": "code",
   "execution_count": 7,
   "id": "9845b2f9",
   "metadata": {},
   "outputs": [
    {
     "name": "stdout",
     "output_type": "stream",
     "text": [
      "<class 'pandas.core.frame.DataFrame'>\n",
      "RangeIndex: 1555 entries, 0 to 1554\n",
      "Data columns (total 16 columns):\n",
      " #   Column              Non-Null Count  Dtype  \n",
      "---  ------              --------------  -----  \n",
      " 0   price               1555 non-null   float64\n",
      " 1   bedrooms            1555 non-null   int64  \n",
      " 2   room_shared         1555 non-null   bool   \n",
      " 3   room_private        1555 non-null   bool   \n",
      " 4   person_capacity     1555 non-null   int64  \n",
      " 5   superhost           1555 non-null   bool   \n",
      " 6   multi               1555 non-null   int64  \n",
      " 7   biz                 1555 non-null   int64  \n",
      " 8   cleanliness         1555 non-null   int64  \n",
      " 9   guest_satisfaction  1555 non-null   int64  \n",
      " 10  dist                1555 non-null   float64\n",
      " 11  metro_dist          1555 non-null   float64\n",
      " 12  attr_index          1555 non-null   float64\n",
      " 13  rest_index          1555 non-null   float64\n",
      " 14  lng                 1555 non-null   float64\n",
      " 15  lat                 1555 non-null   float64\n",
      "dtypes: bool(3), float64(7), int64(6)\n",
      "memory usage: 162.6 KB\n"
     ]
    }
   ],
   "source": [
    "df.info() #displaying the variable names"
   ]
  },
  {
   "cell_type": "markdown",
   "id": "e2981d17",
   "metadata": {},
   "source": [
    "4.1 Explore the variable 'price'. First, Let's find out the statistics using describe(). Then we use a graph to explore the distribution. What do you find?"
   ]
  },
  {
   "cell_type": "code",
   "execution_count": 8,
   "id": "e89875d6",
   "metadata": {},
   "outputs": [
    {
     "data": {
      "text/plain": [
       "count    1555.000000\n",
       "mean      288.391667\n",
       "std       321.180435\n",
       "min        69.588289\n",
       "25%       161.984779\n",
       "50%       208.532129\n",
       "75%       335.373659\n",
       "max      6943.700980\n",
       "Name: price, dtype: float64"
      ]
     },
     "execution_count": 8,
     "metadata": {},
     "output_type": "execute_result"
    }
   ],
   "source": [
    "df['price'].describe() #displaying the statistics of the variable 'price' using describe funtion"
   ]
  },
  {
   "cell_type": "code",
   "execution_count": 9,
   "id": "42c9d407",
   "metadata": {},
   "outputs": [
    {
     "data": {
      "text/plain": [
       "<Axes: >"
      ]
     },
     "execution_count": 9,
     "metadata": {},
     "output_type": "execute_result"
    },
    {
     "data": {
      "image/png": "[encoded data removed]",
      "text/plain": [
       "<Figure size 640x480 with 1 Axes>"
      ]
     },
     "metadata": {},
     "output_type": "display_data"
    }
   ],
   "source": [
    "df['price'].hist() #plotting the histogram "
   ]
  },
  {
   "cell_type": "code",
   "execution_count": 10,
   "id": "33051d62",
   "metadata": {},
   "outputs": [
    {
     "data": {
      "text/plain": [
       "13.308535685785836"
      ]
     },
     "execution_count": 10,
     "metadata": {},
     "output_type": "execute_result"
    }
   ],
   "source": [
    "df['price'].skew()"
   ]
  },
  {
   "cell_type": "markdown",
   "id": "c73d946d",
   "metadata": {},
   "source": [
    "Findings: The variable 'Price' has a mean of 288.391667 and a standard deviation of 321.180435. There are 1555 rows in the data set and the minimum price is 69.588289 and the maximum price is 6943.700980. The median of the price is 208.532129. From the above histogram, we know that the data is not normally distributed and it is right skewed(Positive skew) with value of 13.31. We also notice the variable contains outliers and the outliers needs to be removed for the further analysis."
   ]
  },
  {
   "cell_type": "markdown",
   "id": "662d7d0c",
   "metadata": {},
   "source": [
    "4.2 We decide to remove the price outliers (defined as three standard deviation away from the mean) and repeat the graph. What do you find?"
   ]
  },
  {
   "cell_type": "code",
   "execution_count": 11,
   "id": "c81ccced",
   "metadata": {},
   "outputs": [],
   "source": [
    "# df['price'].std() #calculating the standard deviation\n",
    "# out_up = df['price'].mean() + 3 * df['price'].std() #calculating the third standard deviation to remove the outliers\n",
    "# normal_price = df[df['price']<out_up] #removing the outliers\n",
    "# normal_price #data after removing outliers\n",
    "# normal_price.shape #shape of the data aftering removing outliers\n",
    "# normal_price['price'].hist() #plotting the histogram after removing outliers"
   ]
  },
  {
   "cell_type": "code",
   "execution_count": 12,
   "id": "ae22fc9e",
   "metadata": {},
   "outputs": [],
   "source": [
    "#defining the function to remove outliers for any column that you pass\n",
    "def remove_outliers (df, column):\n",
    "    out_up = df[column].mean() + 3 * df[column].std()\n",
    "    df_1 = df[df[column]<out_up]\n",
    "    return df_1"
   ]
  },
  {
   "cell_type": "code",
   "execution_count": 13,
   "id": "b3836f86",
   "metadata": {},
   "outputs": [],
   "source": [
    "df_1 = remove_outliers(df,'price') #calling the function to remove outliers for column 'price'"
   ]
  },
  {
   "cell_type": "code",
   "execution_count": 14,
   "id": "17124d83",
   "metadata": {},
   "outputs": [
    {
     "data": {
      "text/html": [
       "<div>\n",
       "<style scoped>\n",
       "    .dataframe tbody tr th:only-of-type {\n",
       "        vertical-align: middle;\n",
       "    }\n",
       "\n",
       "    .dataframe tbody tr th {\n",
       "        vertical-align: top;\n",
       "    }\n",
       "\n",
       "    .dataframe thead th {\n",
       "        text-align: right;\n",
       "    }\n",
       "</style>\n",
       "<table border=\"1\" class=\"dataframe\">\n",
       "  <thead>\n",
       "    <tr style=\"text-align: right;\">\n",
       "      <th></th>\n",
       "      <th>price</th>\n",
       "      <th>bedrooms</th>\n",
       "      <th>room_shared</th>\n",
       "      <th>room_private</th>\n",
       "      <th>person_capacity</th>\n",
       "      <th>superhost</th>\n",
       "      <th>multi</th>\n",
       "      <th>biz</th>\n",
       "      <th>cleanliness</th>\n",
       "      <th>guest_satisfaction</th>\n",
       "      <th>dist</th>\n",
       "      <th>metro_dist</th>\n",
       "      <th>attr_index</th>\n",
       "      <th>rest_index</th>\n",
       "      <th>lng</th>\n",
       "      <th>lat</th>\n",
       "    </tr>\n",
       "  </thead>\n",
       "  <tbody>\n",
       "    <tr>\n",
       "      <th>0</th>\n",
       "      <td>474.317499</td>\n",
       "      <td>1</td>\n",
       "      <td>False</td>\n",
       "      <td>False</td>\n",
       "      <td>4</td>\n",
       "      <td>False</td>\n",
       "      <td>0</td>\n",
       "      <td>1</td>\n",
       "      <td>10</td>\n",
       "      <td>91</td>\n",
       "      <td>1.111996</td>\n",
       "      <td>0.630491</td>\n",
       "      <td>17.942927</td>\n",
       "      <td>20.154890</td>\n",
       "      <td>2.17556</td>\n",
       "      <td>41.39624</td>\n",
       "    </tr>\n",
       "    <tr>\n",
       "      <th>1</th>\n",
       "      <td>169.897829</td>\n",
       "      <td>1</td>\n",
       "      <td>False</td>\n",
       "      <td>True</td>\n",
       "      <td>2</td>\n",
       "      <td>True</td>\n",
       "      <td>1</td>\n",
       "      <td>0</td>\n",
       "      <td>10</td>\n",
       "      <td>88</td>\n",
       "      <td>1.751839</td>\n",
       "      <td>0.124017</td>\n",
       "      <td>10.910462</td>\n",
       "      <td>17.484489</td>\n",
       "      <td>2.14906</td>\n",
       "      <td>41.38714</td>\n",
       "    </tr>\n",
       "    <tr>\n",
       "      <th>2</th>\n",
       "      <td>161.984779</td>\n",
       "      <td>1</td>\n",
       "      <td>False</td>\n",
       "      <td>True</td>\n",
       "      <td>4</td>\n",
       "      <td>False</td>\n",
       "      <td>0</td>\n",
       "      <td>1</td>\n",
       "      <td>9</td>\n",
       "      <td>88</td>\n",
       "      <td>1.670493</td>\n",
       "      <td>0.080322</td>\n",
       "      <td>11.726595</td>\n",
       "      <td>18.505814</td>\n",
       "      <td>2.15357</td>\n",
       "      <td>41.37859</td>\n",
       "    </tr>\n",
       "    <tr>\n",
       "      <th>3</th>\n",
       "      <td>367.956804</td>\n",
       "      <td>1</td>\n",
       "      <td>False</td>\n",
       "      <td>False</td>\n",
       "      <td>3</td>\n",
       "      <td>False</td>\n",
       "      <td>0</td>\n",
       "      <td>1</td>\n",
       "      <td>10</td>\n",
       "      <td>91</td>\n",
       "      <td>1.475847</td>\n",
       "      <td>0.093107</td>\n",
       "      <td>13.634603</td>\n",
       "      <td>20.837357</td>\n",
       "      <td>2.16839</td>\n",
       "      <td>41.37390</td>\n",
       "    </tr>\n",
       "    <tr>\n",
       "      <th>4</th>\n",
       "      <td>196.895292</td>\n",
       "      <td>1</td>\n",
       "      <td>False</td>\n",
       "      <td>True</td>\n",
       "      <td>3</td>\n",
       "      <td>False</td>\n",
       "      <td>1</td>\n",
       "      <td>0</td>\n",
       "      <td>9</td>\n",
       "      <td>91</td>\n",
       "      <td>1.855452</td>\n",
       "      <td>0.272486</td>\n",
       "      <td>11.793678</td>\n",
       "      <td>17.440874</td>\n",
       "      <td>2.15238</td>\n",
       "      <td>41.37699</td>\n",
       "    </tr>\n",
       "    <tr>\n",
       "      <th>...</th>\n",
       "      <td>...</td>\n",
       "      <td>...</td>\n",
       "      <td>...</td>\n",
       "      <td>...</td>\n",
       "      <td>...</td>\n",
       "      <td>...</td>\n",
       "      <td>...</td>\n",
       "      <td>...</td>\n",
       "      <td>...</td>\n",
       "      <td>...</td>\n",
       "      <td>...</td>\n",
       "      <td>...</td>\n",
       "      <td>...</td>\n",
       "      <td>...</td>\n",
       "      <td>...</td>\n",
       "      <td>...</td>\n",
       "    </tr>\n",
       "    <tr>\n",
       "      <th>1549</th>\n",
       "      <td>300.928620</td>\n",
       "      <td>1</td>\n",
       "      <td>False</td>\n",
       "      <td>True</td>\n",
       "      <td>2</td>\n",
       "      <td>False</td>\n",
       "      <td>0</td>\n",
       "      <td>0</td>\n",
       "      <td>10</td>\n",
       "      <td>100</td>\n",
       "      <td>2.394839</td>\n",
       "      <td>0.954952</td>\n",
       "      <td>9.709902</td>\n",
       "      <td>12.430326</td>\n",
       "      <td>2.19590</td>\n",
       "      <td>41.39637</td>\n",
       "    </tr>\n",
       "    <tr>\n",
       "      <th>1550</th>\n",
       "      <td>769.660437</td>\n",
       "      <td>3</td>\n",
       "      <td>False</td>\n",
       "      <td>False</td>\n",
       "      <td>6</td>\n",
       "      <td>False</td>\n",
       "      <td>0</td>\n",
       "      <td>1</td>\n",
       "      <td>8</td>\n",
       "      <td>84</td>\n",
       "      <td>2.503374</td>\n",
       "      <td>0.554007</td>\n",
       "      <td>9.075307</td>\n",
       "      <td>14.946029</td>\n",
       "      <td>2.19991</td>\n",
       "      <td>41.38834</td>\n",
       "    </tr>\n",
       "    <tr>\n",
       "      <th>1551</th>\n",
       "      <td>318.151139</td>\n",
       "      <td>1</td>\n",
       "      <td>False</td>\n",
       "      <td>True</td>\n",
       "      <td>2</td>\n",
       "      <td>True</td>\n",
       "      <td>1</td>\n",
       "      <td>0</td>\n",
       "      <td>9</td>\n",
       "      <td>98</td>\n",
       "      <td>2.619616</td>\n",
       "      <td>0.761843</td>\n",
       "      <td>8.747713</td>\n",
       "      <td>12.276081</td>\n",
       "      <td>2.20066</td>\n",
       "      <td>41.39204</td>\n",
       "    </tr>\n",
       "    <tr>\n",
       "      <th>1552</th>\n",
       "      <td>248.562851</td>\n",
       "      <td>1</td>\n",
       "      <td>False</td>\n",
       "      <td>True</td>\n",
       "      <td>2</td>\n",
       "      <td>True</td>\n",
       "      <td>1</td>\n",
       "      <td>0</td>\n",
       "      <td>10</td>\n",
       "      <td>98</td>\n",
       "      <td>2.700091</td>\n",
       "      <td>0.866258</td>\n",
       "      <td>8.538490</td>\n",
       "      <td>11.868058</td>\n",
       "      <td>2.20140</td>\n",
       "      <td>41.39286</td>\n",
       "    </tr>\n",
       "    <tr>\n",
       "      <th>1554</th>\n",
       "      <td>543.905788</td>\n",
       "      <td>1</td>\n",
       "      <td>False</td>\n",
       "      <td>False</td>\n",
       "      <td>4</td>\n",
       "      <td>False</td>\n",
       "      <td>1</td>\n",
       "      <td>0</td>\n",
       "      <td>9</td>\n",
       "      <td>94</td>\n",
       "      <td>2.403086</td>\n",
       "      <td>0.607264</td>\n",
       "      <td>9.435073</td>\n",
       "      <td>12.871337</td>\n",
       "      <td>2.19796</td>\n",
       "      <td>41.39219</td>\n",
       "    </tr>\n",
       "  </tbody>\n",
       "</table>\n",
       "<p>1548 rows × 16 columns</p>\n",
       "</div>"
      ],
      "text/plain": [
       "           price  bedrooms  room_shared  room_private  person_capacity  \\\n",
       "0     474.317499         1        False         False                4   \n",
       "1     169.897829         1        False          True                2   \n",
       "2     161.984779         1        False          True                4   \n",
       "3     367.956804         1        False         False                3   \n",
       "4     196.895292         1        False          True                3   \n",
       "...          ...       ...          ...           ...              ...   \n",
       "1549  300.928620         1        False          True                2   \n",
       "1550  769.660437         3        False         False                6   \n",
       "1551  318.151139         1        False          True                2   \n",
       "1552  248.562851         1        False          True                2   \n",
       "1554  543.905788         1        False         False                4   \n",
       "\n",
       "      superhost  multi  biz  cleanliness  guest_satisfaction      dist  \\\n",
       "0         False      0    1           10                  91  1.111996   \n",
       "1          True      1    0           10                  88  1.751839   \n",
       "2         False      0    1            9                  88  1.670493   \n",
       "3         False      0    1           10                  91  1.475847   \n",
       "4         False      1    0            9                  91  1.855452   \n",
       "...         ...    ...  ...          ...                 ...       ...   \n",
       "1549      False      0    0           10                 100  2.394839   \n",
       "1550      False      0    1            8                  84  2.503374   \n",
       "1551       True      1    0            9                  98  2.619616   \n",
       "1552       True      1    0           10                  98  2.700091   \n",
       "1554      False      1    0            9                  94  2.403086   \n",
       "\n",
       "      metro_dist  attr_index  rest_index      lng       lat  \n",
       "0       0.630491   17.942927   20.154890  2.17556  41.39624  \n",
       "1       0.124017   10.910462   17.484489  2.14906  41.38714  \n",
       "2       0.080322   11.726595   18.505814  2.15357  41.37859  \n",
       "3       0.093107   13.634603   20.837357  2.16839  41.37390  \n",
       "4       0.272486   11.793678   17.440874  2.15238  41.37699  \n",
       "...          ...         ...         ...      ...       ...  \n",
       "1549    0.954952    9.709902   12.430326  2.19590  41.39637  \n",
       "1550    0.554007    9.075307   14.946029  2.19991  41.38834  \n",
       "1551    0.761843    8.747713   12.276081  2.20066  41.39204  \n",
       "1552    0.866258    8.538490   11.868058  2.20140  41.39286  \n",
       "1554    0.607264    9.435073   12.871337  2.19796  41.39219  \n",
       "\n",
       "[1548 rows x 16 columns]"
      ]
     },
     "execution_count": 14,
     "metadata": {},
     "output_type": "execute_result"
    }
   ],
   "source": [
    "df_1"
   ]
  },
  {
   "cell_type": "code",
   "execution_count": 15,
   "id": "5dc2fb30",
   "metadata": {},
   "outputs": [
    {
     "data": {
      "text/plain": [
       "<Axes: >"
      ]
     },
     "execution_count": 15,
     "metadata": {},
     "output_type": "execute_result"
    },
    {
     "data": {
      "image/png": "[encoded data removed]",
      "text/plain": [
       "<Figure size 640x480 with 1 Axes>"
      ]
     },
     "metadata": {},
     "output_type": "display_data"
    }
   ],
   "source": [
    "df_1['price'].hist()"
   ]
  },
  {
   "cell_type": "code",
   "execution_count": 16,
   "id": "068c2f09",
   "metadata": {},
   "outputs": [
    {
     "data": {
      "text/plain": [
       "1.8182640666147285"
      ]
     },
     "execution_count": 16,
     "metadata": {},
     "output_type": "execute_result"
    }
   ],
   "source": [
    "df_1['price'].skew()"
   ]
  },
  {
   "cell_type": "markdown",
   "id": "4589b488",
   "metadata": {},
   "source": [
    "Findings: The above histogram is plotted after removing the outliers and the distribution is still right skewed, but the skewness is reduced from 13.31 to 1.82. Since the distribution is positively skewed, we can see most of the data points falls on the left side of the mean."
   ]
  },
  {
   "cell_type": "markdown",
   "id": "c2b91280",
   "metadata": {},
   "source": [
    "5. How many superhosts are there? Create a graph to display as well."
   ]
  },
  {
   "cell_type": "code",
   "execution_count": 17,
   "id": "48a377e3",
   "metadata": {},
   "outputs": [
    {
     "data": {
      "text/plain": [
       "False    1269\n",
       "True      279\n",
       "Name: superhost, dtype: int64"
      ]
     },
     "execution_count": 17,
     "metadata": {},
     "output_type": "execute_result"
    }
   ],
   "source": [
    "df_1['superhost'].value_counts()"
   ]
  },
  {
   "cell_type": "code",
   "execution_count": 18,
   "id": "fdd2633e",
   "metadata": {},
   "outputs": [
    {
     "name": "stderr",
     "output_type": "stream",
     "text": [
      "C:\\Users\\siris\\AppData\\Local\\Temp\\ipykernel_22376\\2371285630.py:2: MatplotlibDeprecationWarning: The seaborn styles shipped by Matplotlib are deprecated since 3.6, as they no longer correspond to the styles shipped by seaborn. However, they will remain available as 'seaborn-v0_8-<style>'. Alternatively, directly use the seaborn API instead.\n",
      "  plt.style.use('seaborn-whitegrid')\n"
     ]
    },
    {
     "data": {
      "text/plain": [
       "<Axes: xlabel='superhost', ylabel='count'>"
      ]
     },
     "execution_count": 18,
     "metadata": {},
     "output_type": "execute_result"
    },
    {
     "data": {
      "text/plain": [
       "Text(0.5, 1.0, 'Counts of Superhosts and Non-superhosts')"
      ]
     },
     "execution_count": 18,
     "metadata": {},
     "output_type": "execute_result"
    },
    {
     "data": {
      "image/png": "[encoded data removed]",
      "text/plain": [
       "<Figure size 800x400 with 1 Axes>"
      ]
     },
     "metadata": {},
     "output_type": "display_data"
    }
   ],
   "source": [
    "#plotting the graph for superhost\n",
    "plt.style.use('seaborn-whitegrid')\n",
    "fig=plt.figure(figsize=(8,4))\n",
    "sns.countplot(x='superhost',data=df)\n",
    "plt.title(\"Counts of Superhosts and Non-superhosts\")"
   ]
  },
  {
   "cell_type": "markdown",
   "id": "e31a5424",
   "metadata": {},
   "source": [
    "Findings: There are 279 hosts with the superhost status and 1269 hosts without the superhost status."
   ]
  },
  {
   "cell_type": "markdown",
   "id": "3943c631",
   "metadata": {},
   "source": [
    "6. Is there possible correlation between the distance to the closest metro station and price?"
   ]
  },
  {
   "cell_type": "code",
   "execution_count": 19,
   "id": "7a1e1d15",
   "metadata": {},
   "outputs": [
    {
     "data": {
      "text/plain": [
       "-0.039420166571084575"
      ]
     },
     "execution_count": 19,
     "metadata": {},
     "output_type": "execute_result"
    }
   ],
   "source": [
    "#to find the correlation between two variables\n",
    "df_1['metro_dist'].corr(df_1['price']) "
   ]
  },
  {
   "cell_type": "code",
   "execution_count": 20,
   "id": "ab428bc6",
   "metadata": {},
   "outputs": [
    {
     "data": {
      "text/plain": [
       "<Axes: xlabel='metro_dist', ylabel='price'>"
      ]
     },
     "execution_count": 20,
     "metadata": {},
     "output_type": "execute_result"
    },
    {
     "data": {
      "text/plain": [
       "Text(0.5, 1.0, 'Correlation between metro_dist and price')"
      ]
     },
     "execution_count": 20,
     "metadata": {},
     "output_type": "execute_result"
    },
    {
     "data": {
      "image/png": "[encoded data removed]",
      "text/plain": [
       "<Figure size 640x480 with 1 Axes>"
      ]
     },
     "metadata": {},
     "output_type": "display_data"
    }
   ],
   "source": [
    "sns.scatterplot(x='metro_dist', y='price', data=df_1)\n",
    "plt.title('Correlation between metro_dist and price')"
   ]
  },
  {
   "cell_type": "markdown",
   "id": "86a4c7e9",
   "metadata": {},
   "source": [
    "Findings: Correlation determines the strength of the relationship between two variables and the range of correlation is -1 to +1. Since the correlation between the distance to the closest metro station and price is -0.04, there is a very low negative correlation between these two variables."
   ]
  },
  {
   "cell_type": "markdown",
   "id": "dbd07efa",
   "metadata": {},
   "source": [
    "7. Run a linear regression model with the dataset. 'price' is the target variable and all other features (except longitude and latitude) as predictor variables. Follow the steps we have practiced in class. Display the results.<br>\n",
    "    Hint: You need to turn True/False Boolean variables (room_private, room_shared, and superhost) into 1/0 before applying statsmodels models. You can use .astype(int). Remember to save the changes by assigning the changed outcome back to the variable, such as <i>car['price'] = car['price']/1000</i>."
   ]
  },
  {
   "cell_type": "code",
   "execution_count": 21,
   "id": "c7ab7986",
   "metadata": {},
   "outputs": [
    {
     "name": "stderr",
     "output_type": "stream",
     "text": [
      "C:\\Users\\siris\\AppData\\Local\\Temp\\ipykernel_22376\\183193052.py:1: SettingWithCopyWarning: \n",
      "A value is trying to be set on a copy of a slice from a DataFrame.\n",
      "Try using .loc[row_indexer,col_indexer] = value instead\n",
      "\n",
      "See the caveats in the documentation: https://pandas.pydata.org/pandas-docs/stable/user_guide/indexing.html#returning-a-view-versus-a-copy\n",
      "  df_1['room_private'] = df_1['room_private'].astype(int)\n",
      "C:\\Users\\siris\\AppData\\Local\\Temp\\ipykernel_22376\\183193052.py:2: SettingWithCopyWarning: \n",
      "A value is trying to be set on a copy of a slice from a DataFrame.\n",
      "Try using .loc[row_indexer,col_indexer] = value instead\n",
      "\n",
      "See the caveats in the documentation: https://pandas.pydata.org/pandas-docs/stable/user_guide/indexing.html#returning-a-view-versus-a-copy\n",
      "  df_1['room_shared'] = df_1['room_shared'].astype(int)\n",
      "C:\\Users\\siris\\AppData\\Local\\Temp\\ipykernel_22376\\183193052.py:3: SettingWithCopyWarning: \n",
      "A value is trying to be set on a copy of a slice from a DataFrame.\n",
      "Try using .loc[row_indexer,col_indexer] = value instead\n",
      "\n",
      "See the caveats in the documentation: https://pandas.pydata.org/pandas-docs/stable/user_guide/indexing.html#returning-a-view-versus-a-copy\n",
      "  df_1['superhost'] = df_1['superhost'].astype(int)\n"
     ]
    }
   ],
   "source": [
    "df_1['room_private'] = df_1['room_private'].astype(int)\n",
    "df_1['room_shared'] = df_1['room_shared'].astype(int)\n",
    "df_1['superhost'] = df_1['superhost'].astype(int)"
   ]
  },
  {
   "cell_type": "code",
   "execution_count": 22,
   "id": "9c458777",
   "metadata": {},
   "outputs": [
    {
     "data": {
      "text/plain": [
       "price                 float64\n",
       "bedrooms                int64\n",
       "room_shared             int32\n",
       "room_private            int32\n",
       "person_capacity         int64\n",
       "superhost               int32\n",
       "multi                   int64\n",
       "biz                     int64\n",
       "cleanliness             int64\n",
       "guest_satisfaction      int64\n",
       "dist                  float64\n",
       "metro_dist            float64\n",
       "attr_index            float64\n",
       "rest_index            float64\n",
       "lng                   float64\n",
       "lat                   float64\n",
       "dtype: object"
      ]
     },
     "execution_count": 22,
     "metadata": {},
     "output_type": "execute_result"
    }
   ],
   "source": [
    "df_1.dtypes"
   ]
  },
  {
   "cell_type": "code",
   "execution_count": 23,
   "id": "211aead4",
   "metadata": {},
   "outputs": [
    {
     "data": {
      "text/html": [
       "<div>\n",
       "<style scoped>\n",
       "    .dataframe tbody tr th:only-of-type {\n",
       "        vertical-align: middle;\n",
       "    }\n",
       "\n",
       "    .dataframe tbody tr th {\n",
       "        vertical-align: top;\n",
       "    }\n",
       "\n",
       "    .dataframe thead th {\n",
       "        text-align: right;\n",
       "    }\n",
       "</style>\n",
       "<table border=\"1\" class=\"dataframe\">\n",
       "  <thead>\n",
       "    <tr style=\"text-align: right;\">\n",
       "      <th></th>\n",
       "      <th>price</th>\n",
       "      <th>bedrooms</th>\n",
       "      <th>room_shared</th>\n",
       "      <th>room_private</th>\n",
       "      <th>person_capacity</th>\n",
       "      <th>superhost</th>\n",
       "      <th>multi</th>\n",
       "      <th>biz</th>\n",
       "      <th>cleanliness</th>\n",
       "      <th>guest_satisfaction</th>\n",
       "      <th>dist</th>\n",
       "      <th>metro_dist</th>\n",
       "      <th>attr_index</th>\n",
       "      <th>rest_index</th>\n",
       "      <th>lng</th>\n",
       "      <th>lat</th>\n",
       "    </tr>\n",
       "  </thead>\n",
       "  <tbody>\n",
       "    <tr>\n",
       "      <th>0</th>\n",
       "      <td>474.317499</td>\n",
       "      <td>1</td>\n",
       "      <td>0</td>\n",
       "      <td>0</td>\n",
       "      <td>4</td>\n",
       "      <td>0</td>\n",
       "      <td>0</td>\n",
       "      <td>1</td>\n",
       "      <td>10</td>\n",
       "      <td>91</td>\n",
       "      <td>1.111996</td>\n",
       "      <td>0.630491</td>\n",
       "      <td>17.942927</td>\n",
       "      <td>20.154890</td>\n",
       "      <td>2.17556</td>\n",
       "      <td>41.39624</td>\n",
       "    </tr>\n",
       "    <tr>\n",
       "      <th>1</th>\n",
       "      <td>169.897829</td>\n",
       "      <td>1</td>\n",
       "      <td>0</td>\n",
       "      <td>1</td>\n",
       "      <td>2</td>\n",
       "      <td>1</td>\n",
       "      <td>1</td>\n",
       "      <td>0</td>\n",
       "      <td>10</td>\n",
       "      <td>88</td>\n",
       "      <td>1.751839</td>\n",
       "      <td>0.124017</td>\n",
       "      <td>10.910462</td>\n",
       "      <td>17.484489</td>\n",
       "      <td>2.14906</td>\n",
       "      <td>41.38714</td>\n",
       "    </tr>\n",
       "    <tr>\n",
       "      <th>2</th>\n",
       "      <td>161.984779</td>\n",
       "      <td>1</td>\n",
       "      <td>0</td>\n",
       "      <td>1</td>\n",
       "      <td>4</td>\n",
       "      <td>0</td>\n",
       "      <td>0</td>\n",
       "      <td>1</td>\n",
       "      <td>9</td>\n",
       "      <td>88</td>\n",
       "      <td>1.670493</td>\n",
       "      <td>0.080322</td>\n",
       "      <td>11.726595</td>\n",
       "      <td>18.505814</td>\n",
       "      <td>2.15357</td>\n",
       "      <td>41.37859</td>\n",
       "    </tr>\n",
       "    <tr>\n",
       "      <th>3</th>\n",
       "      <td>367.956804</td>\n",
       "      <td>1</td>\n",
       "      <td>0</td>\n",
       "      <td>0</td>\n",
       "      <td>3</td>\n",
       "      <td>0</td>\n",
       "      <td>0</td>\n",
       "      <td>1</td>\n",
       "      <td>10</td>\n",
       "      <td>91</td>\n",
       "      <td>1.475847</td>\n",
       "      <td>0.093107</td>\n",
       "      <td>13.634603</td>\n",
       "      <td>20.837357</td>\n",
       "      <td>2.16839</td>\n",
       "      <td>41.37390</td>\n",
       "    </tr>\n",
       "    <tr>\n",
       "      <th>4</th>\n",
       "      <td>196.895292</td>\n",
       "      <td>1</td>\n",
       "      <td>0</td>\n",
       "      <td>1</td>\n",
       "      <td>3</td>\n",
       "      <td>0</td>\n",
       "      <td>1</td>\n",
       "      <td>0</td>\n",
       "      <td>9</td>\n",
       "      <td>91</td>\n",
       "      <td>1.855452</td>\n",
       "      <td>0.272486</td>\n",
       "      <td>11.793678</td>\n",
       "      <td>17.440874</td>\n",
       "      <td>2.15238</td>\n",
       "      <td>41.37699</td>\n",
       "    </tr>\n",
       "  </tbody>\n",
       "</table>\n",
       "</div>"
      ],
      "text/plain": [
       "        price  bedrooms  room_shared  room_private  person_capacity  \\\n",
       "0  474.317499         1            0             0                4   \n",
       "1  169.897829         1            0             1                2   \n",
       "2  161.984779         1            0             1                4   \n",
       "3  367.956804         1            0             0                3   \n",
       "4  196.895292         1            0             1                3   \n",
       "\n",
       "   superhost  multi  biz  cleanliness  guest_satisfaction      dist  \\\n",
       "0          0      0    1           10                  91  1.111996   \n",
       "1          1      1    0           10                  88  1.751839   \n",
       "2          0      0    1            9                  88  1.670493   \n",
       "3          0      0    1           10                  91  1.475847   \n",
       "4          0      1    0            9                  91  1.855452   \n",
       "\n",
       "   metro_dist  attr_index  rest_index      lng       lat  \n",
       "0    0.630491   17.942927   20.154890  2.17556  41.39624  \n",
       "1    0.124017   10.910462   17.484489  2.14906  41.38714  \n",
       "2    0.080322   11.726595   18.505814  2.15357  41.37859  \n",
       "3    0.093107   13.634603   20.837357  2.16839  41.37390  \n",
       "4    0.272486   11.793678   17.440874  2.15238  41.37699  "
      ]
     },
     "execution_count": 23,
     "metadata": {},
     "output_type": "execute_result"
    }
   ],
   "source": [
    "df_1.head()"
   ]
  },
  {
   "cell_type": "code",
   "execution_count": 24,
   "id": "eb3de14c",
   "metadata": {},
   "outputs": [],
   "source": [
    "x = df_1.iloc[:, 1:14]\n",
    "y = df_1['price']\n",
    "\n",
    "X_with_intercept = sm.add_constant(x)\n",
    "\n",
    "# Fit the linear regression model\n",
    "model = sm.OLS(y, X_with_intercept)\n",
    "results = model.fit()"
   ]
  },
  {
   "cell_type": "code",
   "execution_count": 25,
   "id": "7e9afa86",
   "metadata": {},
   "outputs": [
    {
     "data": {
      "text/html": [
       "<table class=\"simpletable\">\n",
       "<caption>OLS Regression Results</caption>\n",
       "<tr>\n",
       "  <th>Dep. Variable:</th>          <td>price</td>      <th>  R-squared:         </th> <td>   0.693</td> \n",
       "</tr>\n",
       "<tr>\n",
       "  <th>Model:</th>                   <td>OLS</td>       <th>  Adj. R-squared:    </th> <td>   0.691</td> \n",
       "</tr>\n",
       "<tr>\n",
       "  <th>Method:</th>             <td>Least Squares</td>  <th>  F-statistic:       </th> <td>   266.7</td> \n",
       "</tr>\n",
       "<tr>\n",
       "  <th>Date:</th>             <td>Tue, 20 Feb 2024</td> <th>  Prob (F-statistic):</th>  <td>  0.00</td>  \n",
       "</tr>\n",
       "<tr>\n",
       "  <th>Time:</th>                 <td>21:27:52</td>     <th>  Log-Likelihood:    </th> <td> -9274.5</td> \n",
       "</tr>\n",
       "<tr>\n",
       "  <th>No. Observations:</th>      <td>  1548</td>      <th>  AIC:               </th> <td>1.858e+04</td>\n",
       "</tr>\n",
       "<tr>\n",
       "  <th>Df Residuals:</th>          <td>  1534</td>      <th>  BIC:               </th> <td>1.865e+04</td>\n",
       "</tr>\n",
       "<tr>\n",
       "  <th>Df Model:</th>              <td>    13</td>      <th>                     </th>     <td> </td>    \n",
       "</tr>\n",
       "<tr>\n",
       "  <th>Covariance Type:</th>      <td>nonrobust</td>    <th>                     </th>     <td> </td>    \n",
       "</tr>\n",
       "</table>\n",
       "<table class=\"simpletable\">\n",
       "<tr>\n",
       "           <td></td>             <th>coef</th>     <th>std err</th>      <th>t</th>      <th>P>|t|</th>  <th>[0.025</th>    <th>0.975]</th>  \n",
       "</tr>\n",
       "<tr>\n",
       "  <th>const</th>              <td>   96.4191</td> <td>   35.751</td> <td>    2.697</td> <td> 0.007</td> <td>   26.294</td> <td>  166.545</td>\n",
       "</tr>\n",
       "<tr>\n",
       "  <th>bedrooms</th>           <td>   38.0055</td> <td>    6.858</td> <td>    5.542</td> <td> 0.000</td> <td>   24.553</td> <td>   51.458</td>\n",
       "</tr>\n",
       "<tr>\n",
       "  <th>room_shared</th>        <td> -270.6826</td> <td>   35.552</td> <td>   -7.614</td> <td> 0.000</td> <td> -340.418</td> <td> -200.947</td>\n",
       "</tr>\n",
       "<tr>\n",
       "  <th>room_private</th>       <td> -169.8302</td> <td>    9.195</td> <td>  -18.470</td> <td> 0.000</td> <td> -187.866</td> <td> -151.794</td>\n",
       "</tr>\n",
       "<tr>\n",
       "  <th>person_capacity</th>    <td>   47.5661</td> <td>    3.574</td> <td>   13.310</td> <td> 0.000</td> <td>   40.556</td> <td>   54.576</td>\n",
       "</tr>\n",
       "<tr>\n",
       "  <th>superhost</th>          <td>   15.5403</td> <td>    6.797</td> <td>    2.286</td> <td> 0.022</td> <td>    2.207</td> <td>   28.873</td>\n",
       "</tr>\n",
       "<tr>\n",
       "  <th>multi</th>              <td>   -3.8143</td> <td>    6.241</td> <td>   -0.611</td> <td> 0.541</td> <td>  -16.056</td> <td>    8.428</td>\n",
       "</tr>\n",
       "<tr>\n",
       "  <th>biz</th>                <td>   19.1618</td> <td>    7.005</td> <td>    2.736</td> <td> 0.006</td> <td>    5.422</td> <td>   32.901</td>\n",
       "</tr>\n",
       "<tr>\n",
       "  <th>cleanliness</th>        <td>   -2.7610</td> <td>    3.567</td> <td>   -0.774</td> <td> 0.439</td> <td>   -9.757</td> <td>    4.235</td>\n",
       "</tr>\n",
       "<tr>\n",
       "  <th>guest_satisfaction</th> <td>    1.5329</td> <td>    0.425</td> <td>    3.609</td> <td> 0.000</td> <td>    0.700</td> <td>    2.366</td>\n",
       "</tr>\n",
       "<tr>\n",
       "  <th>dist</th>               <td>  -10.6433</td> <td>    3.450</td> <td>   -3.085</td> <td> 0.002</td> <td>  -17.411</td> <td>   -3.876</td>\n",
       "</tr>\n",
       "<tr>\n",
       "  <th>metro_dist</th>         <td>   23.3560</td> <td>   10.040</td> <td>    2.326</td> <td> 0.020</td> <td>    3.662</td> <td>   43.051</td>\n",
       "</tr>\n",
       "<tr>\n",
       "  <th>attr_index</th>         <td>    0.6253</td> <td>    0.387</td> <td>    1.614</td> <td> 0.107</td> <td>   -0.135</td> <td>    1.385</td>\n",
       "</tr>\n",
       "<tr>\n",
       "  <th>rest_index</th>         <td>    0.6377</td> <td>    0.479</td> <td>    1.332</td> <td> 0.183</td> <td>   -0.301</td> <td>    1.577</td>\n",
       "</tr>\n",
       "</table>\n",
       "<table class=\"simpletable\">\n",
       "<tr>\n",
       "  <th>Omnibus:</th>       <td>561.132</td> <th>  Durbin-Watson:     </th> <td>   1.657</td>\n",
       "</tr>\n",
       "<tr>\n",
       "  <th>Prob(Omnibus):</th> <td> 0.000</td>  <th>  Jarque-Bera (JB):  </th> <td>3437.329</td>\n",
       "</tr>\n",
       "<tr>\n",
       "  <th>Skew:</th>          <td> 1.562</td>  <th>  Prob(JB):          </th> <td>    0.00</td>\n",
       "</tr>\n",
       "<tr>\n",
       "  <th>Kurtosis:</th>      <td> 9.598</td>  <th>  Cond. No.          </th> <td>1.41e+03</td>\n",
       "</tr>\n",
       "</table><br/><br/>Notes:<br/>[1] Standard Errors assume that the covariance matrix of the errors is correctly specified.<br/>[2] The condition number is large, 1.41e+03. This might indicate that there are<br/>strong multicollinearity or other numerical problems."
      ],
      "text/plain": [
       "<class 'statsmodels.iolib.summary.Summary'>\n",
       "\"\"\"\n",
       "                            OLS Regression Results                            \n",
       "==============================================================================\n",
       "Dep. Variable:                  price   R-squared:                       0.693\n",
       "Model:                            OLS   Adj. R-squared:                  0.691\n",
       "Method:                 Least Squares   F-statistic:                     266.7\n",
       "Date:                Tue, 20 Feb 2024   Prob (F-statistic):               0.00\n",
       "Time:                        21:27:52   Log-Likelihood:                -9274.5\n",
       "No. Observations:                1548   AIC:                         1.858e+04\n",
       "Df Residuals:                    1534   BIC:                         1.865e+04\n",
       "Df Model:                          13                                         \n",
       "Covariance Type:            nonrobust                                         \n",
       "======================================================================================\n",
       "                         coef    std err          t      P>|t|      [0.025      0.975]\n",
       "--------------------------------------------------------------------------------------\n",
       "const                 96.4191     35.751      2.697      0.007      26.294     166.545\n",
       "bedrooms              38.0055      6.858      5.542      0.000      24.553      51.458\n",
       "room_shared         -270.6826     35.552     -7.614      0.000    -340.418    -200.947\n",
       "room_private        -169.8302      9.195    -18.470      0.000    -187.866    -151.794\n",
       "person_capacity       47.5661      3.574     13.310      0.000      40.556      54.576\n",
       "superhost             15.5403      6.797      2.286      0.022       2.207      28.873\n",
       "multi                 -3.8143      6.241     -0.611      0.541     -16.056       8.428\n",
       "biz                   19.1618      7.005      2.736      0.006       5.422      32.901\n",
       "cleanliness           -2.7610      3.567     -0.774      0.439      -9.757       4.235\n",
       "guest_satisfaction     1.5329      0.425      3.609      0.000       0.700       2.366\n",
       "dist                 -10.6433      3.450     -3.085      0.002     -17.411      -3.876\n",
       "metro_dist            23.3560     10.040      2.326      0.020       3.662      43.051\n",
       "attr_index             0.6253      0.387      1.614      0.107      -0.135       1.385\n",
       "rest_index             0.6377      0.479      1.332      0.183      -0.301       1.577\n",
       "==============================================================================\n",
       "Omnibus:                      561.132   Durbin-Watson:                   1.657\n",
       "Prob(Omnibus):                  0.000   Jarque-Bera (JB):             3437.329\n",
       "Skew:                           1.562   Prob(JB):                         0.00\n",
       "Kurtosis:                       9.598   Cond. No.                     1.41e+03\n",
       "==============================================================================\n",
       "\n",
       "Notes:\n",
       "[1] Standard Errors assume that the covariance matrix of the errors is correctly specified.\n",
       "[2] The condition number is large, 1.41e+03. This might indicate that there are\n",
       "strong multicollinearity or other numerical problems.\n",
       "\"\"\""
      ]
     },
     "execution_count": 25,
     "metadata": {},
     "output_type": "execute_result"
    }
   ],
   "source": [
    "results.summary()"
   ]
  },
  {
   "cell_type": "markdown",
   "id": "816b8292",
   "metadata": {},
   "source": [
    "Findings: After performing the OLS model on the data set, the R-squared value is 0.693 and the Adj. R-squared value is 0.691. Since multiple independent variables are used in the model, we will consider the Adj. R-squared value which indicates that 69.1% of variation in the price variable is explained by the model."
   ]
  },
  {
   "cell_type": "markdown",
   "id": "389364c8",
   "metadata": {},
   "source": [
    "8. Which variables are important to predict the prices? Which are not?"
   ]
  },
  {
   "cell_type": "code",
   "execution_count": 30,
   "id": "d2e6b8f6",
   "metadata": {},
   "outputs": [],
   "source": [
    "p_values_list = results.pvalues.reset_index() #extracting the p_value"
   ]
  },
  {
   "cell_type": "code",
   "execution_count": 31,
   "id": "9e34d30b",
   "metadata": {},
   "outputs": [],
   "source": [
    "p_values_list.columns = ['variables','p_value']"
   ]
  },
  {
   "cell_type": "code",
   "execution_count": 36,
   "id": "a333c32c",
   "metadata": {},
   "outputs": [],
   "source": [
    "significant_variables = p_values_list[p_values_list['p_value'] < 0.05]['variables'].tolist() #checking the p_value with significance level=0.05 "
   ]
  },
  {
   "cell_type": "code",
   "execution_count": 39,
   "id": "8f3c08cf",
   "metadata": {},
   "outputs": [],
   "source": [
    "significant_variables = significant_variables[1:]"
   ]
  },
  {
   "cell_type": "code",
   "execution_count": 40,
   "id": "5de33a7d",
   "metadata": {},
   "outputs": [
    {
     "data": {
      "text/plain": [
       "['bedrooms',\n",
       " 'room_shared',\n",
       " 'room_private',\n",
       " 'person_capacity',\n",
       " 'superhost',\n",
       " 'biz',\n",
       " 'guest_satisfaction',\n",
       " 'dist',\n",
       " 'metro_dist']"
      ]
     },
     "execution_count": 40,
     "metadata": {},
     "output_type": "execute_result"
    }
   ],
   "source": [
    "significant_variables"
   ]
  },
  {
   "cell_type": "code",
   "execution_count": 41,
   "id": "68ce33da",
   "metadata": {},
   "outputs": [],
   "source": [
    "insignificant_variables = p_values_list[p_values_list['p_value'] > 0.05]['variables'].tolist()"
   ]
  },
  {
   "cell_type": "code",
   "execution_count": 42,
   "id": "00e67b46",
   "metadata": {},
   "outputs": [
    {
     "data": {
      "text/plain": [
       "['multi', 'cleanliness', 'attr_index', 'rest_index']"
      ]
     },
     "execution_count": 42,
     "metadata": {},
     "output_type": "execute_result"
    }
   ],
   "source": [
    "insignificant_variables"
   ]
  },
  {
   "cell_type": "markdown",
   "id": "2cafd3a9",
   "metadata": {},
   "source": [
    "To consider which predictors are important in predicting the price, we have to look at the p-values of the independent variables. If the p-value of the independent variable is less that 0.05 (5%), then the variable is significant for predicting the price.\n",
    "\n",
    "From the above model results, the variables that are important for predicting the price are:\n",
    "bedrooms, room_shared, room_private, person_capacity, superhost, biz, guest_satisfaction, dist and metro_dist\n",
    "\n",
    "The variables that are not important for predicting the price are:\n",
    "multi, cleanliness, attr_index  and rest_index."
   ]
  },
  {
   "cell_type": "markdown",
   "id": "892f79cc",
   "metadata": {},
   "source": [
    "9. Interpret the impact of metro_dist on the price."
   ]
  },
  {
   "cell_type": "markdown",
   "id": "210f23f9",
   "metadata": {},
   "source": [
    "Interpretation: As the distance to the closest metro station increases by 1 kilometre, the price of the Airbnb is increased by 23.3560."
   ]
  },
  {
   "cell_type": "markdown",
   "id": "590b6279",
   "metadata": {},
   "source": [
    "10. Interpret the impact of being a superhost."
   ]
  },
  {
   "cell_type": "markdown",
   "id": "d34c0e33",
   "metadata": {},
   "source": [
    "A host with superhost status are predicted to have 15.5403 higher price than a host without superhost status, holding all other factors in the model constant."
   ]
  },
  {
   "cell_type": "code",
   "execution_count": null,
   "id": "7bc9315f",
   "metadata": {},
   "outputs": [],
   "source": []
  }
 ],
 "metadata": {
  "kernelspec": {
   "display_name": "Python 3 (ipykernel)",
   "language": "python",
   "name": "python3"
  },
  "language_info": {
   "codemirror_mode": {
    "name": "ipython",
    "version": 3
   },
   "file_extension": ".py",
   "mimetype": "text/x-python",
   "name": "python",
   "nbconvert_exporter": "python",
   "pygments_lexer": "ipython3",
   "version": "3.10.9"
  }
 },
 "nbformat": 4,
 "nbformat_minor": 5
}
