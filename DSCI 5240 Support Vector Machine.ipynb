{
 "cells": [
  {
   "cell_type": "markdown",
   "id": "d9d5943f",
   "metadata": {},
   "source": [
    "### Support Vector Machine"
   ]
  },
  {
   "cell_type": "code",
   "execution_count": null,
   "id": "8c377812",
   "metadata": {},
   "outputs": [],
   "source": [
    "# This code appears in every demonstration Notebook.\n",
    "# By default, when you run each cell, only the last output of the codes will show.\n",
    "# This code makes all outputs of a cell show.\n",
    "from IPython.core.interactiveshell import InteractiveShell\n",
    "InteractiveShell.ast_node_interactivity = \"all\""
   ]
  },
  {
   "cell_type": "markdown",
   "id": "c2cdb2bb",
   "metadata": {},
   "source": [
    "1. Import libraries"
   ]
  },
  {
   "cell_type": "code",
   "execution_count": null,
   "id": "1ddcd9db",
   "metadata": {},
   "outputs": [],
   "source": [
    "import pandas as pd\n",
    "import numpy as np\n",
    "import matplotlib.pyplot as plt\n",
    "from sklearn.model_selection import train_test_split\n",
    "import sklearn.model_selection as skm # This is for cross-validation grid search\n",
    "from sklearn.svm import SVC # SVM module\n",
    "from sklearn.metrics import accuracy_score, confusion_matrix"
   ]
  },
  {
   "cell_type": "markdown",
   "id": "b39b8485",
   "metadata": {},
   "source": [
    "2. Import Carseats dataset"
   ]
  },
  {
   "cell_type": "code",
   "execution_count": null,
   "id": "67356283",
   "metadata": {},
   "outputs": [],
   "source": [
    "Carseats = pd.read_csv('Carseats.csv')"
   ]
  },
  {
   "cell_type": "code",
   "execution_count": null,
   "id": "e8c18161",
   "metadata": {
    "scrolled": true
   },
   "outputs": [],
   "source": [
    "Carseats.info()\n",
    "Carseats.head()"
   ]
  },
  {
   "cell_type": "markdown",
   "id": "f82b60a2",
   "metadata": {},
   "source": [
    "3. We intend to classify the sales of carseats into high or low categories.<br>\n",
    "First, we need to transform the numeric 'Sales' into high/low categories."
   ]
  },
  {
   "cell_type": "code",
   "execution_count": null,
   "id": "6081bb01",
   "metadata": {},
   "outputs": [],
   "source": [
    "# The variable we create will be our y.\n",
    "Carseats['Sales_c'] = pd.cut(Carseats['Sales'], bins = [-1, Carseats['Sales'].mean(), float('inf')], labels = ['low', 'high'])"
   ]
  },
  {
   "cell_type": "code",
   "execution_count": null,
   "id": "1a27f4c8",
   "metadata": {},
   "outputs": [],
   "source": [
    "Carseats['Sales_c'].value_counts()"
   ]
  },
  {
   "cell_type": "markdown",
   "id": "a633c649",
   "metadata": {},
   "source": [
    "4. Prepare X and y"
   ]
  },
  {
   "cell_type": "code",
   "execution_count": null,
   "id": "9015f1ed",
   "metadata": {},
   "outputs": [],
   "source": [
    "# Drop the dependent variable from Carseats to get X\n",
    "X = Carseats.drop(['Sales', 'Sales_c', 'CompPrice'], axis = 1)\n",
    "y = Carseats['Sales_c']"
   ]
  },
  {
   "cell_type": "code",
   "execution_count": null,
   "id": "3b0d3b2a",
   "metadata": {},
   "outputs": [],
   "source": [
    "X.head()"
   ]
  },
  {
   "cell_type": "code",
   "execution_count": null,
   "id": "830c34d2",
   "metadata": {},
   "outputs": [],
   "source": [
    "X = pd.get_dummies(X, columns = ['ShelveLoc', 'Urban', 'US'], drop_first=True)"
   ]
  },
  {
   "cell_type": "markdown",
   "id": "9cc97c5f",
   "metadata": {},
   "source": [
    "5. Split training and test datasets"
   ]
  },
  {
   "cell_type": "code",
   "execution_count": null,
   "id": "67f29388",
   "metadata": {},
   "outputs": [],
   "source": [
    "X_train, X_test, y_train, y_test = train_test_split(X, y, test_size=0.3, random_state=30)"
   ]
  },
  {
   "cell_type": "code",
   "execution_count": null,
   "id": "4303538b",
   "metadata": {
    "scrolled": true
   },
   "outputs": [],
   "source": [
    "y_train.value_counts()"
   ]
  },
  {
   "cell_type": "markdown",
   "id": "e72c00cb",
   "metadata": {},
   "source": [
    "6. Fit a support vector classifier."
   ]
  },
  {
   "cell_type": "markdown",
   "id": "b7dbf4c9",
   "metadata": {},
   "source": [
    "#### Attention: the C argument mentioned here is different from the Tuning C parameter mentioned in the textbook and slides. They lead to opposite directions."
   ]
  },
  {
   "cell_type": "code",
   "execution_count": null,
   "id": "33b779d4",
   "metadata": {},
   "outputs": [],
   "source": [
    "# Initiating the classifier\n",
    "# The C argument allows us to specify the cost of a violation\n",
    "# to the margin. When the cost argument is small, then the margins will be\n",
    "# wide and many support vectors will be on the margin or will violate the\n",
    "# margin. When the C argument is large, then the margins will be narrow and\n",
    "# there will be few support vectors on the margin or violating the margin.\n",
    "svm_linear = SVC(C = 10, kernel = 'linear')\n",
    "svm_linear.fit(X, y)"
   ]
  },
  {
   "cell_type": "code",
   "execution_count": null,
   "id": "a9bac59c",
   "metadata": {},
   "outputs": [],
   "source": [
    "# Make predictions and check performance\n",
    "svm_linear_pred = svm_linear.predict(X_test)\n",
    "accuracy_score(y_test, svm_linear_pred)\n",
    "confusion_matrix(y_test, svm_linear_pred)"
   ]
  },
  {
   "cell_type": "markdown",
   "id": "b8f2ba40",
   "metadata": {},
   "source": [
    "7. Cross validation to select the best C parameter using grid search.<br>\n",
    "Note: It is computationally expensive."
   ]
  },
  {
   "cell_type": "code",
   "execution_count": null,
   "id": "3eaf47f4",
   "metadata": {},
   "outputs": [],
   "source": [
    "# First define the grid as a dictionary. Here we only have one parameter C.\n",
    "param_grid = {'C':[0.001,0.01,0.1,1,5,10,100]}\n",
    "# Grid search: cv gives the K for K fold cross-validation, scoring gives what metric to evaluate\n",
    "svm_grid = skm.GridSearchCV(svm_linear ,\n",
    "{'C':[0.001,0.01,0.1,1,5,10,100]}, refit=True, cv=5, scoring = 'accuracy')\n",
    "grid.fit(X, y)\n",
    "grid.best_params_"
   ]
  },
  {
   "cell_type": "code",
   "execution_count": null,
   "id": "e8e1afff",
   "metadata": {},
   "outputs": [],
   "source": [
    "# Fit the grid\n",
    "svm_grid.fit(X, y)\n",
    "\n",
    "# Access grid search results by calling the attributes\n",
    "# Best C identified\n",
    "svm_grid.best_params_\n",
    "# Best resulting accuracy\n",
    "svm_grid.best_score_\n",
    "# All CV results. We pay most attention to mean score results\n",
    "svm_grid.cv_results_"
   ]
  },
  {
   "cell_type": "code",
   "execution_count": null,
   "id": "bfd67686",
   "metadata": {},
   "outputs": [],
   "source": [
    "# Then we can use the best selected model to make predictions and examine performance\n",
    "best_svm = grid.best_estimator_\n",
    "best_svm_pred = best_svm.predict(X_test)\n",
    "accuracy_score(y_test, best_svm_pred)\n",
    "confusion_matrix(y_test, best_svm_pred)"
   ]
  },
  {
   "cell_type": "markdown",
   "id": "f849e00a",
   "metadata": {},
   "source": [
    "8. Support Vector Machine: using a non-linear kernel."
   ]
  },
  {
   "cell_type": "code",
   "execution_count": null,
   "id": "bb6e2b0a",
   "metadata": {},
   "outputs": [],
   "source": [
    "# Kernel: radial\n",
    "# Small gamma: Results in a smoother decision boundary, as the influence of a single training\n",
    "# example extends farther. This can lead to underfitting, especially if the data is complex.\n",
    "# Large gamma: Results in a more complex and tightly fit decision boundary, as the influence \n",
    "# of a single training example is more localized. This can lead to overfitting, \n",
    "# especially if the data is noisy.\n",
    "svm_rbf = SVC(kernel=\"rbf\", gamma = 1, C = 1)"
   ]
  },
  {
   "cell_type": "code",
   "execution_count": null,
   "id": "da323cce",
   "metadata": {},
   "outputs": [],
   "source": [
    "svm_rbf.fit(X_train, y_train)"
   ]
  },
  {
   "cell_type": "code",
   "execution_count": null,
   "id": "23e913a1",
   "metadata": {},
   "outputs": [],
   "source": [
    "svm_rbf_pred = svm_rbf.predict(X_test)\n",
    "accuracy_score(y_test, svm_rbf_pred)\n",
    "confusion_matrix(y_test, svm_rbf_pred)"
   ]
  },
  {
   "cell_type": "markdown",
   "id": "31d9974d",
   "metadata": {},
   "source": [
    "9. Change to polynomial kernel"
   ]
  },
  {
   "cell_type": "code",
   "execution_count": null,
   "id": "fc8f415c",
   "metadata": {},
   "outputs": [],
   "source": [
    "# We initialize the SVC with the polynomial kernel by setting kernel='poly'.\n",
    "# The degree parameter specifies the degree of the polynomial kernel (default is 3).\n",
    "# The C parameter controls the regularization strength (default is 1.0).\n",
    "# The gamma parameter controls the kernel coefficient (default is 'scale').\n",
    "svc_poly = SVC(kernel='poly', degree=3, C=1.0, gamma='scale')"
   ]
  },
  {
   "cell_type": "code",
   "execution_count": null,
   "id": "7e394d41",
   "metadata": {},
   "outputs": [],
   "source": [
    "svc_poly.fit(X_train, y_train)\n",
    "svc_poly_pred = svc_poly.predict(X_test)\n",
    "accuracy_score(y_test, svc_poly_pred)\n",
    "confusion_matrix(y_test, svc_poly_pred)"
   ]
  }
 ],
 "metadata": {
  "kernelspec": {
   "display_name": "Python 3",
   "language": "python",
   "name": "python3"
  },
  "language_info": {
   "codemirror_mode": {
    "name": "ipython",
    "version": 3
   },
   "file_extension": ".py",
   "mimetype": "text/x-python",
   "name": "python",
   "nbconvert_exporter": "python",
   "pygments_lexer": "ipython3",
   "version": "3.8.8"
  }
 },
 "nbformat": 4,
 "nbformat_minor": 5
}
