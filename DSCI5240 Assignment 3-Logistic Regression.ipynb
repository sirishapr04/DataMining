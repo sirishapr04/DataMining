{
 "cells": [
  {
   "cell_type": "markdown",
   "id": "56e8d118",
   "metadata": {},
   "source": [
    "### Assignment 3 - Logistic Regression"
   ]
  },
  {
   "cell_type": "code",
   "execution_count": 7,
   "id": "0dae75b9",
   "metadata": {},
   "outputs": [],
   "source": [
    "# This code appears in every demonstration Notebook.\n",
    "# By default, when you run each cell, only the last output of the codes will show.\n",
    "# This code makes all outputs of a cell show.\n",
    "from IPython.core.interactiveshell import InteractiveShell\n",
    "InteractiveShell.ast_node_interactivity = \"all\""
   ]
  },
  {
   "cell_type": "markdown",
   "id": "c30544a1",
   "metadata": {},
   "source": [
    "In this assignment, we will build logistic regression models to detect accounting fraud using financial statement features. <br>\n",
    "The data was collected by Bao et al. (2020) based on the detected material accounting misstatements disclosed in the SEC’s Accounting and Auditing Enforcement Releases (AAERs). <br>\n",
    "The dataset covers all publicly listed U.S. firms over the period 1990– 2014. The variable name of the fraud label is \"misstate\" (1 denotes fraud, and 0 denotes non-fraud). <br>\n",
    "We will use both raw financial data from the financial statements and the financial ratios that are used to evaluate the financial performance of a company for detection.<br>\n",
    "\n",
    "You may find the description of variables in the Word document."
   ]
  },
  {
   "cell_type": "markdown",
   "id": "204eddfa",
   "metadata": {},
   "source": [
    "1. Import the libraries"
   ]
  },
  {
   "cell_type": "code",
   "execution_count": 8,
   "id": "74b2ba6a",
   "metadata": {},
   "outputs": [],
   "source": [
    "import pandas as pd\n",
    "import numpy as np\n",
    "import seaborn as sns\n",
    "import matplotlib.pyplot as plt\n",
    "import statsmodels.api as sm\n",
    "import patsy"
   ]
  },
  {
   "cell_type": "markdown",
   "id": "cf814832",
   "metadata": {},
   "source": [
    "2. Read in the dataset and display basic information about the dataset."
   ]
  },
  {
   "cell_type": "code",
   "execution_count": 9,
   "id": "44c5b0bc",
   "metadata": {},
   "outputs": [],
   "source": [
    "df = pd.read_csv(\"AccountingFraud.csv\")"
   ]
  },
  {
   "cell_type": "code",
   "execution_count": 10,
   "id": "4a68d278",
   "metadata": {},
   "outputs": [
    {
     "data": {
      "text/html": [
       "<div>\n",
       "<style scoped>\n",
       "    .dataframe tbody tr th:only-of-type {\n",
       "        vertical-align: middle;\n",
       "    }\n",
       "\n",
       "    .dataframe tbody tr th {\n",
       "        vertical-align: top;\n",
       "    }\n",
       "\n",
       "    .dataframe thead th {\n",
       "        text-align: right;\n",
       "    }\n",
       "</style>\n",
       "<table border=\"1\" class=\"dataframe\">\n",
       "  <thead>\n",
       "    <tr style=\"text-align: right;\">\n",
       "      <th></th>\n",
       "      <th>fyear</th>\n",
       "      <th>misstate</th>\n",
       "      <th>act</th>\n",
       "      <th>ap</th>\n",
       "      <th>at</th>\n",
       "      <th>ceq</th>\n",
       "      <th>che</th>\n",
       "      <th>cogs</th>\n",
       "      <th>csho</th>\n",
       "      <th>dlc</th>\n",
       "      <th>...</th>\n",
       "      <th>soft_assets</th>\n",
       "      <th>ch_cs</th>\n",
       "      <th>ch_cm</th>\n",
       "      <th>ch_roa</th>\n",
       "      <th>issue</th>\n",
       "      <th>bm</th>\n",
       "      <th>dpi</th>\n",
       "      <th>reoa</th>\n",
       "      <th>EBIT</th>\n",
       "      <th>ch_fcf</th>\n",
       "    </tr>\n",
       "  </thead>\n",
       "  <tbody>\n",
       "    <tr>\n",
       "      <th>0</th>\n",
       "      <td>1990</td>\n",
       "      <td>0</td>\n",
       "      <td>10.047</td>\n",
       "      <td>3.736</td>\n",
       "      <td>32.335</td>\n",
       "      <td>6.262</td>\n",
       "      <td>0.002</td>\n",
       "      <td>30.633</td>\n",
       "      <td>2.526</td>\n",
       "      <td>3.283</td>\n",
       "      <td>...</td>\n",
       "      <td>0.312448</td>\n",
       "      <td>0.095082</td>\n",
       "      <td>0.082631</td>\n",
       "      <td>-0.019761</td>\n",
       "      <td>1</td>\n",
       "      <td>0.413170</td>\n",
       "      <td>0.873555</td>\n",
       "      <td>0.167620</td>\n",
       "      <td>0.161961</td>\n",
       "      <td>-0.042140</td>\n",
       "    </tr>\n",
       "    <tr>\n",
       "      <th>1</th>\n",
       "      <td>1990</td>\n",
       "      <td>0</td>\n",
       "      <td>1.247</td>\n",
       "      <td>0.803</td>\n",
       "      <td>7.784</td>\n",
       "      <td>0.667</td>\n",
       "      <td>0.171</td>\n",
       "      <td>1.125</td>\n",
       "      <td>3.556</td>\n",
       "      <td>0.021</td>\n",
       "      <td>...</td>\n",
       "      <td>0.315904</td>\n",
       "      <td>0.188832</td>\n",
       "      <td>-0.211389</td>\n",
       "      <td>-0.117832</td>\n",
       "      <td>1</td>\n",
       "      <td>0.157887</td>\n",
       "      <td>0.745139</td>\n",
       "      <td>-0.428957</td>\n",
       "      <td>-0.157888</td>\n",
       "      <td>0.100228</td>\n",
       "    </tr>\n",
       "    <tr>\n",
       "      <th>2</th>\n",
       "      <td>1990</td>\n",
       "      <td>0</td>\n",
       "      <td>55.040</td>\n",
       "      <td>3.601</td>\n",
       "      <td>118.120</td>\n",
       "      <td>44.393</td>\n",
       "      <td>3.132</td>\n",
       "      <td>107.343</td>\n",
       "      <td>3.882</td>\n",
       "      <td>6.446</td>\n",
       "      <td>...</td>\n",
       "      <td>0.605342</td>\n",
       "      <td>0.097551</td>\n",
       "      <td>-0.105780</td>\n",
       "      <td>0.091206</td>\n",
       "      <td>1</td>\n",
       "      <td>2.231337</td>\n",
       "      <td>1.015131</td>\n",
       "      <td>0.394768</td>\n",
       "      <td>0.063681</td>\n",
       "      <td>0.066348</td>\n",
       "    </tr>\n",
       "    <tr>\n",
       "      <th>3</th>\n",
       "      <td>1990</td>\n",
       "      <td>0</td>\n",
       "      <td>24.684</td>\n",
       "      <td>3.948</td>\n",
       "      <td>34.591</td>\n",
       "      <td>7.751</td>\n",
       "      <td>0.411</td>\n",
       "      <td>31.214</td>\n",
       "      <td>4.755</td>\n",
       "      <td>8.791</td>\n",
       "      <td>...</td>\n",
       "      <td>0.793068</td>\n",
       "      <td>-0.005725</td>\n",
       "      <td>-0.249704</td>\n",
       "      <td>0.017545</td>\n",
       "      <td>1</td>\n",
       "      <td>1.043582</td>\n",
       "      <td>1.026261</td>\n",
       "      <td>0.094822</td>\n",
       "      <td>0.088347</td>\n",
       "      <td>-0.017358</td>\n",
       "    </tr>\n",
       "    <tr>\n",
       "      <th>4</th>\n",
       "      <td>1990</td>\n",
       "      <td>0</td>\n",
       "      <td>17.325</td>\n",
       "      <td>3.520</td>\n",
       "      <td>27.542</td>\n",
       "      <td>-12.142</td>\n",
       "      <td>1.017</td>\n",
       "      <td>32.662</td>\n",
       "      <td>6.735</td>\n",
       "      <td>32.206</td>\n",
       "      <td>...</td>\n",
       "      <td>0.869182</td>\n",
       "      <td>-0.231536</td>\n",
       "      <td>-1.674893</td>\n",
       "      <td>-0.466667</td>\n",
       "      <td>0</td>\n",
       "      <td>-1.602508</td>\n",
       "      <td>0.598443</td>\n",
       "      <td>-0.942379</td>\n",
       "      <td>-0.700821</td>\n",
       "      <td>0.130349</td>\n",
       "    </tr>\n",
       "  </tbody>\n",
       "</table>\n",
       "<p>5 rows × 44 columns</p>\n",
       "</div>"
      ],
      "text/plain": [
       "   fyear  misstate     act     ap       at     ceq    che     cogs   csho  \\\n",
       "0   1990         0  10.047  3.736   32.335   6.262  0.002   30.633  2.526   \n",
       "1   1990         0   1.247  0.803    7.784   0.667  0.171    1.125  3.556   \n",
       "2   1990         0  55.040  3.601  118.120  44.393  3.132  107.343  3.882   \n",
       "3   1990         0  24.684  3.948   34.591   7.751  0.411   31.214  4.755   \n",
       "4   1990         0  17.325  3.520   27.542 -12.142  1.017   32.662  6.735   \n",
       "\n",
       "      dlc  ...  soft_assets     ch_cs     ch_cm    ch_roa  issue        bm  \\\n",
       "0   3.283  ...     0.312448  0.095082  0.082631 -0.019761      1  0.413170   \n",
       "1   0.021  ...     0.315904  0.188832 -0.211389 -0.117832      1  0.157887   \n",
       "2   6.446  ...     0.605342  0.097551 -0.105780  0.091206      1  2.231337   \n",
       "3   8.791  ...     0.793068 -0.005725 -0.249704  0.017545      1  1.043582   \n",
       "4  32.206  ...     0.869182 -0.231536 -1.674893 -0.466667      0 -1.602508   \n",
       "\n",
       "        dpi      reoa      EBIT    ch_fcf  \n",
       "0  0.873555  0.167620  0.161961 -0.042140  \n",
       "1  0.745139 -0.428957 -0.157888  0.100228  \n",
       "2  1.015131  0.394768  0.063681  0.066348  \n",
       "3  1.026261  0.094822  0.088347 -0.017358  \n",
       "4  0.598443 -0.942379 -0.700821  0.130349  \n",
       "\n",
       "[5 rows x 44 columns]"
      ]
     },
     "execution_count": 10,
     "metadata": {},
     "output_type": "execute_result"
    }
   ],
   "source": [
    "df.head()"
   ]
  },
  {
   "cell_type": "code",
   "execution_count": 12,
   "id": "1dc6c45d",
   "metadata": {},
   "outputs": [
    {
     "name": "stdout",
     "output_type": "stream",
     "text": [
      "There are 146045 rows and 44 columns in the dataset\n"
     ]
    }
   ],
   "source": [
    "print('There are {} rows and {} columns in the dataset'.format(df.shape[0], df.shape[1]))"
   ]
  },
  {
   "cell_type": "code",
   "execution_count": 13,
   "id": "231ec9ab",
   "metadata": {},
   "outputs": [
    {
     "name": "stdout",
     "output_type": "stream",
     "text": [
      "<class 'pandas.core.frame.DataFrame'>\n",
      "RangeIndex: 146045 entries, 0 to 146044\n",
      "Data columns (total 44 columns):\n",
      " #   Column       Non-Null Count   Dtype  \n",
      "---  ------       --------------   -----  \n",
      " 0   fyear        146045 non-null  int64  \n",
      " 1   misstate     146045 non-null  int64  \n",
      " 2   act          146045 non-null  float64\n",
      " 3   ap           146045 non-null  float64\n",
      " 4   at           146045 non-null  float64\n",
      " 5   ceq          146045 non-null  float64\n",
      " 6   che          146045 non-null  float64\n",
      " 7   cogs         146045 non-null  float64\n",
      " 8   csho         146045 non-null  float64\n",
      " 9   dlc          146045 non-null  float64\n",
      " 10  dltis        146045 non-null  float64\n",
      " 11  dltt         146045 non-null  float64\n",
      " 12  dp           146045 non-null  float64\n",
      " 13  ib           146045 non-null  float64\n",
      " 14  invt         146045 non-null  float64\n",
      " 15  ivao         146045 non-null  float64\n",
      " 16  ivst         146045 non-null  float64\n",
      " 17  lct          146045 non-null  float64\n",
      " 18  lt           146045 non-null  float64\n",
      " 19  ni           146045 non-null  float64\n",
      " 20  ppegt        146045 non-null  float64\n",
      " 21  pstk         146045 non-null  float64\n",
      " 22  re           146045 non-null  float64\n",
      " 23  rect         146045 non-null  float64\n",
      " 24  sale         146045 non-null  float64\n",
      " 25  sstk         146045 non-null  float64\n",
      " 26  txp          146045 non-null  float64\n",
      " 27  txt          146045 non-null  float64\n",
      " 28  xint         146045 non-null  float64\n",
      " 29  prcc_f       146045 non-null  float64\n",
      " 30  dch_wc       141286 non-null  float64\n",
      " 31  ch_rsst      141194 non-null  float64\n",
      " 32  dch_rec      141302 non-null  float64\n",
      " 33  dch_inv      141430 non-null  float64\n",
      " 34  soft_assets  145453 non-null  float64\n",
      " 35  ch_cs        130127 non-null  float64\n",
      " 36  ch_cm        128938 non-null  float64\n",
      " 37  ch_roa       133367 non-null  float64\n",
      " 38  issue        146045 non-null  int64  \n",
      " 39  bm           146027 non-null  float64\n",
      " 40  dpi          136817 non-null  float64\n",
      " 41  reoa         145454 non-null  float64\n",
      " 42  EBIT         145454 non-null  float64\n",
      " 43  ch_fcf       140638 non-null  float64\n",
      "dtypes: float64(41), int64(3)\n",
      "memory usage: 49.0 MB\n"
     ]
    }
   ],
   "source": [
    "df.info()"
   ]
  },
  {
   "cell_type": "code",
   "execution_count": 14,
   "id": "1ab357ed",
   "metadata": {},
   "outputs": [
    {
     "data": {
      "text/html": [
       "<div>\n",
       "<style scoped>\n",
       "    .dataframe tbody tr th:only-of-type {\n",
       "        vertical-align: middle;\n",
       "    }\n",
       "\n",
       "    .dataframe tbody tr th {\n",
       "        vertical-align: top;\n",
       "    }\n",
       "\n",
       "    .dataframe thead th {\n",
       "        text-align: right;\n",
       "    }\n",
       "</style>\n",
       "<table border=\"1\" class=\"dataframe\">\n",
       "  <thead>\n",
       "    <tr style=\"text-align: right;\">\n",
       "      <th></th>\n",
       "      <th>fyear</th>\n",
       "      <th>misstate</th>\n",
       "      <th>act</th>\n",
       "      <th>ap</th>\n",
       "      <th>at</th>\n",
       "      <th>ceq</th>\n",
       "      <th>che</th>\n",
       "      <th>cogs</th>\n",
       "      <th>csho</th>\n",
       "      <th>dlc</th>\n",
       "      <th>...</th>\n",
       "      <th>soft_assets</th>\n",
       "      <th>ch_cs</th>\n",
       "      <th>ch_cm</th>\n",
       "      <th>ch_roa</th>\n",
       "      <th>issue</th>\n",
       "      <th>bm</th>\n",
       "      <th>dpi</th>\n",
       "      <th>reoa</th>\n",
       "      <th>EBIT</th>\n",
       "      <th>ch_fcf</th>\n",
       "    </tr>\n",
       "  </thead>\n",
       "  <tbody>\n",
       "    <tr>\n",
       "      <th>count</th>\n",
       "      <td>146045.000000</td>\n",
       "      <td>146045.000000</td>\n",
       "      <td>146045.000000</td>\n",
       "      <td>146045.000000</td>\n",
       "      <td>146045.000000</td>\n",
       "      <td>146045.000000</td>\n",
       "      <td>146045.000000</td>\n",
       "      <td>146045.000000</td>\n",
       "      <td>146045.000000</td>\n",
       "      <td>146045.000000</td>\n",
       "      <td>...</td>\n",
       "      <td>145453.000000</td>\n",
       "      <td>130127.000000</td>\n",
       "      <td>128938.000000</td>\n",
       "      <td>133367.000000</td>\n",
       "      <td>146045.000000</td>\n",
       "      <td>146027.000000</td>\n",
       "      <td>136817.000000</td>\n",
       "      <td>145454.000000</td>\n",
       "      <td>145454.000000</td>\n",
       "      <td>140638.000000</td>\n",
       "    </tr>\n",
       "    <tr>\n",
       "      <th>mean</th>\n",
       "      <td>2002.011702</td>\n",
       "      <td>0.006601</td>\n",
       "      <td>737.847759</td>\n",
       "      <td>181.993488</td>\n",
       "      <td>2374.041576</td>\n",
       "      <td>887.126243</td>\n",
       "      <td>218.657186</td>\n",
       "      <td>1302.280756</td>\n",
       "      <td>97.004595</td>\n",
       "      <td>127.228109</td>\n",
       "      <td>...</td>\n",
       "      <td>0.499790</td>\n",
       "      <td>0.185169</td>\n",
       "      <td>-0.090980</td>\n",
       "      <td>-0.010208</td>\n",
       "      <td>0.863487</td>\n",
       "      <td>0.466137</td>\n",
       "      <td>1.042207</td>\n",
       "      <td>-3.191197</td>\n",
       "      <td>-0.238754</td>\n",
       "      <td>-0.008842</td>\n",
       "    </tr>\n",
       "    <tr>\n",
       "      <th>std</th>\n",
       "      <td>6.959894</td>\n",
       "      <td>0.080976</td>\n",
       "      <td>3744.542368</td>\n",
       "      <td>1047.546104</td>\n",
       "      <td>11957.736980</td>\n",
       "      <td>5056.948150</td>\n",
       "      <td>1330.490185</td>\n",
       "      <td>7870.665783</td>\n",
       "      <td>540.874888</td>\n",
       "      <td>1023.091819</td>\n",
       "      <td>...</td>\n",
       "      <td>0.274129</td>\n",
       "      <td>1.383354</td>\n",
       "      <td>2.844807</td>\n",
       "      <td>0.379574</td>\n",
       "      <td>0.343333</td>\n",
       "      <td>1.314661</td>\n",
       "      <td>0.495286</td>\n",
       "      <td>12.932219</td>\n",
       "      <td>1.059134</td>\n",
       "      <td>0.548216</td>\n",
       "    </tr>\n",
       "    <tr>\n",
       "      <th>min</th>\n",
       "      <td>1990.000000</td>\n",
       "      <td>0.000000</td>\n",
       "      <td>-0.254000</td>\n",
       "      <td>0.000000</td>\n",
       "      <td>0.000000</td>\n",
       "      <td>-25560.000000</td>\n",
       "      <td>-34.000000</td>\n",
       "      <td>-366.645000</td>\n",
       "      <td>0.000000</td>\n",
       "      <td>-0.069000</td>\n",
       "      <td>...</td>\n",
       "      <td>0.004515</td>\n",
       "      <td>-6.484197</td>\n",
       "      <td>-17.359699</td>\n",
       "      <td>-1.671565</td>\n",
       "      <td>0.000000</td>\n",
       "      <td>-7.034304</td>\n",
       "      <td>0.151757</td>\n",
       "      <td>-89.013245</td>\n",
       "      <td>-7.016393</td>\n",
       "      <td>-2.980601</td>\n",
       "    </tr>\n",
       "    <tr>\n",
       "      <th>25%</th>\n",
       "      <td>1996.000000</td>\n",
       "      <td>0.000000</td>\n",
       "      <td>8.277000</td>\n",
       "      <td>1.151000</td>\n",
       "      <td>18.281000</td>\n",
       "      <td>6.337000</td>\n",
       "      <td>1.144000</td>\n",
       "      <td>6.795000</td>\n",
       "      <td>8.796000</td>\n",
       "      <td>0.008000</td>\n",
       "      <td>...</td>\n",
       "      <td>0.270023</td>\n",
       "      <td>-0.073635</td>\n",
       "      <td>-0.260164</td>\n",
       "      <td>-0.058635</td>\n",
       "      <td>1.000000</td>\n",
       "      <td>0.191546</td>\n",
       "      <td>0.854248</td>\n",
       "      <td>-0.894633</td>\n",
       "      <td>-0.128135</td>\n",
       "      <td>-0.123402</td>\n",
       "    </tr>\n",
       "    <tr>\n",
       "      <th>50%</th>\n",
       "      <td>2002.000000</td>\n",
       "      <td>0.000000</td>\n",
       "      <td>47.501000</td>\n",
       "      <td>6.462000</td>\n",
       "      <td>105.346000</td>\n",
       "      <td>47.308000</td>\n",
       "      <td>9.373000</td>\n",
       "      <td>53.382000</td>\n",
       "      <td>22.540000</td>\n",
       "      <td>1.363000</td>\n",
       "      <td>...</td>\n",
       "      <td>0.524640</td>\n",
       "      <td>0.067918</td>\n",
       "      <td>-0.023205</td>\n",
       "      <td>-0.001893</td>\n",
       "      <td>1.000000</td>\n",
       "      <td>0.442172</td>\n",
       "      <td>0.974302</td>\n",
       "      <td>-0.008046</td>\n",
       "      <td>0.043701</td>\n",
       "      <td>-0.026155</td>\n",
       "    </tr>\n",
       "    <tr>\n",
       "      <th>75%</th>\n",
       "      <td>2008.000000</td>\n",
       "      <td>0.000000</td>\n",
       "      <td>249.832000</td>\n",
       "      <td>42.259000</td>\n",
       "      <td>672.929000</td>\n",
       "      <td>271.547000</td>\n",
       "      <td>60.286000</td>\n",
       "      <td>372.730000</td>\n",
       "      <td>60.736000</td>\n",
       "      <td>12.750000</td>\n",
       "      <td>...</td>\n",
       "      <td>0.726663</td>\n",
       "      <td>0.250237</td>\n",
       "      <td>0.139960</td>\n",
       "      <td>0.042188</td>\n",
       "      <td>1.000000</td>\n",
       "      <td>0.805320</td>\n",
       "      <td>1.097582</td>\n",
       "      <td>0.229724</td>\n",
       "      <td>0.108059</td>\n",
       "      <td>0.062294</td>\n",
       "    </tr>\n",
       "    <tr>\n",
       "      <th>max</th>\n",
       "      <td>2014.000000</td>\n",
       "      <td>1.000000</td>\n",
       "      <td>152629.000000</td>\n",
       "      <td>39903.000000</td>\n",
       "      <td>410074.000000</td>\n",
       "      <td>284434.000000</td>\n",
       "      <td>85709.000000</td>\n",
       "      <td>435726.253000</td>\n",
       "      <td>100092.395000</td>\n",
       "      <td>75553.000000</td>\n",
       "      <td>...</td>\n",
       "      <td>0.993599</td>\n",
       "      <td>9.600000</td>\n",
       "      <td>16.573810</td>\n",
       "      <td>1.621628</td>\n",
       "      <td>1.000000</td>\n",
       "      <td>4.937457</td>\n",
       "      <td>4.036458</td>\n",
       "      <td>0.784573</td>\n",
       "      <td>0.550619</td>\n",
       "      <td>4.061810</td>\n",
       "    </tr>\n",
       "  </tbody>\n",
       "</table>\n",
       "<p>8 rows × 44 columns</p>\n",
       "</div>"
      ],
      "text/plain": [
       "               fyear       misstate            act             ap  \\\n",
       "count  146045.000000  146045.000000  146045.000000  146045.000000   \n",
       "mean     2002.011702       0.006601     737.847759     181.993488   \n",
       "std         6.959894       0.080976    3744.542368    1047.546104   \n",
       "min      1990.000000       0.000000      -0.254000       0.000000   \n",
       "25%      1996.000000       0.000000       8.277000       1.151000   \n",
       "50%      2002.000000       0.000000      47.501000       6.462000   \n",
       "75%      2008.000000       0.000000     249.832000      42.259000   \n",
       "max      2014.000000       1.000000  152629.000000   39903.000000   \n",
       "\n",
       "                  at            ceq            che           cogs  \\\n",
       "count  146045.000000  146045.000000  146045.000000  146045.000000   \n",
       "mean     2374.041576     887.126243     218.657186    1302.280756   \n",
       "std     11957.736980    5056.948150    1330.490185    7870.665783   \n",
       "min         0.000000  -25560.000000     -34.000000    -366.645000   \n",
       "25%        18.281000       6.337000       1.144000       6.795000   \n",
       "50%       105.346000      47.308000       9.373000      53.382000   \n",
       "75%       672.929000     271.547000      60.286000     372.730000   \n",
       "max    410074.000000  284434.000000   85709.000000  435726.253000   \n",
       "\n",
       "                csho            dlc  ...    soft_assets          ch_cs  \\\n",
       "count  146045.000000  146045.000000  ...  145453.000000  130127.000000   \n",
       "mean       97.004595     127.228109  ...       0.499790       0.185169   \n",
       "std       540.874888    1023.091819  ...       0.274129       1.383354   \n",
       "min         0.000000      -0.069000  ...       0.004515      -6.484197   \n",
       "25%         8.796000       0.008000  ...       0.270023      -0.073635   \n",
       "50%        22.540000       1.363000  ...       0.524640       0.067918   \n",
       "75%        60.736000      12.750000  ...       0.726663       0.250237   \n",
       "max    100092.395000   75553.000000  ...       0.993599       9.600000   \n",
       "\n",
       "               ch_cm         ch_roa          issue             bm  \\\n",
       "count  128938.000000  133367.000000  146045.000000  146027.000000   \n",
       "mean       -0.090980      -0.010208       0.863487       0.466137   \n",
       "std         2.844807       0.379574       0.343333       1.314661   \n",
       "min       -17.359699      -1.671565       0.000000      -7.034304   \n",
       "25%        -0.260164      -0.058635       1.000000       0.191546   \n",
       "50%        -0.023205      -0.001893       1.000000       0.442172   \n",
       "75%         0.139960       0.042188       1.000000       0.805320   \n",
       "max        16.573810       1.621628       1.000000       4.937457   \n",
       "\n",
       "                 dpi           reoa           EBIT         ch_fcf  \n",
       "count  136817.000000  145454.000000  145454.000000  140638.000000  \n",
       "mean        1.042207      -3.191197      -0.238754      -0.008842  \n",
       "std         0.495286      12.932219       1.059134       0.548216  \n",
       "min         0.151757     -89.013245      -7.016393      -2.980601  \n",
       "25%         0.854248      -0.894633      -0.128135      -0.123402  \n",
       "50%         0.974302      -0.008046       0.043701      -0.026155  \n",
       "75%         1.097582       0.229724       0.108059       0.062294  \n",
       "max         4.036458       0.784573       0.550619       4.061810  \n",
       "\n",
       "[8 rows x 44 columns]"
      ]
     },
     "execution_count": 14,
     "metadata": {},
     "output_type": "execute_result"
    }
   ],
   "source": [
    "df.describe()"
   ]
  },
  {
   "cell_type": "markdown",
   "id": "bf7f20e3",
   "metadata": {},
   "source": [
    "3. Explore the variable 'misstate' with a graph. What do you observe?"
   ]
  },
  {
   "cell_type": "code",
   "execution_count": 15,
   "id": "685dd5eb",
   "metadata": {
    "scrolled": true
   },
   "outputs": [
    {
     "data": {
      "text/plain": [
       "0    145081\n",
       "1       964\n",
       "Name: misstate, dtype: int64"
      ]
     },
     "execution_count": 15,
     "metadata": {},
     "output_type": "execute_result"
    }
   ],
   "source": [
    "df['misstate'].value_counts()"
   ]
  },
  {
   "cell_type": "code",
   "execution_count": 16,
   "id": "bf1922a1",
   "metadata": {},
   "outputs": [
    {
     "data": {
      "text/plain": [
       "count    146045.000000\n",
       "mean          0.006601\n",
       "std           0.080976\n",
       "min           0.000000\n",
       "25%           0.000000\n",
       "50%           0.000000\n",
       "75%           0.000000\n",
       "max           1.000000\n",
       "Name: misstate, dtype: float64"
      ]
     },
     "execution_count": 16,
     "metadata": {},
     "output_type": "execute_result"
    }
   ],
   "source": [
    "df['misstate'].describe()"
   ]
  },
  {
   "cell_type": "code",
   "execution_count": 17,
   "id": "94f74d55",
   "metadata": {},
   "outputs": [
    {
     "name": "stderr",
     "output_type": "stream",
     "text": [
      "C:\\Users\\siris\\AppData\\Local\\Temp\\ipykernel_10392\\2534460444.py:1: MatplotlibDeprecationWarning: The seaborn styles shipped by Matplotlib are deprecated since 3.6, as they no longer correspond to the styles shipped by seaborn. However, they will remain available as 'seaborn-v0_8-<style>'. Alternatively, directly use the seaborn API instead.\n",
      "  plt.style.use('seaborn-whitegrid')\n"
     ]
    },
    {
     "data": {
      "text/plain": [
       "<Axes: xlabel='misstate', ylabel='count'>"
      ]
     },
     "execution_count": 17,
     "metadata": {},
     "output_type": "execute_result"
    },
    {
     "data": {
      "text/plain": [
       "Text(0.5, 1.0, 'Counts of misstate')"
      ]
     },
     "execution_count": 17,
     "metadata": {},
     "output_type": "execute_result"
    },
    {
     "data": {
      "image/png": "[encoded data removed]",
      "text/plain": [
       "<Figure size 800x400 with 1 Axes>"
      ]
     },
     "metadata": {},
     "output_type": "display_data"
    }
   ],
   "source": [
    "plt.style.use('seaborn-whitegrid')\n",
    "fig=plt.figure(figsize=(8,4))\n",
    "sns.countplot(x='misstate',data=df)\n",
    "plt.title(\"Counts of misstate\")"
   ]
  },
  {
   "cell_type": "markdown",
   "id": "ec78f23b",
   "metadata": {},
   "source": [
    "Findings: In the dataset there are 146045 rows and the variable Misstate has 145081 non-fraud accounts and 964 fraud accounts.\n",
    "Misstate is the target variable and proportion of 1's and 0's are highly imbalanced. The data has 99.33 percentage of records with misstate '0' and 0.66 percentage of '1'."
   ]
  },
  {
   "cell_type": "markdown",
   "id": "87ed45af",
   "metadata": {},
   "source": [
    "4. Next we sum the number of fraud cases by year and make a line graph.<br>\n",
    "First we need to use .groupby() method to do the sum. We did not go over this in class. I explain here.\n",
    "Then you can use the result to create a line graph."
   ]
  },
  {
   "cell_type": "code",
   "execution_count": 18,
   "id": "991cb081",
   "metadata": {},
   "outputs": [],
   "source": [
    "#Fraud.groupby('fyear')['misstate'].sum().reset_index()\n",
    "\n",
    "# Groupby method group the data observations by the given variable 'fyear'\n",
    "# into groups.\n",
    "# Then the sum() will sum the variable 'misstate'\n",
    "# reset_index() is to transform the result into a dataframe"
   ]
  },
  {
   "cell_type": "markdown",
   "id": "025905b8",
   "metadata": {},
   "source": [
    "Save the output of the code above and make a line graph based on it. What do you observe?"
   ]
  },
  {
   "cell_type": "code",
   "execution_count": 19,
   "id": "51bdb3b0",
   "metadata": {},
   "outputs": [],
   "source": [
    "#Groupby to sum the number of fraud cases by year\n",
    "fraudcase = df.groupby('fyear')['misstate'].sum().reset_index()"
   ]
  },
  {
   "cell_type": "code",
   "execution_count": 20,
   "id": "cec0ac7f",
   "metadata": {},
   "outputs": [
    {
     "data": {
      "text/html": [
       "<div>\n",
       "<style scoped>\n",
       "    .dataframe tbody tr th:only-of-type {\n",
       "        vertical-align: middle;\n",
       "    }\n",
       "\n",
       "    .dataframe tbody tr th {\n",
       "        vertical-align: top;\n",
       "    }\n",
       "\n",
       "    .dataframe thead th {\n",
       "        text-align: right;\n",
       "    }\n",
       "</style>\n",
       "<table border=\"1\" class=\"dataframe\">\n",
       "  <thead>\n",
       "    <tr style=\"text-align: right;\">\n",
       "      <th></th>\n",
       "      <th>fyear</th>\n",
       "      <th>misstate</th>\n",
       "    </tr>\n",
       "  </thead>\n",
       "  <tbody>\n",
       "    <tr>\n",
       "      <th>0</th>\n",
       "      <td>1990</td>\n",
       "      <td>15</td>\n",
       "    </tr>\n",
       "    <tr>\n",
       "      <th>1</th>\n",
       "      <td>1991</td>\n",
       "      <td>27</td>\n",
       "    </tr>\n",
       "    <tr>\n",
       "      <th>2</th>\n",
       "      <td>1992</td>\n",
       "      <td>26</td>\n",
       "    </tr>\n",
       "    <tr>\n",
       "      <th>3</th>\n",
       "      <td>1993</td>\n",
       "      <td>30</td>\n",
       "    </tr>\n",
       "    <tr>\n",
       "      <th>4</th>\n",
       "      <td>1994</td>\n",
       "      <td>23</td>\n",
       "    </tr>\n",
       "    <tr>\n",
       "      <th>5</th>\n",
       "      <td>1995</td>\n",
       "      <td>22</td>\n",
       "    </tr>\n",
       "    <tr>\n",
       "      <th>6</th>\n",
       "      <td>1996</td>\n",
       "      <td>33</td>\n",
       "    </tr>\n",
       "    <tr>\n",
       "      <th>7</th>\n",
       "      <td>1997</td>\n",
       "      <td>42</td>\n",
       "    </tr>\n",
       "    <tr>\n",
       "      <th>8</th>\n",
       "      <td>1998</td>\n",
       "      <td>56</td>\n",
       "    </tr>\n",
       "    <tr>\n",
       "      <th>9</th>\n",
       "      <td>1999</td>\n",
       "      <td>73</td>\n",
       "    </tr>\n",
       "    <tr>\n",
       "      <th>10</th>\n",
       "      <td>2000</td>\n",
       "      <td>86</td>\n",
       "    </tr>\n",
       "    <tr>\n",
       "      <th>11</th>\n",
       "      <td>2001</td>\n",
       "      <td>81</td>\n",
       "    </tr>\n",
       "    <tr>\n",
       "      <th>12</th>\n",
       "      <td>2002</td>\n",
       "      <td>77</td>\n",
       "    </tr>\n",
       "    <tr>\n",
       "      <th>13</th>\n",
       "      <td>2003</td>\n",
       "      <td>69</td>\n",
       "    </tr>\n",
       "    <tr>\n",
       "      <th>14</th>\n",
       "      <td>2004</td>\n",
       "      <td>58</td>\n",
       "    </tr>\n",
       "    <tr>\n",
       "      <th>15</th>\n",
       "      <td>2005</td>\n",
       "      <td>45</td>\n",
       "    </tr>\n",
       "    <tr>\n",
       "      <th>16</th>\n",
       "      <td>2006</td>\n",
       "      <td>33</td>\n",
       "    </tr>\n",
       "    <tr>\n",
       "      <th>17</th>\n",
       "      <td>2007</td>\n",
       "      <td>30</td>\n",
       "    </tr>\n",
       "    <tr>\n",
       "      <th>18</th>\n",
       "      <td>2008</td>\n",
       "      <td>26</td>\n",
       "    </tr>\n",
       "    <tr>\n",
       "      <th>19</th>\n",
       "      <td>2009</td>\n",
       "      <td>31</td>\n",
       "    </tr>\n",
       "    <tr>\n",
       "      <th>20</th>\n",
       "      <td>2010</td>\n",
       "      <td>26</td>\n",
       "    </tr>\n",
       "    <tr>\n",
       "      <th>21</th>\n",
       "      <td>2011</td>\n",
       "      <td>21</td>\n",
       "    </tr>\n",
       "    <tr>\n",
       "      <th>22</th>\n",
       "      <td>2012</td>\n",
       "      <td>19</td>\n",
       "    </tr>\n",
       "    <tr>\n",
       "      <th>23</th>\n",
       "      <td>2013</td>\n",
       "      <td>11</td>\n",
       "    </tr>\n",
       "    <tr>\n",
       "      <th>24</th>\n",
       "      <td>2014</td>\n",
       "      <td>4</td>\n",
       "    </tr>\n",
       "  </tbody>\n",
       "</table>\n",
       "</div>"
      ],
      "text/plain": [
       "    fyear  misstate\n",
       "0    1990        15\n",
       "1    1991        27\n",
       "2    1992        26\n",
       "3    1993        30\n",
       "4    1994        23\n",
       "5    1995        22\n",
       "6    1996        33\n",
       "7    1997        42\n",
       "8    1998        56\n",
       "9    1999        73\n",
       "10   2000        86\n",
       "11   2001        81\n",
       "12   2002        77\n",
       "13   2003        69\n",
       "14   2004        58\n",
       "15   2005        45\n",
       "16   2006        33\n",
       "17   2007        30\n",
       "18   2008        26\n",
       "19   2009        31\n",
       "20   2010        26\n",
       "21   2011        21\n",
       "22   2012        19\n",
       "23   2013        11\n",
       "24   2014         4"
      ]
     },
     "execution_count": 20,
     "metadata": {},
     "output_type": "execute_result"
    }
   ],
   "source": [
    "fraudcase"
   ]
  },
  {
   "cell_type": "code",
   "execution_count": 21,
   "id": "c9a72b5e",
   "metadata": {},
   "outputs": [
    {
     "data": {
      "text/plain": [
       "[Text(0.5, 1.0, 'Number of fraud cases by year')]"
      ]
     },
     "execution_count": 21,
     "metadata": {},
     "output_type": "execute_result"
    },
    {
     "data": {
      "image/png": "[encoded data removed]",
      "text/plain": [
       "<Figure size 640x480 with 1 Axes>"
      ]
     },
     "metadata": {},
     "output_type": "display_data"
    }
   ],
   "source": [
    "sns.lineplot(data=fraudcase, x=\"fyear\", y=\"misstate\").set(title = 'Number of fraud cases by year')"
   ]
  },
  {
   "cell_type": "markdown",
   "id": "d8331c79",
   "metadata": {},
   "source": [
    "Findings: A line graph illustrating the trend of fraud cases from 1990 to 2014 can be seen above. As fraud cases increased from 1995 to 2000, the year 2000 had the highest number of fraud cases with 86 fraud accounts. The number of fraud cases gradually decreased between 2000 and 2014. 2014 had the lowest number of fraud cases with 4 fraud accounts. "
   ]
  },
  {
   "cell_type": "markdown",
   "id": "77e2528c",
   "metadata": {},
   "source": [
    "5. Missing values. You may notice that some variables have missing values. <br>\n",
    "Ideally, we need to handle missing values carefully. We will explore that in the future if we have the chance.<br>\n",
    "For now, we just simply drop the observations with missing values."
   ]
  },
  {
   "cell_type": "code",
   "execution_count": 22,
   "id": "4711167d",
   "metadata": {},
   "outputs": [
    {
     "data": {
      "text/plain": [
       "(146045, 44)"
      ]
     },
     "execution_count": 22,
     "metadata": {},
     "output_type": "execute_result"
    }
   ],
   "source": [
    "df.shape"
   ]
  },
  {
   "cell_type": "code",
   "execution_count": 24,
   "id": "96c3f98a",
   "metadata": {},
   "outputs": [
    {
     "data": {
      "text/plain": [
       "fyear              0\n",
       "misstate           0\n",
       "act                0\n",
       "ap                 0\n",
       "at                 0\n",
       "ceq                0\n",
       "che                0\n",
       "cogs               0\n",
       "csho               0\n",
       "dlc                0\n",
       "dltis              0\n",
       "dltt               0\n",
       "dp                 0\n",
       "ib                 0\n",
       "invt               0\n",
       "ivao               0\n",
       "ivst               0\n",
       "lct                0\n",
       "lt                 0\n",
       "ni                 0\n",
       "ppegt              0\n",
       "pstk               0\n",
       "re                 0\n",
       "rect               0\n",
       "sale               0\n",
       "sstk               0\n",
       "txp                0\n",
       "txt                0\n",
       "xint               0\n",
       "prcc_f             0\n",
       "dch_wc          4759\n",
       "ch_rsst         4851\n",
       "dch_rec         4743\n",
       "dch_inv         4615\n",
       "soft_assets      592\n",
       "ch_cs          15918\n",
       "ch_cm          17107\n",
       "ch_roa         12678\n",
       "issue              0\n",
       "bm                18\n",
       "dpi             9228\n",
       "reoa             591\n",
       "EBIT             591\n",
       "ch_fcf          5407\n",
       "dtype: int64"
      ]
     },
     "execution_count": 24,
     "metadata": {},
     "output_type": "execute_result"
    }
   ],
   "source": [
    "#missing values by column wise\n",
    "df.isna().sum()"
   ]
  },
  {
   "cell_type": "code",
   "execution_count": 25,
   "id": "6f2e68cb",
   "metadata": {},
   "outputs": [],
   "source": [
    "df = df.dropna()"
   ]
  },
  {
   "cell_type": "code",
   "execution_count": 26,
   "id": "7e0e45a4",
   "metadata": {},
   "outputs": [
    {
     "data": {
      "text/plain": [
       "(126483, 44)"
      ]
     },
     "execution_count": 26,
     "metadata": {},
     "output_type": "execute_result"
    }
   ],
   "source": [
    "df.shape"
   ]
  },
  {
   "cell_type": "code",
   "execution_count": 27,
   "id": "ba9a83dc",
   "metadata": {},
   "outputs": [],
   "source": [
    "#Fraud = Fraud.dropna()"
   ]
  },
  {
   "cell_type": "markdown",
   "id": "facac69c",
   "metadata": {},
   "source": [
    "6. Now let's fit logistic regression models. First, we only use the 28 raw accounting variables as the independent variables. You may find the definitions of them in the Word document."
   ]
  },
  {
   "cell_type": "markdown",
   "id": "e73e99fa",
   "metadata": {},
   "source": [
    "Prepare the data."
   ]
  },
  {
   "cell_type": "code",
   "execution_count": 28,
   "id": "9765eac8",
   "metadata": {},
   "outputs": [],
   "source": [
    "X = df.iloc[:,2:30]"
   ]
  },
  {
   "cell_type": "code",
   "execution_count": 29,
   "id": "1c5657d0",
   "metadata": {},
   "outputs": [],
   "source": [
    "#use patsy library to prepare design matrices\n",
    "y, x = patsy.dmatrices(\"misstate ~ {}\".format(\" + \".join(X)), data = df, return_type = 'dataframe')"
   ]
  },
  {
   "cell_type": "code",
   "execution_count": 30,
   "id": "26241ad3",
   "metadata": {},
   "outputs": [
    {
     "data": {
      "text/plain": [
       "Index(['misstate'], dtype='object')"
      ]
     },
     "execution_count": 30,
     "metadata": {},
     "output_type": "execute_result"
    },
    {
     "data": {
      "text/plain": [
       "Index(['Intercept', 'act', 'ap', 'at', 'ceq', 'che', 'cogs', 'csho', 'dlc',\n",
       "       'dltis', 'dltt', 'dp', 'ib', 'invt', 'ivao', 'ivst', 'lct', 'lt', 'ni',\n",
       "       'ppegt', 'pstk', 're', 'rect', 'sale', 'sstk', 'txp', 'txt', 'xint',\n",
       "       'prcc_f'],\n",
       "      dtype='object')"
      ]
     },
     "execution_count": 30,
     "metadata": {},
     "output_type": "execute_result"
    }
   ],
   "source": [
    "y.columns\n",
    "x.columns"
   ]
  },
  {
   "cell_type": "code",
   "execution_count": 31,
   "id": "6f9d06d3",
   "metadata": {},
   "outputs": [
    {
     "data": {
      "text/html": [
       "<div>\n",
       "<style scoped>\n",
       "    .dataframe tbody tr th:only-of-type {\n",
       "        vertical-align: middle;\n",
       "    }\n",
       "\n",
       "    .dataframe tbody tr th {\n",
       "        vertical-align: top;\n",
       "    }\n",
       "\n",
       "    .dataframe thead th {\n",
       "        text-align: right;\n",
       "    }\n",
       "</style>\n",
       "<table border=\"1\" class=\"dataframe\">\n",
       "  <thead>\n",
       "    <tr style=\"text-align: right;\">\n",
       "      <th></th>\n",
       "      <th>misstate</th>\n",
       "    </tr>\n",
       "  </thead>\n",
       "  <tbody>\n",
       "    <tr>\n",
       "      <th>0</th>\n",
       "      <td>0.0</td>\n",
       "    </tr>\n",
       "    <tr>\n",
       "      <th>1</th>\n",
       "      <td>0.0</td>\n",
       "    </tr>\n",
       "    <tr>\n",
       "      <th>2</th>\n",
       "      <td>0.0</td>\n",
       "    </tr>\n",
       "    <tr>\n",
       "      <th>3</th>\n",
       "      <td>0.0</td>\n",
       "    </tr>\n",
       "    <tr>\n",
       "      <th>4</th>\n",
       "      <td>0.0</td>\n",
       "    </tr>\n",
       "  </tbody>\n",
       "</table>\n",
       "</div>"
      ],
      "text/plain": [
       "   misstate\n",
       "0       0.0\n",
       "1       0.0\n",
       "2       0.0\n",
       "3       0.0\n",
       "4       0.0"
      ]
     },
     "execution_count": 31,
     "metadata": {},
     "output_type": "execute_result"
    },
    {
     "data": {
      "text/html": [
       "<div>\n",
       "<style scoped>\n",
       "    .dataframe tbody tr th:only-of-type {\n",
       "        vertical-align: middle;\n",
       "    }\n",
       "\n",
       "    .dataframe tbody tr th {\n",
       "        vertical-align: top;\n",
       "    }\n",
       "\n",
       "    .dataframe thead th {\n",
       "        text-align: right;\n",
       "    }\n",
       "</style>\n",
       "<table border=\"1\" class=\"dataframe\">\n",
       "  <thead>\n",
       "    <tr style=\"text-align: right;\">\n",
       "      <th></th>\n",
       "      <th>Intercept</th>\n",
       "      <th>act</th>\n",
       "      <th>ap</th>\n",
       "      <th>at</th>\n",
       "      <th>ceq</th>\n",
       "      <th>che</th>\n",
       "      <th>cogs</th>\n",
       "      <th>csho</th>\n",
       "      <th>dlc</th>\n",
       "      <th>dltis</th>\n",
       "      <th>...</th>\n",
       "      <th>ppegt</th>\n",
       "      <th>pstk</th>\n",
       "      <th>re</th>\n",
       "      <th>rect</th>\n",
       "      <th>sale</th>\n",
       "      <th>sstk</th>\n",
       "      <th>txp</th>\n",
       "      <th>txt</th>\n",
       "      <th>xint</th>\n",
       "      <th>prcc_f</th>\n",
       "    </tr>\n",
       "  </thead>\n",
       "  <tbody>\n",
       "    <tr>\n",
       "      <th>0</th>\n",
       "      <td>1.0</td>\n",
       "      <td>10.047</td>\n",
       "      <td>3.736</td>\n",
       "      <td>32.335</td>\n",
       "      <td>6.262</td>\n",
       "      <td>0.002</td>\n",
       "      <td>30.633</td>\n",
       "      <td>2.526</td>\n",
       "      <td>3.283</td>\n",
       "      <td>32.853</td>\n",
       "      <td>...</td>\n",
       "      <td>31.767</td>\n",
       "      <td>0.000</td>\n",
       "      <td>5.420</td>\n",
       "      <td>6.895</td>\n",
       "      <td>40.522</td>\n",
       "      <td>0.000</td>\n",
       "      <td>0.000</td>\n",
       "      <td>0.769</td>\n",
       "      <td>2.333</td>\n",
       "      <td>6.000</td>\n",
       "    </tr>\n",
       "    <tr>\n",
       "      <th>1</th>\n",
       "      <td>1.0</td>\n",
       "      <td>1.247</td>\n",
       "      <td>0.803</td>\n",
       "      <td>7.784</td>\n",
       "      <td>0.667</td>\n",
       "      <td>0.171</td>\n",
       "      <td>1.125</td>\n",
       "      <td>3.556</td>\n",
       "      <td>0.021</td>\n",
       "      <td>2.017</td>\n",
       "      <td>...</td>\n",
       "      <td>7.328</td>\n",
       "      <td>0.000</td>\n",
       "      <td>-3.339</td>\n",
       "      <td>0.290</td>\n",
       "      <td>3.635</td>\n",
       "      <td>0.006</td>\n",
       "      <td>0.000</td>\n",
       "      <td>0.000</td>\n",
       "      <td>0.640</td>\n",
       "      <td>1.188</td>\n",
       "    </tr>\n",
       "    <tr>\n",
       "      <th>2</th>\n",
       "      <td>1.0</td>\n",
       "      <td>55.040</td>\n",
       "      <td>3.601</td>\n",
       "      <td>118.120</td>\n",
       "      <td>44.393</td>\n",
       "      <td>3.132</td>\n",
       "      <td>107.343</td>\n",
       "      <td>3.882</td>\n",
       "      <td>6.446</td>\n",
       "      <td>6.500</td>\n",
       "      <td>...</td>\n",
       "      <td>78.331</td>\n",
       "      <td>0.000</td>\n",
       "      <td>46.630</td>\n",
       "      <td>47.366</td>\n",
       "      <td>144.258</td>\n",
       "      <td>0.000</td>\n",
       "      <td>0.000</td>\n",
       "      <td>0.986</td>\n",
       "      <td>3.962</td>\n",
       "      <td>5.125</td>\n",
       "    </tr>\n",
       "    <tr>\n",
       "      <th>3</th>\n",
       "      <td>1.0</td>\n",
       "      <td>24.684</td>\n",
       "      <td>3.948</td>\n",
       "      <td>34.591</td>\n",
       "      <td>7.751</td>\n",
       "      <td>0.411</td>\n",
       "      <td>31.214</td>\n",
       "      <td>4.755</td>\n",
       "      <td>8.791</td>\n",
       "      <td>0.587</td>\n",
       "      <td>...</td>\n",
       "      <td>11.145</td>\n",
       "      <td>1.295</td>\n",
       "      <td>3.280</td>\n",
       "      <td>8.522</td>\n",
       "      <td>48.292</td>\n",
       "      <td>0.000</td>\n",
       "      <td>0.448</td>\n",
       "      <td>0.365</td>\n",
       "      <td>2.269</td>\n",
       "      <td>1.562</td>\n",
       "    </tr>\n",
       "    <tr>\n",
       "      <th>4</th>\n",
       "      <td>1.0</td>\n",
       "      <td>17.325</td>\n",
       "      <td>3.520</td>\n",
       "      <td>27.542</td>\n",
       "      <td>-12.142</td>\n",
       "      <td>1.017</td>\n",
       "      <td>32.662</td>\n",
       "      <td>6.735</td>\n",
       "      <td>32.206</td>\n",
       "      <td>0.000</td>\n",
       "      <td>...</td>\n",
       "      <td>5.782</td>\n",
       "      <td>0.000</td>\n",
       "      <td>-25.955</td>\n",
       "      <td>6.354</td>\n",
       "      <td>33.543</td>\n",
       "      <td>0.000</td>\n",
       "      <td>0.000</td>\n",
       "      <td>0.000</td>\n",
       "      <td>3.510</td>\n",
       "      <td>1.125</td>\n",
       "    </tr>\n",
       "  </tbody>\n",
       "</table>\n",
       "<p>5 rows × 29 columns</p>\n",
       "</div>"
      ],
      "text/plain": [
       "   Intercept     act     ap       at     ceq    che     cogs   csho     dlc  \\\n",
       "0        1.0  10.047  3.736   32.335   6.262  0.002   30.633  2.526   3.283   \n",
       "1        1.0   1.247  0.803    7.784   0.667  0.171    1.125  3.556   0.021   \n",
       "2        1.0  55.040  3.601  118.120  44.393  3.132  107.343  3.882   6.446   \n",
       "3        1.0  24.684  3.948   34.591   7.751  0.411   31.214  4.755   8.791   \n",
       "4        1.0  17.325  3.520   27.542 -12.142  1.017   32.662  6.735  32.206   \n",
       "\n",
       "    dltis  ...   ppegt   pstk      re    rect     sale   sstk    txp    txt  \\\n",
       "0  32.853  ...  31.767  0.000   5.420   6.895   40.522  0.000  0.000  0.769   \n",
       "1   2.017  ...   7.328  0.000  -3.339   0.290    3.635  0.006  0.000  0.000   \n",
       "2   6.500  ...  78.331  0.000  46.630  47.366  144.258  0.000  0.000  0.986   \n",
       "3   0.587  ...  11.145  1.295   3.280   8.522   48.292  0.000  0.448  0.365   \n",
       "4   0.000  ...   5.782  0.000 -25.955   6.354   33.543  0.000  0.000  0.000   \n",
       "\n",
       "    xint  prcc_f  \n",
       "0  2.333   6.000  \n",
       "1  0.640   1.188  \n",
       "2  3.962   5.125  \n",
       "3  2.269   1.562  \n",
       "4  3.510   1.125  \n",
       "\n",
       "[5 rows x 29 columns]"
      ]
     },
     "execution_count": 31,
     "metadata": {},
     "output_type": "execute_result"
    }
   ],
   "source": [
    "y.head()\n",
    "x.head()"
   ]
  },
  {
   "cell_type": "markdown",
   "id": "aa6c9cbb",
   "metadata": {},
   "source": [
    "7. Fit the model"
   ]
  },
  {
   "cell_type": "code",
   "execution_count": 32,
   "id": "c2aedfac",
   "metadata": {},
   "outputs": [
    {
     "name": "stdout",
     "output_type": "stream",
     "text": [
      "Optimization terminated successfully.\n",
      "         Current function value: 0.041878\n",
      "         Iterations 9\n"
     ]
    },
    {
     "data": {
      "text/html": [
       "<table class=\"simpletable\">\n",
       "<caption>Logit Regression Results</caption>\n",
       "<tr>\n",
       "  <th>Dep. Variable:</th>       <td>misstate</td>     <th>  No. Observations:  </th>  <td>126483</td>  \n",
       "</tr>\n",
       "<tr>\n",
       "  <th>Model:</th>                 <td>Logit</td>      <th>  Df Residuals:      </th>  <td>126454</td>  \n",
       "</tr>\n",
       "<tr>\n",
       "  <th>Method:</th>                 <td>MLE</td>       <th>  Df Model:          </th>  <td>    28</td>  \n",
       "</tr>\n",
       "<tr>\n",
       "  <th>Date:</th>            <td>Sat, 02 Mar 2024</td> <th>  Pseudo R-squ.:     </th>  <td>0.01767</td> \n",
       "</tr>\n",
       "<tr>\n",
       "  <th>Time:</th>                <td>13:24:19</td>     <th>  Log-Likelihood:    </th> <td> -5296.8</td> \n",
       "</tr>\n",
       "<tr>\n",
       "  <th>converged:</th>             <td>True</td>       <th>  LL-Null:           </th> <td> -5392.1</td> \n",
       "</tr>\n",
       "<tr>\n",
       "  <th>Covariance Type:</th>     <td>nonrobust</td>    <th>  LLR p-value:       </th> <td>4.086e-26</td>\n",
       "</tr>\n",
       "</table>\n",
       "<table class=\"simpletable\">\n",
       "<tr>\n",
       "      <td></td>         <th>coef</th>     <th>std err</th>      <th>z</th>      <th>P>|z|</th>  <th>[0.025</th>    <th>0.975]</th>  \n",
       "</tr>\n",
       "<tr>\n",
       "  <th>Intercept</th> <td>   -5.0167</td> <td>    0.035</td> <td> -141.978</td> <td> 0.000</td> <td>   -5.086</td> <td>   -4.947</td>\n",
       "</tr>\n",
       "<tr>\n",
       "  <th>act</th>       <td>    0.0002</td> <td> 6.49e-05</td> <td>    3.360</td> <td> 0.001</td> <td> 9.09e-05</td> <td>    0.000</td>\n",
       "</tr>\n",
       "<tr>\n",
       "  <th>ap</th>        <td>    0.0003</td> <td> 6.64e-05</td> <td>    4.490</td> <td> 0.000</td> <td>    0.000</td> <td>    0.000</td>\n",
       "</tr>\n",
       "<tr>\n",
       "  <th>at</th>        <td>-6.578e-07</td> <td> 7.19e-05</td> <td>   -0.009</td> <td> 0.993</td> <td>   -0.000</td> <td>    0.000</td>\n",
       "</tr>\n",
       "<tr>\n",
       "  <th>ceq</th>       <td> 2.411e-05</td> <td> 7.29e-05</td> <td>    0.331</td> <td> 0.741</td> <td>   -0.000</td> <td>    0.000</td>\n",
       "</tr>\n",
       "<tr>\n",
       "  <th>che</th>       <td>   -0.0002</td> <td> 7.26e-05</td> <td>   -2.896</td> <td> 0.004</td> <td>   -0.000</td> <td> -6.8e-05</td>\n",
       "</tr>\n",
       "<tr>\n",
       "  <th>cogs</th>      <td> -2.82e-05</td> <td> 2.14e-05</td> <td>   -1.319</td> <td> 0.187</td> <td>-7.01e-05</td> <td> 1.37e-05</td>\n",
       "</tr>\n",
       "<tr>\n",
       "  <th>csho</th>      <td> 4.195e-05</td> <td>  2.3e-05</td> <td>    1.822</td> <td> 0.068</td> <td>-3.16e-06</td> <td> 8.71e-05</td>\n",
       "</tr>\n",
       "<tr>\n",
       "  <th>dlc</th>       <td>-7.837e-05</td> <td> 7.22e-05</td> <td>   -1.086</td> <td> 0.277</td> <td>   -0.000</td> <td>  6.3e-05</td>\n",
       "</tr>\n",
       "<tr>\n",
       "  <th>dltis</th>     <td> 1.371e-05</td> <td> 2.37e-05</td> <td>    0.579</td> <td> 0.562</td> <td>-3.27e-05</td> <td> 6.01e-05</td>\n",
       "</tr>\n",
       "<tr>\n",
       "  <th>dltt</th>      <td> 4.041e-05</td> <td> 4.01e-05</td> <td>    1.008</td> <td> 0.313</td> <td>-3.82e-05</td> <td>    0.000</td>\n",
       "</tr>\n",
       "<tr>\n",
       "  <th>dp</th>        <td>   -0.0002</td> <td>    0.000</td> <td>   -1.537</td> <td> 0.124</td> <td>   -0.000</td> <td> 5.33e-05</td>\n",
       "</tr>\n",
       "<tr>\n",
       "  <th>ib</th>        <td>-9.332e-05</td> <td>    0.000</td> <td>   -0.786</td> <td> 0.432</td> <td>   -0.000</td> <td>    0.000</td>\n",
       "</tr>\n",
       "<tr>\n",
       "  <th>invt</th>      <td>-9.922e-05</td> <td> 6.94e-05</td> <td>   -1.430</td> <td> 0.153</td> <td>   -0.000</td> <td> 3.67e-05</td>\n",
       "</tr>\n",
       "<tr>\n",
       "  <th>ivao</th>      <td>-1.974e-06</td> <td> 1.71e-05</td> <td>   -0.115</td> <td> 0.908</td> <td>-3.55e-05</td> <td> 3.16e-05</td>\n",
       "</tr>\n",
       "<tr>\n",
       "  <th>ivst</th>      <td>-5.899e-05</td> <td> 7.59e-05</td> <td>   -0.777</td> <td> 0.437</td> <td>   -0.000</td> <td> 8.98e-05</td>\n",
       "</tr>\n",
       "<tr>\n",
       "  <th>lct</th>       <td>   -0.0001</td> <td> 7.03e-05</td> <td>   -1.570</td> <td> 0.116</td> <td>   -0.000</td> <td> 2.74e-05</td>\n",
       "</tr>\n",
       "<tr>\n",
       "  <th>lt</th>        <td>-4.393e-05</td> <td> 7.89e-05</td> <td>   -0.557</td> <td> 0.578</td> <td>   -0.000</td> <td>    0.000</td>\n",
       "</tr>\n",
       "<tr>\n",
       "  <th>ni</th>        <td>-1.766e-05</td> <td>    0.000</td> <td>   -0.174</td> <td> 0.862</td> <td>   -0.000</td> <td>    0.000</td>\n",
       "</tr>\n",
       "<tr>\n",
       "  <th>ppegt</th>     <td>-2.009e-05</td> <td> 7.51e-06</td> <td>   -2.676</td> <td> 0.007</td> <td>-3.48e-05</td> <td>-5.38e-06</td>\n",
       "</tr>\n",
       "<tr>\n",
       "  <th>pstk</th>      <td>   -0.0001</td> <td>    0.000</td> <td>   -0.389</td> <td> 0.697</td> <td>   -0.001</td> <td>    0.000</td>\n",
       "</tr>\n",
       "<tr>\n",
       "  <th>re</th>        <td>-7.699e-06</td> <td> 7.47e-06</td> <td>   -1.030</td> <td> 0.303</td> <td>-2.23e-05</td> <td> 6.95e-06</td>\n",
       "</tr>\n",
       "<tr>\n",
       "  <th>rect</th>      <td>-8.394e-05</td> <td> 6.44e-05</td> <td>   -1.303</td> <td> 0.192</td> <td>   -0.000</td> <td> 4.23e-05</td>\n",
       "</tr>\n",
       "<tr>\n",
       "  <th>sale</th>      <td> 1.844e-05</td> <td>    2e-05</td> <td>    0.922</td> <td> 0.357</td> <td>-2.08e-05</td> <td> 5.77e-05</td>\n",
       "</tr>\n",
       "<tr>\n",
       "  <th>sstk</th>      <td>    0.0002</td> <td> 4.94e-05</td> <td>    4.230</td> <td> 0.000</td> <td>    0.000</td> <td>    0.000</td>\n",
       "</tr>\n",
       "<tr>\n",
       "  <th>txp</th>       <td> 3.215e-05</td> <td>    0.000</td> <td>    0.150</td> <td> 0.881</td> <td>   -0.000</td> <td>    0.000</td>\n",
       "</tr>\n",
       "<tr>\n",
       "  <th>txt</th>       <td>-1.766e-05</td> <td>    0.000</td> <td>   -0.145</td> <td> 0.885</td> <td>   -0.000</td> <td>    0.000</td>\n",
       "</tr>\n",
       "<tr>\n",
       "  <th>xint</th>      <td>    0.0012</td> <td>    0.000</td> <td>    5.096</td> <td> 0.000</td> <td>    0.001</td> <td>    0.002</td>\n",
       "</tr>\n",
       "<tr>\n",
       "  <th>prcc_f</th>    <td>    0.0009</td> <td>    0.000</td> <td>    4.246</td> <td> 0.000</td> <td>    0.001</td> <td>    0.001</td>\n",
       "</tr>\n",
       "</table>"
      ],
      "text/plain": [
       "<class 'statsmodels.iolib.summary.Summary'>\n",
       "\"\"\"\n",
       "                           Logit Regression Results                           \n",
       "==============================================================================\n",
       "Dep. Variable:               misstate   No. Observations:               126483\n",
       "Model:                          Logit   Df Residuals:                   126454\n",
       "Method:                           MLE   Df Model:                           28\n",
       "Date:                Sat, 02 Mar 2024   Pseudo R-squ.:                 0.01767\n",
       "Time:                        13:24:19   Log-Likelihood:                -5296.8\n",
       "converged:                       True   LL-Null:                       -5392.1\n",
       "Covariance Type:            nonrobust   LLR p-value:                 4.086e-26\n",
       "==============================================================================\n",
       "                 coef    std err          z      P>|z|      [0.025      0.975]\n",
       "------------------------------------------------------------------------------\n",
       "Intercept     -5.0167      0.035   -141.978      0.000      -5.086      -4.947\n",
       "act            0.0002   6.49e-05      3.360      0.001    9.09e-05       0.000\n",
       "ap             0.0003   6.64e-05      4.490      0.000       0.000       0.000\n",
       "at         -6.578e-07   7.19e-05     -0.009      0.993      -0.000       0.000\n",
       "ceq         2.411e-05   7.29e-05      0.331      0.741      -0.000       0.000\n",
       "che           -0.0002   7.26e-05     -2.896      0.004      -0.000    -6.8e-05\n",
       "cogs        -2.82e-05   2.14e-05     -1.319      0.187   -7.01e-05    1.37e-05\n",
       "csho        4.195e-05    2.3e-05      1.822      0.068   -3.16e-06    8.71e-05\n",
       "dlc        -7.837e-05   7.22e-05     -1.086      0.277      -0.000     6.3e-05\n",
       "dltis       1.371e-05   2.37e-05      0.579      0.562   -3.27e-05    6.01e-05\n",
       "dltt        4.041e-05   4.01e-05      1.008      0.313   -3.82e-05       0.000\n",
       "dp            -0.0002      0.000     -1.537      0.124      -0.000    5.33e-05\n",
       "ib         -9.332e-05      0.000     -0.786      0.432      -0.000       0.000\n",
       "invt       -9.922e-05   6.94e-05     -1.430      0.153      -0.000    3.67e-05\n",
       "ivao       -1.974e-06   1.71e-05     -0.115      0.908   -3.55e-05    3.16e-05\n",
       "ivst       -5.899e-05   7.59e-05     -0.777      0.437      -0.000    8.98e-05\n",
       "lct           -0.0001   7.03e-05     -1.570      0.116      -0.000    2.74e-05\n",
       "lt         -4.393e-05   7.89e-05     -0.557      0.578      -0.000       0.000\n",
       "ni         -1.766e-05      0.000     -0.174      0.862      -0.000       0.000\n",
       "ppegt      -2.009e-05   7.51e-06     -2.676      0.007   -3.48e-05   -5.38e-06\n",
       "pstk          -0.0001      0.000     -0.389      0.697      -0.001       0.000\n",
       "re         -7.699e-06   7.47e-06     -1.030      0.303   -2.23e-05    6.95e-06\n",
       "rect       -8.394e-05   6.44e-05     -1.303      0.192      -0.000    4.23e-05\n",
       "sale        1.844e-05      2e-05      0.922      0.357   -2.08e-05    5.77e-05\n",
       "sstk           0.0002   4.94e-05      4.230      0.000       0.000       0.000\n",
       "txp         3.215e-05      0.000      0.150      0.881      -0.000       0.000\n",
       "txt        -1.766e-05      0.000     -0.145      0.885      -0.000       0.000\n",
       "xint           0.0012      0.000      5.096      0.000       0.001       0.002\n",
       "prcc_f         0.0009      0.000      4.246      0.000       0.001       0.001\n",
       "==============================================================================\n",
       "\"\"\""
      ]
     },
     "execution_count": 32,
     "metadata": {},
     "output_type": "execute_result"
    }
   ],
   "source": [
    "log_model = sm.Logit(y,x)\n",
    "log_res = log_model.fit()\n",
    "log_res.summary()"
   ]
  },
  {
   "cell_type": "markdown",
   "id": "348d1740",
   "metadata": {},
   "source": [
    "8. Make the predictions for probabilities and classify."
   ]
  },
  {
   "cell_type": "code",
   "execution_count": 33,
   "id": "06bd2ff2",
   "metadata": {},
   "outputs": [],
   "source": [
    "log_pred = log_res.predict(x) #making the predictions"
   ]
  },
  {
   "cell_type": "code",
   "execution_count": 34,
   "id": "df56b758",
   "metadata": {},
   "outputs": [
    {
     "data": {
      "text/plain": [
       "0         0.006640\n",
       "1         0.006598\n",
       "2         0.006643\n",
       "3         0.006615\n",
       "4         0.006595\n",
       "            ...   \n",
       "146039    0.008112\n",
       "146040    0.007419\n",
       "146041    0.010544\n",
       "146042    0.007738\n",
       "146044    0.006930\n",
       "Length: 126483, dtype: float64"
      ]
     },
     "execution_count": 34,
     "metadata": {},
     "output_type": "execute_result"
    }
   ],
   "source": [
    "log_pred"
   ]
  },
  {
   "cell_type": "code",
   "execution_count": 35,
   "id": "b1b59e76",
   "metadata": {},
   "outputs": [],
   "source": [
    "pred_class = (log_pred > 0.5).astype(int) #Classifying the probabilities"
   ]
  },
  {
   "cell_type": "code",
   "execution_count": 36,
   "id": "070cc8cf",
   "metadata": {},
   "outputs": [
    {
     "data": {
      "text/plain": [
       "0         0\n",
       "1         0\n",
       "2         0\n",
       "3         0\n",
       "4         0\n",
       "         ..\n",
       "146039    0\n",
       "146040    0\n",
       "146041    0\n",
       "146042    0\n",
       "146044    0\n",
       "Length: 126483, dtype: int32"
      ]
     },
     "execution_count": 36,
     "metadata": {},
     "output_type": "execute_result"
    }
   ],
   "source": [
    "pred_class"
   ]
  },
  {
   "cell_type": "markdown",
   "id": "a8887732",
   "metadata": {},
   "source": [
    "9. Calculate the accuracy rate."
   ]
  },
  {
   "cell_type": "code",
   "execution_count": 37,
   "id": "fc7e143e",
   "metadata": {},
   "outputs": [],
   "source": [
    "y['misstate_predicted'] = pred_class"
   ]
  },
  {
   "cell_type": "code",
   "execution_count": 38,
   "id": "b325ef55",
   "metadata": {},
   "outputs": [
    {
     "data": {
      "text/html": [
       "<div>\n",
       "<style scoped>\n",
       "    .dataframe tbody tr th:only-of-type {\n",
       "        vertical-align: middle;\n",
       "    }\n",
       "\n",
       "    .dataframe tbody tr th {\n",
       "        vertical-align: top;\n",
       "    }\n",
       "\n",
       "    .dataframe thead th {\n",
       "        text-align: right;\n",
       "    }\n",
       "</style>\n",
       "<table border=\"1\" class=\"dataframe\">\n",
       "  <thead>\n",
       "    <tr style=\"text-align: right;\">\n",
       "      <th></th>\n",
       "      <th>misstate</th>\n",
       "      <th>misstate_predicted</th>\n",
       "    </tr>\n",
       "  </thead>\n",
       "  <tbody>\n",
       "    <tr>\n",
       "      <th>0</th>\n",
       "      <td>0.0</td>\n",
       "      <td>0</td>\n",
       "    </tr>\n",
       "    <tr>\n",
       "      <th>1</th>\n",
       "      <td>0.0</td>\n",
       "      <td>0</td>\n",
       "    </tr>\n",
       "    <tr>\n",
       "      <th>2</th>\n",
       "      <td>0.0</td>\n",
       "      <td>0</td>\n",
       "    </tr>\n",
       "    <tr>\n",
       "      <th>3</th>\n",
       "      <td>0.0</td>\n",
       "      <td>0</td>\n",
       "    </tr>\n",
       "    <tr>\n",
       "      <th>4</th>\n",
       "      <td>0.0</td>\n",
       "      <td>0</td>\n",
       "    </tr>\n",
       "    <tr>\n",
       "      <th>...</th>\n",
       "      <td>...</td>\n",
       "      <td>...</td>\n",
       "    </tr>\n",
       "    <tr>\n",
       "      <th>146039</th>\n",
       "      <td>0.0</td>\n",
       "      <td>0</td>\n",
       "    </tr>\n",
       "    <tr>\n",
       "      <th>146040</th>\n",
       "      <td>0.0</td>\n",
       "      <td>0</td>\n",
       "    </tr>\n",
       "    <tr>\n",
       "      <th>146041</th>\n",
       "      <td>0.0</td>\n",
       "      <td>0</td>\n",
       "    </tr>\n",
       "    <tr>\n",
       "      <th>146042</th>\n",
       "      <td>0.0</td>\n",
       "      <td>0</td>\n",
       "    </tr>\n",
       "    <tr>\n",
       "      <th>146044</th>\n",
       "      <td>0.0</td>\n",
       "      <td>0</td>\n",
       "    </tr>\n",
       "  </tbody>\n",
       "</table>\n",
       "<p>126483 rows × 2 columns</p>\n",
       "</div>"
      ],
      "text/plain": [
       "        misstate  misstate_predicted\n",
       "0            0.0                   0\n",
       "1            0.0                   0\n",
       "2            0.0                   0\n",
       "3            0.0                   0\n",
       "4            0.0                   0\n",
       "...          ...                 ...\n",
       "146039       0.0                   0\n",
       "146040       0.0                   0\n",
       "146041       0.0                   0\n",
       "146042       0.0                   0\n",
       "146044       0.0                   0\n",
       "\n",
       "[126483 rows x 2 columns]"
      ]
     },
     "execution_count": 38,
     "metadata": {},
     "output_type": "execute_result"
    }
   ],
   "source": [
    "y"
   ]
  },
  {
   "cell_type": "code",
   "execution_count": 39,
   "id": "da12c365",
   "metadata": {},
   "outputs": [],
   "source": [
    "y['correct_pred'] = np.where(y['misstate'] == y['misstate_predicted'], 1,0)"
   ]
  },
  {
   "cell_type": "code",
   "execution_count": 40,
   "id": "769deee6",
   "metadata": {},
   "outputs": [
    {
     "data": {
      "text/plain": [
       "0.9927974510408514"
      ]
     },
     "execution_count": 40,
     "metadata": {},
     "output_type": "execute_result"
    }
   ],
   "source": [
    "y['correct_pred'].sum() / len(y) #Calculating the accuarcy rate"
   ]
  },
  {
   "cell_type": "markdown",
   "id": "ff2d29a5",
   "metadata": {},
   "source": [
    "Fitting the model with 28 raw accounting variables, the probability predictions are accurate with 99.279%"
   ]
  },
  {
   "cell_type": "markdown",
   "id": "2c3e37ea",
   "metadata": {},
   "source": [
    "10. Repeat 6-9 using the 14 financial ratio variables."
   ]
  },
  {
   "cell_type": "code",
   "execution_count": 41,
   "id": "3d0dc8d6",
   "metadata": {},
   "outputs": [],
   "source": [
    "X14 = df.iloc[:,30:45]"
   ]
  },
  {
   "cell_type": "code",
   "execution_count": 42,
   "id": "6c10b157",
   "metadata": {},
   "outputs": [],
   "source": [
    "y14, x14 = patsy.dmatrices(\"misstate ~ {}\".format(\" + \".join(X14)), data = df, return_type = 'dataframe')"
   ]
  },
  {
   "cell_type": "code",
   "execution_count": 43,
   "id": "3bda3272",
   "metadata": {},
   "outputs": [
    {
     "name": "stdout",
     "output_type": "stream",
     "text": [
      "Optimization terminated successfully.\n",
      "         Current function value: 0.040796\n",
      "         Iterations 12\n"
     ]
    },
    {
     "data": {
      "text/html": [
       "<table class=\"simpletable\">\n",
       "<caption>Logit Regression Results</caption>\n",
       "<tr>\n",
       "  <th>Dep. Variable:</th>       <td>misstate</td>     <th>  No. Observations:  </th>  <td>126483</td>  \n",
       "</tr>\n",
       "<tr>\n",
       "  <th>Model:</th>                 <td>Logit</td>      <th>  Df Residuals:      </th>  <td>126468</td>  \n",
       "</tr>\n",
       "<tr>\n",
       "  <th>Method:</th>                 <td>MLE</td>       <th>  Df Model:          </th>  <td>    14</td>  \n",
       "</tr>\n",
       "<tr>\n",
       "  <th>Date:</th>            <td>Sat, 02 Mar 2024</td> <th>  Pseudo R-squ.:     </th>  <td>0.04303</td> \n",
       "</tr>\n",
       "<tr>\n",
       "  <th>Time:</th>                <td>13:24:37</td>     <th>  Log-Likelihood:    </th> <td> -5160.1</td> \n",
       "</tr>\n",
       "<tr>\n",
       "  <th>converged:</th>             <td>True</td>       <th>  LL-Null:           </th> <td> -5392.1</td> \n",
       "</tr>\n",
       "<tr>\n",
       "  <th>Covariance Type:</th>     <td>nonrobust</td>    <th>  LLR p-value:       </th> <td>3.716e-90</td>\n",
       "</tr>\n",
       "</table>\n",
       "<table class=\"simpletable\">\n",
       "<tr>\n",
       "       <td></td>          <th>coef</th>     <th>std err</th>      <th>z</th>      <th>P>|z|</th>  <th>[0.025</th>    <th>0.975]</th>  \n",
       "</tr>\n",
       "<tr>\n",
       "  <th>Intercept</th>   <td>   -7.1554</td> <td>    0.222</td> <td>  -32.176</td> <td> 0.000</td> <td>   -7.591</td> <td>   -6.720</td>\n",
       "</tr>\n",
       "<tr>\n",
       "  <th>dch_wc</th>      <td>   -0.9463</td> <td>    0.366</td> <td>   -2.586</td> <td> 0.010</td> <td>   -1.663</td> <td>   -0.229</td>\n",
       "</tr>\n",
       "<tr>\n",
       "  <th>ch_rsst</th>     <td>    0.9744</td> <td>    0.283</td> <td>    3.446</td> <td> 0.001</td> <td>    0.420</td> <td>    1.529</td>\n",
       "</tr>\n",
       "<tr>\n",
       "  <th>dch_rec</th>     <td>    2.0044</td> <td>    0.464</td> <td>    4.318</td> <td> 0.000</td> <td>    1.095</td> <td>    2.914</td>\n",
       "</tr>\n",
       "<tr>\n",
       "  <th>dch_inv</th>     <td>    1.2629</td> <td>    0.640</td> <td>    1.973</td> <td> 0.048</td> <td>    0.009</td> <td>    2.517</td>\n",
       "</tr>\n",
       "<tr>\n",
       "  <th>soft_assets</th> <td>    1.8892</td> <td>    0.149</td> <td>   12.680</td> <td> 0.000</td> <td>    1.597</td> <td>    2.181</td>\n",
       "</tr>\n",
       "<tr>\n",
       "  <th>ch_cs</th>       <td>    0.0576</td> <td>    0.026</td> <td>    2.215</td> <td> 0.027</td> <td>    0.007</td> <td>    0.108</td>\n",
       "</tr>\n",
       "<tr>\n",
       "  <th>ch_cm</th>       <td>   -0.0024</td> <td>    0.015</td> <td>   -0.163</td> <td> 0.870</td> <td>   -0.031</td> <td>    0.026</td>\n",
       "</tr>\n",
       "<tr>\n",
       "  <th>ch_roa</th>      <td>   -0.5019</td> <td>    0.218</td> <td>   -2.307</td> <td> 0.021</td> <td>   -0.928</td> <td>   -0.075</td>\n",
       "</tr>\n",
       "<tr>\n",
       "  <th>issue</th>       <td>    1.2184</td> <td>    0.184</td> <td>    6.630</td> <td> 0.000</td> <td>    0.858</td> <td>    1.579</td>\n",
       "</tr>\n",
       "<tr>\n",
       "  <th>bm</th>          <td>   -0.0688</td> <td>    0.033</td> <td>   -2.083</td> <td> 0.037</td> <td>   -0.134</td> <td>   -0.004</td>\n",
       "</tr>\n",
       "<tr>\n",
       "  <th>dpi</th>         <td>    0.0457</td> <td>    0.077</td> <td>    0.591</td> <td> 0.555</td> <td>   -0.106</td> <td>    0.197</td>\n",
       "</tr>\n",
       "<tr>\n",
       "  <th>reoa</th>        <td>    0.2432</td> <td>    0.040</td> <td>    6.075</td> <td> 0.000</td> <td>    0.165</td> <td>    0.322</td>\n",
       "</tr>\n",
       "<tr>\n",
       "  <th>EBIT</th>        <td>   -0.4304</td> <td>    0.138</td> <td>   -3.125</td> <td> 0.002</td> <td>   -0.700</td> <td>   -0.160</td>\n",
       "</tr>\n",
       "<tr>\n",
       "  <th>ch_fcf</th>      <td>    0.4192</td> <td>    0.237</td> <td>    1.768</td> <td> 0.077</td> <td>   -0.046</td> <td>    0.884</td>\n",
       "</tr>\n",
       "</table>"
      ],
      "text/plain": [
       "<class 'statsmodels.iolib.summary.Summary'>\n",
       "\"\"\"\n",
       "                           Logit Regression Results                           \n",
       "==============================================================================\n",
       "Dep. Variable:               misstate   No. Observations:               126483\n",
       "Model:                          Logit   Df Residuals:                   126468\n",
       "Method:                           MLE   Df Model:                           14\n",
       "Date:                Sat, 02 Mar 2024   Pseudo R-squ.:                 0.04303\n",
       "Time:                        13:24:37   Log-Likelihood:                -5160.1\n",
       "converged:                       True   LL-Null:                       -5392.1\n",
       "Covariance Type:            nonrobust   LLR p-value:                 3.716e-90\n",
       "===============================================================================\n",
       "                  coef    std err          z      P>|z|      [0.025      0.975]\n",
       "-------------------------------------------------------------------------------\n",
       "Intercept      -7.1554      0.222    -32.176      0.000      -7.591      -6.720\n",
       "dch_wc         -0.9463      0.366     -2.586      0.010      -1.663      -0.229\n",
       "ch_rsst         0.9744      0.283      3.446      0.001       0.420       1.529\n",
       "dch_rec         2.0044      0.464      4.318      0.000       1.095       2.914\n",
       "dch_inv         1.2629      0.640      1.973      0.048       0.009       2.517\n",
       "soft_assets     1.8892      0.149     12.680      0.000       1.597       2.181\n",
       "ch_cs           0.0576      0.026      2.215      0.027       0.007       0.108\n",
       "ch_cm          -0.0024      0.015     -0.163      0.870      -0.031       0.026\n",
       "ch_roa         -0.5019      0.218     -2.307      0.021      -0.928      -0.075\n",
       "issue           1.2184      0.184      6.630      0.000       0.858       1.579\n",
       "bm             -0.0688      0.033     -2.083      0.037      -0.134      -0.004\n",
       "dpi             0.0457      0.077      0.591      0.555      -0.106       0.197\n",
       "reoa            0.2432      0.040      6.075      0.000       0.165       0.322\n",
       "EBIT           -0.4304      0.138     -3.125      0.002      -0.700      -0.160\n",
       "ch_fcf          0.4192      0.237      1.768      0.077      -0.046       0.884\n",
       "===============================================================================\n",
       "\"\"\""
      ]
     },
     "execution_count": 43,
     "metadata": {},
     "output_type": "execute_result"
    }
   ],
   "source": [
    "log_model14 = sm.Logit(y14,x14)\n",
    "log_res14 = log_model14.fit()\n",
    "log_res14.summary()"
   ]
  },
  {
   "cell_type": "code",
   "execution_count": 44,
   "id": "ddcac8ca",
   "metadata": {},
   "outputs": [],
   "source": [
    "log_pred14 = log_res14.predict(x14)"
   ]
  },
  {
   "cell_type": "code",
   "execution_count": 45,
   "id": "303c36ee",
   "metadata": {},
   "outputs": [],
   "source": [
    "pred_class14 = (log_pred14 > 0.5).astype(int)"
   ]
  },
  {
   "cell_type": "code",
   "execution_count": 46,
   "id": "6cc4baaf",
   "metadata": {},
   "outputs": [],
   "source": [
    "y['misstate_predicted14'] = pred_class14"
   ]
  },
  {
   "cell_type": "code",
   "execution_count": 47,
   "id": "10bff90d",
   "metadata": {},
   "outputs": [],
   "source": [
    "y['correct_pred14'] = np.where(y['misstate'] == y['misstate_predicted14'], 1,0)"
   ]
  },
  {
   "cell_type": "code",
   "execution_count": 48,
   "id": "d87dec7f",
   "metadata": {},
   "outputs": [
    {
     "data": {
      "text/plain": [
       "0.992813263442518"
      ]
     },
     "execution_count": 48,
     "metadata": {},
     "output_type": "execute_result"
    }
   ],
   "source": [
    "y['correct_pred14'].sum() / len(y)"
   ]
  },
  {
   "cell_type": "markdown",
   "id": "34889f45",
   "metadata": {},
   "source": [
    "Fitting the model with 14 financial ratio variables, the probability predictions are accurate with 99.281%"
   ]
  },
  {
   "cell_type": "markdown",
   "id": "049c655a",
   "metadata": {},
   "source": [
    "11. Repeat 6-9 using all 42 (28+14) variables. Which model gives the best accuracy rate?"
   ]
  },
  {
   "cell_type": "code",
   "execution_count": 49,
   "id": "e6b46599",
   "metadata": {},
   "outputs": [],
   "source": [
    "X42 = df.iloc[:,2:45]"
   ]
  },
  {
   "cell_type": "code",
   "execution_count": 50,
   "id": "04a5ac4f",
   "metadata": {},
   "outputs": [],
   "source": [
    "y42, x42 = patsy.dmatrices(\"misstate ~ {}\".format(\" + \".join(X42)), data = df, return_type = 'dataframe')"
   ]
  },
  {
   "cell_type": "code",
   "execution_count": 51,
   "id": "5857021f",
   "metadata": {},
   "outputs": [
    {
     "name": "stdout",
     "output_type": "stream",
     "text": [
      "Optimization terminated successfully.\n",
      "         Current function value: 0.040220\n",
      "         Iterations 12\n"
     ]
    },
    {
     "data": {
      "text/html": [
       "<table class=\"simpletable\">\n",
       "<caption>Logit Regression Results</caption>\n",
       "<tr>\n",
       "  <th>Dep. Variable:</th>       <td>misstate</td>     <th>  No. Observations:  </th>   <td>126483</td>  \n",
       "</tr>\n",
       "<tr>\n",
       "  <th>Model:</th>                 <td>Logit</td>      <th>  Df Residuals:      </th>   <td>126440</td>  \n",
       "</tr>\n",
       "<tr>\n",
       "  <th>Method:</th>                 <td>MLE</td>       <th>  Df Model:          </th>   <td>    42</td>  \n",
       "</tr>\n",
       "<tr>\n",
       "  <th>Date:</th>            <td>Sat, 02 Mar 2024</td> <th>  Pseudo R-squ.:     </th>   <td>0.05656</td> \n",
       "</tr>\n",
       "<tr>\n",
       "  <th>Time:</th>                <td>13:24:45</td>     <th>  Log-Likelihood:    </th>  <td> -5087.2</td> \n",
       "</tr>\n",
       "<tr>\n",
       "  <th>converged:</th>             <td>True</td>       <th>  LL-Null:           </th>  <td> -5392.1</td> \n",
       "</tr>\n",
       "<tr>\n",
       "  <th>Covariance Type:</th>     <td>nonrobust</td>    <th>  LLR p-value:       </th> <td>7.739e-102</td>\n",
       "</tr>\n",
       "</table>\n",
       "<table class=\"simpletable\">\n",
       "<tr>\n",
       "       <td></td>          <th>coef</th>     <th>std err</th>      <th>z</th>      <th>P>|z|</th>  <th>[0.025</th>    <th>0.975]</th>  \n",
       "</tr>\n",
       "<tr>\n",
       "  <th>Intercept</th>   <td>   -7.1695</td> <td>    0.225</td> <td>  -31.796</td> <td> 0.000</td> <td>   -7.611</td> <td>   -6.728</td>\n",
       "</tr>\n",
       "<tr>\n",
       "  <th>act</th>         <td>    0.0002</td> <td> 6.59e-05</td> <td>    3.130</td> <td> 0.002</td> <td> 7.71e-05</td> <td>    0.000</td>\n",
       "</tr>\n",
       "<tr>\n",
       "  <th>ap</th>          <td>    0.0003</td> <td> 6.95e-05</td> <td>    4.337</td> <td> 0.000</td> <td>    0.000</td> <td>    0.000</td>\n",
       "</tr>\n",
       "<tr>\n",
       "  <th>at</th>          <td>-4.644e-06</td> <td> 6.77e-05</td> <td>   -0.069</td> <td> 0.945</td> <td>   -0.000</td> <td>    0.000</td>\n",
       "</tr>\n",
       "<tr>\n",
       "  <th>ceq</th>         <td> 1.881e-05</td> <td> 6.82e-05</td> <td>    0.276</td> <td> 0.783</td> <td>   -0.000</td> <td>    0.000</td>\n",
       "</tr>\n",
       "<tr>\n",
       "  <th>che</th>         <td>   -0.0002</td> <td> 7.46e-05</td> <td>   -2.125</td> <td> 0.034</td> <td>   -0.000</td> <td>-1.23e-05</td>\n",
       "</tr>\n",
       "<tr>\n",
       "  <th>cogs</th>        <td>-2.204e-05</td> <td> 2.16e-05</td> <td>   -1.022</td> <td> 0.307</td> <td>-6.43e-05</td> <td> 2.02e-05</td>\n",
       "</tr>\n",
       "<tr>\n",
       "  <th>csho</th>        <td> 4.306e-05</td> <td> 2.22e-05</td> <td>    1.935</td> <td> 0.053</td> <td>-5.45e-07</td> <td> 8.67e-05</td>\n",
       "</tr>\n",
       "<tr>\n",
       "  <th>dlc</th>         <td>-4.019e-05</td> <td> 7.39e-05</td> <td>   -0.544</td> <td> 0.586</td> <td>   -0.000</td> <td>    0.000</td>\n",
       "</tr>\n",
       "<tr>\n",
       "  <th>dltis</th>       <td> 1.254e-06</td> <td> 2.57e-05</td> <td>    0.049</td> <td> 0.961</td> <td>-4.91e-05</td> <td> 5.16e-05</td>\n",
       "</tr>\n",
       "<tr>\n",
       "  <th>dltt</th>        <td> 3.781e-05</td> <td> 3.82e-05</td> <td>    0.990</td> <td> 0.322</td> <td>-3.71e-05</td> <td>    0.000</td>\n",
       "</tr>\n",
       "<tr>\n",
       "  <th>dp</th>          <td>   -0.0002</td> <td>    0.000</td> <td>   -1.293</td> <td> 0.196</td> <td>   -0.000</td> <td> 8.17e-05</td>\n",
       "</tr>\n",
       "<tr>\n",
       "  <th>ib</th>          <td>   -0.0001</td> <td>    0.000</td> <td>   -1.035</td> <td> 0.300</td> <td>   -0.000</td> <td> 9.88e-05</td>\n",
       "</tr>\n",
       "<tr>\n",
       "  <th>invt</th>        <td>   -0.0001</td> <td> 7.07e-05</td> <td>   -1.537</td> <td> 0.124</td> <td>   -0.000</td> <td> 2.99e-05</td>\n",
       "</tr>\n",
       "<tr>\n",
       "  <th>ivao</th>        <td> 2.692e-06</td> <td> 1.79e-05</td> <td>    0.151</td> <td> 0.880</td> <td>-3.23e-05</td> <td> 3.77e-05</td>\n",
       "</tr>\n",
       "<tr>\n",
       "  <th>ivst</th>        <td>-8.048e-05</td> <td> 7.87e-05</td> <td>   -1.023</td> <td> 0.306</td> <td>   -0.000</td> <td> 7.38e-05</td>\n",
       "</tr>\n",
       "<tr>\n",
       "  <th>lct</th>         <td>   -0.0001</td> <td> 7.15e-05</td> <td>   -1.574</td> <td> 0.116</td> <td>   -0.000</td> <td> 2.76e-05</td>\n",
       "</tr>\n",
       "<tr>\n",
       "  <th>lt</th>          <td>-4.851e-05</td> <td> 7.56e-05</td> <td>   -0.642</td> <td> 0.521</td> <td>   -0.000</td> <td> 9.96e-05</td>\n",
       "</tr>\n",
       "<tr>\n",
       "  <th>ni</th>          <td>-3.683e-06</td> <td> 8.77e-05</td> <td>   -0.042</td> <td> 0.967</td> <td>   -0.000</td> <td>    0.000</td>\n",
       "</tr>\n",
       "<tr>\n",
       "  <th>ppegt</th>       <td>-1.801e-06</td> <td>  7.8e-06</td> <td>   -0.231</td> <td> 0.817</td> <td>-1.71e-05</td> <td> 1.35e-05</td>\n",
       "</tr>\n",
       "<tr>\n",
       "  <th>pstk</th>        <td>-9.442e-05</td> <td>    0.000</td> <td>   -0.348</td> <td> 0.728</td> <td>   -0.001</td> <td>    0.000</td>\n",
       "</tr>\n",
       "<tr>\n",
       "  <th>re</th>          <td> -1.27e-05</td> <td> 7.89e-06</td> <td>   -1.611</td> <td> 0.107</td> <td>-2.82e-05</td> <td> 2.75e-06</td>\n",
       "</tr>\n",
       "<tr>\n",
       "  <th>rect</th>        <td>   -0.0001</td> <td> 6.69e-05</td> <td>   -1.628</td> <td> 0.103</td> <td>   -0.000</td> <td> 2.22e-05</td>\n",
       "</tr>\n",
       "<tr>\n",
       "  <th>sale</th>        <td> 1.285e-05</td> <td> 2.03e-05</td> <td>    0.632</td> <td> 0.527</td> <td> -2.7e-05</td> <td> 5.27e-05</td>\n",
       "</tr>\n",
       "<tr>\n",
       "  <th>sstk</th>        <td>    0.0002</td> <td> 5.15e-05</td> <td>    3.466</td> <td> 0.001</td> <td> 7.75e-05</td> <td>    0.000</td>\n",
       "</tr>\n",
       "<tr>\n",
       "  <th>txp</th>         <td> 6.482e-05</td> <td>    0.000</td> <td>    0.310</td> <td> 0.756</td> <td>   -0.000</td> <td>    0.000</td>\n",
       "</tr>\n",
       "<tr>\n",
       "  <th>txt</th>         <td>-1.053e-05</td> <td>    0.000</td> <td>   -0.089</td> <td> 0.929</td> <td>   -0.000</td> <td>    0.000</td>\n",
       "</tr>\n",
       "<tr>\n",
       "  <th>xint</th>        <td>    0.0012</td> <td>    0.000</td> <td>    4.746</td> <td> 0.000</td> <td>    0.001</td> <td>    0.002</td>\n",
       "</tr>\n",
       "<tr>\n",
       "  <th>prcc_f</th>      <td>    0.0010</td> <td>    0.000</td> <td>    3.998</td> <td> 0.000</td> <td>    0.001</td> <td>    0.001</td>\n",
       "</tr>\n",
       "<tr>\n",
       "  <th>dch_wc</th>      <td>   -0.9484</td> <td>    0.372</td> <td>   -2.547</td> <td> 0.011</td> <td>   -1.678</td> <td>   -0.218</td>\n",
       "</tr>\n",
       "<tr>\n",
       "  <th>ch_rsst</th>     <td>    0.9954</td> <td>    0.286</td> <td>    3.482</td> <td> 0.000</td> <td>    0.435</td> <td>    1.556</td>\n",
       "</tr>\n",
       "<tr>\n",
       "  <th>dch_rec</th>     <td>    2.1294</td> <td>    0.472</td> <td>    4.511</td> <td> 0.000</td> <td>    1.204</td> <td>    3.055</td>\n",
       "</tr>\n",
       "<tr>\n",
       "  <th>dch_inv</th>     <td>    1.3559</td> <td>    0.654</td> <td>    2.074</td> <td> 0.038</td> <td>    0.075</td> <td>    2.637</td>\n",
       "</tr>\n",
       "<tr>\n",
       "  <th>soft_assets</th> <td>    1.8267</td> <td>    0.154</td> <td>   11.826</td> <td> 0.000</td> <td>    1.524</td> <td>    2.129</td>\n",
       "</tr>\n",
       "<tr>\n",
       "  <th>ch_cs</th>       <td>    0.0594</td> <td>    0.026</td> <td>    2.266</td> <td> 0.023</td> <td>    0.008</td> <td>    0.111</td>\n",
       "</tr>\n",
       "<tr>\n",
       "  <th>ch_cm</th>       <td>   -0.0030</td> <td>    0.015</td> <td>   -0.200</td> <td> 0.842</td> <td>   -0.032</td> <td>    0.026</td>\n",
       "</tr>\n",
       "<tr>\n",
       "  <th>ch_roa</th>      <td>   -0.4986</td> <td>    0.220</td> <td>   -2.270</td> <td> 0.023</td> <td>   -0.929</td> <td>   -0.068</td>\n",
       "</tr>\n",
       "<tr>\n",
       "  <th>issue</th>       <td>    1.1626</td> <td>    0.185</td> <td>    6.296</td> <td> 0.000</td> <td>    0.801</td> <td>    1.524</td>\n",
       "</tr>\n",
       "<tr>\n",
       "  <th>bm</th>          <td>   -0.0637</td> <td>    0.034</td> <td>   -1.891</td> <td> 0.059</td> <td>   -0.130</td> <td>    0.002</td>\n",
       "</tr>\n",
       "<tr>\n",
       "  <th>dpi</th>         <td>    0.0484</td> <td>    0.078</td> <td>    0.617</td> <td> 0.537</td> <td>   -0.105</td> <td>    0.202</td>\n",
       "</tr>\n",
       "<tr>\n",
       "  <th>reoa</th>        <td>    0.2248</td> <td>    0.040</td> <td>    5.684</td> <td> 0.000</td> <td>    0.147</td> <td>    0.302</td>\n",
       "</tr>\n",
       "<tr>\n",
       "  <th>EBIT</th>        <td>   -0.4205</td> <td>    0.138</td> <td>   -3.039</td> <td> 0.002</td> <td>   -0.692</td> <td>   -0.149</td>\n",
       "</tr>\n",
       "<tr>\n",
       "  <th>ch_fcf</th>      <td>    0.4263</td> <td>    0.240</td> <td>    1.779</td> <td> 0.075</td> <td>   -0.043</td> <td>    0.896</td>\n",
       "</tr>\n",
       "</table>"
      ],
      "text/plain": [
       "<class 'statsmodels.iolib.summary.Summary'>\n",
       "\"\"\"\n",
       "                           Logit Regression Results                           \n",
       "==============================================================================\n",
       "Dep. Variable:               misstate   No. Observations:               126483\n",
       "Model:                          Logit   Df Residuals:                   126440\n",
       "Method:                           MLE   Df Model:                           42\n",
       "Date:                Sat, 02 Mar 2024   Pseudo R-squ.:                 0.05656\n",
       "Time:                        13:24:45   Log-Likelihood:                -5087.2\n",
       "converged:                       True   LL-Null:                       -5392.1\n",
       "Covariance Type:            nonrobust   LLR p-value:                7.739e-102\n",
       "===============================================================================\n",
       "                  coef    std err          z      P>|z|      [0.025      0.975]\n",
       "-------------------------------------------------------------------------------\n",
       "Intercept      -7.1695      0.225    -31.796      0.000      -7.611      -6.728\n",
       "act             0.0002   6.59e-05      3.130      0.002    7.71e-05       0.000\n",
       "ap              0.0003   6.95e-05      4.337      0.000       0.000       0.000\n",
       "at          -4.644e-06   6.77e-05     -0.069      0.945      -0.000       0.000\n",
       "ceq          1.881e-05   6.82e-05      0.276      0.783      -0.000       0.000\n",
       "che            -0.0002   7.46e-05     -2.125      0.034      -0.000   -1.23e-05\n",
       "cogs        -2.204e-05   2.16e-05     -1.022      0.307   -6.43e-05    2.02e-05\n",
       "csho         4.306e-05   2.22e-05      1.935      0.053   -5.45e-07    8.67e-05\n",
       "dlc         -4.019e-05   7.39e-05     -0.544      0.586      -0.000       0.000\n",
       "dltis        1.254e-06   2.57e-05      0.049      0.961   -4.91e-05    5.16e-05\n",
       "dltt         3.781e-05   3.82e-05      0.990      0.322   -3.71e-05       0.000\n",
       "dp             -0.0002      0.000     -1.293      0.196      -0.000    8.17e-05\n",
       "ib             -0.0001      0.000     -1.035      0.300      -0.000    9.88e-05\n",
       "invt           -0.0001   7.07e-05     -1.537      0.124      -0.000    2.99e-05\n",
       "ivao         2.692e-06   1.79e-05      0.151      0.880   -3.23e-05    3.77e-05\n",
       "ivst        -8.048e-05   7.87e-05     -1.023      0.306      -0.000    7.38e-05\n",
       "lct            -0.0001   7.15e-05     -1.574      0.116      -0.000    2.76e-05\n",
       "lt          -4.851e-05   7.56e-05     -0.642      0.521      -0.000    9.96e-05\n",
       "ni          -3.683e-06   8.77e-05     -0.042      0.967      -0.000       0.000\n",
       "ppegt       -1.801e-06    7.8e-06     -0.231      0.817   -1.71e-05    1.35e-05\n",
       "pstk        -9.442e-05      0.000     -0.348      0.728      -0.001       0.000\n",
       "re           -1.27e-05   7.89e-06     -1.611      0.107   -2.82e-05    2.75e-06\n",
       "rect           -0.0001   6.69e-05     -1.628      0.103      -0.000    2.22e-05\n",
       "sale         1.285e-05   2.03e-05      0.632      0.527    -2.7e-05    5.27e-05\n",
       "sstk            0.0002   5.15e-05      3.466      0.001    7.75e-05       0.000\n",
       "txp          6.482e-05      0.000      0.310      0.756      -0.000       0.000\n",
       "txt         -1.053e-05      0.000     -0.089      0.929      -0.000       0.000\n",
       "xint            0.0012      0.000      4.746      0.000       0.001       0.002\n",
       "prcc_f          0.0010      0.000      3.998      0.000       0.001       0.001\n",
       "dch_wc         -0.9484      0.372     -2.547      0.011      -1.678      -0.218\n",
       "ch_rsst         0.9954      0.286      3.482      0.000       0.435       1.556\n",
       "dch_rec         2.1294      0.472      4.511      0.000       1.204       3.055\n",
       "dch_inv         1.3559      0.654      2.074      0.038       0.075       2.637\n",
       "soft_assets     1.8267      0.154     11.826      0.000       1.524       2.129\n",
       "ch_cs           0.0594      0.026      2.266      0.023       0.008       0.111\n",
       "ch_cm          -0.0030      0.015     -0.200      0.842      -0.032       0.026\n",
       "ch_roa         -0.4986      0.220     -2.270      0.023      -0.929      -0.068\n",
       "issue           1.1626      0.185      6.296      0.000       0.801       1.524\n",
       "bm             -0.0637      0.034     -1.891      0.059      -0.130       0.002\n",
       "dpi             0.0484      0.078      0.617      0.537      -0.105       0.202\n",
       "reoa            0.2248      0.040      5.684      0.000       0.147       0.302\n",
       "EBIT           -0.4205      0.138     -3.039      0.002      -0.692      -0.149\n",
       "ch_fcf          0.4263      0.240      1.779      0.075      -0.043       0.896\n",
       "===============================================================================\n",
       "\"\"\""
      ]
     },
     "execution_count": 51,
     "metadata": {},
     "output_type": "execute_result"
    }
   ],
   "source": [
    "log_model42 = sm.Logit(y42,x42)\n",
    "log_res42 = log_model42.fit()\n",
    "log_res42.summary()"
   ]
  },
  {
   "cell_type": "code",
   "execution_count": 52,
   "id": "f4fe9a2d",
   "metadata": {},
   "outputs": [],
   "source": [
    "log_pred42 = log_res42.predict(x42)"
   ]
  },
  {
   "cell_type": "code",
   "execution_count": 53,
   "id": "f94549db",
   "metadata": {},
   "outputs": [],
   "source": [
    "pred_class42 = (log_pred42 > 0.5).astype(int)"
   ]
  },
  {
   "cell_type": "code",
   "execution_count": 54,
   "id": "52813380",
   "metadata": {},
   "outputs": [],
   "source": [
    "y['misstate_predicted42'] = pred_class42"
   ]
  },
  {
   "cell_type": "code",
   "execution_count": 55,
   "id": "b422ced7",
   "metadata": {},
   "outputs": [],
   "source": [
    "y['correct_pred42'] = np.where(y['misstate'] == y['misstate_predicted42'], 1,0)"
   ]
  },
  {
   "cell_type": "code",
   "execution_count": 56,
   "id": "dcae68ae",
   "metadata": {},
   "outputs": [
    {
     "data": {
      "text/plain": [
       "0.9928369820450179"
      ]
     },
     "execution_count": 56,
     "metadata": {},
     "output_type": "execute_result"
    }
   ],
   "source": [
    "y['correct_pred42'].sum() / len(y)"
   ]
  },
  {
   "cell_type": "markdown",
   "id": "7b0d4297",
   "metadata": {},
   "source": [
    "Fitting the model with all 42 variables, the probability predictions are accurate with 99.283%"
   ]
  },
  {
   "cell_type": "code",
   "execution_count": 57,
   "id": "3bb07926",
   "metadata": {},
   "outputs": [
    {
     "data": {
      "text/plain": [
       "0.9928369820450179"
      ]
     },
     "execution_count": 57,
     "metadata": {},
     "output_type": "execute_result"
    }
   ],
   "source": [
    "max(y['correct_pred42'].sum() / len(y), y['correct_pred14'].sum() / len(y), y['correct_pred'].sum() / len(y))"
   ]
  },
  {
   "cell_type": "markdown",
   "id": "d1b86921",
   "metadata": {},
   "source": [
    "Among the three models, the model fitted with all 42 variables has the highest accuracy rate with 99.283% and is the best model. Since the dataset is highly imbalanced, 'Accuracy' is not the right metric to evaluate the model. We need to look at the F-1 score, Precision and Recall metrics to evaluate the model."
   ]
  },
  {
   "cell_type": "code",
   "execution_count": null,
   "id": "9c16ab01",
   "metadata": {},
   "outputs": [],
   "source": []
  }
 ],
 "metadata": {
  "kernelspec": {
   "display_name": "Python 3 (ipykernel)",
   "language": "python",
   "name": "python3"
  },
  "language_info": {
   "codemirror_mode": {
    "name": "ipython",
    "version": 3
   },
   "file_extension": ".py",
   "mimetype": "text/x-python",
   "name": "python",
   "nbconvert_exporter": "python",
   "pygments_lexer": "ipython3",
   "version": "3.10.9"
  }
 },
 "nbformat": 4,
 "nbformat_minor": 5
}
