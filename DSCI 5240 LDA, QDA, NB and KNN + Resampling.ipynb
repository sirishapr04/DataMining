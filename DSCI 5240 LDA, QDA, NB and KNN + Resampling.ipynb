{
 "cells": [
  {
   "cell_type": "markdown",
   "id": "d9d5943f",
   "metadata": {},
   "source": [
    "### LDA, QDA, NB and KNN + Resampling"
   ]
  },
  {
   "cell_type": "code",
   "execution_count": 5,
   "id": "8c377812",
   "metadata": {},
   "outputs": [],
   "source": [
    "# This code appears in every demonstration Notebook.\n",
    "# By default, when you run each cell, only the last output of the codes will show.\n",
    "# This code makes all outputs of a cell show.\n",
    "from IPython.core.interactiveshell import InteractiveShell\n",
    "InteractiveShell.ast_node_interactivity = \"all\""
   ]
  },
  {
   "cell_type": "markdown",
   "id": "c2cdb2bb",
   "metadata": {},
   "source": [
    "1. Import libraries"
   ]
  },
  {
   "cell_type": "code",
   "execution_count": 6,
   "id": "1ddcd9db",
   "metadata": {},
   "outputs": [],
   "source": [
    "import pandas as pd\n",
    "import statsmodels.api as sm\n",
    "# api submodule gives access to the most commonly used \n",
    "# classes and functions directly."
   ]
  },
  {
   "cell_type": "markdown",
   "id": "b39b8485",
   "metadata": {},
   "source": [
    "2. Import Default dataset"
   ]
  },
  {
   "cell_type": "code",
   "execution_count": 7,
   "id": "67356283",
   "metadata": {},
   "outputs": [],
   "source": [
    "Smarket = pd.read_csv('Smarket.csv')"
   ]
  },
  {
   "cell_type": "code",
   "execution_count": 8,
   "id": "e8c18161",
   "metadata": {},
   "outputs": [
    {
     "name": "stdout",
     "output_type": "stream",
     "text": [
      "<class 'pandas.core.frame.DataFrame'>\n",
      "RangeIndex: 1250 entries, 0 to 1249\n",
      "Data columns (total 9 columns):\n",
      " #   Column     Non-Null Count  Dtype  \n",
      "---  ------     --------------  -----  \n",
      " 0   Year       1250 non-null   int64  \n",
      " 1   Lag1       1250 non-null   float64\n",
      " 2   Lag2       1250 non-null   float64\n",
      " 3   Lag3       1250 non-null   float64\n",
      " 4   Lag4       1250 non-null   float64\n",
      " 5   Lag5       1250 non-null   float64\n",
      " 6   Volume     1250 non-null   float64\n",
      " 7   Today      1250 non-null   float64\n",
      " 8   Direction  1250 non-null   object \n",
      "dtypes: float64(7), int64(1), object(1)\n",
      "memory usage: 88.0+ KB\n"
     ]
    }
   ],
   "source": [
    "Smarket.info()"
   ]
  },
  {
   "cell_type": "code",
   "execution_count": 9,
   "id": "08d17feb",
   "metadata": {
    "scrolled": false
   },
   "outputs": [
    {
     "data": {
      "text/html": [
       "<div>\n",
       "<style scoped>\n",
       "    .dataframe tbody tr th:only-of-type {\n",
       "        vertical-align: middle;\n",
       "    }\n",
       "\n",
       "    .dataframe tbody tr th {\n",
       "        vertical-align: top;\n",
       "    }\n",
       "\n",
       "    .dataframe thead th {\n",
       "        text-align: right;\n",
       "    }\n",
       "</style>\n",
       "<table border=\"1\" class=\"dataframe\">\n",
       "  <thead>\n",
       "    <tr style=\"text-align: right;\">\n",
       "      <th></th>\n",
       "      <th>Year</th>\n",
       "      <th>Lag1</th>\n",
       "      <th>Lag2</th>\n",
       "      <th>Lag3</th>\n",
       "      <th>Lag4</th>\n",
       "      <th>Lag5</th>\n",
       "      <th>Volume</th>\n",
       "      <th>Today</th>\n",
       "      <th>Direction</th>\n",
       "    </tr>\n",
       "  </thead>\n",
       "  <tbody>\n",
       "    <tr>\n",
       "      <th>0</th>\n",
       "      <td>2001</td>\n",
       "      <td>0.381</td>\n",
       "      <td>-0.192</td>\n",
       "      <td>-2.624</td>\n",
       "      <td>-1.055</td>\n",
       "      <td>5.010</td>\n",
       "      <td>1.1913</td>\n",
       "      <td>0.959</td>\n",
       "      <td>Up</td>\n",
       "    </tr>\n",
       "    <tr>\n",
       "      <th>1</th>\n",
       "      <td>2001</td>\n",
       "      <td>0.959</td>\n",
       "      <td>0.381</td>\n",
       "      <td>-0.192</td>\n",
       "      <td>-2.624</td>\n",
       "      <td>-1.055</td>\n",
       "      <td>1.2965</td>\n",
       "      <td>1.032</td>\n",
       "      <td>Up</td>\n",
       "    </tr>\n",
       "    <tr>\n",
       "      <th>2</th>\n",
       "      <td>2001</td>\n",
       "      <td>1.032</td>\n",
       "      <td>0.959</td>\n",
       "      <td>0.381</td>\n",
       "      <td>-0.192</td>\n",
       "      <td>-2.624</td>\n",
       "      <td>1.4112</td>\n",
       "      <td>-0.623</td>\n",
       "      <td>Down</td>\n",
       "    </tr>\n",
       "    <tr>\n",
       "      <th>3</th>\n",
       "      <td>2001</td>\n",
       "      <td>-0.623</td>\n",
       "      <td>1.032</td>\n",
       "      <td>0.959</td>\n",
       "      <td>0.381</td>\n",
       "      <td>-0.192</td>\n",
       "      <td>1.2760</td>\n",
       "      <td>0.614</td>\n",
       "      <td>Up</td>\n",
       "    </tr>\n",
       "    <tr>\n",
       "      <th>4</th>\n",
       "      <td>2001</td>\n",
       "      <td>0.614</td>\n",
       "      <td>-0.623</td>\n",
       "      <td>1.032</td>\n",
       "      <td>0.959</td>\n",
       "      <td>0.381</td>\n",
       "      <td>1.2057</td>\n",
       "      <td>0.213</td>\n",
       "      <td>Up</td>\n",
       "    </tr>\n",
       "  </tbody>\n",
       "</table>\n",
       "</div>"
      ],
      "text/plain": [
       "   Year   Lag1   Lag2   Lag3   Lag4   Lag5  Volume  Today Direction\n",
       "0  2001  0.381 -0.192 -2.624 -1.055  5.010  1.1913  0.959        Up\n",
       "1  2001  0.959  0.381 -0.192 -2.624 -1.055  1.2965  1.032        Up\n",
       "2  2001  1.032  0.959  0.381 -0.192 -2.624  1.4112 -0.623      Down\n",
       "3  2001 -0.623  1.032  0.959  0.381 -0.192  1.2760  0.614        Up\n",
       "4  2001  0.614 -0.623  1.032  0.959  0.381  1.2057  0.213        Up"
      ]
     },
     "execution_count": 9,
     "metadata": {},
     "output_type": "execute_result"
    }
   ],
   "source": [
    "Smarket.head()"
   ]
  },
  {
   "cell_type": "code",
   "execution_count": 10,
   "id": "6081bb01",
   "metadata": {},
   "outputs": [],
   "source": [
    "# We can code the Direction variable to 0/1 this way\n",
    "Smarket['Direction_Up'] = (Smarket['Direction']=='Up').astype(int)"
   ]
  },
  {
   "cell_type": "code",
   "execution_count": 11,
   "id": "741164e1",
   "metadata": {},
   "outputs": [],
   "source": [
    "import statsmodels.api as sm\n",
    "\n",
    "# Models in statsmodels require design matrices, which mean that the data\n",
    "# need to be represented in a way that is compatible with model building\n",
    "\n",
    "# We can use patsy library to create design matrices more easily, e.g.\n",
    "# create dummy variables\n",
    "import patsy\n",
    "\n",
    "y, X = patsy.dmatrices('Direction ~ Lag1 + Lag2 +Lag3 +Lag4 +Lag5 + Volume',\n",
    "                      data = Smarket,\n",
    "                      return_type = 'dataframe')"
   ]
  },
  {
   "cell_type": "code",
   "execution_count": 12,
   "id": "9015f1ed",
   "metadata": {},
   "outputs": [
    {
     "data": {
      "text/html": [
       "<div>\n",
       "<style scoped>\n",
       "    .dataframe tbody tr th:only-of-type {\n",
       "        vertical-align: middle;\n",
       "    }\n",
       "\n",
       "    .dataframe tbody tr th {\n",
       "        vertical-align: top;\n",
       "    }\n",
       "\n",
       "    .dataframe thead th {\n",
       "        text-align: right;\n",
       "    }\n",
       "</style>\n",
       "<table border=\"1\" class=\"dataframe\">\n",
       "  <thead>\n",
       "    <tr style=\"text-align: right;\">\n",
       "      <th></th>\n",
       "      <th>Direction[Down]</th>\n",
       "      <th>Direction[Up]</th>\n",
       "    </tr>\n",
       "  </thead>\n",
       "  <tbody>\n",
       "    <tr>\n",
       "      <th>0</th>\n",
       "      <td>0.0</td>\n",
       "      <td>1.0</td>\n",
       "    </tr>\n",
       "    <tr>\n",
       "      <th>1</th>\n",
       "      <td>0.0</td>\n",
       "      <td>1.0</td>\n",
       "    </tr>\n",
       "    <tr>\n",
       "      <th>2</th>\n",
       "      <td>1.0</td>\n",
       "      <td>0.0</td>\n",
       "    </tr>\n",
       "    <tr>\n",
       "      <th>3</th>\n",
       "      <td>0.0</td>\n",
       "      <td>1.0</td>\n",
       "    </tr>\n",
       "    <tr>\n",
       "      <th>4</th>\n",
       "      <td>0.0</td>\n",
       "      <td>1.0</td>\n",
       "    </tr>\n",
       "  </tbody>\n",
       "</table>\n",
       "</div>"
      ],
      "text/plain": [
       "   Direction[Down]  Direction[Up]\n",
       "0              0.0            1.0\n",
       "1              0.0            1.0\n",
       "2              1.0            0.0\n",
       "3              0.0            1.0\n",
       "4              0.0            1.0"
      ]
     },
     "execution_count": 12,
     "metadata": {},
     "output_type": "execute_result"
    }
   ],
   "source": [
    "y.head()"
   ]
  },
  {
   "cell_type": "code",
   "execution_count": 13,
   "id": "3b0d3b2a",
   "metadata": {},
   "outputs": [
    {
     "data": {
      "text/html": [
       "<div>\n",
       "<style scoped>\n",
       "    .dataframe tbody tr th:only-of-type {\n",
       "        vertical-align: middle;\n",
       "    }\n",
       "\n",
       "    .dataframe tbody tr th {\n",
       "        vertical-align: top;\n",
       "    }\n",
       "\n",
       "    .dataframe thead th {\n",
       "        text-align: right;\n",
       "    }\n",
       "</style>\n",
       "<table border=\"1\" class=\"dataframe\">\n",
       "  <thead>\n",
       "    <tr style=\"text-align: right;\">\n",
       "      <th></th>\n",
       "      <th>Intercept</th>\n",
       "      <th>Lag1</th>\n",
       "      <th>Lag2</th>\n",
       "      <th>Lag3</th>\n",
       "      <th>Lag4</th>\n",
       "      <th>Lag5</th>\n",
       "      <th>Volume</th>\n",
       "    </tr>\n",
       "  </thead>\n",
       "  <tbody>\n",
       "    <tr>\n",
       "      <th>0</th>\n",
       "      <td>1.0</td>\n",
       "      <td>0.381</td>\n",
       "      <td>-0.192</td>\n",
       "      <td>-2.624</td>\n",
       "      <td>-1.055</td>\n",
       "      <td>5.010</td>\n",
       "      <td>1.1913</td>\n",
       "    </tr>\n",
       "    <tr>\n",
       "      <th>1</th>\n",
       "      <td>1.0</td>\n",
       "      <td>0.959</td>\n",
       "      <td>0.381</td>\n",
       "      <td>-0.192</td>\n",
       "      <td>-2.624</td>\n",
       "      <td>-1.055</td>\n",
       "      <td>1.2965</td>\n",
       "    </tr>\n",
       "    <tr>\n",
       "      <th>2</th>\n",
       "      <td>1.0</td>\n",
       "      <td>1.032</td>\n",
       "      <td>0.959</td>\n",
       "      <td>0.381</td>\n",
       "      <td>-0.192</td>\n",
       "      <td>-2.624</td>\n",
       "      <td>1.4112</td>\n",
       "    </tr>\n",
       "    <tr>\n",
       "      <th>3</th>\n",
       "      <td>1.0</td>\n",
       "      <td>-0.623</td>\n",
       "      <td>1.032</td>\n",
       "      <td>0.959</td>\n",
       "      <td>0.381</td>\n",
       "      <td>-0.192</td>\n",
       "      <td>1.2760</td>\n",
       "    </tr>\n",
       "    <tr>\n",
       "      <th>4</th>\n",
       "      <td>1.0</td>\n",
       "      <td>0.614</td>\n",
       "      <td>-0.623</td>\n",
       "      <td>1.032</td>\n",
       "      <td>0.959</td>\n",
       "      <td>0.381</td>\n",
       "      <td>1.2057</td>\n",
       "    </tr>\n",
       "  </tbody>\n",
       "</table>\n",
       "</div>"
      ],
      "text/plain": [
       "   Intercept   Lag1   Lag2   Lag3   Lag4   Lag5  Volume\n",
       "0        1.0  0.381 -0.192 -2.624 -1.055  5.010  1.1913\n",
       "1        1.0  0.959  0.381 -0.192 -2.624 -1.055  1.2965\n",
       "2        1.0  1.032  0.959  0.381 -0.192 -2.624  1.4112\n",
       "3        1.0 -0.623  1.032  0.959  0.381 -0.192  1.2760\n",
       "4        1.0  0.614 -0.623  1.032  0.959  0.381  1.2057"
      ]
     },
     "execution_count": 13,
     "metadata": {},
     "output_type": "execute_result"
    }
   ],
   "source": [
    "X.head()"
   ]
  },
  {
   "cell_type": "code",
   "execution_count": 14,
   "id": "b53b1788",
   "metadata": {},
   "outputs": [
    {
     "name": "stdout",
     "output_type": "stream",
     "text": [
      "Optimization terminated successfully.\n",
      "         Current function value: 0.691034\n",
      "         Iterations 4\n"
     ]
    },
    {
     "data": {
      "text/html": [
       "<table class=\"simpletable\">\n",
       "<caption>Logit Regression Results</caption>\n",
       "<tr>\n",
       "  <th>Dep. Variable:</th>     <td>Direction[Up]</td>  <th>  No. Observations:  </th>  <td>  1250</td> \n",
       "</tr>\n",
       "<tr>\n",
       "  <th>Model:</th>                 <td>Logit</td>      <th>  Df Residuals:      </th>  <td>  1243</td> \n",
       "</tr>\n",
       "<tr>\n",
       "  <th>Method:</th>                 <td>MLE</td>       <th>  Df Model:          </th>  <td>     6</td> \n",
       "</tr>\n",
       "<tr>\n",
       "  <th>Date:</th>            <td>Mon, 01 Apr 2024</td> <th>  Pseudo R-squ.:     </th> <td>0.002074</td>\n",
       "</tr>\n",
       "<tr>\n",
       "  <th>Time:</th>                <td>14:59:14</td>     <th>  Log-Likelihood:    </th> <td> -863.79</td>\n",
       "</tr>\n",
       "<tr>\n",
       "  <th>converged:</th>             <td>True</td>       <th>  LL-Null:           </th> <td> -865.59</td>\n",
       "</tr>\n",
       "<tr>\n",
       "  <th>Covariance Type:</th>     <td>nonrobust</td>    <th>  LLR p-value:       </th>  <td>0.7319</td> \n",
       "</tr>\n",
       "</table>\n",
       "<table class=\"simpletable\">\n",
       "<tr>\n",
       "      <td></td>         <th>coef</th>     <th>std err</th>      <th>z</th>      <th>P>|z|</th>  <th>[0.025</th>    <th>0.975]</th>  \n",
       "</tr>\n",
       "<tr>\n",
       "  <th>Intercept</th> <td>   -0.1260</td> <td>    0.241</td> <td>   -0.523</td> <td> 0.601</td> <td>   -0.598</td> <td>    0.346</td>\n",
       "</tr>\n",
       "<tr>\n",
       "  <th>Lag1</th>      <td>   -0.0731</td> <td>    0.050</td> <td>   -1.457</td> <td> 0.145</td> <td>   -0.171</td> <td>    0.025</td>\n",
       "</tr>\n",
       "<tr>\n",
       "  <th>Lag2</th>      <td>   -0.0423</td> <td>    0.050</td> <td>   -0.845</td> <td> 0.398</td> <td>   -0.140</td> <td>    0.056</td>\n",
       "</tr>\n",
       "<tr>\n",
       "  <th>Lag3</th>      <td>    0.0111</td> <td>    0.050</td> <td>    0.222</td> <td> 0.824</td> <td>   -0.087</td> <td>    0.109</td>\n",
       "</tr>\n",
       "<tr>\n",
       "  <th>Lag4</th>      <td>    0.0094</td> <td>    0.050</td> <td>    0.187</td> <td> 0.851</td> <td>   -0.089</td> <td>    0.107</td>\n",
       "</tr>\n",
       "<tr>\n",
       "  <th>Lag5</th>      <td>    0.0103</td> <td>    0.050</td> <td>    0.208</td> <td> 0.835</td> <td>   -0.087</td> <td>    0.107</td>\n",
       "</tr>\n",
       "<tr>\n",
       "  <th>Volume</th>    <td>    0.1354</td> <td>    0.158</td> <td>    0.855</td> <td> 0.392</td> <td>   -0.175</td> <td>    0.446</td>\n",
       "</tr>\n",
       "</table>"
      ],
      "text/plain": [
       "<class 'statsmodels.iolib.summary.Summary'>\n",
       "\"\"\"\n",
       "                           Logit Regression Results                           \n",
       "==============================================================================\n",
       "Dep. Variable:          Direction[Up]   No. Observations:                 1250\n",
       "Model:                          Logit   Df Residuals:                     1243\n",
       "Method:                           MLE   Df Model:                            6\n",
       "Date:                Mon, 01 Apr 2024   Pseudo R-squ.:                0.002074\n",
       "Time:                        14:59:14   Log-Likelihood:                -863.79\n",
       "converged:                       True   LL-Null:                       -865.59\n",
       "Covariance Type:            nonrobust   LLR p-value:                    0.7319\n",
       "==============================================================================\n",
       "                 coef    std err          z      P>|z|      [0.025      0.975]\n",
       "------------------------------------------------------------------------------\n",
       "Intercept     -0.1260      0.241     -0.523      0.601      -0.598       0.346\n",
       "Lag1          -0.0731      0.050     -1.457      0.145      -0.171       0.025\n",
       "Lag2          -0.0423      0.050     -0.845      0.398      -0.140       0.056\n",
       "Lag3           0.0111      0.050      0.222      0.824      -0.087       0.109\n",
       "Lag4           0.0094      0.050      0.187      0.851      -0.089       0.107\n",
       "Lag5           0.0103      0.050      0.208      0.835      -0.087       0.107\n",
       "Volume         0.1354      0.158      0.855      0.392      -0.175       0.446\n",
       "==============================================================================\n",
       "\"\"\""
      ]
     },
     "execution_count": 14,
     "metadata": {},
     "output_type": "execute_result"
    }
   ],
   "source": [
    "# Fit a single variable model - balance\n",
    "logit_model_1 = sm.Logit(y['Direction[Up]'], X)\n",
    "logit_res_1 =  logit_model_1.fit()\n",
    "logit_res_1.summary()"
   ]
  },
  {
   "cell_type": "code",
   "execution_count": 15,
   "id": "abdac551",
   "metadata": {
    "scrolled": true
   },
   "outputs": [
    {
     "name": "stdout",
     "output_type": "stream",
     "text": [
      "Optimization terminated successfully.\n",
      "         Current function value: 0.691361\n",
      "         Iterations 4\n"
     ]
    },
    {
     "data": {
      "text/html": [
       "<table class=\"simpletable\">\n",
       "<caption>Logit Regression Results</caption>\n",
       "<tr>\n",
       "  <th>Dep. Variable:</th>     <td>Direction[Up]</td>  <th>  No. Observations:  </th>  <td>  1250</td> \n",
       "</tr>\n",
       "<tr>\n",
       "  <th>Model:</th>                 <td>Logit</td>      <th>  Df Residuals:      </th>  <td>  1247</td> \n",
       "</tr>\n",
       "<tr>\n",
       "  <th>Method:</th>                 <td>MLE</td>       <th>  Df Model:          </th>  <td>     2</td> \n",
       "</tr>\n",
       "<tr>\n",
       "  <th>Date:</th>            <td>Mon, 01 Apr 2024</td> <th>  Pseudo R-squ.:     </th> <td>0.001601</td>\n",
       "</tr>\n",
       "<tr>\n",
       "  <th>Time:</th>                <td>14:59:14</td>     <th>  Log-Likelihood:    </th> <td> -864.20</td>\n",
       "</tr>\n",
       "<tr>\n",
       "  <th>converged:</th>             <td>True</td>       <th>  LL-Null:           </th> <td> -865.59</td>\n",
       "</tr>\n",
       "<tr>\n",
       "  <th>Covariance Type:</th>     <td>nonrobust</td>    <th>  LLR p-value:       </th>  <td>0.2502</td> \n",
       "</tr>\n",
       "</table>\n",
       "<table class=\"simpletable\">\n",
       "<tr>\n",
       "      <td></td>         <th>coef</th>     <th>std err</th>      <th>z</th>      <th>P>|z|</th>  <th>[0.025</th>    <th>0.975]</th>  \n",
       "</tr>\n",
       "<tr>\n",
       "  <th>Intercept</th> <td>    0.0742</td> <td>    0.057</td> <td>    1.310</td> <td> 0.190</td> <td>   -0.037</td> <td>    0.185</td>\n",
       "</tr>\n",
       "<tr>\n",
       "  <th>Lag1</th>      <td>   -0.0715</td> <td>    0.050</td> <td>   -1.427</td> <td> 0.153</td> <td>   -0.170</td> <td>    0.027</td>\n",
       "</tr>\n",
       "<tr>\n",
       "  <th>Lag2</th>      <td>   -0.0445</td> <td>    0.050</td> <td>   -0.890</td> <td> 0.374</td> <td>   -0.142</td> <td>    0.054</td>\n",
       "</tr>\n",
       "</table>"
      ],
      "text/plain": [
       "<class 'statsmodels.iolib.summary.Summary'>\n",
       "\"\"\"\n",
       "                           Logit Regression Results                           \n",
       "==============================================================================\n",
       "Dep. Variable:          Direction[Up]   No. Observations:                 1250\n",
       "Model:                          Logit   Df Residuals:                     1247\n",
       "Method:                           MLE   Df Model:                            2\n",
       "Date:                Mon, 01 Apr 2024   Pseudo R-squ.:                0.001601\n",
       "Time:                        14:59:14   Log-Likelihood:                -864.20\n",
       "converged:                       True   LL-Null:                       -865.59\n",
       "Covariance Type:            nonrobust   LLR p-value:                    0.2502\n",
       "==============================================================================\n",
       "                 coef    std err          z      P>|z|      [0.025      0.975]\n",
       "------------------------------------------------------------------------------\n",
       "Intercept      0.0742      0.057      1.310      0.190      -0.037       0.185\n",
       "Lag1          -0.0715      0.050     -1.427      0.153      -0.170       0.027\n",
       "Lag2          -0.0445      0.050     -0.890      0.374      -0.142       0.054\n",
       "==============================================================================\n",
       "\"\"\""
      ]
     },
     "execution_count": 15,
     "metadata": {},
     "output_type": "execute_result"
    }
   ],
   "source": [
    "# Fit a single variable model - student\n",
    "logit_model_2 = sm.Logit(y['Direction[Up]'], X[['Intercept','Lag1','Lag2']])\n",
    "logit_res_2 =  logit_model_2.fit()\n",
    "logit_res_2.summary()"
   ]
  },
  {
   "cell_type": "code",
   "execution_count": 16,
   "id": "f42ab6ed",
   "metadata": {},
   "outputs": [],
   "source": [
    "# Make predictions for the dataset\n",
    "predicted_p = logit_res_2.predict(X[['Intercept','Lag1','Lag2']])"
   ]
  },
  {
   "cell_type": "code",
   "execution_count": 17,
   "id": "67f29388",
   "metadata": {},
   "outputs": [
    {
     "data": {
      "text/plain": [
       "0    1\n",
       "1    0\n",
       "2    0\n",
       "3    1\n",
       "4    1\n",
       "dtype: int32"
      ]
     },
     "execution_count": 17,
     "metadata": {},
     "output_type": "execute_result"
    }
   ],
   "source": [
    "# Classification\n",
    "predicted_classes = (predicted_p >= 0.5).astype(int)\n",
    "predicted_classes[:5]"
   ]
  },
  {
   "cell_type": "code",
   "execution_count": 18,
   "id": "353c49cf",
   "metadata": {},
   "outputs": [],
   "source": [
    "# Evaluate the classification performance\n",
    "\n",
    "#from sklearn.model_selection import train_test_split\n",
    "from sklearn.metrics import accuracy_score, classification_report, confusion_matrix\n",
    "\n",
    "logit_accuracy = accuracy_score(y['Direction[Up]'], predicted_classes)\n",
    "logit_conf_matrix = confusion_matrix(y['Direction[Up]'], predicted_classes)\n",
    "logit_classification_report_str = classification_report(y['Direction[Up]'], predicted_classes)"
   ]
  },
  {
   "cell_type": "code",
   "execution_count": 19,
   "id": "33b779d4",
   "metadata": {},
   "outputs": [
    {
     "name": "stdout",
     "output_type": "stream",
     "text": [
      "0.528\n",
      "[[114 488]\n",
      " [102 546]]\n",
      "              precision    recall  f1-score   support\n",
      "\n",
      "         0.0       0.53      0.19      0.28       602\n",
      "         1.0       0.53      0.84      0.65       648\n",
      "\n",
      "    accuracy                           0.53      1250\n",
      "   macro avg       0.53      0.52      0.46      1250\n",
      "weighted avg       0.53      0.53      0.47      1250\n",
      "\n"
     ]
    }
   ],
   "source": [
    "print(logit_accuracy)\n",
    "print(logit_conf_matrix)\n",
    "print(logit_classification_report_str)"
   ]
  },
  {
   "cell_type": "code",
   "execution_count": 20,
   "id": "ea405a86",
   "metadata": {},
   "outputs": [],
   "source": [
    "# statsmodels do not have these model methods\n",
    "# we use sklearn for that\n",
    "\n",
    "from sklearn.discriminant_analysis import LinearDiscriminantAnalysis, QuadraticDiscriminantAnalysis\n",
    "from sklearn.naive_bayes import GaussianNB\n",
    "\n",
    "\n",
    "# Let's simplify the function names\n",
    "lda = LinearDiscriminantAnalysis()\n",
    "qda = QuadraticDiscriminantAnalysis()\n",
    "gnb = GaussianNB()\n",
    "\n",
    "# ScikitLearn automatically generate intercept when fitting. Make sure you do not have it\n",
    "# in your X\n",
    "# Also, y should be a Pandas series (one dimension), so we recode y here.\n",
    "y = Smarket['Direction_Up']"
   ]
  },
  {
   "cell_type": "code",
   "execution_count": 21,
   "id": "bb6e2b0a",
   "metadata": {},
   "outputs": [],
   "source": [
    "# fit the models\n",
    "lda_res = lda.fit(X[['Lag1', 'Lag2']],y)\n",
    "qda_res = qda.fit(X[['Lag1', 'Lag2']],y)\n",
    "gnb_res = gnb.fit(X[['Lag1', 'Lag2']],y)"
   ]
  },
  {
   "cell_type": "code",
   "execution_count": 22,
   "id": "54160623",
   "metadata": {},
   "outputs": [],
   "source": [
    "# KNN models\n",
    "from sklearn.neighbors import KNeighborsClassifier\n",
    "# Initialize the model\n",
    "knn = KNeighborsClassifier(n_neighbors=3)\n",
    "# Fit the model\n",
    "knn_res = knn.fit(X[['Lag1', 'Lag2']],y)"
   ]
  },
  {
   "cell_type": "code",
   "execution_count": 23,
   "id": "23e913a1",
   "metadata": {},
   "outputs": [],
   "source": [
    "# Make predictions; by default, the predicted values are classification.\n",
    "lda_pred = lda_res.predict(X[['Lag1', 'Lag2']])\n",
    "qda_pred = qda_res.predict(X[['Lag1', 'Lag2']])\n",
    "gnb_pred = gnb_res.predict(X[['Lag1', 'Lag2']])\n",
    "knn_pred = knn_res.predict(X[['Lag1', 'Lag2']])"
   ]
  },
  {
   "cell_type": "code",
   "execution_count": 28,
   "id": "707b831c",
   "metadata": {},
   "outputs": [
    {
     "name": "stdout",
     "output_type": "stream",
     "text": [
      "0.528 \n",
      " [[114 488]\n",
      " [102 546]]\n"
     ]
    }
   ],
   "source": [
    "# lda performance\n",
    "lda_accuracy = accuracy_score(y, lda_pred)\n",
    "lda_conf_matrix = confusion_matrix(y, lda_pred)\n",
    "print(lda_accuracy, '\\n', lda_conf_matrix)"
   ]
  },
  {
   "cell_type": "code",
   "execution_count": 29,
   "id": "fc8f415c",
   "metadata": {},
   "outputs": [
    {
     "name": "stdout",
     "output_type": "stream",
     "text": [
      "0.5304 \n",
      " [[109 493]\n",
      " [ 94 554]]\n"
     ]
    }
   ],
   "source": [
    "# qda performance\n",
    "qda_accuracy = accuracy_score(y, qda_pred)\n",
    "qda_conf_matrix = confusion_matrix(y, qda_pred)\n",
    "print(qda_accuracy, '\\n', qda_conf_matrix)"
   ]
  },
  {
   "cell_type": "code",
   "execution_count": 30,
   "id": "6b018c7a",
   "metadata": {},
   "outputs": [
    {
     "name": "stdout",
     "output_type": "stream",
     "text": [
      "0.528 \n",
      " [[106 496]\n",
      " [ 94 554]]\n"
     ]
    }
   ],
   "source": [
    "# gnb performance\n",
    "gnb_accuracy = accuracy_score(y, gnb_pred)\n",
    "gnb_conf_matrix = confusion_matrix(y, gnb_pred)\n",
    "print(gnb_accuracy,'\\n',  gnb_conf_matrix)"
   ]
  },
  {
   "cell_type": "code",
   "execution_count": 27,
   "id": "7452a6ba",
   "metadata": {},
   "outputs": [
    {
     "name": "stdout",
     "output_type": "stream",
     "text": [
      "0.752 \n",
      " [[428 174]\n",
      " [136 512]]\n"
     ]
    }
   ],
   "source": [
    "# knn performance\n",
    "knn_accuracy = accuracy_score(y, knn_pred)\n",
    "knn_conf_matrix = confusion_matrix(y, knn_pred)\n",
    "print(knn_accuracy,'\\n', knn_conf_matrix)"
   ]
  },
  {
   "cell_type": "markdown",
   "id": "d5f0d36b",
   "metadata": {},
   "source": [
    "### Cross-validation\n",
    "\n",
    "To address overfitting problem, which means the test errors could be grow large even when the training errors is getting smaller, we can use cross-validation to estimate test errors.<br>\n",
    "For instance, the KNN model works the best for the training dataset. Will it work well for a new dataset?"
   ]
  },
  {
   "cell_type": "markdown",
   "id": "1ba85569",
   "metadata": {},
   "source": [
    "1. Validation set approach<br>\n",
    "Hold out a subset that can be used as validation dataset."
   ]
  },
  {
   "cell_type": "code",
   "execution_count": 43,
   "id": "bd07c8bb",
   "metadata": {},
   "outputs": [],
   "source": [
    "from sklearn.model_selection import train_test_split\n",
    "# Split the dataset into training vs. testing\n",
    "X_train, X_test, y_train, y_test = train_test_split(X[['Lag1', 'Lag2']], y, test_size=0.3, random_state=30)"
   ]
  },
  {
   "cell_type": "code",
   "execution_count": 44,
   "id": "b7076c72",
   "metadata": {},
   "outputs": [
    {
     "data": {
      "text/html": [
       "<style>#sk-container-id-4 {color: black;}#sk-container-id-4 pre{padding: 0;}#sk-container-id-4 div.sk-toggleable {background-color: white;}#sk-container-id-4 label.sk-toggleable__label {cursor: pointer;display: block;width: 100%;margin-bottom: 0;padding: 0.3em;box-sizing: border-box;text-align: center;}#sk-container-id-4 label.sk-toggleable__label-arrow:before {content: \"▸\";float: left;margin-right: 0.25em;color: #696969;}#sk-container-id-4 label.sk-toggleable__label-arrow:hover:before {color: black;}#sk-container-id-4 div.sk-estimator:hover label.sk-toggleable__label-arrow:before {color: black;}#sk-container-id-4 div.sk-toggleable__content {max-height: 0;max-width: 0;overflow: hidden;text-align: left;background-color: #f0f8ff;}#sk-container-id-4 div.sk-toggleable__content pre {margin: 0.2em;color: black;border-radius: 0.25em;background-color: #f0f8ff;}#sk-container-id-4 input.sk-toggleable__control:checked~div.sk-toggleable__content {max-height: 200px;max-width: 100%;overflow: auto;}#sk-container-id-4 input.sk-toggleable__control:checked~label.sk-toggleable__label-arrow:before {content: \"▾\";}#sk-container-id-4 div.sk-estimator input.sk-toggleable__control:checked~label.sk-toggleable__label {background-color: #d4ebff;}#sk-container-id-4 div.sk-label input.sk-toggleable__control:checked~label.sk-toggleable__label {background-color: #d4ebff;}#sk-container-id-4 input.sk-hidden--visually {border: 0;clip: rect(1px 1px 1px 1px);clip: rect(1px, 1px, 1px, 1px);height: 1px;margin: -1px;overflow: hidden;padding: 0;position: absolute;width: 1px;}#sk-container-id-4 div.sk-estimator {font-family: monospace;background-color: #f0f8ff;border: 1px dotted black;border-radius: 0.25em;box-sizing: border-box;margin-bottom: 0.5em;}#sk-container-id-4 div.sk-estimator:hover {background-color: #d4ebff;}#sk-container-id-4 div.sk-parallel-item::after {content: \"\";width: 100%;border-bottom: 1px solid gray;flex-grow: 1;}#sk-container-id-4 div.sk-label:hover label.sk-toggleable__label {background-color: #d4ebff;}#sk-container-id-4 div.sk-serial::before {content: \"\";position: absolute;border-left: 1px solid gray;box-sizing: border-box;top: 0;bottom: 0;left: 50%;z-index: 0;}#sk-container-id-4 div.sk-serial {display: flex;flex-direction: column;align-items: center;background-color: white;padding-right: 0.2em;padding-left: 0.2em;position: relative;}#sk-container-id-4 div.sk-item {position: relative;z-index: 1;}#sk-container-id-4 div.sk-parallel {display: flex;align-items: stretch;justify-content: center;background-color: white;position: relative;}#sk-container-id-4 div.sk-item::before, #sk-container-id-4 div.sk-parallel-item::before {content: \"\";position: absolute;border-left: 1px solid gray;box-sizing: border-box;top: 0;bottom: 0;left: 50%;z-index: -1;}#sk-container-id-4 div.sk-parallel-item {display: flex;flex-direction: column;z-index: 1;position: relative;background-color: white;}#sk-container-id-4 div.sk-parallel-item:first-child::after {align-self: flex-end;width: 50%;}#sk-container-id-4 div.sk-parallel-item:last-child::after {align-self: flex-start;width: 50%;}#sk-container-id-4 div.sk-parallel-item:only-child::after {width: 0;}#sk-container-id-4 div.sk-dashed-wrapped {border: 1px dashed gray;margin: 0 0.4em 0.5em 0.4em;box-sizing: border-box;padding-bottom: 0.4em;background-color: white;}#sk-container-id-4 div.sk-label label {font-family: monospace;font-weight: bold;display: inline-block;line-height: 1.2em;}#sk-container-id-4 div.sk-label-container {text-align: center;}#sk-container-id-4 div.sk-container {/* jupyter's `normalize.less` sets `[hidden] { display: none; }` but bootstrap.min.css set `[hidden] { display: none !important; }` so we also need the `!important` here to be able to override the default hidden behavior on the sphinx rendered scikit-learn.org. See: https://github.com/scikit-learn/scikit-learn/issues/21755 */display: inline-block !important;position: relative;}#sk-container-id-4 div.sk-text-repr-fallback {display: none;}</style><div id=\"sk-container-id-4\" class=\"sk-top-container\"><div class=\"sk-text-repr-fallback\"><pre>KNeighborsClassifier(n_neighbors=3)</pre><b>In a Jupyter environment, please rerun this cell to show the HTML representation or trust the notebook. <br />On GitHub, the HTML representation is unable to render, please try loading this page with nbviewer.org.</b></div><div class=\"sk-container\" hidden><div class=\"sk-item\"><div class=\"sk-estimator sk-toggleable\"><input class=\"sk-toggleable__control sk-hidden--visually\" id=\"sk-estimator-id-4\" type=\"checkbox\" checked><label for=\"sk-estimator-id-4\" class=\"sk-toggleable__label sk-toggleable__label-arrow\">KNeighborsClassifier</label><div class=\"sk-toggleable__content\"><pre>KNeighborsClassifier(n_neighbors=3)</pre></div></div></div></div></div>"
      ],
      "text/plain": [
       "KNeighborsClassifier(n_neighbors=3)"
      ]
     },
     "execution_count": 44,
     "metadata": {},
     "output_type": "execute_result"
    }
   ],
   "source": [
    "# Train the model using X_train and y_train\n",
    "knn_train = KNeighborsClassifier(n_neighbors=3)\n",
    "knn_train.fit(X_train, y_train)"
   ]
  },
  {
   "cell_type": "code",
   "execution_count": 45,
   "id": "e2942e17",
   "metadata": {},
   "outputs": [],
   "source": [
    "# Make predictions using test dataset\n",
    "knn_train_pred = knn_train.predict(X_test)"
   ]
  },
  {
   "cell_type": "code",
   "execution_count": 46,
   "id": "54b7572c",
   "metadata": {},
   "outputs": [
    {
     "name": "stdout",
     "output_type": "stream",
     "text": [
      "0.52 \n",
      " [[ 80  92]\n",
      " [ 88 115]]\n"
     ]
    }
   ],
   "source": [
    "knn_train_accuracy = accuracy_score(y_test, knn_train_pred)\n",
    "knn_train_conf_matrix = confusion_matrix(y_test, knn_train_pred)\n",
    "print(knn_train_accuracy,'\\n', knn_train_conf_matrix)"
   ]
  },
  {
   "cell_type": "markdown",
   "id": "dfcfa686",
   "metadata": {},
   "source": [
    "2. K-fold cross validation<br>\n",
    "Practically, we use 5- or 10-fold cross validation.\n",
    "LOOCV gives the lowest bias, but usually computationally too expensive."
   ]
  },
  {
   "cell_type": "code",
   "execution_count": 47,
   "id": "49e8f78a",
   "metadata": {},
   "outputs": [],
   "source": [
    "from sklearn.model_selection import cross_val_score"
   ]
  },
  {
   "cell_type": "code",
   "execution_count": 48,
   "id": "ee18babc",
   "metadata": {},
   "outputs": [],
   "source": [
    "X_2lags = X[['Lag1', 'Lag2']]"
   ]
  },
  {
   "cell_type": "code",
   "execution_count": 49,
   "id": "b9a06d56",
   "metadata": {},
   "outputs": [],
   "source": [
    "lda_cv = cross_val_score(lda, X_2lags, y, cv=5)"
   ]
  },
  {
   "cell_type": "code",
   "execution_count": 50,
   "id": "92e2cafa",
   "metadata": {},
   "outputs": [
    {
     "name": "stdout",
     "output_type": "stream",
     "text": [
      "[0.5   0.5   0.556 0.528 0.524]\n"
     ]
    }
   ],
   "source": [
    "print(lda_cv)"
   ]
  },
  {
   "cell_type": "code",
   "execution_count": 51,
   "id": "b9e8dbdc",
   "metadata": {},
   "outputs": [
    {
     "data": {
      "text/plain": [
       "0.5216000000000001"
      ]
     },
     "execution_count": 51,
     "metadata": {},
     "output_type": "execute_result"
    }
   ],
   "source": [
    "lda_cv.mean()"
   ]
  },
  {
   "cell_type": "code",
   "execution_count": 53,
   "id": "9aa928d6",
   "metadata": {},
   "outputs": [],
   "source": [
    "qda_cv = cross_val_score(qda, X_2lags, y, cv=5)\n",
    "gnb_cv = cross_val_score(gnb, X_2lags, y, cv=5)\n",
    "knn_cv = cross_val_score(knn, X_2lags, y, cv=5)"
   ]
  },
  {
   "cell_type": "code",
   "execution_count": 52,
   "id": "2fdb4f18",
   "metadata": {},
   "outputs": [],
   "source": [
    "# A logit model using sklearn\n",
    "from sklearn.linear_model import LogisticRegression\n",
    "logit = LogisticRegression()"
   ]
  },
  {
   "cell_type": "code",
   "execution_count": 54,
   "id": "87a06ff4",
   "metadata": {},
   "outputs": [],
   "source": [
    "logit_cv = cross_val_score(logit, X_2lags, y, cv=5)"
   ]
  },
  {
   "cell_type": "code",
   "execution_count": 55,
   "id": "c47fb3aa",
   "metadata": {},
   "outputs": [
    {
     "name": "stdout",
     "output_type": "stream",
     "text": [
      "[0.5   0.5   0.556 0.528 0.524] \n",
      " [0.488 0.42  0.472 0.508 0.524] \n",
      " [0.504 0.42  0.472 0.504 0.516] \n",
      " [0.528 0.48  0.488 0.448 0.552] \n",
      " [0.5   0.5   0.556 0.528 0.524] \n",
      "\n"
     ]
    }
   ],
   "source": [
    "print(lda_cv,'\\n',\n",
    "     qda_cv,'\\n',\n",
    "     gnb_cv,'\\n',\n",
    "     knn_cv,'\\n',\n",
    "     logit_cv,'\\n',)"
   ]
  },
  {
   "cell_type": "code",
   "execution_count": 56,
   "id": "40d39e85",
   "metadata": {},
   "outputs": [
    {
     "name": "stdout",
     "output_type": "stream",
     "text": [
      "0.5216000000000001 \n",
      " 0.4824 \n",
      " 0.48319999999999996 \n",
      " 0.4992 \n",
      " 0.5216000000000001 \n",
      "\n"
     ]
    }
   ],
   "source": [
    "print(lda_cv.mean(),'\\n',\n",
    "     qda_cv.mean(),'\\n',\n",
    "     gnb_cv.mean(),'\\n',\n",
    "     knn_cv.mean(),'\\n',\n",
    "     logit_cv.mean(),'\\n',)"
   ]
  }
 ],
 "metadata": {
  "kernelspec": {
   "display_name": "Python 3",
   "language": "python",
   "name": "python3"
  },
  "language_info": {
   "codemirror_mode": {
    "name": "ipython",
    "version": 3
   },
   "file_extension": ".py",
   "mimetype": "text/x-python",
   "name": "python",
   "nbconvert_exporter": "python",
   "pygments_lexer": "ipython3",
   "version": "3.8.8"
  }
 },
 "nbformat": 4,
 "nbformat_minor": 5
}
