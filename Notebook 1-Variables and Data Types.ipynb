{
 "cells": [
  {
   "cell_type": "markdown",
   "metadata": {
    "collapsed": true
   },
   "source": [
    "<p style=\"font-family: Arial; font-size:3.5em;color:green; font-style:bold\"><br>\n",
    "Variables and Data Types</p><br>"
   ]
  },
  {
   "cell_type": "markdown",
   "metadata": {},
   "source": [
    "### In this Notebook, we will learn about\n",
    "    a. Define variables\n",
    "    b. Different data types: numbers, strings, boolean and lists\n",
    "    c. Operations associated with each data type"
   ]
  },
  {
   "cell_type": "code",
   "execution_count": null,
   "metadata": {},
   "outputs": [],
   "source": [
    "# This code appears in every demonstration Notebook.\n",
    "# By default, when you run each cell, only the last output of the codes will show.\n",
    "# This code makes all outputs of a cell show.\n",
    "from IPython.core.interactiveshell import InteractiveShell\n",
    "InteractiveShell.ast_node_interactivity = \"all\""
   ]
  },
  {
   "cell_type": "markdown",
   "metadata": {},
   "source": [
    "## Variables\n",
    "### 1. Define a variable"
   ]
  },
  {
   "cell_type": "code",
   "execution_count": null,
   "metadata": {},
   "outputs": [],
   "source": [
    "# You can think variables as placeholders, or boxes. Each box can hold a value, which can be changed anywhere in the program.\n",
    "# Variables are defined with assignment statement\n",
    "# Such a statement starts with a variable name, followed with an equal sign and the value you want to give to the variable\n",
    "# For example:\n"
   ]
  },
  {
   "cell_type": "code",
   "execution_count": null,
   "metadata": {},
   "outputs": [],
   "source": [
    "# Assigned value can be the output of a function. For example:\n"
   ]
  },
  {
   "cell_type": "code",
   "execution_count": null,
   "metadata": {},
   "outputs": [],
   "source": [
    "# When a variable is assigned a new value, the old value is forgotten.\n",
    "# What is the output of the following code?\n"
   ]
  },
  {
   "cell_type": "markdown",
   "metadata": {},
   "source": [
    "### 2. Variable names\n",
    "     a. variable names can only contains letters, numbers and \"_\"; no start with numbers.\n",
    "\n",
    "     b. Case matters.\n",
    "\n",
    "     c. Don't use generic names, especially reserved function names."
   ]
  },
  {
   "cell_type": "code",
   "execution_count": null,
   "metadata": {},
   "outputs": [],
   "source": [
    "# There are rules to follow when you name your variables.\n",
    "# Are these valid variable names?\n"
   ]
  },
  {
   "cell_type": "code",
   "execution_count": null,
   "metadata": {},
   "outputs": [],
   "source": [
    "# Case matters\n"
   ]
  },
  {
   "cell_type": "code",
   "execution_count": null,
   "metadata": {},
   "outputs": [],
   "source": [
    "# We do not use generic names as variable names, such as \"variable\", \"function\", or \"number\"\n",
    "# Do not use reserved function names. It will cause problems.\n"
   ]
  },
  {
   "cell_type": "markdown",
   "metadata": {},
   "source": [
    "## Data Types\n",
    "    a. Type checking is done at runtime\n",
    "    b. No mixing operations between different types    "
   ]
  },
  {
   "cell_type": "code",
   "execution_count": null,
   "metadata": {},
   "outputs": [],
   "source": [
    "# Each variable has a type\n",
    "# All type checking is done at runtime: dynamically typed\n",
    "# No need to declare a variable or give it a type before use\n",
    "# What will be the output of the following code?\n"
   ]
  },
  {
   "cell_type": "code",
   "execution_count": null,
   "metadata": {},
   "outputs": [],
   "source": [
    "# To find out the data type of any variable, we can use type() function\n"
   ]
  },
  {
   "cell_type": "code",
   "execution_count": null,
   "metadata": {},
   "outputs": [],
   "source": [
    "# No mixing operations between data types.\n",
    "# For example:\n",
    "\n",
    "# Recall in our first program, if we tried to print the hello message with updated age in it:\n"
   ]
  },
  {
   "cell_type": "code",
   "execution_count": null,
   "metadata": {},
   "outputs": [],
   "source": [
    "# Sometimes type conversion is necessary\n",
    "# For example, what we did in our first program is to cast the newAge into a string using type casting function\n",
    "\n",
    "# Then we can put it together with the strings.\n",
    "\n",
    "# We have a list of type casting functions. Please refer to the slides."
   ]
  },
  {
   "cell_type": "markdown",
   "metadata": {},
   "source": [
    "### Number\n",
    "    a. Arithmetic operations"
   ]
  },
  {
   "cell_type": "code",
   "execution_count": null,
   "metadata": {},
   "outputs": [],
   "source": [
    "# A number is a numeric value;\n",
    "# Three main types: integer, float and complex\n"
   ]
  },
  {
   "cell_type": "code",
   "execution_count": null,
   "metadata": {},
   "outputs": [],
   "source": [
    "# Arithmetic operations are intuitive operations for numbers.\n",
    "# multiply, power, division, remainder, floor quotient, etc.\n",
    "\n",
    "\n",
    "# This formular is always true x == (x // y) * y + (x % y)\n",
    "\n",
    "# Please refer to the table in the slides for more operators.\n",
    "# What does divmod(x,y) do?\n"
   ]
  },
  {
   "cell_type": "code",
   "execution_count": null,
   "metadata": {},
   "outputs": [],
   "source": [
    "# Sometimes arithmetic operations can be very helpful.\n",
    "# Practice: There is flight data. The departure time is recorded as 1450 for 14:50. \n",
    "# How can we get hour and minutes from this type of departure time records?\n"
   ]
  },
  {
   "cell_type": "markdown",
   "metadata": {},
   "source": [
    "### String\n",
    "    a. Definition: quotes\n",
    "    b. Escape \"\\\"\n",
    "    c. Concatenation"
   ]
  },
  {
   "cell_type": "code",
   "execution_count": null,
   "metadata": {},
   "outputs": [],
   "source": [
    "# A string is a sequence of characters.\n",
    "# Single Quotes or Double Quotes to define a string. It is suggested to stick with one throughout a program.\n",
    "\n",
    "# Sometimes we use both to avoid confusion. For example, how to print 'Let's learn Python'?\n",
    "\n",
    "# Triple quotes for multiple lines of text; we often use it to make long comments\n"
   ]
  },
  {
   "cell_type": "code",
   "execution_count": null,
   "metadata": {},
   "outputs": [],
   "source": [
    "# Escape '\\' sign indicates the character after will 'escape' the default meaning/function it has in Python and\n",
    "# takes upon its original or special meanings.\n",
    "\n",
    "# For example: How to print \"Let's learn Python\"?\n",
    "\n",
    "# Escape '\\' in front of the single quote sign means that it will 'escape' its default function as indicators of strings\n",
    "# and become a regular sign. Then it can be printed as a regular sign.\n",
    "\n",
    "# Sometimes we need to escape the default function of signs with ‘\\’ in front of them. \n",
    "# There are some examples of such signs in the slide.\n",
    "\n",
    "# How to print text into multiple line?\n",
    "\n",
    "# How to print a file directory with backslash '\\', such as 'C:\\new\\numbers'?\n"
   ]
  },
  {
   "cell_type": "code",
   "execution_count": null,
   "metadata": {},
   "outputs": [],
   "source": [
    "# Concatenation\n",
    "# Use \"+\" to put strings together.\n",
    "\n",
    "\n",
    "# Use '*' to repeat\n"
   ]
  },
  {
   "cell_type": "markdown",
   "metadata": {},
   "source": [
    "### Boolean type\n",
    "    a. Boolean values: True/False\n",
    "    b. Values defined as False in Python; Use bool() function to find True/False value\n",
    "    d. Logic operators: and, or, not\n"
   ]
  },
  {
   "cell_type": "code",
   "execution_count": null,
   "metadata": {},
   "outputs": [],
   "source": [
    "# An expression may be evaluated to be simply True/False\n",
    "# For example, comparisons between numbers\n"
   ]
  },
  {
   "cell_type": "code",
   "execution_count": null,
   "metadata": {},
   "outputs": [],
   "source": [
    "# For strings, we compare one by one the character of one string with another string.\n",
    "# For instance, 'Apple' vs. 'apple'. We start by comparing 'A' with 'a'. \n",
    "# The comparison between strings is based their unicode value. Uppercase letters come before lowercase letters.\n"
   ]
  },
  {
   "cell_type": "code",
   "execution_count": null,
   "metadata": {},
   "outputs": [],
   "source": [
    "# To find out the unicode value of each character, we can use ord() function.\n",
    "\n",
    "\n",
    "# When there are numbers in the string, the comparison is similar. For example,\n"
   ]
  },
  {
   "cell_type": "code",
   "execution_count": null,
   "metadata": {},
   "outputs": [],
   "source": [
    "# Some values in Python are defined to indicate False: None, integer 0, float 0.0, imaginary number 0i, empty sequence or set\n",
    "# bool() can evaluate whether a value or expression to be True or False\n"
   ]
  },
  {
   "cell_type": "code",
   "execution_count": null,
   "metadata": {},
   "outputs": [],
   "source": [
    "# The operators for Boolean type are logic operators: and, or, not\n"
   ]
  },
  {
   "cell_type": "code",
   "execution_count": null,
   "metadata": {},
   "outputs": [],
   "source": [
    "# The three operators should be evaluated in a sequence if they appear in one expression. That is operator precedence.\n",
    "# The sequence should be: not, and, or\n",
    "# For example, what is the output of the following expression?\n",
    "\n",
    "\n",
    "# We can combine expressions together using logic operators.\n"
   ]
  },
  {
   "cell_type": "markdown",
   "metadata": {},
   "source": [
    "### List\n",
    "    a. Create and access a list\n",
    "    b. Slicing\n",
    "    c. Make changes: add or remove items\n",
    "    d. List comprehension\n",
    "    e. Common functions for sequences: mutable vs. immutable"
   ]
  },
  {
   "cell_type": "code",
   "execution_count": null,
   "metadata": {},
   "outputs": [],
   "source": [
    "# List is a powerful Python data type.\n",
    "# It is a container which holds comma separated values (i.e., items or elements) between square brackets\n",
    "# The elements can be the same or different data types\n",
    "\n",
    "# A number list\n",
    "\n",
    "# A string list\n",
    "\n",
    "# A mixed list\n",
    "\n",
    "# A nested list\n",
    "\n",
    "# An empty list; You can initialize a list with a set of brackets.\n"
   ]
  },
  {
   "cell_type": "code",
   "execution_count": null,
   "metadata": {},
   "outputs": [],
   "source": [
    "# List is a sequence, so the position of elements matters.\n",
    "\n",
    "\n",
    "# The elements are not necessarily unique.\n"
   ]
  },
  {
   "cell_type": "code",
   "execution_count": null,
   "metadata": {},
   "outputs": [],
   "source": [
    "# Each element is associated with an index, which indicates the position of the element.\n",
    "# The index starts from 0. The index of the first element is 0, and the sequence goes on as 0, 1, 2...\n",
    "# We can refer to elements using their indices.\n",
    "# For example, how to print 'banana' in myList2?\n",
    "\n",
    "\n",
    "# We can use the reversed index as well. The index of the last item is -1, and the sequence goes on as -1, -2, -3\n",
    "# to print 'banana'\n",
    "\n",
    "\n",
    "# To refer to elements in the nested list, we can use two-layer index. \n",
    "\n"
   ]
  },
  {
   "cell_type": "code",
   "execution_count": null,
   "metadata": {},
   "outputs": [],
   "source": [
    "# Sometimes we need to access more than one element, a subset of the list. \n",
    "# We can use 'slicing' to get them. Slicing operations in Python are notably powerful and elegant.\n",
    "\n",
    "# We can slice a list by giving a range of index. It starts at the item with the starting index (left), and \n",
    "# stops at the item with the ending index (right)-1.\n",
    "# For example, to slice 'apple' and 'banana' from myList2\n",
    "\n",
    "\n",
    "# To slice 'banana', 'cherry' and 'dragonfruit'\n",
    "\n",
    "# If the ending index is the end of the list, you can omit it.\n",
    "\n",
    "\n",
    "# It is similar to use the reversed index. The left index is included, but the right index is not.\n"
   ]
  },
  {
   "cell_type": "code",
   "execution_count": null,
   "metadata": {},
   "outputs": [],
   "source": [
    "# Slicing range [:] can have one more specification in the format of [ : : ]\n",
    "# The third number indicates 'steps', indicating how we move along the range. 1 means one by one, 2 means step of 2\n",
    "\n",
    "# For example, \n",
    "\n",
    "# How to print out a sublist that picks the first item of every two items?\n"
   ]
  },
  {
   "cell_type": "code",
   "execution_count": null,
   "metadata": {},
   "outputs": [],
   "source": [
    "# Is myList2[0] the same as myList2[0:1]?\n"
   ]
  },
  {
   "cell_type": "code",
   "execution_count": null,
   "metadata": {},
   "outputs": [],
   "source": [
    "# List is mutalble means it is editable. You may make changes to a list in many ways.\n",
    "\n",
    "# To change the value of an element: direct re-assignment using the index\n"
   ]
  },
  {
   "cell_type": "code",
   "execution_count": null,
   "metadata": {},
   "outputs": [],
   "source": [
    "# To add items to a list append(), extend(), insert()\n",
    "# append() adds an item to the end of the list\n"
   ]
  },
  {
   "cell_type": "code",
   "execution_count": null,
   "metadata": {},
   "outputs": [],
   "source": [
    "# If the item is a list, it will still be added as one item. For example:\n"
   ]
  },
  {
   "cell_type": "code",
   "execution_count": null,
   "metadata": {},
   "outputs": [],
   "source": [
    "# To add item by item, we need to use extend()\n",
    "# extend() takes an iterable object and adds to the list one item a time\n"
   ]
  },
  {
   "cell_type": "code",
   "execution_count": null,
   "metadata": {},
   "outputs": [],
   "source": [
    "# A string is also an iterable object. So extend() will extend the list by adding one character a time.\n"
   ]
  },
  {
   "cell_type": "code",
   "execution_count": null,
   "metadata": {},
   "outputs": [],
   "source": [
    "# insert() insert an item to a specified position.\n"
   ]
  },
  {
   "cell_type": "code",
   "execution_count": null,
   "metadata": {},
   "outputs": [],
   "source": [
    "# Another way to add more items to a list is concatenation, i.e. combine two lists together using \"+\"\n"
   ]
  },
  {
   "cell_type": "code",
   "execution_count": null,
   "metadata": {},
   "outputs": [],
   "source": [
    "# To delete an item: del, remove(), pop()\n",
    "# del delete an item by index.\n",
    "# Check our myList2. Let's delete the sublist first\n"
   ]
  },
  {
   "cell_type": "code",
   "execution_count": null,
   "metadata": {},
   "outputs": [],
   "source": [
    "# The remove() method takes a single item and deletes the first matching value in the list\n"
   ]
  },
  {
   "cell_type": "code",
   "execution_count": null,
   "metadata": {},
   "outputs": [],
   "source": [
    "# The pop() method removes the element at the specified position. It'll return the removed item to the screen.\n"
   ]
  },
  {
   "cell_type": "code",
   "execution_count": null,
   "metadata": {},
   "outputs": [],
   "source": [
    "# Other useful functions\n",
    "# sort(): sort the list in acsending order\n"
   ]
  },
  {
   "cell_type": "code",
   "execution_count": null,
   "metadata": {},
   "outputs": [],
   "source": [
    "# reverse(): Reverse the list\n"
   ]
  },
  {
   "cell_type": "code",
   "execution_count": null,
   "metadata": {},
   "outputs": [],
   "source": [
    "# count(): Count the number of occurrences\n"
   ]
  },
  {
   "cell_type": "code",
   "execution_count": null,
   "metadata": {},
   "outputs": [],
   "source": [
    "# index(): get the index number of an item\n"
   ]
  },
  {
   "cell_type": "code",
   "execution_count": null,
   "metadata": {
    "scrolled": true
   },
   "outputs": [],
   "source": [
    "# len(), min(), max()\n",
    "# count the number of items in the list\n",
    "# Find the smallest based on the comparison between items.\n",
    "# Find the largest"
   ]
  },
  {
   "cell_type": "code",
   "execution_count": null,
   "metadata": {},
   "outputs": [],
   "source": [
    "# in, not in: return True/False based on whether an item is in the list\n",
    "# For example,\n"
   ]
  }
 ],
 "metadata": {
  "kernelspec": {
   "display_name": "Python 3",
   "language": "python",
   "name": "python3"
  },
  "language_info": {
   "codemirror_mode": {
    "name": "ipython",
    "version": 3
   },
   "file_extension": ".py",
   "mimetype": "text/x-python",
   "name": "python",
   "nbconvert_exporter": "python",
   "pygments_lexer": "ipython3",
   "version": "3.8.8"
  }
 },
 "nbformat": 4,
 "nbformat_minor": 2
}
