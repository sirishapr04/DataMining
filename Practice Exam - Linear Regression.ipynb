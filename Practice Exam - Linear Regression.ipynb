{
 "cells": [
  {
   "cell_type": "code",
   "execution_count": 8,
   "id": "cec1bc7b",
   "metadata": {},
   "outputs": [],
   "source": [
    "import pandas as pd\n",
    "import matplotlib.pyplot as plt\n",
    "import seaborn as sns\n",
    "import numpy as np\n",
    "import math\n",
    "import statsmodels.api as sm"
   ]
  },
  {
   "cell_type": "code",
   "execution_count": 9,
   "id": "c193f277",
   "metadata": {},
   "outputs": [],
   "source": [
    "sp500 = pd.read_csv(\"S&P500.csv\")\n",
    "tele = pd.read_csv(\"TelcoChurn.csv\")"
   ]
  },
  {
   "cell_type": "code",
   "execution_count": 10,
   "id": "86ece004",
   "metadata": {},
   "outputs": [
    {
     "data": {
      "text/html": [
       "<div>\n",
       "<style scoped>\n",
       "    .dataframe tbody tr th:only-of-type {\n",
       "        vertical-align: middle;\n",
       "    }\n",
       "\n",
       "    .dataframe tbody tr th {\n",
       "        vertical-align: top;\n",
       "    }\n",
       "\n",
       "    .dataframe thead th {\n",
       "        text-align: right;\n",
       "    }\n",
       "</style>\n",
       "<table border=\"1\" class=\"dataframe\">\n",
       "  <thead>\n",
       "    <tr style=\"text-align: right;\">\n",
       "      <th></th>\n",
       "      <th>Symbol</th>\n",
       "      <th>Name</th>\n",
       "      <th>Sector</th>\n",
       "      <th>Price</th>\n",
       "      <th>52 Week High</th>\n",
       "      <th>52 Week Low</th>\n",
       "      <th>Dividend Yield</th>\n",
       "      <th>Earnings per Share</th>\n",
       "      <th>Sales per Share</th>\n",
       "      <th>Book Value per Share</th>\n",
       "      <th>EBITDA</th>\n",
       "      <th>Market Cap</th>\n",
       "    </tr>\n",
       "  </thead>\n",
       "  <tbody>\n",
       "    <tr>\n",
       "      <th>0</th>\n",
       "      <td>LB</td>\n",
       "      <td>L Brands Inc.</td>\n",
       "      <td>Consumer Discretionary</td>\n",
       "      <td>47.77</td>\n",
       "      <td>63.10</td>\n",
       "      <td>35.00</td>\n",
       "      <td>4.886988</td>\n",
       "      <td>3.98</td>\n",
       "      <td>27.999569</td>\n",
       "      <td>0.034039</td>\n",
       "      <td>2.329000e+09</td>\n",
       "      <td>1.386204e+10</td>\n",
       "    </tr>\n",
       "    <tr>\n",
       "      <th>1</th>\n",
       "      <td>PM</td>\n",
       "      <td>Philip Morris International</td>\n",
       "      <td>Consumer Staples</td>\n",
       "      <td>100.39</td>\n",
       "      <td>123.55</td>\n",
       "      <td>96.66</td>\n",
       "      <td>4.328479</td>\n",
       "      <td>4.48</td>\n",
       "      <td>36.406581</td>\n",
       "      <td>0.076128</td>\n",
       "      <td>1.180200e+10</td>\n",
       "      <td>1.540000e+11</td>\n",
       "    </tr>\n",
       "    <tr>\n",
       "      <th>2</th>\n",
       "      <td>HRB</td>\n",
       "      <td>Block H&amp;R</td>\n",
       "      <td>Financials</td>\n",
       "      <td>25.19</td>\n",
       "      <td>31.80</td>\n",
       "      <td>19.85</td>\n",
       "      <td>3.729604</td>\n",
       "      <td>1.92</td>\n",
       "      <td>12.477428</td>\n",
       "      <td>0.122633</td>\n",
       "      <td>8.947540e+08</td>\n",
       "      <td>5.381434e+09</td>\n",
       "    </tr>\n",
       "    <tr>\n",
       "      <th>3</th>\n",
       "      <td>CL</td>\n",
       "      <td>Colgate-Palmolive</td>\n",
       "      <td>Consumer Staples</td>\n",
       "      <td>68.95</td>\n",
       "      <td>77.91</td>\n",
       "      <td>66.26</td>\n",
       "      <td>2.280177</td>\n",
       "      <td>2.28</td>\n",
       "      <td>17.234325</td>\n",
       "      <td>0.291642</td>\n",
       "      <td>4.064000e+09</td>\n",
       "      <td>6.161664e+10</td>\n",
       "    </tr>\n",
       "    <tr>\n",
       "      <th>4</th>\n",
       "      <td>YUM</td>\n",
       "      <td>Yum! Brands Inc</td>\n",
       "      <td>Consumer Discretionary</td>\n",
       "      <td>76.30</td>\n",
       "      <td>86.93</td>\n",
       "      <td>62.85</td>\n",
       "      <td>1.797080</td>\n",
       "      <td>4.07</td>\n",
       "      <td>12.084953</td>\n",
       "      <td>0.359770</td>\n",
       "      <td>2.289000e+09</td>\n",
       "      <td>2.700330e+10</td>\n",
       "    </tr>\n",
       "  </tbody>\n",
       "</table>\n",
       "</div>"
      ],
      "text/plain": [
       "  Symbol                         Name                  Sector   Price  \\\n",
       "0     LB                L Brands Inc.  Consumer Discretionary   47.77   \n",
       "1     PM  Philip Morris International        Consumer Staples  100.39   \n",
       "2    HRB                    Block H&R              Financials   25.19   \n",
       "3     CL            Colgate-Palmolive        Consumer Staples   68.95   \n",
       "4    YUM              Yum! Brands Inc  Consumer Discretionary   76.30   \n",
       "\n",
       "   52 Week High  52 Week Low  Dividend Yield  Earnings per Share  \\\n",
       "0         63.10        35.00        4.886988                3.98   \n",
       "1        123.55        96.66        4.328479                4.48   \n",
       "2         31.80        19.85        3.729604                1.92   \n",
       "3         77.91        66.26        2.280177                2.28   \n",
       "4         86.93        62.85        1.797080                4.07   \n",
       "\n",
       "   Sales per Share  Book Value per Share        EBITDA    Market Cap  \n",
       "0        27.999569              0.034039  2.329000e+09  1.386204e+10  \n",
       "1        36.406581              0.076128  1.180200e+10  1.540000e+11  \n",
       "2        12.477428              0.122633  8.947540e+08  5.381434e+09  \n",
       "3        17.234325              0.291642  4.064000e+09  6.161664e+10  \n",
       "4        12.084953              0.359770  2.289000e+09  2.700330e+10  "
      ]
     },
     "execution_count": 10,
     "metadata": {},
     "output_type": "execute_result"
    }
   ],
   "source": [
    "sp500.head()"
   ]
  },
  {
   "cell_type": "code",
   "execution_count": 11,
   "id": "edaca04c",
   "metadata": {},
   "outputs": [],
   "source": [
    "# sp500[sp500['Dividend Yield'] == 0]"
   ]
  },
  {
   "cell_type": "code",
   "execution_count": 12,
   "id": "eb31a5f3",
   "metadata": {},
   "outputs": [],
   "source": [
    "# np.log(0)"
   ]
  },
  {
   "cell_type": "code",
   "execution_count": 13,
   "id": "0ba24bed",
   "metadata": {},
   "outputs": [],
   "source": [
    "# sp500['Dividend Yield'].describe()"
   ]
  },
  {
   "cell_type": "code",
   "execution_count": 14,
   "id": "2a77aa35",
   "metadata": {},
   "outputs": [
    {
     "name": "stdout",
     "output_type": "stream",
     "text": [
      "<class 'pandas.core.frame.DataFrame'>\n",
      "RangeIndex: 505 entries, 0 to 504\n",
      "Data columns (total 12 columns):\n",
      " #   Column                Non-Null Count  Dtype  \n",
      "---  ------                --------------  -----  \n",
      " 0   Symbol                505 non-null    object \n",
      " 1   Name                  505 non-null    object \n",
      " 2   Sector                505 non-null    object \n",
      " 3   Price                 505 non-null    float64\n",
      " 4   52 Week High          505 non-null    float64\n",
      " 5   52 Week Low           505 non-null    float64\n",
      " 6   Dividend Yield        505 non-null    float64\n",
      " 7   Earnings per Share    505 non-null    float64\n",
      " 8   Sales per Share       505 non-null    float64\n",
      " 9   Book Value per Share  497 non-null    float64\n",
      " 10  EBITDA                505 non-null    float64\n",
      " 11  Market Cap            505 non-null    float64\n",
      "dtypes: float64(9), object(3)\n",
      "memory usage: 47.5+ KB\n"
     ]
    }
   ],
   "source": [
    "sp500.info()"
   ]
  },
  {
   "cell_type": "code",
   "execution_count": 15,
   "id": "245ed6ae",
   "metadata": {},
   "outputs": [],
   "source": [
    "# test = sp500.copy()"
   ]
  },
  {
   "cell_type": "code",
   "execution_count": 16,
   "id": "d440e114",
   "metadata": {},
   "outputs": [],
   "source": [
    "# test.isna().sum()"
   ]
  },
  {
   "cell_type": "code",
   "execution_count": 17,
   "id": "8d6d41f4",
   "metadata": {},
   "outputs": [],
   "source": [
    "# test['Book Value per Share'] = np.log(test['Book Value per Share'])"
   ]
  },
  {
   "cell_type": "code",
   "execution_count": 18,
   "id": "9455685f",
   "metadata": {},
   "outputs": [],
   "source": [
    "# test['Book Value per Share'].hist()"
   ]
  },
  {
   "cell_type": "markdown",
   "id": "02f41910",
   "metadata": {},
   "source": [
    "How many unique levels of Sector variable? Which sector has the most companies (using\n",
    "a bar graph to show)?"
   ]
  },
  {
   "cell_type": "code",
   "execution_count": 19,
   "id": "5a8b9ae7",
   "metadata": {},
   "outputs": [],
   "source": [
    "a = sp500['Sector'].unique().tolist()"
   ]
  },
  {
   "cell_type": "code",
   "execution_count": 20,
   "id": "462ea26d",
   "metadata": {},
   "outputs": [
    {
     "name": "stdout",
     "output_type": "stream",
     "text": [
      "There are 11 unique sectors in the data\n"
     ]
    }
   ],
   "source": [
    "print(\"There are {} unique sectors in the data\".format(sp500['Sector'].nunique()))"
   ]
  },
  {
   "cell_type": "code",
   "execution_count": 21,
   "id": "1aee555d",
   "metadata": {},
   "outputs": [
    {
     "data": {
      "text/html": [
       "<div>\n",
       "<style scoped>\n",
       "    .dataframe tbody tr th:only-of-type {\n",
       "        vertical-align: middle;\n",
       "    }\n",
       "\n",
       "    .dataframe tbody tr th {\n",
       "        vertical-align: top;\n",
       "    }\n",
       "\n",
       "    .dataframe thead th {\n",
       "        text-align: right;\n",
       "    }\n",
       "</style>\n",
       "<table border=\"1\" class=\"dataframe\">\n",
       "  <thead>\n",
       "    <tr style=\"text-align: right;\">\n",
       "      <th></th>\n",
       "      <th>0</th>\n",
       "    </tr>\n",
       "  </thead>\n",
       "  <tbody>\n",
       "    <tr>\n",
       "      <th>0</th>\n",
       "      <td>Consumer Discretionary</td>\n",
       "    </tr>\n",
       "    <tr>\n",
       "      <th>1</th>\n",
       "      <td>Consumer Staples</td>\n",
       "    </tr>\n",
       "    <tr>\n",
       "      <th>2</th>\n",
       "      <td>Financials</td>\n",
       "    </tr>\n",
       "    <tr>\n",
       "      <th>3</th>\n",
       "      <td>Information Technology</td>\n",
       "    </tr>\n",
       "    <tr>\n",
       "      <th>4</th>\n",
       "      <td>Health Care</td>\n",
       "    </tr>\n",
       "    <tr>\n",
       "      <th>5</th>\n",
       "      <td>Energy</td>\n",
       "    </tr>\n",
       "    <tr>\n",
       "      <th>6</th>\n",
       "      <td>Industrials</td>\n",
       "    </tr>\n",
       "    <tr>\n",
       "      <th>7</th>\n",
       "      <td>Real Estate</td>\n",
       "    </tr>\n",
       "    <tr>\n",
       "      <th>8</th>\n",
       "      <td>Utilities</td>\n",
       "    </tr>\n",
       "    <tr>\n",
       "      <th>9</th>\n",
       "      <td>Materials</td>\n",
       "    </tr>\n",
       "    <tr>\n",
       "      <th>10</th>\n",
       "      <td>Telecommunication Services</td>\n",
       "    </tr>\n",
       "  </tbody>\n",
       "</table>\n",
       "</div>"
      ],
      "text/plain": [
       "                             0\n",
       "0       Consumer Discretionary\n",
       "1             Consumer Staples\n",
       "2                   Financials\n",
       "3       Information Technology\n",
       "4                  Health Care\n",
       "5                       Energy\n",
       "6                  Industrials\n",
       "7                  Real Estate\n",
       "8                    Utilities\n",
       "9                    Materials\n",
       "10  Telecommunication Services"
      ]
     },
     "execution_count": 21,
     "metadata": {},
     "output_type": "execute_result"
    }
   ],
   "source": [
    "pd.DataFrame(a)"
   ]
  },
  {
   "cell_type": "code",
   "execution_count": 22,
   "id": "fc4b9bf4",
   "metadata": {},
   "outputs": [
    {
     "data": {
      "text/plain": [
       "<Axes: >"
      ]
     },
     "execution_count": 22,
     "metadata": {},
     "output_type": "execute_result"
    },
    {
     "data": {
      "image/png": "[encoded data removed]",
      "text/plain": [
       "<Figure size 640x480 with 1 Axes>"
      ]
     },
     "metadata": {},
     "output_type": "display_data"
    }
   ],
   "source": [
    "sp500['Sector'].value_counts().plot(kind = 'bar')"
   ]
  },
  {
   "cell_type": "code",
   "execution_count": 23,
   "id": "795e0183",
   "metadata": {},
   "outputs": [
    {
     "data": {
      "text/plain": [
       "Consumer Discretionary        84\n",
       "Information Technology        70\n",
       "Financials                    68\n",
       "Industrials                   67\n",
       "Health Care                   61\n",
       "Consumer Staples              34\n",
       "Real Estate                   33\n",
       "Energy                        32\n",
       "Utilities                     28\n",
       "Materials                     25\n",
       "Telecommunication Services     3\n",
       "Name: Sector, dtype: int64"
      ]
     },
     "execution_count": 23,
     "metadata": {},
     "output_type": "execute_result"
    }
   ],
   "source": [
    "sp500['Sector'].value_counts()"
   ]
  },
  {
   "cell_type": "code",
   "execution_count": 24,
   "id": "999bbc6b",
   "metadata": {},
   "outputs": [
    {
     "data": {
      "text/plain": [
       "84"
      ]
     },
     "execution_count": 24,
     "metadata": {},
     "output_type": "execute_result"
    }
   ],
   "source": [
    "sp500['Sector'].value_counts()[0]"
   ]
  },
  {
   "cell_type": "code",
   "execution_count": 25,
   "id": "0de7c783",
   "metadata": {},
   "outputs": [],
   "source": [
    "# pd.DataFrame(df.groupby('Sector')['Price'].mean())"
   ]
  },
  {
   "cell_type": "markdown",
   "id": "56460b3f",
   "metadata": {},
   "source": [
    "Explore the relationship between price and earnings per share using scatterplot. Is there\n",
    "any correlation between the two?"
   ]
  },
  {
   "cell_type": "code",
   "execution_count": 26,
   "id": "b4c67f60",
   "metadata": {},
   "outputs": [
    {
     "name": "stderr",
     "output_type": "stream",
     "text": [
      "C:\\Users\\siris\\AppData\\Local\\Temp\\ipykernel_40808\\3623615032.py:1: FutureWarning: The default value of numeric_only in DataFrame.corr is deprecated. In a future version, it will default to False. Select only valid columns or specify the value of numeric_only to silence this warning.\n",
      "  sns.heatmap(sp500.corr())\n"
     ]
    },
    {
     "data": {
      "text/plain": [
       "<Axes: >"
      ]
     },
     "execution_count": 26,
     "metadata": {},
     "output_type": "execute_result"
    },
    {
     "data": {
      "image/png": "[encoded data removed]",
      "text/plain": [
       "<Figure size 640x480 with 2 Axes>"
      ]
     },
     "metadata": {},
     "output_type": "display_data"
    }
   ],
   "source": [
    "sns.heatmap(sp500.corr())"
   ]
  },
  {
   "cell_type": "code",
   "execution_count": 27,
   "id": "a9b872d8",
   "metadata": {},
   "outputs": [
    {
     "data": {
      "text/plain": [
       "0.59"
      ]
     },
     "execution_count": 27,
     "metadata": {},
     "output_type": "execute_result"
    }
   ],
   "source": [
    "round(sp500['Price'].corr(sp500['Earnings per Share']),2)"
   ]
  },
  {
   "cell_type": "code",
   "execution_count": 28,
   "id": "7fd149e5",
   "metadata": {},
   "outputs": [
    {
     "data": {
      "text/plain": [
       "<Axes: xlabel='Price', ylabel='Earnings per Share'>"
      ]
     },
     "execution_count": 28,
     "metadata": {},
     "output_type": "execute_result"
    },
    {
     "data": {
      "image/png": "[encoded data removed]",
      "text/plain": [
       "<Figure size 640x480 with 1 Axes>"
      ]
     },
     "metadata": {},
     "output_type": "display_data"
    }
   ],
   "source": [
    "sns.scatterplot(x = sp500['Price'], y = sp500['Earnings per Share'], data = sp500)"
   ]
  },
  {
   "cell_type": "markdown",
   "id": "7268c9f0",
   "metadata": {},
   "source": [
    "Correlation determines the strength of the relationship between two variables and the range of correlation is -1 to +1. Since the correlation between the Price and Earnings per share is 0.59, there is a positive correlation between these two variables. For "
   ]
  },
  {
   "cell_type": "markdown",
   "id": "b73e9bfe",
   "metadata": {},
   "source": [
    "Fit a multiple linear regression model to Price as a function of the logged variables: log\n",
    "Dividend Yield, log Sales per share, log Book value per share, log Market cap, Earning\n",
    "per share and Sector"
   ]
  },
  {
   "cell_type": "code",
   "execution_count": 29,
   "id": "05f091b3",
   "metadata": {},
   "outputs": [
    {
     "name": "stderr",
     "output_type": "stream",
     "text": [
      "C:\\Users\\siris\\anaconda3\\lib\\site-packages\\pandas\\core\\arraylike.py:402: RuntimeWarning: divide by zero encountered in log\n",
      "  result = getattr(ufunc, method)(*inputs, **kwargs)\n"
     ]
    }
   ],
   "source": [
    "sp500['Dividend Yield'] = np.log(sp500['Dividend Yield'])\n",
    "sp500['Sales per Share'] = np.log(sp500['Sales per Share'])\n",
    "sp500['Book Value per Share'] = np.log(sp500['Book Value per Share'])\n",
    "sp500['Market Cap'] = np.log(sp500['Market Cap'])"
   ]
  },
  {
   "cell_type": "code",
   "execution_count": 30,
   "id": "69ec05a3",
   "metadata": {},
   "outputs": [
    {
     "data": {
      "text/html": [
       "<div>\n",
       "<style scoped>\n",
       "    .dataframe tbody tr th:only-of-type {\n",
       "        vertical-align: middle;\n",
       "    }\n",
       "\n",
       "    .dataframe tbody tr th {\n",
       "        vertical-align: top;\n",
       "    }\n",
       "\n",
       "    .dataframe thead th {\n",
       "        text-align: right;\n",
       "    }\n",
       "</style>\n",
       "<table border=\"1\" class=\"dataframe\">\n",
       "  <thead>\n",
       "    <tr style=\"text-align: right;\">\n",
       "      <th></th>\n",
       "      <th>Symbol</th>\n",
       "      <th>Name</th>\n",
       "      <th>Sector</th>\n",
       "      <th>Price</th>\n",
       "      <th>52 Week High</th>\n",
       "      <th>52 Week Low</th>\n",
       "      <th>Dividend Yield</th>\n",
       "      <th>Earnings per Share</th>\n",
       "      <th>Sales per Share</th>\n",
       "      <th>Book Value per Share</th>\n",
       "      <th>EBITDA</th>\n",
       "      <th>Market Cap</th>\n",
       "    </tr>\n",
       "  </thead>\n",
       "  <tbody>\n",
       "    <tr>\n",
       "      <th>0</th>\n",
       "      <td>LB</td>\n",
       "      <td>L Brands Inc.</td>\n",
       "      <td>Consumer Discretionary</td>\n",
       "      <td>47.77</td>\n",
       "      <td>63.10</td>\n",
       "      <td>35.00</td>\n",
       "      <td>1.586576</td>\n",
       "      <td>3.98</td>\n",
       "      <td>3.332189</td>\n",
       "      <td>-3.380241</td>\n",
       "      <td>2.329000e+09</td>\n",
       "      <td>23.352420</td>\n",
       "    </tr>\n",
       "    <tr>\n",
       "      <th>1</th>\n",
       "      <td>PM</td>\n",
       "      <td>Philip Morris International</td>\n",
       "      <td>Consumer Staples</td>\n",
       "      <td>100.39</td>\n",
       "      <td>123.55</td>\n",
       "      <td>96.66</td>\n",
       "      <td>1.465216</td>\n",
       "      <td>4.48</td>\n",
       "      <td>3.594750</td>\n",
       "      <td>-2.575339</td>\n",
       "      <td>1.180200e+10</td>\n",
       "      <td>25.760218</td>\n",
       "    </tr>\n",
       "    <tr>\n",
       "      <th>2</th>\n",
       "      <td>HRB</td>\n",
       "      <td>Block H&amp;R</td>\n",
       "      <td>Financials</td>\n",
       "      <td>25.19</td>\n",
       "      <td>31.80</td>\n",
       "      <td>19.85</td>\n",
       "      <td>1.316302</td>\n",
       "      <td>1.92</td>\n",
       "      <td>2.523921</td>\n",
       "      <td>-2.098561</td>\n",
       "      <td>8.947540e+08</td>\n",
       "      <td>22.406221</td>\n",
       "    </tr>\n",
       "    <tr>\n",
       "      <th>3</th>\n",
       "      <td>CL</td>\n",
       "      <td>Colgate-Palmolive</td>\n",
       "      <td>Consumer Staples</td>\n",
       "      <td>68.95</td>\n",
       "      <td>77.91</td>\n",
       "      <td>66.26</td>\n",
       "      <td>0.824253</td>\n",
       "      <td>2.28</td>\n",
       "      <td>2.846903</td>\n",
       "      <td>-1.232228</td>\n",
       "      <td>4.064000e+09</td>\n",
       "      <td>24.844198</td>\n",
       "    </tr>\n",
       "    <tr>\n",
       "      <th>4</th>\n",
       "      <td>YUM</td>\n",
       "      <td>Yum! Brands Inc</td>\n",
       "      <td>Consumer Discretionary</td>\n",
       "      <td>76.30</td>\n",
       "      <td>86.93</td>\n",
       "      <td>62.85</td>\n",
       "      <td>0.586163</td>\n",
       "      <td>4.07</td>\n",
       "      <td>2.491961</td>\n",
       "      <td>-1.022291</td>\n",
       "      <td>2.289000e+09</td>\n",
       "      <td>24.019225</td>\n",
       "    </tr>\n",
       "  </tbody>\n",
       "</table>\n",
       "</div>"
      ],
      "text/plain": [
       "  Symbol                         Name                  Sector   Price  \\\n",
       "0     LB                L Brands Inc.  Consumer Discretionary   47.77   \n",
       "1     PM  Philip Morris International        Consumer Staples  100.39   \n",
       "2    HRB                    Block H&R              Financials   25.19   \n",
       "3     CL            Colgate-Palmolive        Consumer Staples   68.95   \n",
       "4    YUM              Yum! Brands Inc  Consumer Discretionary   76.30   \n",
       "\n",
       "   52 Week High  52 Week Low  Dividend Yield  Earnings per Share  \\\n",
       "0         63.10        35.00        1.586576                3.98   \n",
       "1        123.55        96.66        1.465216                4.48   \n",
       "2         31.80        19.85        1.316302                1.92   \n",
       "3         77.91        66.26        0.824253                2.28   \n",
       "4         86.93        62.85        0.586163                4.07   \n",
       "\n",
       "   Sales per Share  Book Value per Share        EBITDA  Market Cap  \n",
       "0         3.332189             -3.380241  2.329000e+09   23.352420  \n",
       "1         3.594750             -2.575339  1.180200e+10   25.760218  \n",
       "2         2.523921             -2.098561  8.947540e+08   22.406221  \n",
       "3         2.846903             -1.232228  4.064000e+09   24.844198  \n",
       "4         2.491961             -1.022291  2.289000e+09   24.019225  "
      ]
     },
     "execution_count": 30,
     "metadata": {},
     "output_type": "execute_result"
    }
   ],
   "source": [
    "sp500.head()"
   ]
  },
  {
   "cell_type": "code",
   "execution_count": 31,
   "id": "d0095a3e",
   "metadata": {},
   "outputs": [
    {
     "data": {
      "text/html": [
       "<div>\n",
       "<style scoped>\n",
       "    .dataframe tbody tr th:only-of-type {\n",
       "        vertical-align: middle;\n",
       "    }\n",
       "\n",
       "    .dataframe tbody tr th {\n",
       "        vertical-align: top;\n",
       "    }\n",
       "\n",
       "    .dataframe thead th {\n",
       "        text-align: right;\n",
       "    }\n",
       "</style>\n",
       "<table border=\"1\" class=\"dataframe\">\n",
       "  <thead>\n",
       "    <tr style=\"text-align: right;\">\n",
       "      <th></th>\n",
       "      <th>Price</th>\n",
       "      <th>52 Week High</th>\n",
       "      <th>52 Week Low</th>\n",
       "      <th>Dividend Yield</th>\n",
       "      <th>Earnings per Share</th>\n",
       "      <th>Sales per Share</th>\n",
       "      <th>Book Value per Share</th>\n",
       "      <th>EBITDA</th>\n",
       "      <th>Market Cap</th>\n",
       "    </tr>\n",
       "  </thead>\n",
       "  <tbody>\n",
       "    <tr>\n",
       "      <th>count</th>\n",
       "      <td>505.000000</td>\n",
       "      <td>505.000000</td>\n",
       "      <td>505.000000</td>\n",
       "      <td>505.000000</td>\n",
       "      <td>505.000000</td>\n",
       "      <td>505.000000</td>\n",
       "      <td>497.000000</td>\n",
       "      <td>5.050000e+02</td>\n",
       "      <td>505.000000</td>\n",
       "    </tr>\n",
       "    <tr>\n",
       "      <th>mean</th>\n",
       "      <td>103.830634</td>\n",
       "      <td>122.623832</td>\n",
       "      <td>83.536616</td>\n",
       "      <td>-inf</td>\n",
       "      <td>3.753743</td>\n",
       "      <td>3.265131</td>\n",
       "      <td>2.922507</td>\n",
       "      <td>3.590328e+09</td>\n",
       "      <td>23.969472</td>\n",
       "    </tr>\n",
       "    <tr>\n",
       "      <th>std</th>\n",
       "      <td>134.427636</td>\n",
       "      <td>155.362140</td>\n",
       "      <td>105.725473</td>\n",
       "      <td>NaN</td>\n",
       "      <td>5.689036</td>\n",
       "      <td>0.972654</td>\n",
       "      <td>1.053429</td>\n",
       "      <td>6.840544e+09</td>\n",
       "      <td>1.011276</td>\n",
       "    </tr>\n",
       "    <tr>\n",
       "      <th>min</th>\n",
       "      <td>2.820000</td>\n",
       "      <td>6.590000</td>\n",
       "      <td>2.800000</td>\n",
       "      <td>-inf</td>\n",
       "      <td>-28.010000</td>\n",
       "      <td>0.240183</td>\n",
       "      <td>-3.380241</td>\n",
       "      <td>-5.067000e+09</td>\n",
       "      <td>21.688767</td>\n",
       "    </tr>\n",
       "    <tr>\n",
       "      <th>25%</th>\n",
       "      <td>46.250000</td>\n",
       "      <td>56.250000</td>\n",
       "      <td>38.430000</td>\n",
       "      <td>-0.229622</td>\n",
       "      <td>1.490000</td>\n",
       "      <td>2.585654</td>\n",
       "      <td>2.441685</td>\n",
       "      <td>7.739320e+08</td>\n",
       "      <td>23.267390</td>\n",
       "    </tr>\n",
       "    <tr>\n",
       "      <th>50%</th>\n",
       "      <td>73.920000</td>\n",
       "      <td>86.680000</td>\n",
       "      <td>62.850000</td>\n",
       "      <td>0.570559</td>\n",
       "      <td>2.890000</td>\n",
       "      <td>3.215534</td>\n",
       "      <td>3.033270</td>\n",
       "      <td>1.614399e+09</td>\n",
       "      <td>23.786701</td>\n",
       "    </tr>\n",
       "    <tr>\n",
       "      <th>75%</th>\n",
       "      <td>116.540000</td>\n",
       "      <td>140.130000</td>\n",
       "      <td>96.660000</td>\n",
       "      <td>1.022851</td>\n",
       "      <td>5.140000</td>\n",
       "      <td>3.927199</td>\n",
       "      <td>3.600763</td>\n",
       "      <td>3.692749e+09</td>\n",
       "      <td>24.532584</td>\n",
       "    </tr>\n",
       "    <tr>\n",
       "      <th>max</th>\n",
       "      <td>1806.060000</td>\n",
       "      <td>2067.990000</td>\n",
       "      <td>1589.000000</td>\n",
       "      <td>2.538542</td>\n",
       "      <td>44.090000</td>\n",
       "      <td>6.888269</td>\n",
       "      <td>5.564487</td>\n",
       "      <td>7.938600e+10</td>\n",
       "      <td>27.420300</td>\n",
       "    </tr>\n",
       "  </tbody>\n",
       "</table>\n",
       "</div>"
      ],
      "text/plain": [
       "             Price  52 Week High  52 Week Low  Dividend Yield  \\\n",
       "count   505.000000    505.000000   505.000000      505.000000   \n",
       "mean    103.830634    122.623832    83.536616            -inf   \n",
       "std     134.427636    155.362140   105.725473             NaN   \n",
       "min       2.820000      6.590000     2.800000            -inf   \n",
       "25%      46.250000     56.250000    38.430000       -0.229622   \n",
       "50%      73.920000     86.680000    62.850000        0.570559   \n",
       "75%     116.540000    140.130000    96.660000        1.022851   \n",
       "max    1806.060000   2067.990000  1589.000000        2.538542   \n",
       "\n",
       "       Earnings per Share  Sales per Share  Book Value per Share  \\\n",
       "count          505.000000       505.000000            497.000000   \n",
       "mean             3.753743         3.265131              2.922507   \n",
       "std              5.689036         0.972654              1.053429   \n",
       "min            -28.010000         0.240183             -3.380241   \n",
       "25%              1.490000         2.585654              2.441685   \n",
       "50%              2.890000         3.215534              3.033270   \n",
       "75%              5.140000         3.927199              3.600763   \n",
       "max             44.090000         6.888269              5.564487   \n",
       "\n",
       "             EBITDA  Market Cap  \n",
       "count  5.050000e+02  505.000000  \n",
       "mean   3.590328e+09   23.969472  \n",
       "std    6.840544e+09    1.011276  \n",
       "min   -5.067000e+09   21.688767  \n",
       "25%    7.739320e+08   23.267390  \n",
       "50%    1.614399e+09   23.786701  \n",
       "75%    3.692749e+09   24.532584  \n",
       "max    7.938600e+10   27.420300  "
      ]
     },
     "execution_count": 31,
     "metadata": {},
     "output_type": "execute_result"
    }
   ],
   "source": [
    "sp500.describe()"
   ]
  },
  {
   "cell_type": "code",
   "execution_count": 32,
   "id": "a1d5b865",
   "metadata": {},
   "outputs": [
    {
     "data": {
      "text/plain": [
       "Symbol                  0\n",
       "Name                    0\n",
       "Sector                  0\n",
       "Price                   0\n",
       "52 Week High            0\n",
       "52 Week Low             0\n",
       "Dividend Yield          0\n",
       "Earnings per Share      0\n",
       "Sales per Share         0\n",
       "Book Value per Share    8\n",
       "EBITDA                  0\n",
       "Market Cap              0\n",
       "dtype: int64"
      ]
     },
     "execution_count": 32,
     "metadata": {},
     "output_type": "execute_result"
    }
   ],
   "source": [
    "sp500.isna().sum()"
   ]
  },
  {
   "cell_type": "code",
   "execution_count": 33,
   "id": "ce048b9f",
   "metadata": {},
   "outputs": [
    {
     "data": {
      "text/plain": [
       "86"
      ]
     },
     "execution_count": 33,
     "metadata": {},
     "output_type": "execute_result"
    }
   ],
   "source": [
    "np.isinf(sp500['Dividend Yield']).values.ravel().sum()"
   ]
  },
  {
   "cell_type": "code",
   "execution_count": 34,
   "id": "e56d7d06",
   "metadata": {},
   "outputs": [
    {
     "data": {
      "text/html": [
       "<div>\n",
       "<style scoped>\n",
       "    .dataframe tbody tr th:only-of-type {\n",
       "        vertical-align: middle;\n",
       "    }\n",
       "\n",
       "    .dataframe tbody tr th {\n",
       "        vertical-align: top;\n",
       "    }\n",
       "\n",
       "    .dataframe thead th {\n",
       "        text-align: right;\n",
       "    }\n",
       "</style>\n",
       "<table border=\"1\" class=\"dataframe\">\n",
       "  <thead>\n",
       "    <tr style=\"text-align: right;\">\n",
       "      <th></th>\n",
       "      <th>Symbol</th>\n",
       "      <th>Name</th>\n",
       "      <th>Sector</th>\n",
       "      <th>Price</th>\n",
       "      <th>52 Week High</th>\n",
       "      <th>52 Week Low</th>\n",
       "      <th>Dividend Yield</th>\n",
       "      <th>Earnings per Share</th>\n",
       "      <th>Sales per Share</th>\n",
       "      <th>Book Value per Share</th>\n",
       "      <th>EBITDA</th>\n",
       "      <th>Market Cap</th>\n",
       "    </tr>\n",
       "    <tr>\n",
       "      <th>Dividend Yield</th>\n",
       "      <th></th>\n",
       "      <th></th>\n",
       "      <th></th>\n",
       "      <th></th>\n",
       "      <th></th>\n",
       "      <th></th>\n",
       "      <th></th>\n",
       "      <th></th>\n",
       "      <th></th>\n",
       "      <th></th>\n",
       "      <th></th>\n",
       "      <th></th>\n",
       "    </tr>\n",
       "  </thead>\n",
       "  <tbody>\n",
       "    <tr>\n",
       "      <th>False</th>\n",
       "      <td>419</td>\n",
       "      <td>419</td>\n",
       "      <td>419</td>\n",
       "      <td>419</td>\n",
       "      <td>419</td>\n",
       "      <td>419</td>\n",
       "      <td>419</td>\n",
       "      <td>419</td>\n",
       "      <td>419</td>\n",
       "      <td>412</td>\n",
       "      <td>419</td>\n",
       "      <td>419</td>\n",
       "    </tr>\n",
       "    <tr>\n",
       "      <th>True</th>\n",
       "      <td>86</td>\n",
       "      <td>86</td>\n",
       "      <td>86</td>\n",
       "      <td>86</td>\n",
       "      <td>86</td>\n",
       "      <td>86</td>\n",
       "      <td>86</td>\n",
       "      <td>86</td>\n",
       "      <td>86</td>\n",
       "      <td>85</td>\n",
       "      <td>86</td>\n",
       "      <td>86</td>\n",
       "    </tr>\n",
       "  </tbody>\n",
       "</table>\n",
       "</div>"
      ],
      "text/plain": [
       "                Symbol  Name  Sector  Price  52 Week High  52 Week Low  \\\n",
       "Dividend Yield                                                           \n",
       "False              419   419     419    419           419          419   \n",
       "True                86    86      86     86            86           86   \n",
       "\n",
       "                Dividend Yield  Earnings per Share  Sales per Share  \\\n",
       "Dividend Yield                                                        \n",
       "False                      419                 419              419   \n",
       "True                        86                  86               86   \n",
       "\n",
       "                Book Value per Share  EBITDA  Market Cap  \n",
       "Dividend Yield                                            \n",
       "False                            412     419         419  \n",
       "True                              85      86          86  "
      ]
     },
     "execution_count": 34,
     "metadata": {},
     "output_type": "execute_result"
    }
   ],
   "source": [
    "sp500.groupby(np.isinf(sp500['Dividend Yield'])).count()"
   ]
  },
  {
   "cell_type": "code",
   "execution_count": 35,
   "id": "74b33bd0",
   "metadata": {},
   "outputs": [],
   "source": [
    "sp500['Dividend Yield'] = sp500['Dividend Yield'].replace([np.inf, -np.inf], np.nan)"
   ]
  },
  {
   "cell_type": "code",
   "execution_count": 36,
   "id": "3a759270",
   "metadata": {},
   "outputs": [
    {
     "data": {
      "text/html": [
       "<div>\n",
       "<style scoped>\n",
       "    .dataframe tbody tr th:only-of-type {\n",
       "        vertical-align: middle;\n",
       "    }\n",
       "\n",
       "    .dataframe tbody tr th {\n",
       "        vertical-align: top;\n",
       "    }\n",
       "\n",
       "    .dataframe thead th {\n",
       "        text-align: right;\n",
       "    }\n",
       "</style>\n",
       "<table border=\"1\" class=\"dataframe\">\n",
       "  <thead>\n",
       "    <tr style=\"text-align: right;\">\n",
       "      <th></th>\n",
       "      <th>Symbol</th>\n",
       "      <th>Name</th>\n",
       "      <th>Sector</th>\n",
       "      <th>Price</th>\n",
       "      <th>52 Week High</th>\n",
       "      <th>52 Week Low</th>\n",
       "      <th>Dividend Yield</th>\n",
       "      <th>Earnings per Share</th>\n",
       "      <th>Sales per Share</th>\n",
       "      <th>Book Value per Share</th>\n",
       "      <th>EBITDA</th>\n",
       "      <th>Market Cap</th>\n",
       "    </tr>\n",
       "    <tr>\n",
       "      <th>Dividend Yield</th>\n",
       "      <th></th>\n",
       "      <th></th>\n",
       "      <th></th>\n",
       "      <th></th>\n",
       "      <th></th>\n",
       "      <th></th>\n",
       "      <th></th>\n",
       "      <th></th>\n",
       "      <th></th>\n",
       "      <th></th>\n",
       "      <th></th>\n",
       "      <th></th>\n",
       "    </tr>\n",
       "  </thead>\n",
       "  <tbody>\n",
       "    <tr>\n",
       "      <th>False</th>\n",
       "      <td>505</td>\n",
       "      <td>505</td>\n",
       "      <td>505</td>\n",
       "      <td>505</td>\n",
       "      <td>505</td>\n",
       "      <td>505</td>\n",
       "      <td>419</td>\n",
       "      <td>505</td>\n",
       "      <td>505</td>\n",
       "      <td>497</td>\n",
       "      <td>505</td>\n",
       "      <td>505</td>\n",
       "    </tr>\n",
       "  </tbody>\n",
       "</table>\n",
       "</div>"
      ],
      "text/plain": [
       "                Symbol  Name  Sector  Price  52 Week High  52 Week Low  \\\n",
       "Dividend Yield                                                           \n",
       "False              505   505     505    505           505          505   \n",
       "\n",
       "                Dividend Yield  Earnings per Share  Sales per Share  \\\n",
       "Dividend Yield                                                        \n",
       "False                      419                 505              505   \n",
       "\n",
       "                Book Value per Share  EBITDA  Market Cap  \n",
       "Dividend Yield                                            \n",
       "False                            497     505         505  "
      ]
     },
     "execution_count": 36,
     "metadata": {},
     "output_type": "execute_result"
    }
   ],
   "source": [
    "sp500.groupby(np.isinf(sp500['Dividend Yield'])).count()"
   ]
  },
  {
   "cell_type": "code",
   "execution_count": 37,
   "id": "7d5514ef",
   "metadata": {},
   "outputs": [
    {
     "data": {
      "text/plain": [
       "Symbol                   0\n",
       "Name                     0\n",
       "Sector                   0\n",
       "Price                    0\n",
       "52 Week High             0\n",
       "52 Week Low              0\n",
       "Dividend Yield          86\n",
       "Earnings per Share       0\n",
       "Sales per Share          0\n",
       "Book Value per Share     8\n",
       "EBITDA                   0\n",
       "Market Cap               0\n",
       "dtype: int64"
      ]
     },
     "execution_count": 37,
     "metadata": {},
     "output_type": "execute_result"
    }
   ],
   "source": [
    "sp500.isna().sum()"
   ]
  },
  {
   "cell_type": "code",
   "execution_count": 17,
   "id": "a7731fd9",
   "metadata": {},
   "outputs": [],
   "source": [
    "# sp500 = sp500.dropna(axis = 0) #null rows are removed : axis = 0"
   ]
  },
  {
   "cell_type": "code",
   "execution_count": 41,
   "id": "37e03167",
   "metadata": {},
   "outputs": [
    {
     "data": {
      "text/plain": [
       "(505, 12)"
      ]
     },
     "execution_count": 41,
     "metadata": {},
     "output_type": "execute_result"
    }
   ],
   "source": [
    "sp500.shape"
   ]
  },
  {
   "cell_type": "code",
   "execution_count": 50,
   "id": "879fd445",
   "metadata": {},
   "outputs": [],
   "source": [
    "sp500['Dividend Yield'] = sp500['Dividend Yield'].fillna(sp500['Dividend Yield'].median())\n",
    "sp500['Book Value per Share'] = sp500['Book Value per Share'].fillna(sp500['Book Value per Share'].median())"
   ]
  },
  {
   "cell_type": "code",
   "execution_count": 51,
   "id": "40c2eeb8",
   "metadata": {},
   "outputs": [
    {
     "data": {
      "text/plain": [
       "count    505.000000\n",
       "mean       0.627128\n",
       "std        0.688467\n",
       "min       -3.888959\n",
       "25%        0.396505\n",
       "50%        0.693147\n",
       "75%        1.022851\n",
       "max        2.538542\n",
       "Name: Dividend Yield, dtype: float64"
      ]
     },
     "execution_count": 51,
     "metadata": {},
     "output_type": "execute_result"
    }
   ],
   "source": [
    "sp500['Dividend Yield'].describe()"
   ]
  },
  {
   "cell_type": "code",
   "execution_count": 52,
   "id": "becf5a12",
   "metadata": {},
   "outputs": [
    {
     "data": {
      "text/plain": [
       "count    505.000000\n",
       "mean       2.924261\n",
       "std        1.045127\n",
       "min       -3.380241\n",
       "25%        2.444906\n",
       "50%        3.033270\n",
       "75%        3.597915\n",
       "max        5.564487\n",
       "Name: Book Value per Share, dtype: float64"
      ]
     },
     "execution_count": 52,
     "metadata": {},
     "output_type": "execute_result"
    }
   ],
   "source": [
    "sp500['Book Value per Share'].describe()"
   ]
  },
  {
   "cell_type": "code",
   "execution_count": 61,
   "id": "58a524f3",
   "metadata": {},
   "outputs": [],
   "source": [
    "x = sp500[['Dividend Yield','Sales per Share','Book Value per Share','Market Cap','Earnings per Share','Sector']]"
   ]
  },
  {
   "cell_type": "code",
   "execution_count": 62,
   "id": "c51ac44d",
   "metadata": {},
   "outputs": [],
   "source": [
    "x = pd.get_dummies(x, columns = ['Sector'], drop_first = True, dtype = int)"
   ]
  },
  {
   "cell_type": "code",
   "execution_count": 63,
   "id": "83b882a2",
   "metadata": {},
   "outputs": [
    {
     "data": {
      "text/plain": [
       "Dividend Yield                       0\n",
       "Sales per Share                      0\n",
       "Book Value per Share                 0\n",
       "Market Cap                           0\n",
       "Earnings per Share                   0\n",
       "Sector_Consumer Staples              0\n",
       "Sector_Energy                        0\n",
       "Sector_Financials                    0\n",
       "Sector_Health Care                   0\n",
       "Sector_Industrials                   0\n",
       "Sector_Information Technology        0\n",
       "Sector_Materials                     0\n",
       "Sector_Real Estate                   0\n",
       "Sector_Telecommunication Services    0\n",
       "Sector_Utilities                     0\n",
       "dtype: int64"
      ]
     },
     "execution_count": 63,
     "metadata": {},
     "output_type": "execute_result"
    }
   ],
   "source": [
    "x.isna().sum()"
   ]
  },
  {
   "cell_type": "code",
   "execution_count": 64,
   "id": "be2eca41",
   "metadata": {},
   "outputs": [],
   "source": [
    "# Prepare the variables: dependent, independent and the constant\n",
    "y = sp500['Price']\n",
    "\n",
    "X_with_intercept = sm.add_constant(x)\n",
    "\n",
    "# Fit the linear regression model\n",
    "model = sm.OLS(y, X_with_intercept)\n",
    "results = model.fit()"
   ]
  },
  {
   "cell_type": "code",
   "execution_count": 65,
   "id": "b43d5e6b",
   "metadata": {},
   "outputs": [
    {
     "data": {
      "text/html": [
       "<table class=\"simpletable\">\n",
       "<caption>OLS Regression Results</caption>\n",
       "<tr>\n",
       "  <th>Dep. Variable:</th>          <td>Price</td>      <th>  R-squared:         </th> <td>   0.444</td>\n",
       "</tr>\n",
       "<tr>\n",
       "  <th>Model:</th>                   <td>OLS</td>       <th>  Adj. R-squared:    </th> <td>   0.427</td>\n",
       "</tr>\n",
       "<tr>\n",
       "  <th>Method:</th>             <td>Least Squares</td>  <th>  F-statistic:       </th> <td>   26.05</td>\n",
       "</tr>\n",
       "<tr>\n",
       "  <th>Date:</th>             <td>Fri, 01 Mar 2024</td> <th>  Prob (F-statistic):</th> <td>4.63e-53</td>\n",
       "</tr>\n",
       "<tr>\n",
       "  <th>Time:</th>                 <td>14:06:49</td>     <th>  Log-Likelihood:    </th> <td> -3042.8</td>\n",
       "</tr>\n",
       "<tr>\n",
       "  <th>No. Observations:</th>      <td>   505</td>      <th>  AIC:               </th> <td>   6118.</td>\n",
       "</tr>\n",
       "<tr>\n",
       "  <th>Df Residuals:</th>          <td>   489</td>      <th>  BIC:               </th> <td>   6185.</td>\n",
       "</tr>\n",
       "<tr>\n",
       "  <th>Df Model:</th>              <td>    15</td>      <th>                     </th>     <td> </td>   \n",
       "</tr>\n",
       "<tr>\n",
       "  <th>Covariance Type:</th>      <td>nonrobust</td>    <th>                     </th>     <td> </td>   \n",
       "</tr>\n",
       "</table>\n",
       "<table class=\"simpletable\">\n",
       "<tr>\n",
       "                  <td></td>                     <th>coef</th>     <th>std err</th>      <th>t</th>      <th>P>|t|</th>  <th>[0.025</th>    <th>0.975]</th>  \n",
       "</tr>\n",
       "<tr>\n",
       "  <th>const</th>                             <td> -623.9756</td> <td>  115.589</td> <td>   -5.398</td> <td> 0.000</td> <td> -851.087</td> <td> -396.864</td>\n",
       "</tr>\n",
       "<tr>\n",
       "  <th>Dividend Yield</th>                    <td>  -13.5672</td> <td>    7.480</td> <td>   -1.814</td> <td> 0.070</td> <td>  -28.264</td> <td>    1.130</td>\n",
       "</tr>\n",
       "<tr>\n",
       "  <th>Sales per Share</th>                   <td>   24.7279</td> <td>    6.395</td> <td>    3.867</td> <td> 0.000</td> <td>   12.163</td> <td>   37.293</td>\n",
       "</tr>\n",
       "<tr>\n",
       "  <th>Book Value per Share</th>              <td>   11.6898</td> <td>    5.250</td> <td>    2.226</td> <td> 0.026</td> <td>    1.374</td> <td>   22.006</td>\n",
       "</tr>\n",
       "<tr>\n",
       "  <th>Market Cap</th>                        <td>   24.6699</td> <td>    4.900</td> <td>    5.034</td> <td> 0.000</td> <td>   15.041</td> <td>   34.298</td>\n",
       "</tr>\n",
       "<tr>\n",
       "  <th>Earnings per Share</th>                <td>   10.7517</td> <td>    0.979</td> <td>   10.986</td> <td> 0.000</td> <td>    8.829</td> <td>   12.675</td>\n",
       "</tr>\n",
       "<tr>\n",
       "  <th>Sector_Consumer Staples</th>           <td>  -37.5961</td> <td>   21.117</td> <td>   -1.780</td> <td> 0.076</td> <td>  -79.087</td> <td>    3.895</td>\n",
       "</tr>\n",
       "<tr>\n",
       "  <th>Sector_Energy</th>                     <td>   12.0599</td> <td>   22.547</td> <td>    0.535</td> <td> 0.593</td> <td>  -32.241</td> <td>   56.361</td>\n",
       "</tr>\n",
       "<tr>\n",
       "  <th>Sector_Financials</th>                 <td>  -41.4288</td> <td>   17.758</td> <td>   -2.333</td> <td> 0.020</td> <td>  -76.320</td> <td>   -6.538</td>\n",
       "</tr>\n",
       "<tr>\n",
       "  <th>Sector_Health Care</th>                <td>   -7.1600</td> <td>   17.689</td> <td>   -0.405</td> <td> 0.686</td> <td>  -41.915</td> <td>   27.595</td>\n",
       "</tr>\n",
       "<tr>\n",
       "  <th>Sector_Industrials</th>                <td>  -27.9455</td> <td>   16.801</td> <td>   -1.663</td> <td> 0.097</td> <td>  -60.957</td> <td>    5.066</td>\n",
       "</tr>\n",
       "<tr>\n",
       "  <th>Sector_Information Technology</th>     <td>   14.4629</td> <td>   17.430</td> <td>    0.830</td> <td> 0.407</td> <td>  -19.784</td> <td>   48.710</td>\n",
       "</tr>\n",
       "<tr>\n",
       "  <th>Sector_Materials</th>                  <td>  -28.3141</td> <td>   23.331</td> <td>   -1.214</td> <td> 0.226</td> <td>  -74.156</td> <td>   17.528</td>\n",
       "</tr>\n",
       "<tr>\n",
       "  <th>Sector_Real Estate</th>                <td>   40.3193</td> <td>   24.194</td> <td>    1.667</td> <td> 0.096</td> <td>   -7.217</td> <td>   87.856</td>\n",
       "</tr>\n",
       "<tr>\n",
       "  <th>Sector_Telecommunication Services</th> <td>  -90.1927</td> <td>   61.104</td> <td>   -1.476</td> <td> 0.141</td> <td> -210.251</td> <td>   29.866</td>\n",
       "</tr>\n",
       "<tr>\n",
       "  <th>Sector_Utilities</th>                  <td>  -19.4218</td> <td>   23.678</td> <td>   -0.820</td> <td> 0.412</td> <td>  -65.945</td> <td>   27.101</td>\n",
       "</tr>\n",
       "</table>\n",
       "<table class=\"simpletable\">\n",
       "<tr>\n",
       "  <th>Omnibus:</th>       <td>637.687</td> <th>  Durbin-Watson:     </th> <td>   1.707</td> \n",
       "</tr>\n",
       "<tr>\n",
       "  <th>Prob(Omnibus):</th> <td> 0.000</td>  <th>  Jarque-Bera (JB):  </th> <td>83707.973</td>\n",
       "</tr>\n",
       "<tr>\n",
       "  <th>Skew:</th>          <td> 6.080</td>  <th>  Prob(JB):          </th> <td>    0.00</td> \n",
       "</tr>\n",
       "<tr>\n",
       "  <th>Kurtosis:</th>      <td>64.890</td>  <th>  Cond. No.          </th> <td>    634.</td> \n",
       "</tr>\n",
       "</table><br/><br/>Notes:<br/>[1] Standard Errors assume that the covariance matrix of the errors is correctly specified."
      ],
      "text/plain": [
       "<class 'statsmodels.iolib.summary.Summary'>\n",
       "\"\"\"\n",
       "                            OLS Regression Results                            \n",
       "==============================================================================\n",
       "Dep. Variable:                  Price   R-squared:                       0.444\n",
       "Model:                            OLS   Adj. R-squared:                  0.427\n",
       "Method:                 Least Squares   F-statistic:                     26.05\n",
       "Date:                Fri, 01 Mar 2024   Prob (F-statistic):           4.63e-53\n",
       "Time:                        14:06:49   Log-Likelihood:                -3042.8\n",
       "No. Observations:                 505   AIC:                             6118.\n",
       "Df Residuals:                     489   BIC:                             6185.\n",
       "Df Model:                          15                                         \n",
       "Covariance Type:            nonrobust                                         \n",
       "=====================================================================================================\n",
       "                                        coef    std err          t      P>|t|      [0.025      0.975]\n",
       "-----------------------------------------------------------------------------------------------------\n",
       "const                              -623.9756    115.589     -5.398      0.000    -851.087    -396.864\n",
       "Dividend Yield                      -13.5672      7.480     -1.814      0.070     -28.264       1.130\n",
       "Sales per Share                      24.7279      6.395      3.867      0.000      12.163      37.293\n",
       "Book Value per Share                 11.6898      5.250      2.226      0.026       1.374      22.006\n",
       "Market Cap                           24.6699      4.900      5.034      0.000      15.041      34.298\n",
       "Earnings per Share                   10.7517      0.979     10.986      0.000       8.829      12.675\n",
       "Sector_Consumer Staples             -37.5961     21.117     -1.780      0.076     -79.087       3.895\n",
       "Sector_Energy                        12.0599     22.547      0.535      0.593     -32.241      56.361\n",
       "Sector_Financials                   -41.4288     17.758     -2.333      0.020     -76.320      -6.538\n",
       "Sector_Health Care                   -7.1600     17.689     -0.405      0.686     -41.915      27.595\n",
       "Sector_Industrials                  -27.9455     16.801     -1.663      0.097     -60.957       5.066\n",
       "Sector_Information Technology        14.4629     17.430      0.830      0.407     -19.784      48.710\n",
       "Sector_Materials                    -28.3141     23.331     -1.214      0.226     -74.156      17.528\n",
       "Sector_Real Estate                   40.3193     24.194      1.667      0.096      -7.217      87.856\n",
       "Sector_Telecommunication Services   -90.1927     61.104     -1.476      0.141    -210.251      29.866\n",
       "Sector_Utilities                    -19.4218     23.678     -0.820      0.412     -65.945      27.101\n",
       "==============================================================================\n",
       "Omnibus:                      637.687   Durbin-Watson:                   1.707\n",
       "Prob(Omnibus):                  0.000   Jarque-Bera (JB):            83707.973\n",
       "Skew:                           6.080   Prob(JB):                         0.00\n",
       "Kurtosis:                      64.890   Cond. No.                         634.\n",
       "==============================================================================\n",
       "\n",
       "Notes:\n",
       "[1] Standard Errors assume that the covariance matrix of the errors is correctly specified.\n",
       "\"\"\""
      ]
     },
     "execution_count": 65,
     "metadata": {},
     "output_type": "execute_result"
    }
   ],
   "source": [
    "results.summary()"
   ]
  },
  {
   "cell_type": "markdown",
   "id": "b0d9fca9",
   "metadata": {},
   "source": [
    "What is the coefficient of Earnings per share? p-value? Is it significant? How would you\n",
    "interpret the impact of it on stock price?"
   ]
  },
  {
   "cell_type": "markdown",
   "id": "6480e80a",
   "metadata": {},
   "source": [
    "Check the dummy variables of Sector. Which is the base case? What is the coefficient of\n",
    "Sector of Information Technology? p-value? Is it significant? How would you interpret\n",
    "the impact of companies being in Information Technology Sector on stock prices?"
   ]
  },
  {
   "cell_type": "markdown",
   "id": "60c38c9c",
   "metadata": {},
   "source": [
    "How well does the model fit the data?"
   ]
  },
  {
   "cell_type": "markdown",
   "id": "8d1c28f9",
   "metadata": {},
   "source": [
    "Make predictions of stock price."
   ]
  },
  {
   "cell_type": "code",
   "execution_count": 74,
   "id": "af061c3b",
   "metadata": {},
   "outputs": [],
   "source": [
    "p_values = results.pvalues.reset_index()"
   ]
  },
  {
   "cell_type": "code",
   "execution_count": 75,
   "id": "6f067b49",
   "metadata": {},
   "outputs": [
    {
     "data": {
      "text/html": [
       "<div>\n",
       "<style scoped>\n",
       "    .dataframe tbody tr th:only-of-type {\n",
       "        vertical-align: middle;\n",
       "    }\n",
       "\n",
       "    .dataframe tbody tr th {\n",
       "        vertical-align: top;\n",
       "    }\n",
       "\n",
       "    .dataframe thead th {\n",
       "        text-align: right;\n",
       "    }\n",
       "</style>\n",
       "<table border=\"1\" class=\"dataframe\">\n",
       "  <thead>\n",
       "    <tr style=\"text-align: right;\">\n",
       "      <th></th>\n",
       "      <th>index</th>\n",
       "      <th>0</th>\n",
       "    </tr>\n",
       "  </thead>\n",
       "  <tbody>\n",
       "    <tr>\n",
       "      <th>0</th>\n",
       "      <td>const</td>\n",
       "      <td>1.051418e-07</td>\n",
       "    </tr>\n",
       "    <tr>\n",
       "      <th>1</th>\n",
       "      <td>Dividend Yield</td>\n",
       "      <td>7.032436e-02</td>\n",
       "    </tr>\n",
       "    <tr>\n",
       "      <th>2</th>\n",
       "      <td>Sales per Share</td>\n",
       "      <td>1.251860e-04</td>\n",
       "    </tr>\n",
       "    <tr>\n",
       "      <th>3</th>\n",
       "      <td>Book Value per Share</td>\n",
       "      <td>2.643727e-02</td>\n",
       "    </tr>\n",
       "    <tr>\n",
       "      <th>4</th>\n",
       "      <td>Market Cap</td>\n",
       "      <td>6.756290e-07</td>\n",
       "    </tr>\n",
       "    <tr>\n",
       "      <th>5</th>\n",
       "      <td>Earnings per Share</td>\n",
       "      <td>3.035162e-25</td>\n",
       "    </tr>\n",
       "    <tr>\n",
       "      <th>6</th>\n",
       "      <td>Sector_Consumer Staples</td>\n",
       "      <td>7.563483e-02</td>\n",
       "    </tr>\n",
       "    <tr>\n",
       "      <th>7</th>\n",
       "      <td>Sector_Energy</td>\n",
       "      <td>5.929793e-01</td>\n",
       "    </tr>\n",
       "    <tr>\n",
       "      <th>8</th>\n",
       "      <td>Sector_Financials</td>\n",
       "      <td>2.005302e-02</td>\n",
       "    </tr>\n",
       "    <tr>\n",
       "      <th>9</th>\n",
       "      <td>Sector_Health Care</td>\n",
       "      <td>6.858150e-01</td>\n",
       "    </tr>\n",
       "    <tr>\n",
       "      <th>10</th>\n",
       "      <td>Sector_Industrials</td>\n",
       "      <td>9.688800e-02</td>\n",
       "    </tr>\n",
       "    <tr>\n",
       "      <th>11</th>\n",
       "      <td>Sector_Information Technology</td>\n",
       "      <td>4.070774e-01</td>\n",
       "    </tr>\n",
       "    <tr>\n",
       "      <th>12</th>\n",
       "      <td>Sector_Materials</td>\n",
       "      <td>2.255011e-01</td>\n",
       "    </tr>\n",
       "    <tr>\n",
       "      <th>13</th>\n",
       "      <td>Sector_Real Estate</td>\n",
       "      <td>9.625111e-02</td>\n",
       "    </tr>\n",
       "    <tr>\n",
       "      <th>14</th>\n",
       "      <td>Sector_Telecommunication Services</td>\n",
       "      <td>1.405737e-01</td>\n",
       "    </tr>\n",
       "    <tr>\n",
       "      <th>15</th>\n",
       "      <td>Sector_Utilities</td>\n",
       "      <td>4.124732e-01</td>\n",
       "    </tr>\n",
       "  </tbody>\n",
       "</table>\n",
       "</div>"
      ],
      "text/plain": [
       "                                index             0\n",
       "0                               const  1.051418e-07\n",
       "1                      Dividend Yield  7.032436e-02\n",
       "2                     Sales per Share  1.251860e-04\n",
       "3                Book Value per Share  2.643727e-02\n",
       "4                          Market Cap  6.756290e-07\n",
       "5                  Earnings per Share  3.035162e-25\n",
       "6             Sector_Consumer Staples  7.563483e-02\n",
       "7                       Sector_Energy  5.929793e-01\n",
       "8                   Sector_Financials  2.005302e-02\n",
       "9                  Sector_Health Care  6.858150e-01\n",
       "10                 Sector_Industrials  9.688800e-02\n",
       "11      Sector_Information Technology  4.070774e-01\n",
       "12                   Sector_Materials  2.255011e-01\n",
       "13                 Sector_Real Estate  9.625111e-02\n",
       "14  Sector_Telecommunication Services  1.405737e-01\n",
       "15                   Sector_Utilities  4.124732e-01"
      ]
     },
     "execution_count": 75,
     "metadata": {},
     "output_type": "execute_result"
    }
   ],
   "source": [
    "p_values"
   ]
  },
  {
   "cell_type": "code",
   "execution_count": 77,
   "id": "9122980f",
   "metadata": {},
   "outputs": [],
   "source": [
    "p_values.columns = ['Variables','P-Value']"
   ]
  },
  {
   "cell_type": "code",
   "execution_count": 78,
   "id": "a1887f38",
   "metadata": {},
   "outputs": [
    {
     "data": {
      "text/html": [
       "<div>\n",
       "<style scoped>\n",
       "    .dataframe tbody tr th:only-of-type {\n",
       "        vertical-align: middle;\n",
       "    }\n",
       "\n",
       "    .dataframe tbody tr th {\n",
       "        vertical-align: top;\n",
       "    }\n",
       "\n",
       "    .dataframe thead th {\n",
       "        text-align: right;\n",
       "    }\n",
       "</style>\n",
       "<table border=\"1\" class=\"dataframe\">\n",
       "  <thead>\n",
       "    <tr style=\"text-align: right;\">\n",
       "      <th></th>\n",
       "      <th>Variables</th>\n",
       "      <th>P-Value</th>\n",
       "    </tr>\n",
       "  </thead>\n",
       "  <tbody>\n",
       "    <tr>\n",
       "      <th>0</th>\n",
       "      <td>const</td>\n",
       "      <td>1.051418e-07</td>\n",
       "    </tr>\n",
       "    <tr>\n",
       "      <th>1</th>\n",
       "      <td>Dividend Yield</td>\n",
       "      <td>7.032436e-02</td>\n",
       "    </tr>\n",
       "    <tr>\n",
       "      <th>2</th>\n",
       "      <td>Sales per Share</td>\n",
       "      <td>1.251860e-04</td>\n",
       "    </tr>\n",
       "    <tr>\n",
       "      <th>3</th>\n",
       "      <td>Book Value per Share</td>\n",
       "      <td>2.643727e-02</td>\n",
       "    </tr>\n",
       "    <tr>\n",
       "      <th>4</th>\n",
       "      <td>Market Cap</td>\n",
       "      <td>6.756290e-07</td>\n",
       "    </tr>\n",
       "    <tr>\n",
       "      <th>5</th>\n",
       "      <td>Earnings per Share</td>\n",
       "      <td>3.035162e-25</td>\n",
       "    </tr>\n",
       "    <tr>\n",
       "      <th>6</th>\n",
       "      <td>Sector_Consumer Staples</td>\n",
       "      <td>7.563483e-02</td>\n",
       "    </tr>\n",
       "    <tr>\n",
       "      <th>7</th>\n",
       "      <td>Sector_Energy</td>\n",
       "      <td>5.929793e-01</td>\n",
       "    </tr>\n",
       "    <tr>\n",
       "      <th>8</th>\n",
       "      <td>Sector_Financials</td>\n",
       "      <td>2.005302e-02</td>\n",
       "    </tr>\n",
       "    <tr>\n",
       "      <th>9</th>\n",
       "      <td>Sector_Health Care</td>\n",
       "      <td>6.858150e-01</td>\n",
       "    </tr>\n",
       "    <tr>\n",
       "      <th>10</th>\n",
       "      <td>Sector_Industrials</td>\n",
       "      <td>9.688800e-02</td>\n",
       "    </tr>\n",
       "    <tr>\n",
       "      <th>11</th>\n",
       "      <td>Sector_Information Technology</td>\n",
       "      <td>4.070774e-01</td>\n",
       "    </tr>\n",
       "    <tr>\n",
       "      <th>12</th>\n",
       "      <td>Sector_Materials</td>\n",
       "      <td>2.255011e-01</td>\n",
       "    </tr>\n",
       "    <tr>\n",
       "      <th>13</th>\n",
       "      <td>Sector_Real Estate</td>\n",
       "      <td>9.625111e-02</td>\n",
       "    </tr>\n",
       "    <tr>\n",
       "      <th>14</th>\n",
       "      <td>Sector_Telecommunication Services</td>\n",
       "      <td>1.405737e-01</td>\n",
       "    </tr>\n",
       "    <tr>\n",
       "      <th>15</th>\n",
       "      <td>Sector_Utilities</td>\n",
       "      <td>4.124732e-01</td>\n",
       "    </tr>\n",
       "  </tbody>\n",
       "</table>\n",
       "</div>"
      ],
      "text/plain": [
       "                            Variables       P-Value\n",
       "0                               const  1.051418e-07\n",
       "1                      Dividend Yield  7.032436e-02\n",
       "2                     Sales per Share  1.251860e-04\n",
       "3                Book Value per Share  2.643727e-02\n",
       "4                          Market Cap  6.756290e-07\n",
       "5                  Earnings per Share  3.035162e-25\n",
       "6             Sector_Consumer Staples  7.563483e-02\n",
       "7                       Sector_Energy  5.929793e-01\n",
       "8                   Sector_Financials  2.005302e-02\n",
       "9                  Sector_Health Care  6.858150e-01\n",
       "10                 Sector_Industrials  9.688800e-02\n",
       "11      Sector_Information Technology  4.070774e-01\n",
       "12                   Sector_Materials  2.255011e-01\n",
       "13                 Sector_Real Estate  9.625111e-02\n",
       "14  Sector_Telecommunication Services  1.405737e-01\n",
       "15                   Sector_Utilities  4.124732e-01"
      ]
     },
     "execution_count": 78,
     "metadata": {},
     "output_type": "execute_result"
    }
   ],
   "source": [
    "p_values"
   ]
  },
  {
   "cell_type": "code",
   "execution_count": 80,
   "id": "66517e87",
   "metadata": {},
   "outputs": [],
   "source": [
    "significant_variables = p_values[p_values['P-Value'] < 0.05]['Variables'].tolist() #checking the p_value with significance level=0.05 "
   ]
  },
  {
   "cell_type": "code",
   "execution_count": 81,
   "id": "7f5fe5ae",
   "metadata": {},
   "outputs": [
    {
     "data": {
      "text/plain": [
       "['const',\n",
       " 'Sales per Share',\n",
       " 'Book Value per Share',\n",
       " 'Market Cap',\n",
       " 'Earnings per Share',\n",
       " 'Sector_Financials']"
      ]
     },
     "execution_count": 81,
     "metadata": {},
     "output_type": "execute_result"
    }
   ],
   "source": [
    "significant_variables"
   ]
  },
  {
   "cell_type": "code",
   "execution_count": 82,
   "id": "8d2db785",
   "metadata": {},
   "outputs": [],
   "source": [
    "significant_variables = significant_variables[1:]"
   ]
  },
  {
   "cell_type": "code",
   "execution_count": 83,
   "id": "4fb64ab2",
   "metadata": {},
   "outputs": [
    {
     "data": {
      "text/plain": [
       "['Sales per Share',\n",
       " 'Book Value per Share',\n",
       " 'Market Cap',\n",
       " 'Earnings per Share',\n",
       " 'Sector_Financials']"
      ]
     },
     "execution_count": 83,
     "metadata": {},
     "output_type": "execute_result"
    }
   ],
   "source": [
    "significant_variables"
   ]
  },
  {
   "cell_type": "code",
   "execution_count": 84,
   "id": "b8448e46",
   "metadata": {},
   "outputs": [],
   "source": [
    "insignificant_variables = p_values[p_values['P-Value'] > 0.05]['Variables'].tolist() #checking the p_value with significance level=0.05 "
   ]
  },
  {
   "cell_type": "code",
   "execution_count": 85,
   "id": "98c558e3",
   "metadata": {},
   "outputs": [
    {
     "data": {
      "text/plain": [
       "['Dividend Yield',\n",
       " 'Sector_Consumer Staples',\n",
       " 'Sector_Energy',\n",
       " 'Sector_Health Care',\n",
       " 'Sector_Industrials',\n",
       " 'Sector_Information Technology',\n",
       " 'Sector_Materials',\n",
       " 'Sector_Real Estate',\n",
       " 'Sector_Telecommunication Services',\n",
       " 'Sector_Utilities']"
      ]
     },
     "execution_count": 85,
     "metadata": {},
     "output_type": "execute_result"
    }
   ],
   "source": [
    "insignificant_variables"
   ]
  },
  {
   "cell_type": "code",
   "execution_count": 86,
   "id": "c2753686",
   "metadata": {},
   "outputs": [],
   "source": [
    "price_pred = results.predict(X_with_intercept)"
   ]
  },
  {
   "cell_type": "code",
   "execution_count": 87,
   "id": "66f25616",
   "metadata": {},
   "outputs": [
    {
     "data": {
      "text/plain": [
       "0       16.276259\n",
       "1       61.004377\n",
       "2      -71.980930\n",
       "3       20.656702\n",
       "4       54.053700\n",
       "          ...    \n",
       "500     -1.559209\n",
       "501     64.776087\n",
       "502    127.327805\n",
       "503    141.439720\n",
       "504    224.683954\n",
       "Length: 505, dtype: float64"
      ]
     },
     "execution_count": 87,
     "metadata": {},
     "output_type": "execute_result"
    }
   ],
   "source": [
    "price_pred"
   ]
  },
  {
   "cell_type": "code",
   "execution_count": 88,
   "id": "265cfc0e",
   "metadata": {},
   "outputs": [],
   "source": [
    "# Join it with the original dataset\n",
    "sp500['price predicted'] = price_pred"
   ]
  },
  {
   "cell_type": "code",
   "execution_count": 89,
   "id": "4499a3e3",
   "metadata": {},
   "outputs": [
    {
     "data": {
      "text/html": [
       "<div>\n",
       "<style scoped>\n",
       "    .dataframe tbody tr th:only-of-type {\n",
       "        vertical-align: middle;\n",
       "    }\n",
       "\n",
       "    .dataframe tbody tr th {\n",
       "        vertical-align: top;\n",
       "    }\n",
       "\n",
       "    .dataframe thead th {\n",
       "        text-align: right;\n",
       "    }\n",
       "</style>\n",
       "<table border=\"1\" class=\"dataframe\">\n",
       "  <thead>\n",
       "    <tr style=\"text-align: right;\">\n",
       "      <th></th>\n",
       "      <th>Symbol</th>\n",
       "      <th>Name</th>\n",
       "      <th>Sector</th>\n",
       "      <th>Price</th>\n",
       "      <th>52 Week High</th>\n",
       "      <th>52 Week Low</th>\n",
       "      <th>Dividend Yield</th>\n",
       "      <th>Earnings per Share</th>\n",
       "      <th>Sales per Share</th>\n",
       "      <th>Book Value per Share</th>\n",
       "      <th>EBITDA</th>\n",
       "      <th>Market Cap</th>\n",
       "      <th>price predicted</th>\n",
       "    </tr>\n",
       "  </thead>\n",
       "  <tbody>\n",
       "    <tr>\n",
       "      <th>0</th>\n",
       "      <td>LB</td>\n",
       "      <td>L Brands Inc.</td>\n",
       "      <td>Consumer Discretionary</td>\n",
       "      <td>47.77</td>\n",
       "      <td>63.10</td>\n",
       "      <td>35.00</td>\n",
       "      <td>1.586576</td>\n",
       "      <td>3.98</td>\n",
       "      <td>3.332189</td>\n",
       "      <td>-3.380241</td>\n",
       "      <td>2.329000e+09</td>\n",
       "      <td>23.352420</td>\n",
       "      <td>16.276259</td>\n",
       "    </tr>\n",
       "    <tr>\n",
       "      <th>1</th>\n",
       "      <td>PM</td>\n",
       "      <td>Philip Morris International</td>\n",
       "      <td>Consumer Staples</td>\n",
       "      <td>100.39</td>\n",
       "      <td>123.55</td>\n",
       "      <td>96.66</td>\n",
       "      <td>1.465216</td>\n",
       "      <td>4.48</td>\n",
       "      <td>3.594750</td>\n",
       "      <td>-2.575339</td>\n",
       "      <td>1.180200e+10</td>\n",
       "      <td>25.760218</td>\n",
       "      <td>61.004377</td>\n",
       "    </tr>\n",
       "    <tr>\n",
       "      <th>2</th>\n",
       "      <td>HRB</td>\n",
       "      <td>Block H&amp;R</td>\n",
       "      <td>Financials</td>\n",
       "      <td>25.19</td>\n",
       "      <td>31.80</td>\n",
       "      <td>19.85</td>\n",
       "      <td>1.316302</td>\n",
       "      <td>1.92</td>\n",
       "      <td>2.523921</td>\n",
       "      <td>-2.098561</td>\n",
       "      <td>8.947540e+08</td>\n",
       "      <td>22.406221</td>\n",
       "      <td>-71.980930</td>\n",
       "    </tr>\n",
       "    <tr>\n",
       "      <th>3</th>\n",
       "      <td>CL</td>\n",
       "      <td>Colgate-Palmolive</td>\n",
       "      <td>Consumer Staples</td>\n",
       "      <td>68.95</td>\n",
       "      <td>77.91</td>\n",
       "      <td>66.26</td>\n",
       "      <td>0.824253</td>\n",
       "      <td>2.28</td>\n",
       "      <td>2.846903</td>\n",
       "      <td>-1.232228</td>\n",
       "      <td>4.064000e+09</td>\n",
       "      <td>24.844198</td>\n",
       "      <td>20.656702</td>\n",
       "    </tr>\n",
       "    <tr>\n",
       "      <th>4</th>\n",
       "      <td>YUM</td>\n",
       "      <td>Yum! Brands Inc</td>\n",
       "      <td>Consumer Discretionary</td>\n",
       "      <td>76.30</td>\n",
       "      <td>86.93</td>\n",
       "      <td>62.85</td>\n",
       "      <td>0.586163</td>\n",
       "      <td>4.07</td>\n",
       "      <td>2.491961</td>\n",
       "      <td>-1.022291</td>\n",
       "      <td>2.289000e+09</td>\n",
       "      <td>24.019225</td>\n",
       "      <td>54.053700</td>\n",
       "    </tr>\n",
       "  </tbody>\n",
       "</table>\n",
       "</div>"
      ],
      "text/plain": [
       "  Symbol                         Name                  Sector   Price  \\\n",
       "0     LB                L Brands Inc.  Consumer Discretionary   47.77   \n",
       "1     PM  Philip Morris International        Consumer Staples  100.39   \n",
       "2    HRB                    Block H&R              Financials   25.19   \n",
       "3     CL            Colgate-Palmolive        Consumer Staples   68.95   \n",
       "4    YUM              Yum! Brands Inc  Consumer Discretionary   76.30   \n",
       "\n",
       "   52 Week High  52 Week Low  Dividend Yield  Earnings per Share  \\\n",
       "0         63.10        35.00        1.586576                3.98   \n",
       "1        123.55        96.66        1.465216                4.48   \n",
       "2         31.80        19.85        1.316302                1.92   \n",
       "3         77.91        66.26        0.824253                2.28   \n",
       "4         86.93        62.85        0.586163                4.07   \n",
       "\n",
       "   Sales per Share  Book Value per Share        EBITDA  Market Cap  \\\n",
       "0         3.332189             -3.380241  2.329000e+09   23.352420   \n",
       "1         3.594750             -2.575339  1.180200e+10   25.760218   \n",
       "2         2.523921             -2.098561  8.947540e+08   22.406221   \n",
       "3         2.846903             -1.232228  4.064000e+09   24.844198   \n",
       "4         2.491961             -1.022291  2.289000e+09   24.019225   \n",
       "\n",
       "   price predicted  \n",
       "0        16.276259  \n",
       "1        61.004377  \n",
       "2       -71.980930  \n",
       "3        20.656702  \n",
       "4        54.053700  "
      ]
     },
     "execution_count": 89,
     "metadata": {},
     "output_type": "execute_result"
    }
   ],
   "source": [
    "sp500.head()"
   ]
  },
  {
   "cell_type": "code",
   "execution_count": null,
   "id": "2e411ff0",
   "metadata": {},
   "outputs": [],
   "source": []
  }
 ],
 "metadata": {
  "kernelspec": {
   "display_name": "Python 3 (ipykernel)",
   "language": "python",
   "name": "python3"
  },
  "language_info": {
   "codemirror_mode": {
    "name": "ipython",
    "version": 3
   },
   "file_extension": ".py",
   "mimetype": "text/x-python",
   "name": "python",
   "nbconvert_exporter": "python",
   "pygments_lexer": "ipython3",
   "version": "3.10.9"
  }
 },
 "nbformat": 4,
 "nbformat_minor": 5
}
